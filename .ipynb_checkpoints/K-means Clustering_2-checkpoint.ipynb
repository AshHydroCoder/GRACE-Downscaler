{
 "cells": [
  {
   "cell_type": "code",
   "execution_count": 1,
   "id": "97261511-a2bf-41ee-bb9a-c1813e9f54ba",
   "metadata": {},
   "outputs": [],
   "source": [
    "from statsmodels.tsa.seasonal import seasonal_decompose"
   ]
  },
  {
   "cell_type": "code",
   "execution_count": 3,
   "id": "88339659-735f-4da1-a104-7725657c432b",
   "metadata": {},
   "outputs": [
    {
     "name": "stderr",
     "output_type": "stream",
     "text": [
      "<>:7: SyntaxWarning: invalid escape sequence '\\M'\n",
      "<>:7: SyntaxWarning: invalid escape sequence '\\M'\n",
      "C:\\Users\\Hp\\AppData\\Local\\Temp\\ipykernel_20388\\2221686245.py:7: SyntaxWarning: invalid escape sequence '\\M'\n",
      "  file_path_nc = \"D:\\Masters\\Thesis\\Data\\GRACE_Clipped_converted.nc\"\n",
      "C:\\Users\\Hp\\anaconda3\\Lib\\site-packages\\paramiko\\transport.py:219: CryptographyDeprecationWarning: Blowfish has been deprecated and will be removed in a future release\n",
      "  \"class\": algorithms.Blowfish,\n"
     ]
    }
   ],
   "source": [
    "import numpy as np\n",
    "from numpy import *\n",
    "import xarray as xr\n",
    "import metpy\n",
    "import pandas as pd\n",
    "import geopandas as gpd\n",
    "file_path_nc = \"D:\\Masters\\Thesis\\Data\\GRACE_Clipped_converted.nc\"\n",
    "G_dataset = xr.open_dataset(file_path_nc)\n",
    "G_dataset = G_dataset.rename({'lon':'x','lat':'y'})\n",
    "G_dataset = G_dataset.drop_vars('time_bounds')\n",
    "G_dataset = G_dataset.rio.write_crs('epsg:4326')\n",
    "G_dataset = G_dataset.sel(time=slice('2003-02-01','2016-12-31'))\n",
    "nepal_shp = gpd.read_file(\"D:/Masters/Thesis/Nepal Shape/Nepal_Boundary.shp\")\n",
    "nepal_shp = nepal_shp.set_crs('epsg:4326')\n",
    "GR_Clip = G_dataset.rio.clip(nepal_shp.geometry,all_touched=True)"
   ]
  },
  {
   "cell_type": "code",
   "execution_count": 7,
   "id": "f179f41a-1ef9-4172-8380-7ebabc1ae635",
   "metadata": {},
   "outputs": [
    {
     "name": "stderr",
     "output_type": "stream",
     "text": [
      "<>:2: SyntaxWarning: invalid escape sequence '\\M'\n",
      "<>:2: SyntaxWarning: invalid escape sequence '\\M'\n",
      "C:\\Users\\Hp\\AppData\\Local\\Temp\\ipykernel_20388\\2451934440.py:2: SyntaxWarning: invalid escape sequence '\\M'\n",
      "  file_path_nc = \"D:\\Masters\\Thesis\\Data\\GRACE_Clipped_converted.nc\"\n"
     ]
    },
    {
     "data": {
      "text/html": [
       "<div><svg style=\"position: absolute; width: 0; height: 0; overflow: hidden\">\n",
       "<defs>\n",
       "<symbol id=\"icon-database\" viewBox=\"0 0 32 32\">\n",
       "<path d=\"M16 0c-8.837 0-16 2.239-16 5v4c0 2.761 7.163 5 16 5s16-2.239 16-5v-4c0-2.761-7.163-5-16-5z\"></path>\n",
       "<path d=\"M16 17c-8.837 0-16-2.239-16-5v6c0 2.761 7.163 5 16 5s16-2.239 16-5v-6c0 2.761-7.163 5-16 5z\"></path>\n",
       "<path d=\"M16 26c-8.837 0-16-2.239-16-5v6c0 2.761 7.163 5 16 5s16-2.239 16-5v-6c0 2.761-7.163 5-16 5z\"></path>\n",
       "</symbol>\n",
       "<symbol id=\"icon-file-text2\" viewBox=\"0 0 32 32\">\n",
       "<path d=\"M28.681 7.159c-0.694-0.947-1.662-2.053-2.724-3.116s-2.169-2.030-3.116-2.724c-1.612-1.182-2.393-1.319-2.841-1.319h-15.5c-1.378 0-2.5 1.121-2.5 2.5v27c0 1.378 1.122 2.5 2.5 2.5h23c1.378 0 2.5-1.122 2.5-2.5v-19.5c0-0.448-0.137-1.23-1.319-2.841zM24.543 5.457c0.959 0.959 1.712 1.825 2.268 2.543h-4.811v-4.811c0.718 0.556 1.584 1.309 2.543 2.268zM28 29.5c0 0.271-0.229 0.5-0.5 0.5h-23c-0.271 0-0.5-0.229-0.5-0.5v-27c0-0.271 0.229-0.5 0.5-0.5 0 0 15.499-0 15.5 0v7c0 0.552 0.448 1 1 1h7v19.5z\"></path>\n",
       "<path d=\"M23 26h-14c-0.552 0-1-0.448-1-1s0.448-1 1-1h14c0.552 0 1 0.448 1 1s-0.448 1-1 1z\"></path>\n",
       "<path d=\"M23 22h-14c-0.552 0-1-0.448-1-1s0.448-1 1-1h14c0.552 0 1 0.448 1 1s-0.448 1-1 1z\"></path>\n",
       "<path d=\"M23 18h-14c-0.552 0-1-0.448-1-1s0.448-1 1-1h14c0.552 0 1 0.448 1 1s-0.448 1-1 1z\"></path>\n",
       "</symbol>\n",
       "</defs>\n",
       "</svg>\n",
       "<style>/* CSS stylesheet for displaying xarray objects in jupyterlab.\n",
       " *\n",
       " */\n",
       "\n",
       ":root {\n",
       "  --xr-font-color0: var(--jp-content-font-color0, rgba(0, 0, 0, 1));\n",
       "  --xr-font-color2: var(--jp-content-font-color2, rgba(0, 0, 0, 0.54));\n",
       "  --xr-font-color3: var(--jp-content-font-color3, rgba(0, 0, 0, 0.38));\n",
       "  --xr-border-color: var(--jp-border-color2, #e0e0e0);\n",
       "  --xr-disabled-color: var(--jp-layout-color3, #bdbdbd);\n",
       "  --xr-background-color: var(--jp-layout-color0, white);\n",
       "  --xr-background-color-row-even: var(--jp-layout-color1, white);\n",
       "  --xr-background-color-row-odd: var(--jp-layout-color2, #eeeeee);\n",
       "}\n",
       "\n",
       "html[theme=dark],\n",
       "body[data-theme=dark],\n",
       "body.vscode-dark {\n",
       "  --xr-font-color0: rgba(255, 255, 255, 1);\n",
       "  --xr-font-color2: rgba(255, 255, 255, 0.54);\n",
       "  --xr-font-color3: rgba(255, 255, 255, 0.38);\n",
       "  --xr-border-color: #1F1F1F;\n",
       "  --xr-disabled-color: #515151;\n",
       "  --xr-background-color: #111111;\n",
       "  --xr-background-color-row-even: #111111;\n",
       "  --xr-background-color-row-odd: #313131;\n",
       "}\n",
       "\n",
       ".xr-wrap {\n",
       "  display: block !important;\n",
       "  min-width: 300px;\n",
       "  max-width: 700px;\n",
       "}\n",
       "\n",
       ".xr-text-repr-fallback {\n",
       "  /* fallback to plain text repr when CSS is not injected (untrusted notebook) */\n",
       "  display: none;\n",
       "}\n",
       "\n",
       ".xr-header {\n",
       "  padding-top: 6px;\n",
       "  padding-bottom: 6px;\n",
       "  margin-bottom: 4px;\n",
       "  border-bottom: solid 1px var(--xr-border-color);\n",
       "}\n",
       "\n",
       ".xr-header > div,\n",
       ".xr-header > ul {\n",
       "  display: inline;\n",
       "  margin-top: 0;\n",
       "  margin-bottom: 0;\n",
       "}\n",
       "\n",
       ".xr-obj-type,\n",
       ".xr-array-name {\n",
       "  margin-left: 2px;\n",
       "  margin-right: 10px;\n",
       "}\n",
       "\n",
       ".xr-obj-type {\n",
       "  color: var(--xr-font-color2);\n",
       "}\n",
       "\n",
       ".xr-sections {\n",
       "  padding-left: 0 !important;\n",
       "  display: grid;\n",
       "  grid-template-columns: 150px auto auto 1fr 20px 20px;\n",
       "}\n",
       "\n",
       ".xr-section-item {\n",
       "  display: contents;\n",
       "}\n",
       "\n",
       ".xr-section-item input {\n",
       "  display: none;\n",
       "}\n",
       "\n",
       ".xr-section-item input + label {\n",
       "  color: var(--xr-disabled-color);\n",
       "}\n",
       "\n",
       ".xr-section-item input:enabled + label {\n",
       "  cursor: pointer;\n",
       "  color: var(--xr-font-color2);\n",
       "}\n",
       "\n",
       ".xr-section-item input:enabled + label:hover {\n",
       "  color: var(--xr-font-color0);\n",
       "}\n",
       "\n",
       ".xr-section-summary {\n",
       "  grid-column: 1;\n",
       "  color: var(--xr-font-color2);\n",
       "  font-weight: 500;\n",
       "}\n",
       "\n",
       ".xr-section-summary > span {\n",
       "  display: inline-block;\n",
       "  padding-left: 0.5em;\n",
       "}\n",
       "\n",
       ".xr-section-summary-in:disabled + label {\n",
       "  color: var(--xr-font-color2);\n",
       "}\n",
       "\n",
       ".xr-section-summary-in + label:before {\n",
       "  display: inline-block;\n",
       "  content: '►';\n",
       "  font-size: 11px;\n",
       "  width: 15px;\n",
       "  text-align: center;\n",
       "}\n",
       "\n",
       ".xr-section-summary-in:disabled + label:before {\n",
       "  color: var(--xr-disabled-color);\n",
       "}\n",
       "\n",
       ".xr-section-summary-in:checked + label:before {\n",
       "  content: '▼';\n",
       "}\n",
       "\n",
       ".xr-section-summary-in:checked + label > span {\n",
       "  display: none;\n",
       "}\n",
       "\n",
       ".xr-section-summary,\n",
       ".xr-section-inline-details {\n",
       "  padding-top: 4px;\n",
       "  padding-bottom: 4px;\n",
       "}\n",
       "\n",
       ".xr-section-inline-details {\n",
       "  grid-column: 2 / -1;\n",
       "}\n",
       "\n",
       ".xr-section-details {\n",
       "  display: none;\n",
       "  grid-column: 1 / -1;\n",
       "  margin-bottom: 5px;\n",
       "}\n",
       "\n",
       ".xr-section-summary-in:checked ~ .xr-section-details {\n",
       "  display: contents;\n",
       "}\n",
       "\n",
       ".xr-array-wrap {\n",
       "  grid-column: 1 / -1;\n",
       "  display: grid;\n",
       "  grid-template-columns: 20px auto;\n",
       "}\n",
       "\n",
       ".xr-array-wrap > label {\n",
       "  grid-column: 1;\n",
       "  vertical-align: top;\n",
       "}\n",
       "\n",
       ".xr-preview {\n",
       "  color: var(--xr-font-color3);\n",
       "}\n",
       "\n",
       ".xr-array-preview,\n",
       ".xr-array-data {\n",
       "  padding: 0 5px !important;\n",
       "  grid-column: 2;\n",
       "}\n",
       "\n",
       ".xr-array-data,\n",
       ".xr-array-in:checked ~ .xr-array-preview {\n",
       "  display: none;\n",
       "}\n",
       "\n",
       ".xr-array-in:checked ~ .xr-array-data,\n",
       ".xr-array-preview {\n",
       "  display: inline-block;\n",
       "}\n",
       "\n",
       ".xr-dim-list {\n",
       "  display: inline-block !important;\n",
       "  list-style: none;\n",
       "  padding: 0 !important;\n",
       "  margin: 0;\n",
       "}\n",
       "\n",
       ".xr-dim-list li {\n",
       "  display: inline-block;\n",
       "  padding: 0;\n",
       "  margin: 0;\n",
       "}\n",
       "\n",
       ".xr-dim-list:before {\n",
       "  content: '(';\n",
       "}\n",
       "\n",
       ".xr-dim-list:after {\n",
       "  content: ')';\n",
       "}\n",
       "\n",
       ".xr-dim-list li:not(:last-child):after {\n",
       "  content: ',';\n",
       "  padding-right: 5px;\n",
       "}\n",
       "\n",
       ".xr-has-index {\n",
       "  font-weight: bold;\n",
       "}\n",
       "\n",
       ".xr-var-list,\n",
       ".xr-var-item {\n",
       "  display: contents;\n",
       "}\n",
       "\n",
       ".xr-var-item > div,\n",
       ".xr-var-item label,\n",
       ".xr-var-item > .xr-var-name span {\n",
       "  background-color: var(--xr-background-color-row-even);\n",
       "  margin-bottom: 0;\n",
       "}\n",
       "\n",
       ".xr-var-item > .xr-var-name:hover span {\n",
       "  padding-right: 5px;\n",
       "}\n",
       "\n",
       ".xr-var-list > li:nth-child(odd) > div,\n",
       ".xr-var-list > li:nth-child(odd) > label,\n",
       ".xr-var-list > li:nth-child(odd) > .xr-var-name span {\n",
       "  background-color: var(--xr-background-color-row-odd);\n",
       "}\n",
       "\n",
       ".xr-var-name {\n",
       "  grid-column: 1;\n",
       "}\n",
       "\n",
       ".xr-var-dims {\n",
       "  grid-column: 2;\n",
       "}\n",
       "\n",
       ".xr-var-dtype {\n",
       "  grid-column: 3;\n",
       "  text-align: right;\n",
       "  color: var(--xr-font-color2);\n",
       "}\n",
       "\n",
       ".xr-var-preview {\n",
       "  grid-column: 4;\n",
       "}\n",
       "\n",
       ".xr-index-preview {\n",
       "  grid-column: 2 / 5;\n",
       "  color: var(--xr-font-color2);\n",
       "}\n",
       "\n",
       ".xr-var-name,\n",
       ".xr-var-dims,\n",
       ".xr-var-dtype,\n",
       ".xr-preview,\n",
       ".xr-attrs dt {\n",
       "  white-space: nowrap;\n",
       "  overflow: hidden;\n",
       "  text-overflow: ellipsis;\n",
       "  padding-right: 10px;\n",
       "}\n",
       "\n",
       ".xr-var-name:hover,\n",
       ".xr-var-dims:hover,\n",
       ".xr-var-dtype:hover,\n",
       ".xr-attrs dt:hover {\n",
       "  overflow: visible;\n",
       "  width: auto;\n",
       "  z-index: 1;\n",
       "}\n",
       "\n",
       ".xr-var-attrs,\n",
       ".xr-var-data,\n",
       ".xr-index-data {\n",
       "  display: none;\n",
       "  background-color: var(--xr-background-color) !important;\n",
       "  padding-bottom: 5px !important;\n",
       "}\n",
       "\n",
       ".xr-var-attrs-in:checked ~ .xr-var-attrs,\n",
       ".xr-var-data-in:checked ~ .xr-var-data,\n",
       ".xr-index-data-in:checked ~ .xr-index-data {\n",
       "  display: block;\n",
       "}\n",
       "\n",
       ".xr-var-data > table {\n",
       "  float: right;\n",
       "}\n",
       "\n",
       ".xr-var-name span,\n",
       ".xr-var-data,\n",
       ".xr-index-name div,\n",
       ".xr-index-data,\n",
       ".xr-attrs {\n",
       "  padding-left: 25px !important;\n",
       "}\n",
       "\n",
       ".xr-attrs,\n",
       ".xr-var-attrs,\n",
       ".xr-var-data,\n",
       ".xr-index-data {\n",
       "  grid-column: 1 / -1;\n",
       "}\n",
       "\n",
       "dl.xr-attrs {\n",
       "  padding: 0;\n",
       "  margin: 0;\n",
       "  display: grid;\n",
       "  grid-template-columns: 125px auto;\n",
       "}\n",
       "\n",
       ".xr-attrs dt,\n",
       ".xr-attrs dd {\n",
       "  padding: 0;\n",
       "  margin: 0;\n",
       "  float: left;\n",
       "  padding-right: 10px;\n",
       "  width: auto;\n",
       "}\n",
       "\n",
       ".xr-attrs dt {\n",
       "  font-weight: normal;\n",
       "  grid-column: 1;\n",
       "}\n",
       "\n",
       ".xr-attrs dt:hover span {\n",
       "  display: inline-block;\n",
       "  background: var(--xr-background-color);\n",
       "  padding-right: 10px;\n",
       "}\n",
       "\n",
       ".xr-attrs dd {\n",
       "  grid-column: 2;\n",
       "  white-space: pre-wrap;\n",
       "  word-break: break-all;\n",
       "}\n",
       "\n",
       ".xr-icon-database,\n",
       ".xr-icon-file-text2,\n",
       ".xr-no-icon {\n",
       "  display: inline-block;\n",
       "  vertical-align: middle;\n",
       "  width: 1em;\n",
       "  height: 1.5em !important;\n",
       "  stroke-width: 0;\n",
       "  stroke: currentColor;\n",
       "  fill: currentColor;\n",
       "}\n",
       "</style><pre class='xr-text-repr-fallback'>&lt;xarray.Dataset&gt;\n",
       "Dimensions:        (time: 230, timebound: 2, lon: 64, lat: 44)\n",
       "Coordinates:\n",
       "  * time           (time) datetime64[ns] 2002-04-18 2002-05-10 ... 2024-02-15\n",
       "  * lon            (lon) float32 76.12 76.38 76.62 76.88 ... 91.38 91.62 91.88\n",
       "  * lat            (lat) float32 21.12 21.38 21.62 21.88 ... 31.38 31.62 31.88\n",
       "Dimensions without coordinates: timebound\n",
       "Data variables:\n",
       "    time_bounds    (time, timebound) float32 ...\n",
       "    lwe_thickness  (time, lat, lon) float32 ...\n",
       "Attributes: (12/59)\n",
       "    Conventions:                CF-1.6, ACDD-1.3, ISO 8601\n",
       "    filename:                   netcdf/CSR_GRACE_GRACE-FO_RL0602_Mascons_all-...\n",
       "    Metadata_Conventions:       Unidata Dataset Discovery v1.0\n",
       "    standard_name_vocabulary:   NetCDF Climate and Forecast (CF) Metadata Con...\n",
       "    title:                      CSR GRACE and GRACE-FO MASCON RL0602M\n",
       "    subtitle:                   RL06.2 GRACE/GRACE-FO Total water storage wit...\n",
       "    ...                         ...\n",
       "    user_note_3:                Ellipsoidal correction has been applied. The ...\n",
       "    user_note_4:                This GRACE-FO RL06.2 data is an updated versi...\n",
       "    date_created:               2024-04-25T01:48:44Z\n",
       "    variable:                   liquid water equivalent thickness\n",
       "    label:                      RL0602rc24cE\n",
       "    Mask:                       Global</pre><div class='xr-wrap' style='display:none'><div class='xr-header'><div class='xr-obj-type'>xarray.Dataset</div></div><ul class='xr-sections'><li class='xr-section-item'><input id='section-2bc37fa6-e875-48f2-9dd1-6ba49b21c0bd' class='xr-section-summary-in' type='checkbox' disabled ><label for='section-2bc37fa6-e875-48f2-9dd1-6ba49b21c0bd' class='xr-section-summary'  title='Expand/collapse section'>Dimensions:</label><div class='xr-section-inline-details'><ul class='xr-dim-list'><li><span class='xr-has-index'>time</span>: 230</li><li><span>timebound</span>: 2</li><li><span class='xr-has-index'>lon</span>: 64</li><li><span class='xr-has-index'>lat</span>: 44</li></ul></div><div class='xr-section-details'></div></li><li class='xr-section-item'><input id='section-7f8e62d9-3da5-4b57-a001-7bef3e3a8c30' class='xr-section-summary-in' type='checkbox'  checked><label for='section-7f8e62d9-3da5-4b57-a001-7bef3e3a8c30' class='xr-section-summary' >Coordinates: <span>(3)</span></label><div class='xr-section-inline-details'></div><div class='xr-section-details'><ul class='xr-var-list'><li class='xr-var-item'><div class='xr-var-name'><span class='xr-has-index'>time</span></div><div class='xr-var-dims'>(time)</div><div class='xr-var-dtype'>datetime64[ns]</div><div class='xr-var-preview xr-preview'>2002-04-18 ... 2024-02-15</div><input id='attrs-8c267a52-1a54-46af-bdd4-4dd1b176305d' class='xr-var-attrs-in' type='checkbox' disabled><label for='attrs-8c267a52-1a54-46af-bdd4-4dd1b176305d' title='Show/Hide attributes'><svg class='icon xr-icon-file-text2'><use xlink:href='#icon-file-text2'></use></svg></label><input id='data-804d2ebc-e85d-4717-a17b-b5af85fa9d75' class='xr-var-data-in' type='checkbox'><label for='data-804d2ebc-e85d-4717-a17b-b5af85fa9d75' title='Show/Hide data repr'><svg class='icon xr-icon-database'><use xlink:href='#icon-database'></use></svg></label><div class='xr-var-attrs'><dl class='xr-attrs'></dl></div><div class='xr-var-data'><pre>array([&#x27;2002-04-18T00:00:00.000000000&#x27;, &#x27;2002-05-10T00:00:00.000000000&#x27;,\n",
       "       &#x27;2002-08-16T00:00:00.000000000&#x27;, ..., &#x27;2023-12-16T00:00:00.000000000&#x27;,\n",
       "       &#x27;2024-01-16T00:00:00.000000000&#x27;, &#x27;2024-02-15T00:00:00.000000000&#x27;],\n",
       "      dtype=&#x27;datetime64[ns]&#x27;)</pre></div></li><li class='xr-var-item'><div class='xr-var-name'><span class='xr-has-index'>lon</span></div><div class='xr-var-dims'>(lon)</div><div class='xr-var-dtype'>float32</div><div class='xr-var-preview xr-preview'>76.12 76.38 76.62 ... 91.62 91.88</div><input id='attrs-2009c82f-12de-4568-8e7a-4e1838a14238' class='xr-var-attrs-in' type='checkbox' ><label for='attrs-2009c82f-12de-4568-8e7a-4e1838a14238' title='Show/Hide attributes'><svg class='icon xr-icon-file-text2'><use xlink:href='#icon-file-text2'></use></svg></label><input id='data-3818d383-cd16-4422-bbd0-f001333fe53b' class='xr-var-data-in' type='checkbox'><label for='data-3818d383-cd16-4422-bbd0-f001333fe53b' title='Show/Hide data repr'><svg class='icon xr-icon-database'><use xlink:href='#icon-database'></use></svg></label><div class='xr-var-attrs'><dl class='xr-attrs'><dt><span>bounds :</span></dt><dd>lon_bounds</dd><dt><span>valid_max :</span></dt><dd>359.875</dd><dt><span>valid_min :</span></dt><dd>0.125</dd><dt><span>axis :</span></dt><dd>X</dd><dt><span>standard_name :</span></dt><dd>Longitude</dd><dt><span>long_name :</span></dt><dd>Longitude</dd><dt><span>Units :</span></dt><dd>degrees_east</dd></dl></div><div class='xr-var-data'><pre>array([76.125, 76.375, 76.625, 76.875, 77.125, 77.375, 77.625, 77.875, 78.125,\n",
       "       78.375, 78.625, 78.875, 79.125, 79.375, 79.625, 79.875, 80.125, 80.375,\n",
       "       80.625, 80.875, 81.125, 81.375, 81.625, 81.875, 82.125, 82.375, 82.625,\n",
       "       82.875, 83.125, 83.375, 83.625, 83.875, 84.125, 84.375, 84.625, 84.875,\n",
       "       85.125, 85.375, 85.625, 85.875, 86.125, 86.375, 86.625, 86.875, 87.125,\n",
       "       87.375, 87.625, 87.875, 88.125, 88.375, 88.625, 88.875, 89.125, 89.375,\n",
       "       89.625, 89.875, 90.125, 90.375, 90.625, 90.875, 91.125, 91.375, 91.625,\n",
       "       91.875], dtype=float32)</pre></div></li><li class='xr-var-item'><div class='xr-var-name'><span class='xr-has-index'>lat</span></div><div class='xr-var-dims'>(lat)</div><div class='xr-var-dtype'>float32</div><div class='xr-var-preview xr-preview'>21.12 21.38 21.62 ... 31.62 31.88</div><input id='attrs-b377a976-7456-4edc-b2ba-e2af378f4d38' class='xr-var-attrs-in' type='checkbox' ><label for='attrs-b377a976-7456-4edc-b2ba-e2af378f4d38' title='Show/Hide attributes'><svg class='icon xr-icon-file-text2'><use xlink:href='#icon-file-text2'></use></svg></label><input id='data-0053b6b6-2a4f-4625-84cf-32367ceb39c6' class='xr-var-data-in' type='checkbox'><label for='data-0053b6b6-2a4f-4625-84cf-32367ceb39c6' title='Show/Hide data repr'><svg class='icon xr-icon-database'><use xlink:href='#icon-database'></use></svg></label><div class='xr-var-attrs'><dl class='xr-attrs'><dt><span>bounds :</span></dt><dd>lat_bounds</dd><dt><span>valid_max :</span></dt><dd>89.875</dd><dt><span>valid_min :</span></dt><dd>-89.875</dd><dt><span>axis :</span></dt><dd>Y</dd><dt><span>standard_name :</span></dt><dd>Latitude</dd><dt><span>long_name :</span></dt><dd>Latitude</dd><dt><span>Units :</span></dt><dd>degrees_north</dd></dl></div><div class='xr-var-data'><pre>array([21.125, 21.375, 21.625, 21.875, 22.125, 22.375, 22.625, 22.875, 23.125,\n",
       "       23.375, 23.625, 23.875, 24.125, 24.375, 24.625, 24.875, 25.125, 25.375,\n",
       "       25.625, 25.875, 26.125, 26.375, 26.625, 26.875, 27.125, 27.375, 27.625,\n",
       "       27.875, 28.125, 28.375, 28.625, 28.875, 29.125, 29.375, 29.625, 29.875,\n",
       "       30.125, 30.375, 30.625, 30.875, 31.125, 31.375, 31.625, 31.875],\n",
       "      dtype=float32)</pre></div></li></ul></div></li><li class='xr-section-item'><input id='section-c63527fe-d070-473a-bbfe-be2835196eed' class='xr-section-summary-in' type='checkbox'  checked><label for='section-c63527fe-d070-473a-bbfe-be2835196eed' class='xr-section-summary' >Data variables: <span>(2)</span></label><div class='xr-section-inline-details'></div><div class='xr-section-details'><ul class='xr-var-list'><li class='xr-var-item'><div class='xr-var-name'><span>time_bounds</span></div><div class='xr-var-dims'>(time, timebound)</div><div class='xr-var-dtype'>float32</div><div class='xr-var-preview xr-preview'>...</div><input id='attrs-f051f0bf-2e27-4a87-b072-088496b3734f' class='xr-var-attrs-in' type='checkbox' disabled><label for='attrs-f051f0bf-2e27-4a87-b072-088496b3734f' title='Show/Hide attributes'><svg class='icon xr-icon-file-text2'><use xlink:href='#icon-file-text2'></use></svg></label><input id='data-cc585383-78cd-4db7-bfd6-13b137a14888' class='xr-var-data-in' type='checkbox'><label for='data-cc585383-78cd-4db7-bfd6-13b137a14888' title='Show/Hide data repr'><svg class='icon xr-icon-database'><use xlink:href='#icon-database'></use></svg></label><div class='xr-var-attrs'><dl class='xr-attrs'></dl></div><div class='xr-var-data'><pre>[460 values with dtype=float32]</pre></div></li><li class='xr-var-item'><div class='xr-var-name'><span>lwe_thickness</span></div><div class='xr-var-dims'>(time, lat, lon)</div><div class='xr-var-dtype'>float32</div><div class='xr-var-preview xr-preview'>...</div><input id='attrs-27f81108-3b2c-4e0b-8015-18c183b3c876' class='xr-var-attrs-in' type='checkbox' ><label for='attrs-27f81108-3b2c-4e0b-8015-18c183b3c876' title='Show/Hide attributes'><svg class='icon xr-icon-file-text2'><use xlink:href='#icon-file-text2'></use></svg></label><input id='data-eba00b23-e8e8-4e02-bdff-08da133d32a8' class='xr-var-data-in' type='checkbox'><label for='data-eba00b23-e8e8-4e02-bdff-08da133d32a8' title='Show/Hide data repr'><svg class='icon xr-icon-database'><use xlink:href='#icon-database'></use></svg></label><div class='xr-var-attrs'><dl class='xr-attrs'><dt><span>grid_mapping :</span></dt><dd>WGS84</dd><dt><span>standard_name :</span></dt><dd>Liquid_Water_Equivalent_Thickness</dd><dt><span>long_name :</span></dt><dd>Liquid_Water_Equivalent_Thickness</dd><dt><span>Units :</span></dt><dd>cm</dd></dl></div><div class='xr-var-data'><pre>[647680 values with dtype=float32]</pre></div></li></ul></div></li><li class='xr-section-item'><input id='section-8e2ce126-4427-49f7-af34-0e1bda5d1b84' class='xr-section-summary-in' type='checkbox'  ><label for='section-8e2ce126-4427-49f7-af34-0e1bda5d1b84' class='xr-section-summary' >Indexes: <span>(3)</span></label><div class='xr-section-inline-details'></div><div class='xr-section-details'><ul class='xr-var-list'><li class='xr-var-item'><div class='xr-index-name'><div>time</div></div><div class='xr-index-preview'>PandasIndex</div><div></div><input id='index-7726b272-4978-425d-a477-1d30520989c9' class='xr-index-data-in' type='checkbox'/><label for='index-7726b272-4978-425d-a477-1d30520989c9' title='Show/Hide index repr'><svg class='icon xr-icon-database'><use xlink:href='#icon-database'></use></svg></label><div class='xr-index-data'><pre>PandasIndex(DatetimeIndex([&#x27;2002-04-18&#x27;, &#x27;2002-05-10&#x27;, &#x27;2002-08-16&#x27;, &#x27;2002-09-16&#x27;,\n",
       "               &#x27;2002-10-16&#x27;, &#x27;2002-11-16&#x27;, &#x27;2002-12-16&#x27;, &#x27;2003-01-16&#x27;,\n",
       "               &#x27;2003-02-15&#x27;, &#x27;2003-03-16&#x27;,\n",
       "               ...\n",
       "               &#x27;2023-05-16&#x27;, &#x27;2023-06-16&#x27;, &#x27;2023-07-16&#x27;, &#x27;2023-08-16&#x27;,\n",
       "               &#x27;2023-09-16&#x27;, &#x27;2023-10-16&#x27;, &#x27;2023-11-16&#x27;, &#x27;2023-12-16&#x27;,\n",
       "               &#x27;2024-01-16&#x27;, &#x27;2024-02-15&#x27;],\n",
       "              dtype=&#x27;datetime64[ns]&#x27;, name=&#x27;time&#x27;, length=230, freq=None))</pre></div></li><li class='xr-var-item'><div class='xr-index-name'><div>lon</div></div><div class='xr-index-preview'>PandasIndex</div><div></div><input id='index-83d5f7c8-6340-4f37-a807-1e581689ed05' class='xr-index-data-in' type='checkbox'/><label for='index-83d5f7c8-6340-4f37-a807-1e581689ed05' title='Show/Hide index repr'><svg class='icon xr-icon-database'><use xlink:href='#icon-database'></use></svg></label><div class='xr-index-data'><pre>PandasIndex(Index([76.125, 76.375, 76.625, 76.875, 77.125, 77.375, 77.625, 77.875, 78.125,\n",
       "       78.375, 78.625, 78.875, 79.125, 79.375, 79.625, 79.875, 80.125, 80.375,\n",
       "       80.625, 80.875, 81.125, 81.375, 81.625, 81.875, 82.125, 82.375, 82.625,\n",
       "       82.875, 83.125, 83.375, 83.625, 83.875, 84.125, 84.375, 84.625, 84.875,\n",
       "       85.125, 85.375, 85.625, 85.875, 86.125, 86.375, 86.625, 86.875, 87.125,\n",
       "       87.375, 87.625, 87.875, 88.125, 88.375, 88.625, 88.875, 89.125, 89.375,\n",
       "       89.625, 89.875, 90.125, 90.375, 90.625, 90.875, 91.125, 91.375, 91.625,\n",
       "       91.875],\n",
       "      dtype=&#x27;float32&#x27;, name=&#x27;lon&#x27;))</pre></div></li><li class='xr-var-item'><div class='xr-index-name'><div>lat</div></div><div class='xr-index-preview'>PandasIndex</div><div></div><input id='index-29fe2dd9-bea5-42b9-8f9e-e70c61c6f0d2' class='xr-index-data-in' type='checkbox'/><label for='index-29fe2dd9-bea5-42b9-8f9e-e70c61c6f0d2' title='Show/Hide index repr'><svg class='icon xr-icon-database'><use xlink:href='#icon-database'></use></svg></label><div class='xr-index-data'><pre>PandasIndex(Index([21.125, 21.375, 21.625, 21.875, 22.125, 22.375, 22.625, 22.875, 23.125,\n",
       "       23.375, 23.625, 23.875, 24.125, 24.375, 24.625, 24.875, 25.125, 25.375,\n",
       "       25.625, 25.875, 26.125, 26.375, 26.625, 26.875, 27.125, 27.375, 27.625,\n",
       "       27.875, 28.125, 28.375, 28.625, 28.875, 29.125, 29.375, 29.625, 29.875,\n",
       "       30.125, 30.375, 30.625, 30.875, 31.125, 31.375, 31.625, 31.875],\n",
       "      dtype=&#x27;float32&#x27;, name=&#x27;lat&#x27;))</pre></div></li></ul></div></li><li class='xr-section-item'><input id='section-4cddfab8-d977-4e1d-a2be-e282b595c4d3' class='xr-section-summary-in' type='checkbox'  ><label for='section-4cddfab8-d977-4e1d-a2be-e282b595c4d3' class='xr-section-summary' >Attributes: <span>(59)</span></label><div class='xr-section-inline-details'></div><div class='xr-section-details'><dl class='xr-attrs'><dt><span>Conventions :</span></dt><dd>CF-1.6, ACDD-1.3, ISO 8601</dd><dt><span>filename :</span></dt><dd>netcdf/CSR_GRACE_GRACE-FO_RL0602_Mascons_all-corrections.nc</dd><dt><span>Metadata_Conventions :</span></dt><dd>Unidata Dataset Discovery v1.0</dd><dt><span>standard_name_vocabulary :</span></dt><dd>NetCDF Climate and Forecast (CF) Metadata Convention-1.6</dd><dt><span>title :</span></dt><dd>CSR GRACE and GRACE-FO MASCON RL0602M</dd><dt><span>subtitle :</span></dt><dd>RL06.2 GRACE/GRACE-FO Total water storage with all correction applied</dd><dt><span>summary :</span></dt><dd>Monthly mass anomaly grids from GRACE and GRACE-FO determined from CSR RL06.2 processing</dd><dt><span>keywords :</span></dt><dd>Solid Earth, Geodetics/Gravity, Gravity, liquid_water_equivalent_thickness</dd><dt><span>keywords_vocabulary :</span></dt><dd>NASA Global Change Master Directory (GCMD) Science Keywords</dd><dt><span>platform :</span></dt><dd>GRACE and GRACE-FO</dd><dt><span>institution :</span></dt><dd>The University of Texas - Center for Space Research (CSR)</dd><dt><span>creator_name :</span></dt><dd>Himanshu Save</dd><dt><span>creator_email :</span></dt><dd>grace@csr.utexas.edu</dd><dt><span>creator_url :</span></dt><dd>http://www2.csr.utexas.edu/grace</dd><dt><span>creator_type :</span></dt><dd>group</dd><dt><span>creator_institution :</span></dt><dd>UT-CSR</dd><dt><span>publisher_name :</span></dt><dd>Center for Space Research</dd><dt><span>publisher_email :</span></dt><dd>grace@csr.utexas.edu</dd><dt><span>publisher_url :</span></dt><dd>http://www2.csr.utexas.edu/grace</dd><dt><span>publisher_type :</span></dt><dd>group</dd><dt><span>publisher_institution :</span></dt><dd>UT-CSR</dd><dt><span>project :</span></dt><dd>NASA Gravity Recovery and Climate Experiment (GRACE) and NASA Gravity Recovery and Climate Experiment Follow-On (GRACE-FO)</dd><dt><span>program :</span></dt><dd>NASA Earth Science System Pathfinder and NASA Earth Systematic Missions Program</dd><dt><span>url :</span></dt><dd>https://doi.org/10.15781/cgq9-nh24</dd><dt><span>id :</span></dt><dd>10.15781/cgq9-nh24</dd><dt><span>naming_authority :</span></dt><dd>org.doi.dx</dd><dt><span>source :</span></dt><dd>GRACE and GRACE-FO CSR RL0602M Mascon</dd><dt><span>processing_level :</span></dt><dd>2 and 3</dd><dt><span>acknowledgement :</span></dt><dd>GRACE is a joint mission of NASA (USA) and DLR (Germany).  GRACE-FO is a joint mission of NASA (USA) and the German Research Center for Geosciences (GFZ).  Use the digital object identifier provided in the id attribute when citing this data.  See https://podaac.jpl.nasa.gov/CitingPODAAC</dd><dt><span>license :</span></dt><dd>https://science.nasa.gov/earth-science/earth-science-data/data-information-policy</dd><dt><span>product_version :</span></dt><dd>RL06.2</dd><dt><span>data_author :</span></dt><dd>Himanshu Save (save@csr.utexas.edu)</dd><dt><span>journal_reference :</span></dt><dd>Save, H., S. Bettadpur, B. D. Tapley (2016), High resolution CSR GRACE RL05 mascons, J. Geophys. Res. Solid Earth</dd><dt><span>time_epoch :</span></dt><dd>2002-01-01T00:00:00Z</dd><dt><span>time_coverage_start :</span></dt><dd>2002-04-05T00:00:00Z</dd><dt><span>time_coverage_end :</span></dt><dd>2024-02-29T23:59:59Z</dd><dt><span>geospatial_lat_min :</span></dt><dd>-89.875</dd><dt><span>geospatial_lat_max :</span></dt><dd>89.875</dd><dt><span>geospatial_lat_units :</span></dt><dd>degrees_north</dd><dt><span>geospatial_lat_resolution :</span></dt><dd>0.25 degree grid; however the mascons are estimated on a 1-degree equal area mascons and the native resolution of the GRACE/GRACE-FO data is roughly 300km</dd><dt><span>geospatial_lon_min :</span></dt><dd>0.125</dd><dt><span>geospatial_lon_max :</span></dt><dd>359.875</dd><dt><span>geospatial_lon_units :</span></dt><dd>degrees_east</dd><dt><span>time_mean_removed :</span></dt><dd>2004.000 to 2009.999</dd><dt><span>months_missing :</span></dt><dd>2002-06;2002-07;2003-06;2011-01;2011-06;2012-05;2012-10;2013-03;2013-08;2013-09;2014-02;2014-07;2014-12;2015-06;2015-10;2015-11;2016-04;2016-09;2016-10;2017-02;2017-02;2017-07;2017-08;2017-09;2017-10;2017-11;2017-12;2018-01;2018-02;2018-03;2018-04;2018-05;2018-08,2018-09</dd><dt><span>postprocess_1 :</span></dt><dd>Water density used to convert to equivalent water height: 1025 kg/m^3</dd><dt><span>postprocess_2 :</span></dt><dd>RL06 AOD1B; OCEAN_ATMOSPHERE_DEALIAS_MODEL (GAD), MONTHLY_AVE, ADDED BACK TO OCEAN PIXELS ONLY</dd><dt><span>GIA_Removed :</span></dt><dd>ICE6G-D; Peltier, W. R., D. F. Argus, and R. Drummond (2018) Comment on the paper by Purcell et al. 2016 entitled An assessment of ICE-6G_C (VM5a) glacial isostatic adjustment model, J. Geophys. Res. Solid Earth, 122.</dd><dt><span>geocenter_correction :</span></dt><dd>Version of TN-13 based on the CSR RL06.2 (https://archive.podaac.earthdata.nasa.gov/podaac-ops-cumulus-docs/gracefo/open/docs/TN-13_GEOC_CSR_RL0602.txt)</dd><dt><span>C_20_substitution :</span></dt><dd>TN-14; Loomis et al., 2019, Geophys. Res. Lett., doi:10.1029/2019GL082929 (https://archive.podaac.earthdata.nasa.gov/podaac-ops-cumulus-docs/gracefo/open/docs/TN-14_C30_C20_GSFC_SLR.txt)</dd><dt><span>C_30_substitution :</span></dt><dd>TN-14; Loomis et al., 2019, Geophys. Res. Lett., doi:10.1029/2019GL082929 (https://archive.podaac.earthdata.nasa.gov/podaac-ops-cumulus-docs/gracefo/open/docs/TN-14_C30_C20_GSFC_SLR.txt)</dd><dt><span>user_note_1 :</span></dt><dd>The accelerometer on the GRACE-B spacecraft was turned off after August 2016.  After this date, the accelerometer on GRACE-A was used to derive the non-gravitational accelerations acting on GRACE-B using a transplant procedure.  This has led to a subsequent degradation in the quality of the gravity fields derived.</dd><dt><span>user_note_2 :</span></dt><dd>The accelerometer on the GRACE-FO 2 spacecraft has underperformed since after launch.  The accelerometer on GRACE-FO 1 was used to derive the non-gravitational accelerations acting on GRACE-FO 2 using a transplant procedure. This has led to a degradation in the quality of the gravity fields derived.</dd><dt><span>user_note_3 :</span></dt><dd>Ellipsoidal correction has been applied. The grid is represented on the ellipsoid with semi-major axis of 6378.1363 km</dd><dt><span>user_note_4 :</span></dt><dd>This GRACE-FO RL06.2 data is an updated version of the initial GRACE-FO RL06 Level-2 and Mascon data products. RL06.2 differs from RL06 in the Level-1B accelerometer transplant data that is used for the GF2 satellite: Level-2 RL06.2 uses ACH1B RL04, which replaces ACT1B RL04 that was used for Level-2 RL06. In addition, the handling of GPS data set during Level-2 processing was updated. GPS handling for RL06.2 was re-assessed due to steady degradation in low degrees during late 2022 and 2023 in RL06.1. Alterations in the processing of the GPS data were made to increase the volume of data available after editing. Additionally relative weighting between KBR and GPS was updated after June 2020 to use optimal weighting instead of capped weights for GPS used for RL06 solutions.</dd><dt><span>date_created :</span></dt><dd>2024-04-25T01:48:44Z</dd><dt><span>variable :</span></dt><dd>liquid water equivalent thickness</dd><dt><span>label :</span></dt><dd>RL0602rc24cE</dd><dt><span>Mask :</span></dt><dd>Global</dd></dl></div></li></ul></div></div>"
      ],
      "text/plain": [
       "<xarray.Dataset>\n",
       "Dimensions:        (time: 230, timebound: 2, lon: 64, lat: 44)\n",
       "Coordinates:\n",
       "  * time           (time) datetime64[ns] 2002-04-18 2002-05-10 ... 2024-02-15\n",
       "  * lon            (lon) float32 76.12 76.38 76.62 76.88 ... 91.38 91.62 91.88\n",
       "  * lat            (lat) float32 21.12 21.38 21.62 21.88 ... 31.38 31.62 31.88\n",
       "Dimensions without coordinates: timebound\n",
       "Data variables:\n",
       "    time_bounds    (time, timebound) float32 ...\n",
       "    lwe_thickness  (time, lat, lon) float32 ...\n",
       "Attributes: (12/59)\n",
       "    Conventions:                CF-1.6, ACDD-1.3, ISO 8601\n",
       "    filename:                   netcdf/CSR_GRACE_GRACE-FO_RL0602_Mascons_all-...\n",
       "    Metadata_Conventions:       Unidata Dataset Discovery v1.0\n",
       "    standard_name_vocabulary:   NetCDF Climate and Forecast (CF) Metadata Con...\n",
       "    title:                      CSR GRACE and GRACE-FO MASCON RL0602M\n",
       "    subtitle:                   RL06.2 GRACE/GRACE-FO Total water storage wit...\n",
       "    ...                         ...\n",
       "    user_note_3:                Ellipsoidal correction has been applied. The ...\n",
       "    user_note_4:                This GRACE-FO RL06.2 data is an updated versi...\n",
       "    date_created:               2024-04-25T01:48:44Z\n",
       "    variable:                   liquid water equivalent thickness\n",
       "    label:                      RL0602rc24cE\n",
       "    Mask:                       Global"
      ]
     },
     "execution_count": 7,
     "metadata": {},
     "output_type": "execute_result"
    }
   ],
   "source": [
    "import xarray as xr\n",
    "file_path_nc = \"D:\\Masters\\Thesis\\Data\\GRACE_Clipped_converted.nc\"\n",
    "GRACE = xr.open_dataset(file_path_nc)\n",
    "GRACE"
   ]
  },
  {
   "cell_type": "code",
   "execution_count": 13,
   "id": "4a8f279c-1a80-4fa4-ad18-836e48089372",
   "metadata": {},
   "outputs": [
    {
     "data": {
      "text/html": [
       "<div>\n",
       "<style scoped>\n",
       "    .dataframe tbody tr th:only-of-type {\n",
       "        vertical-align: middle;\n",
       "    }\n",
       "\n",
       "    .dataframe tbody tr th {\n",
       "        vertical-align: top;\n",
       "    }\n",
       "\n",
       "    .dataframe thead th {\n",
       "        text-align: right;\n",
       "    }\n",
       "</style>\n",
       "<table border=\"1\" class=\"dataframe\">\n",
       "  <thead>\n",
       "    <tr style=\"text-align: right;\">\n",
       "      <th></th>\n",
       "      <th>time</th>\n",
       "      <th>x</th>\n",
       "      <th>y</th>\n",
       "      <th>spatial_ref</th>\n",
       "      <th>WGS84</th>\n",
       "      <th>lwe_thickness</th>\n",
       "    </tr>\n",
       "  </thead>\n",
       "  <tbody>\n",
       "    <tr>\n",
       "      <th>10</th>\n",
       "      <td>2003-02-15</td>\n",
       "      <td>80.125</td>\n",
       "      <td>28.875</td>\n",
       "      <td>0</td>\n",
       "      <td>0</td>\n",
       "      <td>5.152987</td>\n",
       "    </tr>\n",
       "    <tr>\n",
       "      <th>11</th>\n",
       "      <td>2003-02-15</td>\n",
       "      <td>80.125</td>\n",
       "      <td>29.125</td>\n",
       "      <td>0</td>\n",
       "      <td>0</td>\n",
       "      <td>5.152987</td>\n",
       "    </tr>\n",
       "    <tr>\n",
       "      <th>12</th>\n",
       "      <td>2003-02-15</td>\n",
       "      <td>80.125</td>\n",
       "      <td>29.375</td>\n",
       "      <td>0</td>\n",
       "      <td>0</td>\n",
       "      <td>14.131901</td>\n",
       "    </tr>\n",
       "    <tr>\n",
       "      <th>26</th>\n",
       "      <td>2003-02-15</td>\n",
       "      <td>80.375</td>\n",
       "      <td>28.625</td>\n",
       "      <td>0</td>\n",
       "      <td>0</td>\n",
       "      <td>5.152987</td>\n",
       "    </tr>\n",
       "    <tr>\n",
       "      <th>27</th>\n",
       "      <td>2003-02-15</td>\n",
       "      <td>80.375</td>\n",
       "      <td>28.875</td>\n",
       "      <td>0</td>\n",
       "      <td>0</td>\n",
       "      <td>5.152987</td>\n",
       "    </tr>\n",
       "    <tr>\n",
       "      <th>...</th>\n",
       "      <td>...</td>\n",
       "      <td>...</td>\n",
       "      <td>...</td>\n",
       "      <td>...</td>\n",
       "      <td>...</td>\n",
       "      <td>...</td>\n",
       "    </tr>\n",
       "    <tr>\n",
       "      <th>84135</th>\n",
       "      <td>2016-12-24</td>\n",
       "      <td>88.125</td>\n",
       "      <td>26.875</td>\n",
       "      <td>0</td>\n",
       "      <td>0</td>\n",
       "      <td>-30.280354</td>\n",
       "    </tr>\n",
       "    <tr>\n",
       "      <th>84136</th>\n",
       "      <td>2016-12-24</td>\n",
       "      <td>88.125</td>\n",
       "      <td>27.125</td>\n",
       "      <td>0</td>\n",
       "      <td>0</td>\n",
       "      <td>-30.280354</td>\n",
       "    </tr>\n",
       "    <tr>\n",
       "      <th>84137</th>\n",
       "      <td>2016-12-24</td>\n",
       "      <td>88.125</td>\n",
       "      <td>27.375</td>\n",
       "      <td>0</td>\n",
       "      <td>0</td>\n",
       "      <td>-30.280354</td>\n",
       "    </tr>\n",
       "    <tr>\n",
       "      <th>84138</th>\n",
       "      <td>2016-12-24</td>\n",
       "      <td>88.125</td>\n",
       "      <td>27.625</td>\n",
       "      <td>0</td>\n",
       "      <td>0</td>\n",
       "      <td>-20.652456</td>\n",
       "    </tr>\n",
       "    <tr>\n",
       "      <th>84139</th>\n",
       "      <td>2016-12-24</td>\n",
       "      <td>88.125</td>\n",
       "      <td>27.875</td>\n",
       "      <td>0</td>\n",
       "      <td>0</td>\n",
       "      <td>-20.652456</td>\n",
       "    </tr>\n",
       "  </tbody>\n",
       "</table>\n",
       "<p>41400 rows × 6 columns</p>\n",
       "</div>"
      ],
      "text/plain": [
       "            time       x       y  spatial_ref  WGS84  lwe_thickness\n",
       "10    2003-02-15  80.125  28.875            0      0       5.152987\n",
       "11    2003-02-15  80.125  29.125            0      0       5.152987\n",
       "12    2003-02-15  80.125  29.375            0      0      14.131901\n",
       "26    2003-02-15  80.375  28.625            0      0       5.152987\n",
       "27    2003-02-15  80.375  28.875            0      0       5.152987\n",
       "...          ...     ...     ...          ...    ...            ...\n",
       "84135 2016-12-24  88.125  26.875            0      0     -30.280354\n",
       "84136 2016-12-24  88.125  27.125            0      0     -30.280354\n",
       "84137 2016-12-24  88.125  27.375            0      0     -30.280354\n",
       "84138 2016-12-24  88.125  27.625            0      0     -20.652456\n",
       "84139 2016-12-24  88.125  27.875            0      0     -20.652456\n",
       "\n",
       "[41400 rows x 6 columns]"
      ]
     },
     "execution_count": 13,
     "metadata": {},
     "output_type": "execute_result"
    }
   ],
   "source": [
    "import numpy as np\n",
    "import xarray as xr\n",
    "from sklearn.preprocessing import StandardScaler\n",
    "from sklearn.cluster import KMeans\n",
    "from sklearn.metrics import silhouette_score\n",
    "import matplotlib.pyplot as plt\n",
    "\n",
    "# Load your GRACE dataset (assuming it's already clipped and processed)\n",
    "# Assume ds is your xarray.Dataset\n",
    "# Convert to DataFrame for clustering\n",
    "data_df = GR_Clip.to_dataframe().reset_index()\n",
    "data_df = data_df.dropna(subset=['lwe_thickness'])\n",
    "data_df"
   ]
  },
  {
   "cell_type": "code",
   "execution_count": 17,
   "id": "a0aca3ea-6067-46df-a154-55529316d83a",
   "metadata": {},
   "outputs": [
    {
     "data": {
      "text/plain": [
       "276"
      ]
     },
     "execution_count": 17,
     "metadata": {},
     "output_type": "execute_result"
    }
   ],
   "source": [
    "# Reshape data: each row is a location, each column is a monthly time step\n",
    "data_pivot = data_df.pivot_table(index=['y', 'x'], columns='time', values='lwe_thickness')\n",
    "data_matrix = data_pivot.values\n",
    "len(data_pivot)"
   ]
  },
  {
   "cell_type": "code",
   "execution_count": 133,
   "id": "84681f86-28a4-40e8-9223-5e64109370cc",
   "metadata": {},
   "outputs": [
    {
     "data": {
      "text/plain": [
       "81.125"
      ]
     },
     "execution_count": 133,
     "metadata": {},
     "output_type": "execute_result"
    }
   ],
   "source": [
    "x_value = data_pivot.index.get_level_values('x')[i]\n",
    "x_value"
   ]
  },
  {
   "cell_type": "code",
   "execution_count": 135,
   "id": "50ebd0e1-71fd-493b-bf8e-f0e27f56530e",
   "metadata": {},
   "outputs": [
    {
     "data": {
      "text/plain": [
       "array([  0.52074695,   2.2065225 ,  -3.3288364 ,  -3.878075  ,\n",
       "        29.734867  ,  24.676708  ,  31.724451  ,  25.877615  ,\n",
       "        24.817574  ,  24.203798  ,  11.768568  ,  11.380428  ,\n",
       "        -9.23965   ,  -4.235034  , -10.100297  ,  19.660212  ,\n",
       "        29.054316  ,  18.624338  ,  22.566128  ,  22.520842  ,\n",
       "        10.317068  ,  16.443785  ,   2.6911147 ,  -3.5023806 ,\n",
       "         0.13029334,  -7.2583003 , -10.014917  , -15.588078  ,\n",
       "         9.731559  ,  19.726795  ,  17.779146  ,  15.89603   ,\n",
       "        12.81356   ,   4.9678826 ,  -1.3098952 ,  -8.771829  ,\n",
       "       -20.451725  , -21.694221  , -16.756971  ,   4.2656345 ,\n",
       "         5.2468414 ,   4.0832157 ,  11.959116  ,   6.4477763 ,\n",
       "         0.71188563,  -8.0194845 , -10.701285  , -10.885014  ,\n",
       "       -11.440915  , -18.029957  , -17.287636  ,  -8.004911  ,\n",
       "         4.895998  ,  31.494795  ,  33.159565  ,  13.631856  ,\n",
       "         1.3660119 ,  -2.0482972 ,  -8.898845  ,  -6.9566126 ,\n",
       "       -16.607328  , -17.141438  , -23.763813  ,  -9.994518  ,\n",
       "        16.86228   ,  31.660255  ,  23.445986  ,  12.460222  ,\n",
       "         4.40848   ,  -7.97213   ,  -9.655862  , -18.14568   ,\n",
       "       -20.227308  , -26.451517  , -23.0699    , -32.50199   ,\n",
       "        -7.070054  ,  10.574473  ,   4.2399435 ,  -0.8939484 ,\n",
       "       -10.117656  , -12.177006  , -13.802459  , -21.598497  ,\n",
       "       -34.82899   , -30.547802  , -28.748543  , -28.790764  ,\n",
       "        -3.673261  ,   3.8579328 ,  10.979929  ,  -1.9414755 ,\n",
       "       -13.998307  , -29.278666  , -36.17764   , -34.42827   ,\n",
       "       -31.21998   , -33.91373   ,  -1.1913642 ,  19.685452  ,\n",
       "        10.053242  ,   1.3620522 , -12.776127  , -23.563536  ,\n",
       "       -20.426231  , -25.954445  , -32.982082  , -26.953548  ,\n",
       "       -16.111662  , -22.36316   ,  -6.302103  ,   6.9449415 ,\n",
       "       -24.355309  , -36.20423   , -24.836624  , -33.458008  ,\n",
       "       -37.545074  , -42.354847  , -23.111607  ,   0.74164075,\n",
       "        -1.5199802 , -15.919468  , -10.427538  , -12.626374  ,\n",
       "       -32.80035   , -32.51475   , -34.912025  , -30.214525  ,\n",
       "         1.4807234 ,  -1.3652666 ,  -0.18386622, -12.329712  ,\n",
       "       -14.513075  , -33.95101   , -24.564257  , -27.174461  ,\n",
       "       -23.71951   ,  -8.744093  ,   0.9771597 ,   8.600099  ,\n",
       "       -34.15243   , -16.082151  , -21.675457  , -37.43335   ,\n",
       "       -12.911795  , -35.524086  ,  -3.3927932 , -11.730249  ,\n",
       "       -21.584818  , -23.664629  ], dtype=float32)"
      ]
     },
     "execution_count": 135,
     "metadata": {},
     "output_type": "execute_result"
    }
   ],
   "source": [
    "series = data_pivot.iloc[2].values\n",
    "#series = data_pivot.iloc[2].drop(['x', 'y']).values\n",
    "series"
   ]
  },
  {
   "cell_type": "code",
   "execution_count": 19,
   "id": "d0152050-4183-4eae-9f63-66692aadd9c4",
   "metadata": {},
   "outputs": [
    {
     "data": {
      "text/plain": [
       "array([[ 17.04578458,  16.71764141,  16.38949823, ..., -19.25190011,\n",
       "        -19.49760728, -19.74331445],\n",
       "       [ 17.04578458,  16.71764141,  16.38949823, ..., -19.25190011,\n",
       "        -19.49760728, -19.74331445],\n",
       "       [ 17.04578458,  16.71764141,  16.38949823, ..., -19.25190011,\n",
       "        -19.49760728, -19.74331445],\n",
       "       ...,\n",
       "       [  2.32968382,   2.12892521,   1.92816659, ..., -20.24766402,\n",
       "        -21.20810503, -22.16854604],\n",
       "       [  2.32968382,   2.12892521,   1.92816659, ..., -20.24766402,\n",
       "        -21.20810503, -22.16854604],\n",
       "       [  2.32968382,   2.12892521,   1.92816659, ..., -20.24766402,\n",
       "        -21.20810503, -22.16854604]])"
      ]
     },
     "execution_count": 19,
     "metadata": {},
     "output_type": "execute_result"
    }
   ],
   "source": [
    "import pandas as pd\n",
    "from statsmodels.tsa.seasonal import seasonal_decompose\n",
    "\n",
    "# Initialize an empty list to store each row's trend data as dictionaries\n",
    "trends_data = []\n",
    "\n",
    "for i in range(len(data_pivot)):\n",
    "    # Extract x and y from data_pivot for the current row\n",
    "    x_value = data_pivot.index.get_level_values('x')[i]  # Assuming 'x' is a column in data_pivot\n",
    "    y_value = data_pivot.index.get_level_values('y')[i]  # Assuming 'y' is a column in data_pivot\n",
    "    \n",
    "    # Get the series values for decomposition\n",
    "    series = data_pivot.iloc[i].values  # Exclude 'x' and 'y' columns from the series\n",
    "    \n",
    "    # Perform seasonal decomposition\n",
    "    period = 12\n",
    "    results = seasonal_decompose(series, model='additive', period=period, extrapolate_trend='freq')\n",
    "    \n",
    "    # Extract trend estimate\n",
    "    trend_estimate = results.trend\n",
    "    \n",
    "    # Create a dictionary with x, y, and each value of trend_estimate as a new column\n",
    "    trend_row = {'x': x_value, 'y': y_value}\n",
    "    trend_row.update({f'trend_{j}': value for j, value in enumerate(trend_estimate)})\n",
    "    \n",
    "    # Append the row dictionary to the list\n",
    "    trends_data.append(trend_row)\n",
    "\n",
    "# Convert list of dictionaries to a new dataframe\n",
    "trends_df = pd.DataFrame(trends_data)\n",
    "trends_matrix = trends_df.iloc[:,2:].values\n",
    "trends_matrix\n"
   ]
  },
  {
   "cell_type": "code",
   "execution_count": 21,
   "id": "d7342f5a-dd76-49ea-bf80-172d58cb4f03",
   "metadata": {},
   "outputs": [
    {
     "name": "stderr",
     "output_type": "stream",
     "text": [
      "C:\\Users\\Hp\\anaconda3\\Lib\\site-packages\\sklearn\\cluster\\_kmeans.py:1446: UserWarning: KMeans is known to have a memory leak on Windows with MKL, when there are less chunks than available threads. You can avoid it by setting the environment variable OMP_NUM_THREADS=2.\n",
      "  warnings.warn(\n",
      "C:\\Users\\Hp\\anaconda3\\Lib\\site-packages\\sklearn\\cluster\\_kmeans.py:1446: UserWarning: KMeans is known to have a memory leak on Windows with MKL, when there are less chunks than available threads. You can avoid it by setting the environment variable OMP_NUM_THREADS=2.\n",
      "  warnings.warn(\n",
      "C:\\Users\\Hp\\anaconda3\\Lib\\site-packages\\sklearn\\cluster\\_kmeans.py:1446: UserWarning: KMeans is known to have a memory leak on Windows with MKL, when there are less chunks than available threads. You can avoid it by setting the environment variable OMP_NUM_THREADS=2.\n",
      "  warnings.warn(\n",
      "C:\\Users\\Hp\\anaconda3\\Lib\\site-packages\\sklearn\\cluster\\_kmeans.py:1446: UserWarning: KMeans is known to have a memory leak on Windows with MKL, when there are less chunks than available threads. You can avoid it by setting the environment variable OMP_NUM_THREADS=2.\n",
      "  warnings.warn(\n",
      "C:\\Users\\Hp\\anaconda3\\Lib\\site-packages\\sklearn\\cluster\\_kmeans.py:1446: UserWarning: KMeans is known to have a memory leak on Windows with MKL, when there are less chunks than available threads. You can avoid it by setting the environment variable OMP_NUM_THREADS=2.\n",
      "  warnings.warn(\n",
      "C:\\Users\\Hp\\anaconda3\\Lib\\site-packages\\sklearn\\cluster\\_kmeans.py:1446: UserWarning: KMeans is known to have a memory leak on Windows with MKL, when there are less chunks than available threads. You can avoid it by setting the environment variable OMP_NUM_THREADS=2.\n",
      "  warnings.warn(\n",
      "C:\\Users\\Hp\\anaconda3\\Lib\\site-packages\\sklearn\\cluster\\_kmeans.py:1446: UserWarning: KMeans is known to have a memory leak on Windows with MKL, when there are less chunks than available threads. You can avoid it by setting the environment variable OMP_NUM_THREADS=2.\n",
      "  warnings.warn(\n",
      "C:\\Users\\Hp\\anaconda3\\Lib\\site-packages\\sklearn\\cluster\\_kmeans.py:1446: UserWarning: KMeans is known to have a memory leak on Windows with MKL, when there are less chunks than available threads. You can avoid it by setting the environment variable OMP_NUM_THREADS=2.\n",
      "  warnings.warn(\n"
     ]
    },
    {
     "data": {
      "image/png": "[encoded data removed]",
      "text/plain": [
       "<Figure size 1200x500 with 1 Axes>"
      ]
     },
     "metadata": {},
     "output_type": "display_data"
    },
    {
     "data": {
      "image/png": "[encoded data removed]",
      "text/plain": [
       "<Figure size 1000x500 with 1 Axes>"
      ]
     },
     "metadata": {},
     "output_type": "display_data"
    },
    {
     "data": {
      "image/png": "[encoded data removed]",
      "text/plain": [
       "<Figure size 1000x500 with 1 Axes>"
      ]
     },
     "metadata": {},
     "output_type": "display_data"
    }
   ],
   "source": [
    "import matplotlib.pyplot as plt\n",
    "from sklearn.cluster import KMeans\n",
    "from sklearn.preprocessing import StandardScaler\n",
    "from sklearn.metrics import silhouette_score, davies_bouldin_score\n",
    "\n",
    "\n",
    "# Standardize data\n",
    "scaler = StandardScaler()\n",
    "data_scaled = scaler.fit_transform(trends_matrix)\n",
    "\n",
    "# Finding optimal number of clusters\n",
    "wcss = []\n",
    "silhouette_scores = []\n",
    "dbi_scores = []  # New list to store Davies-Bouldin scores\n",
    "cluster_range = range(2, 10)\n",
    "\n",
    "for k in cluster_range:\n",
    "    kmeans = KMeans(n_clusters=k, random_state=42)\n",
    "    kmeans.fit(data_scaled)\n",
    "    wcss.append(kmeans.inertia_)\n",
    "    silhouette_scores.append(silhouette_score(data_scaled, kmeans.labels_))\n",
    "    dbi_scores.append(davies_bouldin_score(data_scaled, kmeans.labels_))  # Calculate DBI score\n",
    "\n",
    "# Plotting the Elbow Method with DBI score overlay\n",
    "plt.figure(figsize=(12, 5))  # Increased width for better visualization\n",
    "plt.plot(cluster_range, wcss, marker='o', label='WCSS')\n",
    "plt.xlabel('Number of clusters')\n",
    "plt.ylabel('Metric Value')\n",
    "plt.title('Elbow Method with Davies-Bouldin Score (Lower is better)')\n",
    "plt.legend()\n",
    "plt.grid(True)\n",
    "plt.show()\n",
    "\n",
    "# Plotting Silhouette Scores\n",
    "plt.figure(figsize=(10, 5))\n",
    "plt.plot(cluster_range, silhouette_scores, marker='o')\n",
    "plt.xlabel('Number of clusters')\n",
    "plt.ylabel('Silhouette Score')\n",
    "plt.title('Silhouette Score for each k')\n",
    "plt.show()\n",
    "\n",
    "# Plotting ...\n",
    "plt.figure(figsize=(10, 5))\n",
    "plt.plot(cluster_range, dbi_scores, marker='s', label='Davies-Bouldin Score')  # Plot DBI score\n",
    "plt.xlabel('Number of clusters')\n",
    "plt.ylabel('Davies-Bouldin Score')\n",
    "plt.title('Davies_Bouldin Score for each k')\n",
    "plt.show()\n"
   ]
  },
  {
   "cell_type": "code",
   "execution_count": 23,
   "id": "8a0f85c5-9f9d-4d4f-b137-b28bcc70a037",
   "metadata": {},
   "outputs": [
    {
     "name": "stderr",
     "output_type": "stream",
     "text": [
      "C:\\Users\\Hp\\anaconda3\\Lib\\site-packages\\sklearn\\cluster\\_kmeans.py:1446: UserWarning: KMeans is known to have a memory leak on Windows with MKL, when there are less chunks than available threads. You can avoid it by setting the environment variable OMP_NUM_THREADS=2.\n",
      "  warnings.warn(\n",
      "C:\\Users\\Hp\\anaconda3\\Lib\\site-packages\\sklearn\\cluster\\_kmeans.py:1446: UserWarning: KMeans is known to have a memory leak on Windows with MKL, when there are less chunks than available threads. You can avoid it by setting the environment variable OMP_NUM_THREADS=2.\n",
      "  warnings.warn(\n",
      "C:\\Users\\Hp\\anaconda3\\Lib\\site-packages\\sklearn\\cluster\\_kmeans.py:1446: UserWarning: KMeans is known to have a memory leak on Windows with MKL, when there are less chunks than available threads. You can avoid it by setting the environment variable OMP_NUM_THREADS=2.\n",
      "  warnings.warn(\n",
      "C:\\Users\\Hp\\anaconda3\\Lib\\site-packages\\sklearn\\cluster\\_kmeans.py:1446: UserWarning: KMeans is known to have a memory leak on Windows with MKL, when there are less chunks than available threads. You can avoid it by setting the environment variable OMP_NUM_THREADS=2.\n",
      "  warnings.warn(\n",
      "C:\\Users\\Hp\\anaconda3\\Lib\\site-packages\\sklearn\\cluster\\_kmeans.py:1446: UserWarning: KMeans is known to have a memory leak on Windows with MKL, when there are less chunks than available threads. You can avoid it by setting the environment variable OMP_NUM_THREADS=2.\n",
      "  warnings.warn(\n",
      "C:\\Users\\Hp\\anaconda3\\Lib\\site-packages\\sklearn\\cluster\\_kmeans.py:1446: UserWarning: KMeans is known to have a memory leak on Windows with MKL, when there are less chunks than available threads. You can avoid it by setting the environment variable OMP_NUM_THREADS=2.\n",
      "  warnings.warn(\n",
      "C:\\Users\\Hp\\anaconda3\\Lib\\site-packages\\sklearn\\cluster\\_kmeans.py:1446: UserWarning: KMeans is known to have a memory leak on Windows with MKL, when there are less chunks than available threads. You can avoid it by setting the environment variable OMP_NUM_THREADS=2.\n",
      "  warnings.warn(\n",
      "C:\\Users\\Hp\\anaconda3\\Lib\\site-packages\\sklearn\\cluster\\_kmeans.py:1446: UserWarning: KMeans is known to have a memory leak on Windows with MKL, when there are less chunks than available threads. You can avoid it by setting the environment variable OMP_NUM_THREADS=2.\n",
      "  warnings.warn(\n"
     ]
    }
   ],
   "source": [
    "import matplotlib.pyplot as plt\n",
    "from sklearn.cluster import KMeans\n",
    "from sklearn.preprocessing import StandardScaler\n",
    "from sklearn.metrics import silhouette_score, davies_bouldin_score\n",
    "\n",
    "# Standardize data\n",
    "scaler = StandardScaler()\n",
    "data_scaled = scaler.fit_transform(trends_matrix)\n",
    "\n",
    "# Finding optimal number of clusters\n",
    "wcss = []\n",
    "silhouette_scores = []\n",
    "dbi_scores = []  # New list to store Davies-Bouldin scores\n",
    "cluster_range = range(2, 10)\n",
    "\n",
    "for k in cluster_range:\n",
    "    kmeans = KMeans(n_clusters=k, random_state=42)\n",
    "    kmeans.fit(data_scaled)\n",
    "    wcss.append(kmeans.inertia_)\n",
    "    silhouette_scores.append(silhouette_score(data_scaled, kmeans.labels_))\n",
    "    dbi_scores.append(davies_bouldin_score(data_scaled, kmeans.labels_))  # Calculate DBI score\n",
    "\n",
    "# Path to save the plots\n",
    "save_path = r\"D:\\Masters\\Thesis_New\\Project Report\"\n",
    "\n",
    "# Plotting the Elbow Method with DBI score overlay\n",
    "plt.figure(figsize=(12, 5))  # Increased width for better visualization\n",
    "plt.plot(cluster_range, wcss, marker='o', label='WCSS')\n",
    "plt.xlabel('Number of clusters')\n",
    "plt.ylabel('Metric Value')\n",
    "plt.title('Elbow Method with Davies-Bouldin Score (Lower is better)')\n",
    "plt.legend()\n",
    "plt.grid(True)\n",
    "plt.savefig(f\"{save_path}\\\\Elbow_Method.jpg\", format='jpg')  # Save plot as .jpg\n",
    "plt.close()\n",
    "\n",
    "# Plotting Silhouette Scores\n",
    "plt.figure(figsize=(10, 5))\n",
    "plt.plot(cluster_range, silhouette_scores, marker='o')\n",
    "plt.xlabel('Number of clusters')\n",
    "plt.ylabel('Silhouette Score')\n",
    "plt.title('Silhouette Score for each k')\n",
    "plt.savefig(f\"{save_path}\\\\Silhouette_Score.jpg\", format='jpg')  # Save plot as .jpg\n",
    "plt.close()\n",
    "\n",
    "# Plotting Davies-Bouldin Scores\n",
    "plt.figure(figsize=(10, 5))\n",
    "plt.plot(cluster_range, dbi_scores, marker='s', label='Davies-Bouldin Score')  # Plot DBI score\n",
    "plt.xlabel('Number of clusters')\n",
    "plt.ylabel('Davies-Bouldin Score')\n",
    "plt.title('Davies_Bouldin Score for each k')\n",
    "plt.savefig(f\"{save_path}\\\\Davies_Bouldin_Score.jpg\", format='jpg')  # Save plot as .jpg\n",
    "plt.close()\n"
   ]
  },
  {
   "cell_type": "code",
   "execution_count": 163,
   "id": "b36ebea5-bd46-4f77-82de-2b2724bcac0a",
   "metadata": {},
   "outputs": [
    {
     "name": "stderr",
     "output_type": "stream",
     "text": [
      "C:\\Users\\Hp\\anaconda3\\Lib\\site-packages\\sklearn\\cluster\\_kmeans.py:1446: UserWarning:\n",
      "\n",
      "KMeans is known to have a memory leak on Windows with MKL, when there are less chunks than available threads. You can avoid it by setting the environment variable OMP_NUM_THREADS=1.\n",
      "\n",
      "C:\\Users\\Hp\\anaconda3\\Lib\\site-packages\\sklearn\\cluster\\_kmeans.py:1446: UserWarning:\n",
      "\n",
      "KMeans is known to have a memory leak on Windows with MKL, when there are less chunks than available threads. You can avoid it by setting the environment variable OMP_NUM_THREADS=1.\n",
      "\n",
      "C:\\Users\\Hp\\anaconda3\\Lib\\site-packages\\sklearn\\cluster\\_kmeans.py:1446: UserWarning:\n",
      "\n",
      "KMeans is known to have a memory leak on Windows with MKL, when there are less chunks than available threads. You can avoid it by setting the environment variable OMP_NUM_THREADS=1.\n",
      "\n",
      "C:\\Users\\Hp\\anaconda3\\Lib\\site-packages\\sklearn\\cluster\\_kmeans.py:1446: UserWarning:\n",
      "\n",
      "KMeans is known to have a memory leak on Windows with MKL, when there are less chunks than available threads. You can avoid it by setting the environment variable OMP_NUM_THREADS=1.\n",
      "\n",
      "C:\\Users\\Hp\\anaconda3\\Lib\\site-packages\\sklearn\\cluster\\_kmeans.py:1446: UserWarning:\n",
      "\n",
      "KMeans is known to have a memory leak on Windows with MKL, when there are less chunks than available threads. You can avoid it by setting the environment variable OMP_NUM_THREADS=1.\n",
      "\n",
      "C:\\Users\\Hp\\anaconda3\\Lib\\site-packages\\sklearn\\cluster\\_kmeans.py:1446: UserWarning:\n",
      "\n",
      "KMeans is known to have a memory leak on Windows with MKL, when there are less chunks than available threads. You can avoid it by setting the environment variable OMP_NUM_THREADS=1.\n",
      "\n"
     ]
    },
    {
     "data": {
      "application/vnd.plotly.v1+json": {
       "config": {
        "plotlyServerURL": "https://plot.ly"
       },
       "data": [
        {
         "link": {
          "source": [
           0,
           1,
           1,
           2,
           3,
           4,
           4,
           5,
           5,
           6,
           7,
           8,
           9,
           10,
           10,
           11,
           12,
           13,
           14,
           15,
           16,
           16,
           17,
           18,
           19
          ],
          "target": [
           2,
           3,
           4,
           5,
           6,
           7,
           8,
           9,
           13,
           10,
           11,
           12,
           14,
           15,
           19,
           16,
           17,
           18,
           20,
           21,
           22,
           26,
           23,
           24,
           25
          ],
          "value": [
           64,
           39,
           37,
           64,
           39,
           26,
           11,
           51,
           13,
           39,
           26,
           11,
           51,
           34,
           5,
           26,
           11,
           13,
           51,
           34,
           10,
           16,
           11,
           13,
           5
          ]
         },
         "node": {
          "label": [
           "2clusters_1",
           "2clusters_2",
           "3clusters_1",
           "3clusters_2",
           "3clusters_3",
           "4clusters_1",
           "4clusters_2",
           "4clusters_3",
           "4clusters_4",
           "5clusters_1",
           "5clusters_2",
           "5clusters_3",
           "5clusters_4",
           "5clusters_5",
           "6clusters_1",
           "6clusters_2",
           "6clusters_3",
           "6clusters_4",
           "6clusters_5",
           "6clusters_6",
           "7clusters_1",
           "7clusters_2",
           "7clusters_3",
           "7clusters_4",
           "7clusters_5",
           "7clusters_6",
           "7clusters_7"
          ],
          "line": {
           "color": "black",
           "width": 0.5
          },
          "pad": 15,
          "thickness": 20
         },
         "type": "sankey"
        }
       ],
       "layout": {
        "autosize": true,
        "font": {
         "size": 10
        },
        "template": {
         "data": {
          "bar": [
           {
            "error_x": {
             "color": "#2a3f5f"
            },
            "error_y": {
             "color": "#2a3f5f"
            },
            "marker": {
             "line": {
              "color": "#E5ECF6",
              "width": 0.5
             },
             "pattern": {
              "fillmode": "overlay",
              "size": 10,
              "solidity": 0.2
             }
            },
            "type": "bar"
           }
          ],
          "barpolar": [
           {
            "marker": {
             "line": {
              "color": "#E5ECF6",
              "width": 0.5
             },
             "pattern": {
              "fillmode": "overlay",
              "size": 10,
              "solidity": 0.2
             }
            },
            "type": "barpolar"
           }
          ],
          "carpet": [
           {
            "aaxis": {
             "endlinecolor": "#2a3f5f",
             "gridcolor": "white",
             "linecolor": "white",
             "minorgridcolor": "white",
             "startlinecolor": "#2a3f5f"
            },
            "baxis": {
             "endlinecolor": "#2a3f5f",
             "gridcolor": "white",
             "linecolor": "white",
             "minorgridcolor": "white",
             "startlinecolor": "#2a3f5f"
            },
            "type": "carpet"
           }
          ],
          "choropleth": [
           {
            "colorbar": {
             "outlinewidth": 0,
             "ticks": ""
            },
            "type": "choropleth"
           }
          ],
          "contour": [
           {
            "colorbar": {
             "outlinewidth": 0,
             "ticks": ""
            },
            "colorscale": [
             [
              0,
              "#0d0887"
             ],
             [
              0.1111111111111111,
              "#46039f"
             ],
             [
              0.2222222222222222,
              "#7201a8"
             ],
             [
              0.3333333333333333,
              "#9c179e"
             ],
             [
              0.4444444444444444,
              "#bd3786"
             ],
             [
              0.5555555555555556,
              "#d8576b"
             ],
             [
              0.6666666666666666,
              "#ed7953"
             ],
             [
              0.7777777777777778,
              "#fb9f3a"
             ],
             [
              0.8888888888888888,
              "#fdca26"
             ],
             [
              1,
              "#f0f921"
             ]
            ],
            "type": "contour"
           }
          ],
          "contourcarpet": [
           {
            "colorbar": {
             "outlinewidth": 0,
             "ticks": ""
            },
            "type": "contourcarpet"
           }
          ],
          "heatmap": [
           {
            "colorbar": {
             "outlinewidth": 0,
             "ticks": ""
            },
            "colorscale": [
             [
              0,
              "#0d0887"
             ],
             [
              0.1111111111111111,
              "#46039f"
             ],
             [
              0.2222222222222222,
              "#7201a8"
             ],
             [
              0.3333333333333333,
              "#9c179e"
             ],
             [
              0.4444444444444444,
              "#bd3786"
             ],
             [
              0.5555555555555556,
              "#d8576b"
             ],
             [
              0.6666666666666666,
              "#ed7953"
             ],
             [
              0.7777777777777778,
              "#fb9f3a"
             ],
             [
              0.8888888888888888,
              "#fdca26"
             ],
             [
              1,
              "#f0f921"
             ]
            ],
            "type": "heatmap"
           }
          ],
          "heatmapgl": [
           {
            "colorbar": {
             "outlinewidth": 0,
             "ticks": ""
            },
            "colorscale": [
             [
              0,
              "#0d0887"
             ],
             [
              0.1111111111111111,
              "#46039f"
             ],
             [
              0.2222222222222222,
              "#7201a8"
             ],
             [
              0.3333333333333333,
              "#9c179e"
             ],
             [
              0.4444444444444444,
              "#bd3786"
             ],
             [
              0.5555555555555556,
              "#d8576b"
             ],
             [
              0.6666666666666666,
              "#ed7953"
             ],
             [
              0.7777777777777778,
              "#fb9f3a"
             ],
             [
              0.8888888888888888,
              "#fdca26"
             ],
             [
              1,
              "#f0f921"
             ]
            ],
            "type": "heatmapgl"
           }
          ],
          "histogram": [
           {
            "marker": {
             "pattern": {
              "fillmode": "overlay",
              "size": 10,
              "solidity": 0.2
             }
            },
            "type": "histogram"
           }
          ],
          "histogram2d": [
           {
            "colorbar": {
             "outlinewidth": 0,
             "ticks": ""
            },
            "colorscale": [
             [
              0,
              "#0d0887"
             ],
             [
              0.1111111111111111,
              "#46039f"
             ],
             [
              0.2222222222222222,
              "#7201a8"
             ],
             [
              0.3333333333333333,
              "#9c179e"
             ],
             [
              0.4444444444444444,
              "#bd3786"
             ],
             [
              0.5555555555555556,
              "#d8576b"
             ],
             [
              0.6666666666666666,
              "#ed7953"
             ],
             [
              0.7777777777777778,
              "#fb9f3a"
             ],
             [
              0.8888888888888888,
              "#fdca26"
             ],
             [
              1,
              "#f0f921"
             ]
            ],
            "type": "histogram2d"
           }
          ],
          "histogram2dcontour": [
           {
            "colorbar": {
             "outlinewidth": 0,
             "ticks": ""
            },
            "colorscale": [
             [
              0,
              "#0d0887"
             ],
             [
              0.1111111111111111,
              "#46039f"
             ],
             [
              0.2222222222222222,
              "#7201a8"
             ],
             [
              0.3333333333333333,
              "#9c179e"
             ],
             [
              0.4444444444444444,
              "#bd3786"
             ],
             [
              0.5555555555555556,
              "#d8576b"
             ],
             [
              0.6666666666666666,
              "#ed7953"
             ],
             [
              0.7777777777777778,
              "#fb9f3a"
             ],
             [
              0.8888888888888888,
              "#fdca26"
             ],
             [
              1,
              "#f0f921"
             ]
            ],
            "type": "histogram2dcontour"
           }
          ],
          "mesh3d": [
           {
            "colorbar": {
             "outlinewidth": 0,
             "ticks": ""
            },
            "type": "mesh3d"
           }
          ],
          "parcoords": [
           {
            "line": {
             "colorbar": {
              "outlinewidth": 0,
              "ticks": ""
             }
            },
            "type": "parcoords"
           }
          ],
          "pie": [
           {
            "automargin": true,
            "type": "pie"
           }
          ],
          "scatter": [
           {
            "fillpattern": {
             "fillmode": "overlay",
             "size": 10,
             "solidity": 0.2
            },
            "type": "scatter"
           }
          ],
          "scatter3d": [
           {
            "line": {
             "colorbar": {
              "outlinewidth": 0,
              "ticks": ""
             }
            },
            "marker": {
             "colorbar": {
              "outlinewidth": 0,
              "ticks": ""
             }
            },
            "type": "scatter3d"
           }
          ],
          "scattercarpet": [
           {
            "marker": {
             "colorbar": {
              "outlinewidth": 0,
              "ticks": ""
             }
            },
            "type": "scattercarpet"
           }
          ],
          "scattergeo": [
           {
            "marker": {
             "colorbar": {
              "outlinewidth": 0,
              "ticks": ""
             }
            },
            "type": "scattergeo"
           }
          ],
          "scattergl": [
           {
            "marker": {
             "colorbar": {
              "outlinewidth": 0,
              "ticks": ""
             }
            },
            "type": "scattergl"
           }
          ],
          "scattermapbox": [
           {
            "marker": {
             "colorbar": {
              "outlinewidth": 0,
              "ticks": ""
             }
            },
            "type": "scattermapbox"
           }
          ],
          "scatterpolar": [
           {
            "marker": {
             "colorbar": {
              "outlinewidth": 0,
              "ticks": ""
             }
            },
            "type": "scatterpolar"
           }
          ],
          "scatterpolargl": [
           {
            "marker": {
             "colorbar": {
              "outlinewidth": 0,
              "ticks": ""
             }
            },
            "type": "scatterpolargl"
           }
          ],
          "scatterternary": [
           {
            "marker": {
             "colorbar": {
              "outlinewidth": 0,
              "ticks": ""
             }
            },
            "type": "scatterternary"
           }
          ],
          "surface": [
           {
            "colorbar": {
             "outlinewidth": 0,
             "ticks": ""
            },
            "colorscale": [
             [
              0,
              "#0d0887"
             ],
             [
              0.1111111111111111,
              "#46039f"
             ],
             [
              0.2222222222222222,
              "#7201a8"
             ],
             [
              0.3333333333333333,
              "#9c179e"
             ],
             [
              0.4444444444444444,
              "#bd3786"
             ],
             [
              0.5555555555555556,
              "#d8576b"
             ],
             [
              0.6666666666666666,
              "#ed7953"
             ],
             [
              0.7777777777777778,
              "#fb9f3a"
             ],
             [
              0.8888888888888888,
              "#fdca26"
             ],
             [
              1,
              "#f0f921"
             ]
            ],
            "type": "surface"
           }
          ],
          "table": [
           {
            "cells": {
             "fill": {
              "color": "#EBF0F8"
             },
             "line": {
              "color": "white"
             }
            },
            "header": {
             "fill": {
              "color": "#C8D4E3"
             },
             "line": {
              "color": "white"
             }
            },
            "type": "table"
           }
          ]
         },
         "layout": {
          "annotationdefaults": {
           "arrowcolor": "#2a3f5f",
           "arrowhead": 0,
           "arrowwidth": 1
          },
          "autotypenumbers": "strict",
          "coloraxis": {
           "colorbar": {
            "outlinewidth": 0,
            "ticks": ""
           }
          },
          "colorscale": {
           "diverging": [
            [
             0,
             "#8e0152"
            ],
            [
             0.1,
             "#c51b7d"
            ],
            [
             0.2,
             "#de77ae"
            ],
            [
             0.3,
             "#f1b6da"
            ],
            [
             0.4,
             "#fde0ef"
            ],
            [
             0.5,
             "#f7f7f7"
            ],
            [
             0.6,
             "#e6f5d0"
            ],
            [
             0.7,
             "#b8e186"
            ],
            [
             0.8,
             "#7fbc41"
            ],
            [
             0.9,
             "#4d9221"
            ],
            [
             1,
             "#276419"
            ]
           ],
           "sequential": [
            [
             0,
             "#0d0887"
            ],
            [
             0.1111111111111111,
             "#46039f"
            ],
            [
             0.2222222222222222,
             "#7201a8"
            ],
            [
             0.3333333333333333,
             "#9c179e"
            ],
            [
             0.4444444444444444,
             "#bd3786"
            ],
            [
             0.5555555555555556,
             "#d8576b"
            ],
            [
             0.6666666666666666,
             "#ed7953"
            ],
            [
             0.7777777777777778,
             "#fb9f3a"
            ],
            [
             0.8888888888888888,
             "#fdca26"
            ],
            [
             1,
             "#f0f921"
            ]
           ],
           "sequentialminus": [
            [
             0,
             "#0d0887"
            ],
            [
             0.1111111111111111,
             "#46039f"
            ],
            [
             0.2222222222222222,
             "#7201a8"
            ],
            [
             0.3333333333333333,
             "#9c179e"
            ],
            [
             0.4444444444444444,
             "#bd3786"
            ],
            [
             0.5555555555555556,
             "#d8576b"
            ],
            [
             0.6666666666666666,
             "#ed7953"
            ],
            [
             0.7777777777777778,
             "#fb9f3a"
            ],
            [
             0.8888888888888888,
             "#fdca26"
            ],
            [
             1,
             "#f0f921"
            ]
           ]
          },
          "colorway": [
           "#636efa",
           "#EF553B",
           "#00cc96",
           "#ab63fa",
           "#FFA15A",
           "#19d3f3",
           "#FF6692",
           "#B6E880",
           "#FF97FF",
           "#FECB52"
          ],
          "font": {
           "color": "#2a3f5f"
          },
          "geo": {
           "bgcolor": "white",
           "lakecolor": "white",
           "landcolor": "#E5ECF6",
           "showlakes": true,
           "showland": true,
           "subunitcolor": "white"
          },
          "hoverlabel": {
           "align": "left"
          },
          "hovermode": "closest",
          "mapbox": {
           "style": "light"
          },
          "paper_bgcolor": "white",
          "plot_bgcolor": "#E5ECF6",
          "polar": {
           "angularaxis": {
            "gridcolor": "white",
            "linecolor": "white",
            "ticks": ""
           },
           "bgcolor": "#E5ECF6",
           "radialaxis": {
            "gridcolor": "white",
            "linecolor": "white",
            "ticks": ""
           }
          },
          "scene": {
           "xaxis": {
            "backgroundcolor": "#E5ECF6",
            "gridcolor": "white",
            "gridwidth": 2,
            "linecolor": "white",
            "showbackground": true,
            "ticks": "",
            "zerolinecolor": "white"
           },
           "yaxis": {
            "backgroundcolor": "#E5ECF6",
            "gridcolor": "white",
            "gridwidth": 2,
            "linecolor": "white",
            "showbackground": true,
            "ticks": "",
            "zerolinecolor": "white"
           },
           "zaxis": {
            "backgroundcolor": "#E5ECF6",
            "gridcolor": "white",
            "gridwidth": 2,
            "linecolor": "white",
            "showbackground": true,
            "ticks": "",
            "zerolinecolor": "white"
           }
          },
          "shapedefaults": {
           "line": {
            "color": "#2a3f5f"
           }
          },
          "ternary": {
           "aaxis": {
            "gridcolor": "white",
            "linecolor": "white",
            "ticks": ""
           },
           "baxis": {
            "gridcolor": "white",
            "linecolor": "white",
            "ticks": ""
           },
           "bgcolor": "#E5ECF6",
           "caxis": {
            "gridcolor": "white",
            "linecolor": "white",
            "ticks": ""
           }
          },
          "title": {
           "x": 0.05
          },
          "xaxis": {
           "automargin": true,
           "gridcolor": "white",
           "linecolor": "white",
           "ticks": "",
           "title": {
            "standoff": 15
           },
           "zerolinecolor": "white",
           "zerolinewidth": 2
          },
          "yaxis": {
           "automargin": true,
           "gridcolor": "white",
           "linecolor": "white",
           "ticks": "",
           "title": {
            "standoff": 15
           },
           "zerolinecolor": "white",
           "zerolinewidth": 2
          }
         }
        },
        "title": {
         "text": "Flow of Data Points from 2 to 7 Clusters"
        }
       }
      },
      "image/png": "[encoded data removed]",
      "text/html": [
       "<div>                            <div id=\"0389af37-ca63-46ca-b184-80d70f94c6dd\" class=\"plotly-graph-div\" style=\"height:525px; width:100%;\"></div>            <script type=\"text/javascript\">                require([\"plotly\"], function(Plotly) {                    window.PLOTLYENV=window.PLOTLYENV || {};                                    if (document.getElementById(\"0389af37-ca63-46ca-b184-80d70f94c6dd\")) {                    Plotly.newPlot(                        \"0389af37-ca63-46ca-b184-80d70f94c6dd\",                        [{\"link\":{\"source\":[0.0,1.0,1.0,2,3,4,4,5,5,6,7,8,9,10,10,11,12,13,14,15,16,16,17,18,19],\"target\":[2,3,4,5,6,7,8,9,13,10,11,12,14,15,19,16,17,18,20,21,22,26,23,24,25],\"value\":[64,39,37,64,39,26,11,51,13,39,26,11,51,34,5,26,11,13,51,34,10,16,11,13,5]},\"node\":{\"label\":[\"2clusters_1\",\"2clusters_2\",\"3clusters_1\",\"3clusters_2\",\"3clusters_3\",\"4clusters_1\",\"4clusters_2\",\"4clusters_3\",\"4clusters_4\",\"5clusters_1\",\"5clusters_2\",\"5clusters_3\",\"5clusters_4\",\"5clusters_5\",\"6clusters_1\",\"6clusters_2\",\"6clusters_3\",\"6clusters_4\",\"6clusters_5\",\"6clusters_6\",\"7clusters_1\",\"7clusters_2\",\"7clusters_3\",\"7clusters_4\",\"7clusters_5\",\"7clusters_6\",\"7clusters_7\"],\"line\":{\"color\":\"black\",\"width\":0.5},\"pad\":15,\"thickness\":20},\"type\":\"sankey\"}],                        {\"template\":{\"data\":{\"histogram2dcontour\":[{\"type\":\"histogram2dcontour\",\"colorbar\":{\"outlinewidth\":0,\"ticks\":\"\"},\"colorscale\":[[0.0,\"#0d0887\"],[0.1111111111111111,\"#46039f\"],[0.2222222222222222,\"#7201a8\"],[0.3333333333333333,\"#9c179e\"],[0.4444444444444444,\"#bd3786\"],[0.5555555555555556,\"#d8576b\"],[0.6666666666666666,\"#ed7953\"],[0.7777777777777778,\"#fb9f3a\"],[0.8888888888888888,\"#fdca26\"],[1.0,\"#f0f921\"]]}],\"choropleth\":[{\"type\":\"choropleth\",\"colorbar\":{\"outlinewidth\":0,\"ticks\":\"\"}}],\"histogram2d\":[{\"type\":\"histogram2d\",\"colorbar\":{\"outlinewidth\":0,\"ticks\":\"\"},\"colorscale\":[[0.0,\"#0d0887\"],[0.1111111111111111,\"#46039f\"],[0.2222222222222222,\"#7201a8\"],[0.3333333333333333,\"#9c179e\"],[0.4444444444444444,\"#bd3786\"],[0.5555555555555556,\"#d8576b\"],[0.6666666666666666,\"#ed7953\"],[0.7777777777777778,\"#fb9f3a\"],[0.8888888888888888,\"#fdca26\"],[1.0,\"#f0f921\"]]}],\"heatmap\":[{\"type\":\"heatmap\",\"colorbar\":{\"outlinewidth\":0,\"ticks\":\"\"},\"colorscale\":[[0.0,\"#0d0887\"],[0.1111111111111111,\"#46039f\"],[0.2222222222222222,\"#7201a8\"],[0.3333333333333333,\"#9c179e\"],[0.4444444444444444,\"#bd3786\"],[0.5555555555555556,\"#d8576b\"],[0.6666666666666666,\"#ed7953\"],[0.7777777777777778,\"#fb9f3a\"],[0.8888888888888888,\"#fdca26\"],[1.0,\"#f0f921\"]]}],\"heatmapgl\":[{\"type\":\"heatmapgl\",\"colorbar\":{\"outlinewidth\":0,\"ticks\":\"\"},\"colorscale\":[[0.0,\"#0d0887\"],[0.1111111111111111,\"#46039f\"],[0.2222222222222222,\"#7201a8\"],[0.3333333333333333,\"#9c179e\"],[0.4444444444444444,\"#bd3786\"],[0.5555555555555556,\"#d8576b\"],[0.6666666666666666,\"#ed7953\"],[0.7777777777777778,\"#fb9f3a\"],[0.8888888888888888,\"#fdca26\"],[1.0,\"#f0f921\"]]}],\"contourcarpet\":[{\"type\":\"contourcarpet\",\"colorbar\":{\"outlinewidth\":0,\"ticks\":\"\"}}],\"contour\":[{\"type\":\"contour\",\"colorbar\":{\"outlinewidth\":0,\"ticks\":\"\"},\"colorscale\":[[0.0,\"#0d0887\"],[0.1111111111111111,\"#46039f\"],[0.2222222222222222,\"#7201a8\"],[0.3333333333333333,\"#9c179e\"],[0.4444444444444444,\"#bd3786\"],[0.5555555555555556,\"#d8576b\"],[0.6666666666666666,\"#ed7953\"],[0.7777777777777778,\"#fb9f3a\"],[0.8888888888888888,\"#fdca26\"],[1.0,\"#f0f921\"]]}],\"surface\":[{\"type\":\"surface\",\"colorbar\":{\"outlinewidth\":0,\"ticks\":\"\"},\"colorscale\":[[0.0,\"#0d0887\"],[0.1111111111111111,\"#46039f\"],[0.2222222222222222,\"#7201a8\"],[0.3333333333333333,\"#9c179e\"],[0.4444444444444444,\"#bd3786\"],[0.5555555555555556,\"#d8576b\"],[0.6666666666666666,\"#ed7953\"],[0.7777777777777778,\"#fb9f3a\"],[0.8888888888888888,\"#fdca26\"],[1.0,\"#f0f921\"]]}],\"mesh3d\":[{\"type\":\"mesh3d\",\"colorbar\":{\"outlinewidth\":0,\"ticks\":\"\"}}],\"scatter\":[{\"fillpattern\":{\"fillmode\":\"overlay\",\"size\":10,\"solidity\":0.2},\"type\":\"scatter\"}],\"parcoords\":[{\"type\":\"parcoords\",\"line\":{\"colorbar\":{\"outlinewidth\":0,\"ticks\":\"\"}}}],\"scatterpolargl\":[{\"type\":\"scatterpolargl\",\"marker\":{\"colorbar\":{\"outlinewidth\":0,\"ticks\":\"\"}}}],\"bar\":[{\"error_x\":{\"color\":\"#2a3f5f\"},\"error_y\":{\"color\":\"#2a3f5f\"},\"marker\":{\"line\":{\"color\":\"#E5ECF6\",\"width\":0.5},\"pattern\":{\"fillmode\":\"overlay\",\"size\":10,\"solidity\":0.2}},\"type\":\"bar\"}],\"scattergeo\":[{\"type\":\"scattergeo\",\"marker\":{\"colorbar\":{\"outlinewidth\":0,\"ticks\":\"\"}}}],\"scatterpolar\":[{\"type\":\"scatterpolar\",\"marker\":{\"colorbar\":{\"outlinewidth\":0,\"ticks\":\"\"}}}],\"histogram\":[{\"marker\":{\"pattern\":{\"fillmode\":\"overlay\",\"size\":10,\"solidity\":0.2}},\"type\":\"histogram\"}],\"scattergl\":[{\"type\":\"scattergl\",\"marker\":{\"colorbar\":{\"outlinewidth\":0,\"ticks\":\"\"}}}],\"scatter3d\":[{\"type\":\"scatter3d\",\"line\":{\"colorbar\":{\"outlinewidth\":0,\"ticks\":\"\"}},\"marker\":{\"colorbar\":{\"outlinewidth\":0,\"ticks\":\"\"}}}],\"scattermapbox\":[{\"type\":\"scattermapbox\",\"marker\":{\"colorbar\":{\"outlinewidth\":0,\"ticks\":\"\"}}}],\"scatterternary\":[{\"type\":\"scatterternary\",\"marker\":{\"colorbar\":{\"outlinewidth\":0,\"ticks\":\"\"}}}],\"scattercarpet\":[{\"type\":\"scattercarpet\",\"marker\":{\"colorbar\":{\"outlinewidth\":0,\"ticks\":\"\"}}}],\"carpet\":[{\"aaxis\":{\"endlinecolor\":\"#2a3f5f\",\"gridcolor\":\"white\",\"linecolor\":\"white\",\"minorgridcolor\":\"white\",\"startlinecolor\":\"#2a3f5f\"},\"baxis\":{\"endlinecolor\":\"#2a3f5f\",\"gridcolor\":\"white\",\"linecolor\":\"white\",\"minorgridcolor\":\"white\",\"startlinecolor\":\"#2a3f5f\"},\"type\":\"carpet\"}],\"table\":[{\"cells\":{\"fill\":{\"color\":\"#EBF0F8\"},\"line\":{\"color\":\"white\"}},\"header\":{\"fill\":{\"color\":\"#C8D4E3\"},\"line\":{\"color\":\"white\"}},\"type\":\"table\"}],\"barpolar\":[{\"marker\":{\"line\":{\"color\":\"#E5ECF6\",\"width\":0.5},\"pattern\":{\"fillmode\":\"overlay\",\"size\":10,\"solidity\":0.2}},\"type\":\"barpolar\"}],\"pie\":[{\"automargin\":true,\"type\":\"pie\"}]},\"layout\":{\"autotypenumbers\":\"strict\",\"colorway\":[\"#636efa\",\"#EF553B\",\"#00cc96\",\"#ab63fa\",\"#FFA15A\",\"#19d3f3\",\"#FF6692\",\"#B6E880\",\"#FF97FF\",\"#FECB52\"],\"font\":{\"color\":\"#2a3f5f\"},\"hovermode\":\"closest\",\"hoverlabel\":{\"align\":\"left\"},\"paper_bgcolor\":\"white\",\"plot_bgcolor\":\"#E5ECF6\",\"polar\":{\"bgcolor\":\"#E5ECF6\",\"angularaxis\":{\"gridcolor\":\"white\",\"linecolor\":\"white\",\"ticks\":\"\"},\"radialaxis\":{\"gridcolor\":\"white\",\"linecolor\":\"white\",\"ticks\":\"\"}},\"ternary\":{\"bgcolor\":\"#E5ECF6\",\"aaxis\":{\"gridcolor\":\"white\",\"linecolor\":\"white\",\"ticks\":\"\"},\"baxis\":{\"gridcolor\":\"white\",\"linecolor\":\"white\",\"ticks\":\"\"},\"caxis\":{\"gridcolor\":\"white\",\"linecolor\":\"white\",\"ticks\":\"\"}},\"coloraxis\":{\"colorbar\":{\"outlinewidth\":0,\"ticks\":\"\"}},\"colorscale\":{\"sequential\":[[0.0,\"#0d0887\"],[0.1111111111111111,\"#46039f\"],[0.2222222222222222,\"#7201a8\"],[0.3333333333333333,\"#9c179e\"],[0.4444444444444444,\"#bd3786\"],[0.5555555555555556,\"#d8576b\"],[0.6666666666666666,\"#ed7953\"],[0.7777777777777778,\"#fb9f3a\"],[0.8888888888888888,\"#fdca26\"],[1.0,\"#f0f921\"]],\"sequentialminus\":[[0.0,\"#0d0887\"],[0.1111111111111111,\"#46039f\"],[0.2222222222222222,\"#7201a8\"],[0.3333333333333333,\"#9c179e\"],[0.4444444444444444,\"#bd3786\"],[0.5555555555555556,\"#d8576b\"],[0.6666666666666666,\"#ed7953\"],[0.7777777777777778,\"#fb9f3a\"],[0.8888888888888888,\"#fdca26\"],[1.0,\"#f0f921\"]],\"diverging\":[[0,\"#8e0152\"],[0.1,\"#c51b7d\"],[0.2,\"#de77ae\"],[0.3,\"#f1b6da\"],[0.4,\"#fde0ef\"],[0.5,\"#f7f7f7\"],[0.6,\"#e6f5d0\"],[0.7,\"#b8e186\"],[0.8,\"#7fbc41\"],[0.9,\"#4d9221\"],[1,\"#276419\"]]},\"xaxis\":{\"gridcolor\":\"white\",\"linecolor\":\"white\",\"ticks\":\"\",\"title\":{\"standoff\":15},\"zerolinecolor\":\"white\",\"automargin\":true,\"zerolinewidth\":2},\"yaxis\":{\"gridcolor\":\"white\",\"linecolor\":\"white\",\"ticks\":\"\",\"title\":{\"standoff\":15},\"zerolinecolor\":\"white\",\"automargin\":true,\"zerolinewidth\":2},\"scene\":{\"xaxis\":{\"backgroundcolor\":\"#E5ECF6\",\"gridcolor\":\"white\",\"linecolor\":\"white\",\"showbackground\":true,\"ticks\":\"\",\"zerolinecolor\":\"white\",\"gridwidth\":2},\"yaxis\":{\"backgroundcolor\":\"#E5ECF6\",\"gridcolor\":\"white\",\"linecolor\":\"white\",\"showbackground\":true,\"ticks\":\"\",\"zerolinecolor\":\"white\",\"gridwidth\":2},\"zaxis\":{\"backgroundcolor\":\"#E5ECF6\",\"gridcolor\":\"white\",\"linecolor\":\"white\",\"showbackground\":true,\"ticks\":\"\",\"zerolinecolor\":\"white\",\"gridwidth\":2}},\"shapedefaults\":{\"line\":{\"color\":\"#2a3f5f\"}},\"annotationdefaults\":{\"arrowcolor\":\"#2a3f5f\",\"arrowhead\":0,\"arrowwidth\":1},\"geo\":{\"bgcolor\":\"white\",\"landcolor\":\"#E5ECF6\",\"subunitcolor\":\"white\",\"showland\":true,\"showlakes\":true,\"lakecolor\":\"white\"},\"title\":{\"x\":0.05},\"mapbox\":{\"style\":\"light\"}}},\"title\":{\"text\":\"Flow of Data Points from 2 to 7 Clusters\"},\"font\":{\"size\":10}},                        {\"responsive\": true}                    ).then(function(){\n",
       "                            \n",
       "var gd = document.getElementById('0389af37-ca63-46ca-b184-80d70f94c6dd');\n",
       "var x = new MutationObserver(function (mutations, observer) {{\n",
       "        var display = window.getComputedStyle(gd).display;\n",
       "        if (!display || display === 'none') {{\n",
       "            console.log([gd, 'removed!']);\n",
       "            Plotly.purge(gd);\n",
       "            observer.disconnect();\n",
       "        }}\n",
       "}});\n",
       "\n",
       "// Listen for the removal of the full notebook cells\n",
       "var notebookContainer = gd.closest('#notebook-container');\n",
       "if (notebookContainer) {{\n",
       "    x.observe(notebookContainer, {childList: true});\n",
       "}}\n",
       "\n",
       "// Listen for the clearing of the current output cell\n",
       "var outputEl = gd.closest('.output');\n",
       "if (outputEl) {{\n",
       "    x.observe(outputEl, {childList: true});\n",
       "}}\n",
       "\n",
       "                        })                };                });            </script>        </div>"
      ]
     },
     "metadata": {},
     "output_type": "display_data"
    }
   ],
   "source": [
    "import pandas as pd\n",
    "from sklearn.cluster import KMeans\n",
    "from sklearn.preprocessing import StandardScaler\n",
    "import plotly.graph_objects as go\n",
    "\n",
    "# Standardize the data\n",
    "scaler = StandardScaler()\n",
    "data_scaled = scaler.fit_transform(trends_matrix)\n",
    "\n",
    "# Dictionary to store cluster labels for each k\n",
    "cluster_labels = {}\n",
    "for k in range(2, 8):  # Clustering from 2 to 7 clusters\n",
    "    kmeans = KMeans(n_clusters=k, random_state=42)\n",
    "    cluster_labels[k] = kmeans.fit_predict(data_scaled)\n",
    "\n",
    "# Prepare transition data for Sankey diagram\n",
    "sources = []\n",
    "targets = []\n",
    "values = []\n",
    "label_list = []\n",
    "\n",
    "# Iterate through pairs of consecutive clusterings\n",
    "for k in range(2, 7):\n",
    "    # Create a DataFrame to track transitions between k and k+1\n",
    "    df_transition = pd.DataFrame({\n",
    "        f'Cluster_{k}': cluster_labels[k],\n",
    "        f'Cluster_{k+1}': cluster_labels[k+1]\n",
    "    })\n",
    "    # Count transitions between clusters\n",
    "    transition_counts = df_transition.groupby([f'Cluster_{k}', f'Cluster_{k+1}']).size().reset_index(name='count')\n",
    "    \n",
    "    for _, row in transition_counts.iterrows():\n",
    "        sources.append(row[f'Cluster_{k}'] + sum(range(2, k)))  # Unique source ID\n",
    "        targets.append(row[f'Cluster_{k+1}'] + sum(range(2, k + 1)))  # Unique target ID\n",
    "        values.append(row['count'])\n",
    "\n",
    "# Define labels for each node\n",
    "label_list = [f\"{k}clusters_{i+1}\" for k in range(2, 8) for i in range(k)]\n",
    "\n",
    "# Create the Sankey diagram\n",
    "fig = go.Figure(go.Sankey(\n",
    "    node=dict(\n",
    "        pad=15,\n",
    "        thickness=20,\n",
    "        line=dict(color=\"black\", width=0.5),\n",
    "        label=label_list,\n",
    "    ),\n",
    "    link=dict(\n",
    "        source=sources,\n",
    "        target=targets,\n",
    "        value=values\n",
    "    )\n",
    "))\n",
    "\n",
    "fig.update_layout(title_text=\"Flow of Data Points from 2 to 7 Clusters\", font_size=10)\n",
    "fig.show()\n"
   ]
  },
  {
   "cell_type": "code",
   "execution_count": 13,
   "id": "1bcfb7d9-b3cd-4ae0-988d-7351b89fabc7",
   "metadata": {},
   "outputs": [
    {
     "name": "stdout",
     "output_type": "stream",
     "text": [
      "Cluster_1 data:\n",
      "         x       y\n",
      "48  82.875  27.375\n",
      "49  83.125  27.375\n",
      "50  83.375  27.375\n",
      "51  83.625  27.375\n",
      "52  83.875  27.375\n",
      "Cluster_2 data:\n",
      "         x       y\n",
      "19  84.875  26.875\n",
      "20  85.125  26.875\n",
      "33  84.625  27.125\n",
      "34  84.875  27.125\n",
      "35  85.125  27.125\n",
      "Cluster_3 data:\n",
      "         x       y\n",
      "17  87.875  26.625\n",
      "18  88.125  26.625\n",
      "30  87.625  26.875\n",
      "31  87.875  26.875\n",
      "32  88.125  26.875\n",
      "Cluster_4 data:\n",
      "          x       y\n",
      "153  83.375  28.375\n",
      "154  83.625  28.375\n",
      "155  83.875  28.375\n",
      "174  83.125  28.625\n",
      "175  83.375  28.625\n",
      "Cluster_5 data:\n",
      "          x       y\n",
      "221  80.375  29.375\n",
      "222  80.625  29.375\n",
      "223  80.875  29.375\n",
      "237  80.375  29.625\n",
      "238  80.625  29.625\n",
      "Cluster_6 data:\n",
      "        x       y\n",
      "0  86.625  26.375\n",
      "1  86.875  26.375\n",
      "2  87.125  26.375\n",
      "3  87.375  26.375\n",
      "4  87.625  26.375\n",
      "Cluster_7 data:\n",
      "          x       y\n",
      "143  80.875  28.375\n",
      "163  80.375  28.625\n",
      "164  80.625  28.625\n",
      "165  80.875  28.625\n",
      "183  80.125  28.875\n",
      "Cluster_8 data:\n",
      "Empty DataFrame\n",
      "Columns: [x, y]\n",
      "Index: []\n"
     ]
    },
    {
     "name": "stderr",
     "output_type": "stream",
     "text": [
      "C:\\Users\\Hp\\anaconda3\\Lib\\site-packages\\sklearn\\cluster\\_kmeans.py:1446: UserWarning: KMeans is known to have a memory leak on Windows with MKL, when there are less chunks than available threads. You can avoid it by setting the environment variable OMP_NUM_THREADS=2.\n",
      "  warnings.warn(\n"
     ]
    },
    {
     "data": {
      "text/plain": [
       "{'Cluster_1':           x       y\n",
       " 48   82.875  27.375\n",
       " 49   83.125  27.375\n",
       " 50   83.375  27.375\n",
       " 51   83.625  27.375\n",
       " 52   83.875  27.375\n",
       " ..      ...     ...\n",
       " 209  81.875  29.125\n",
       " 224  81.125  29.375\n",
       " 225  81.375  29.375\n",
       " 226  81.625  29.375\n",
       " 227  81.875  29.375\n",
       " \n",
       " [90 rows x 2 columns],\n",
       " 'Cluster_2':           x       y\n",
       " 19   84.875  26.875\n",
       " 20   85.125  26.875\n",
       " 33   84.625  27.125\n",
       " 34   84.875  27.125\n",
       " 35   85.125  27.125\n",
       " 36   85.375  27.125\n",
       " 37   85.625  27.125\n",
       " 38   85.875  27.125\n",
       " 39   86.125  27.125\n",
       " 54   84.375  27.375\n",
       " 55   84.625  27.375\n",
       " 56   84.875  27.375\n",
       " 57   85.125  27.375\n",
       " 58   85.375  27.375\n",
       " 59   85.625  27.375\n",
       " 60   85.875  27.375\n",
       " 61   86.125  27.375\n",
       " 62   86.375  27.375\n",
       " 63   86.625  27.375\n",
       " 64   86.875  27.375\n",
       " 65   87.125  27.375\n",
       " 78   84.375  27.625\n",
       " 81   85.125  27.625\n",
       " 82   85.375  27.625\n",
       " 83   85.625  27.625\n",
       " 84   85.875  27.625\n",
       " 85   86.125  27.625\n",
       " 86   86.375  27.625\n",
       " 87   86.625  27.625\n",
       " 88   86.875  27.625\n",
       " 89   87.125  27.625\n",
       " 90   87.375  27.625\n",
       " 92   87.875  27.625\n",
       " 93   88.125  27.625\n",
       " 109  85.375  27.875\n",
       " 110  85.625  27.875\n",
       " 111  85.875  27.875\n",
       " 112  86.125  27.875\n",
       " 113  86.375  27.875\n",
       " 114  86.625  27.875\n",
       " 115  86.875  27.875\n",
       " 116  87.125  27.875\n",
       " 117  87.375  27.875\n",
       " 118  87.625  27.875\n",
       " 119  87.875  27.875\n",
       " 120  88.125  27.875\n",
       " 141  86.625  28.125\n",
       " 142  86.875  28.125,\n",
       " 'Cluster_3':          x       y\n",
       " 17  87.875  26.625\n",
       " 18  88.125  26.625\n",
       " 30  87.625  26.875\n",
       " 31  87.875  26.875\n",
       " 32  88.125  26.875\n",
       " 44  87.375  27.125\n",
       " 45  87.625  27.125\n",
       " 46  87.875  27.125\n",
       " 47  88.125  27.125\n",
       " 66  87.375  27.375\n",
       " 67  87.625  27.375\n",
       " 68  87.875  27.375\n",
       " 69  88.125  27.375\n",
       " 91  87.625  27.625,\n",
       " 'Cluster_4':           x       y\n",
       " 153  83.375  28.375\n",
       " 154  83.625  28.375\n",
       " 155  83.875  28.375\n",
       " 174  83.125  28.625\n",
       " 175  83.375  28.625\n",
       " ..      ...     ...\n",
       " 271  81.125  30.375\n",
       " 272  81.375  30.375\n",
       " 273  81.625  30.375\n",
       " 274  81.875  30.375\n",
       " 275  82.125  30.375\n",
       " \n",
       " [69 rows x 2 columns],\n",
       " 'Cluster_5':           x       y\n",
       " 221  80.375  29.375\n",
       " 222  80.625  29.375\n",
       " 223  80.875  29.375\n",
       " 237  80.375  29.625\n",
       " 238  80.625  29.625\n",
       " 239  80.875  29.625\n",
       " 240  81.125  29.625\n",
       " 250  80.375  29.875\n",
       " 251  80.625  29.875\n",
       " 252  80.875  29.875\n",
       " 253  81.125  29.875\n",
       " 261  80.625  30.125\n",
       " 262  80.875  30.125,\n",
       " 'Cluster_6':          x       y\n",
       " 0   86.625  26.375\n",
       " 1   86.875  26.375\n",
       " 2   87.125  26.375\n",
       " 3   87.375  26.375\n",
       " 4   87.625  26.375\n",
       " 5   87.875  26.375\n",
       " 6   88.125  26.375\n",
       " 7   85.375  26.625\n",
       " 8   85.625  26.625\n",
       " 9   85.875  26.625\n",
       " 10  86.125  26.625\n",
       " 11  86.375  26.625\n",
       " 12  86.625  26.625\n",
       " 13  86.875  26.625\n",
       " 14  87.125  26.625\n",
       " 15  87.375  26.625\n",
       " 16  87.625  26.625\n",
       " 21  85.375  26.875\n",
       " 22  85.625  26.875\n",
       " 23  85.875  26.875\n",
       " 24  86.125  26.875\n",
       " 25  86.375  26.875\n",
       " 26  86.625  26.875\n",
       " 27  86.875  26.875\n",
       " 28  87.125  26.875\n",
       " 29  87.375  26.875\n",
       " 40  86.375  27.125\n",
       " 41  86.625  27.125\n",
       " 42  86.875  27.125\n",
       " 43  87.125  27.125,\n",
       " 'Cluster_7':           x       y\n",
       " 143  80.875  28.375\n",
       " 163  80.375  28.625\n",
       " 164  80.625  28.625\n",
       " 165  80.875  28.625\n",
       " 183  80.125  28.875\n",
       " 184  80.375  28.875\n",
       " 185  80.625  28.875\n",
       " 186  80.875  28.875\n",
       " 202  80.125  29.125\n",
       " 203  80.375  29.125\n",
       " 204  80.625  29.125\n",
       " 220  80.125  29.375,\n",
       " 'Cluster_8': Empty DataFrame\n",
       " Columns: [x, y]\n",
       " Index: []}"
      ]
     },
     "execution_count": 13,
     "metadata": {},
     "output_type": "execute_result"
    }
   ],
   "source": [
    "import pandas as pd\n",
    "n_clusters = 7\n",
    "# Fit KMeans with the chosen number of clusters (5)\n",
    "kmeans = KMeans(n_clusters, random_state=42)\n",
    "clusters = kmeans.fit_predict(data_scaled)\n",
    "\n",
    "# Assuming your original data is in a DataFrame called trends_df with columns 'x' and 'y'\n",
    "trends_df['Cluster'] = clusters\n",
    "\n",
    "# Extract the values of x and y for each cluster\n",
    "clustered_data = {}\n",
    "for i in range(n_clusters+1):  # Loop over each cluster\n",
    "    clustered_data[f'Cluster_{i+1}'] = trends_df[trends_df['Cluster'] == i][['x', 'y']]\n",
    "\n",
    "# Display or process the clustered data for each cluster\n",
    "for cluster, data in clustered_data.items():\n",
    "    print(f\"{cluster} data:\")\n",
    "    print(data.head())\n",
    "\n",
    "clustered_data"
   ]
  },
  {
   "cell_type": "code",
   "execution_count": 51,
   "id": "7848ea07-ce27-458f-ae5a-c9cbf409d056",
   "metadata": {},
   "outputs": [
    {
     "data": {
      "text/html": [
       "<div>\n",
       "<style scoped>\n",
       "    .dataframe tbody tr th:only-of-type {\n",
       "        vertical-align: middle;\n",
       "    }\n",
       "\n",
       "    .dataframe tbody tr th {\n",
       "        vertical-align: top;\n",
       "    }\n",
       "\n",
       "    .dataframe thead th {\n",
       "        text-align: right;\n",
       "    }\n",
       "</style>\n",
       "<table border=\"1\" class=\"dataframe\">\n",
       "  <thead>\n",
       "    <tr style=\"text-align: right;\">\n",
       "      <th></th>\n",
       "      <th>x</th>\n",
       "      <th>y</th>\n",
       "      <th>trend_0</th>\n",
       "      <th>trend_1</th>\n",
       "      <th>trend_2</th>\n",
       "      <th>trend_3</th>\n",
       "      <th>trend_4</th>\n",
       "      <th>trend_5</th>\n",
       "      <th>trend_6</th>\n",
       "      <th>trend_7</th>\n",
       "      <th>...</th>\n",
       "      <th>trend_141</th>\n",
       "      <th>trend_142</th>\n",
       "      <th>trend_143</th>\n",
       "      <th>trend_144</th>\n",
       "      <th>trend_145</th>\n",
       "      <th>trend_146</th>\n",
       "      <th>trend_147</th>\n",
       "      <th>trend_148</th>\n",
       "      <th>trend_149</th>\n",
       "      <th>Cluster</th>\n",
       "    </tr>\n",
       "  </thead>\n",
       "  <tbody>\n",
       "    <tr>\n",
       "      <th>0</th>\n",
       "      <td>86.625</td>\n",
       "      <td>26.375</td>\n",
       "      <td>17.045785</td>\n",
       "      <td>16.717641</td>\n",
       "      <td>16.389498</td>\n",
       "      <td>16.061355</td>\n",
       "      <td>15.733212</td>\n",
       "      <td>15.405069</td>\n",
       "      <td>14.568681</td>\n",
       "      <td>13.893599</td>\n",
       "      <td>...</td>\n",
       "      <td>-16.959230</td>\n",
       "      <td>-16.226776</td>\n",
       "      <td>-16.759519</td>\n",
       "      <td>-18.514779</td>\n",
       "      <td>-18.760486</td>\n",
       "      <td>-19.006193</td>\n",
       "      <td>-19.251900</td>\n",
       "      <td>-19.497607</td>\n",
       "      <td>-19.743314</td>\n",
       "      <td>5</td>\n",
       "    </tr>\n",
       "    <tr>\n",
       "      <th>1</th>\n",
       "      <td>86.875</td>\n",
       "      <td>26.375</td>\n",
       "      <td>17.045785</td>\n",
       "      <td>16.717641</td>\n",
       "      <td>16.389498</td>\n",
       "      <td>16.061355</td>\n",
       "      <td>15.733212</td>\n",
       "      <td>15.405069</td>\n",
       "      <td>14.568681</td>\n",
       "      <td>13.893599</td>\n",
       "      <td>...</td>\n",
       "      <td>-16.959230</td>\n",
       "      <td>-16.226776</td>\n",
       "      <td>-16.759519</td>\n",
       "      <td>-18.514779</td>\n",
       "      <td>-18.760486</td>\n",
       "      <td>-19.006193</td>\n",
       "      <td>-19.251900</td>\n",
       "      <td>-19.497607</td>\n",
       "      <td>-19.743314</td>\n",
       "      <td>5</td>\n",
       "    </tr>\n",
       "    <tr>\n",
       "      <th>2</th>\n",
       "      <td>87.125</td>\n",
       "      <td>26.375</td>\n",
       "      <td>17.045785</td>\n",
       "      <td>16.717641</td>\n",
       "      <td>16.389498</td>\n",
       "      <td>16.061355</td>\n",
       "      <td>15.733212</td>\n",
       "      <td>15.405069</td>\n",
       "      <td>14.568681</td>\n",
       "      <td>13.893599</td>\n",
       "      <td>...</td>\n",
       "      <td>-16.959230</td>\n",
       "      <td>-16.226776</td>\n",
       "      <td>-16.759519</td>\n",
       "      <td>-18.514779</td>\n",
       "      <td>-18.760486</td>\n",
       "      <td>-19.006193</td>\n",
       "      <td>-19.251900</td>\n",
       "      <td>-19.497607</td>\n",
       "      <td>-19.743314</td>\n",
       "      <td>5</td>\n",
       "    </tr>\n",
       "    <tr>\n",
       "      <th>3</th>\n",
       "      <td>87.375</td>\n",
       "      <td>26.375</td>\n",
       "      <td>13.779054</td>\n",
       "      <td>13.711571</td>\n",
       "      <td>13.644088</td>\n",
       "      <td>13.576605</td>\n",
       "      <td>13.509122</td>\n",
       "      <td>13.441639</td>\n",
       "      <td>12.620054</td>\n",
       "      <td>12.347976</td>\n",
       "      <td>...</td>\n",
       "      <td>-17.689272</td>\n",
       "      <td>-15.257524</td>\n",
       "      <td>-15.371618</td>\n",
       "      <td>-18.827766</td>\n",
       "      <td>-18.856949</td>\n",
       "      <td>-18.886132</td>\n",
       "      <td>-18.915315</td>\n",
       "      <td>-18.944498</td>\n",
       "      <td>-18.973681</td>\n",
       "      <td>5</td>\n",
       "    </tr>\n",
       "    <tr>\n",
       "      <th>4</th>\n",
       "      <td>87.625</td>\n",
       "      <td>26.375</td>\n",
       "      <td>13.779054</td>\n",
       "      <td>13.711571</td>\n",
       "      <td>13.644088</td>\n",
       "      <td>13.576605</td>\n",
       "      <td>13.509122</td>\n",
       "      <td>13.441639</td>\n",
       "      <td>12.620054</td>\n",
       "      <td>12.347976</td>\n",
       "      <td>...</td>\n",
       "      <td>-17.689272</td>\n",
       "      <td>-15.257524</td>\n",
       "      <td>-15.371618</td>\n",
       "      <td>-18.827766</td>\n",
       "      <td>-18.856949</td>\n",
       "      <td>-18.886132</td>\n",
       "      <td>-18.915315</td>\n",
       "      <td>-18.944498</td>\n",
       "      <td>-18.973681</td>\n",
       "      <td>5</td>\n",
       "    </tr>\n",
       "    <tr>\n",
       "      <th>...</th>\n",
       "      <td>...</td>\n",
       "      <td>...</td>\n",
       "      <td>...</td>\n",
       "      <td>...</td>\n",
       "      <td>...</td>\n",
       "      <td>...</td>\n",
       "      <td>...</td>\n",
       "      <td>...</td>\n",
       "      <td>...</td>\n",
       "      <td>...</td>\n",
       "      <td>...</td>\n",
       "      <td>...</td>\n",
       "      <td>...</td>\n",
       "      <td>...</td>\n",
       "      <td>...</td>\n",
       "      <td>...</td>\n",
       "      <td>...</td>\n",
       "      <td>...</td>\n",
       "      <td>...</td>\n",
       "      <td>...</td>\n",
       "      <td>...</td>\n",
       "    </tr>\n",
       "    <tr>\n",
       "      <th>271</th>\n",
       "      <td>81.125</td>\n",
       "      <td>30.375</td>\n",
       "      <td>2.402591</td>\n",
       "      <td>2.127865</td>\n",
       "      <td>1.853138</td>\n",
       "      <td>1.578411</td>\n",
       "      <td>1.303684</td>\n",
       "      <td>1.028957</td>\n",
       "      <td>1.177440</td>\n",
       "      <td>0.948145</td>\n",
       "      <td>...</td>\n",
       "      <td>-4.549331</td>\n",
       "      <td>-4.571313</td>\n",
       "      <td>-5.929868</td>\n",
       "      <td>-4.993921</td>\n",
       "      <td>-4.915796</td>\n",
       "      <td>-4.837670</td>\n",
       "      <td>-4.759545</td>\n",
       "      <td>-4.681419</td>\n",
       "      <td>-4.603293</td>\n",
       "      <td>3</td>\n",
       "    </tr>\n",
       "    <tr>\n",
       "      <th>272</th>\n",
       "      <td>81.375</td>\n",
       "      <td>30.375</td>\n",
       "      <td>2.329684</td>\n",
       "      <td>2.128925</td>\n",
       "      <td>1.928167</td>\n",
       "      <td>1.727408</td>\n",
       "      <td>1.526649</td>\n",
       "      <td>1.325891</td>\n",
       "      <td>1.502818</td>\n",
       "      <td>1.320790</td>\n",
       "      <td>...</td>\n",
       "      <td>-14.399450</td>\n",
       "      <td>-14.278629</td>\n",
       "      <td>-15.639720</td>\n",
       "      <td>-17.366341</td>\n",
       "      <td>-18.326782</td>\n",
       "      <td>-19.287223</td>\n",
       "      <td>-20.247664</td>\n",
       "      <td>-21.208105</td>\n",
       "      <td>-22.168546</td>\n",
       "      <td>3</td>\n",
       "    </tr>\n",
       "    <tr>\n",
       "      <th>273</th>\n",
       "      <td>81.625</td>\n",
       "      <td>30.375</td>\n",
       "      <td>2.329684</td>\n",
       "      <td>2.128925</td>\n",
       "      <td>1.928167</td>\n",
       "      <td>1.727408</td>\n",
       "      <td>1.526649</td>\n",
       "      <td>1.325891</td>\n",
       "      <td>1.502818</td>\n",
       "      <td>1.320790</td>\n",
       "      <td>...</td>\n",
       "      <td>-14.399450</td>\n",
       "      <td>-14.278629</td>\n",
       "      <td>-15.639720</td>\n",
       "      <td>-17.366341</td>\n",
       "      <td>-18.326782</td>\n",
       "      <td>-19.287223</td>\n",
       "      <td>-20.247664</td>\n",
       "      <td>-21.208105</td>\n",
       "      <td>-22.168546</td>\n",
       "      <td>3</td>\n",
       "    </tr>\n",
       "    <tr>\n",
       "      <th>274</th>\n",
       "      <td>81.875</td>\n",
       "      <td>30.375</td>\n",
       "      <td>2.329684</td>\n",
       "      <td>2.128925</td>\n",
       "      <td>1.928167</td>\n",
       "      <td>1.727408</td>\n",
       "      <td>1.526649</td>\n",
       "      <td>1.325891</td>\n",
       "      <td>1.502818</td>\n",
       "      <td>1.320790</td>\n",
       "      <td>...</td>\n",
       "      <td>-14.399450</td>\n",
       "      <td>-14.278629</td>\n",
       "      <td>-15.639720</td>\n",
       "      <td>-17.366341</td>\n",
       "      <td>-18.326782</td>\n",
       "      <td>-19.287223</td>\n",
       "      <td>-20.247664</td>\n",
       "      <td>-21.208105</td>\n",
       "      <td>-22.168546</td>\n",
       "      <td>3</td>\n",
       "    </tr>\n",
       "    <tr>\n",
       "      <th>275</th>\n",
       "      <td>82.125</td>\n",
       "      <td>30.375</td>\n",
       "      <td>2.329684</td>\n",
       "      <td>2.128925</td>\n",
       "      <td>1.928167</td>\n",
       "      <td>1.727408</td>\n",
       "      <td>1.526649</td>\n",
       "      <td>1.325891</td>\n",
       "      <td>1.502818</td>\n",
       "      <td>1.320790</td>\n",
       "      <td>...</td>\n",
       "      <td>-14.399450</td>\n",
       "      <td>-14.278629</td>\n",
       "      <td>-15.639720</td>\n",
       "      <td>-17.366341</td>\n",
       "      <td>-18.326782</td>\n",
       "      <td>-19.287223</td>\n",
       "      <td>-20.247664</td>\n",
       "      <td>-21.208105</td>\n",
       "      <td>-22.168546</td>\n",
       "      <td>3</td>\n",
       "    </tr>\n",
       "  </tbody>\n",
       "</table>\n",
       "<p>276 rows × 153 columns</p>\n",
       "</div>"
      ],
      "text/plain": [
       "          x       y    trend_0    trend_1    trend_2    trend_3    trend_4  \\\n",
       "0    86.625  26.375  17.045785  16.717641  16.389498  16.061355  15.733212   \n",
       "1    86.875  26.375  17.045785  16.717641  16.389498  16.061355  15.733212   \n",
       "2    87.125  26.375  17.045785  16.717641  16.389498  16.061355  15.733212   \n",
       "3    87.375  26.375  13.779054  13.711571  13.644088  13.576605  13.509122   \n",
       "4    87.625  26.375  13.779054  13.711571  13.644088  13.576605  13.509122   \n",
       "..      ...     ...        ...        ...        ...        ...        ...   \n",
       "271  81.125  30.375   2.402591   2.127865   1.853138   1.578411   1.303684   \n",
       "272  81.375  30.375   2.329684   2.128925   1.928167   1.727408   1.526649   \n",
       "273  81.625  30.375   2.329684   2.128925   1.928167   1.727408   1.526649   \n",
       "274  81.875  30.375   2.329684   2.128925   1.928167   1.727408   1.526649   \n",
       "275  82.125  30.375   2.329684   2.128925   1.928167   1.727408   1.526649   \n",
       "\n",
       "       trend_5    trend_6    trend_7  ...  trend_141  trend_142  trend_143  \\\n",
       "0    15.405069  14.568681  13.893599  ... -16.959230 -16.226776 -16.759519   \n",
       "1    15.405069  14.568681  13.893599  ... -16.959230 -16.226776 -16.759519   \n",
       "2    15.405069  14.568681  13.893599  ... -16.959230 -16.226776 -16.759519   \n",
       "3    13.441639  12.620054  12.347976  ... -17.689272 -15.257524 -15.371618   \n",
       "4    13.441639  12.620054  12.347976  ... -17.689272 -15.257524 -15.371618   \n",
       "..         ...        ...        ...  ...        ...        ...        ...   \n",
       "271   1.028957   1.177440   0.948145  ...  -4.549331  -4.571313  -5.929868   \n",
       "272   1.325891   1.502818   1.320790  ... -14.399450 -14.278629 -15.639720   \n",
       "273   1.325891   1.502818   1.320790  ... -14.399450 -14.278629 -15.639720   \n",
       "274   1.325891   1.502818   1.320790  ... -14.399450 -14.278629 -15.639720   \n",
       "275   1.325891   1.502818   1.320790  ... -14.399450 -14.278629 -15.639720   \n",
       "\n",
       "     trend_144  trend_145  trend_146  trend_147  trend_148  trend_149  Cluster  \n",
       "0   -18.514779 -18.760486 -19.006193 -19.251900 -19.497607 -19.743314        5  \n",
       "1   -18.514779 -18.760486 -19.006193 -19.251900 -19.497607 -19.743314        5  \n",
       "2   -18.514779 -18.760486 -19.006193 -19.251900 -19.497607 -19.743314        5  \n",
       "3   -18.827766 -18.856949 -18.886132 -18.915315 -18.944498 -18.973681        5  \n",
       "4   -18.827766 -18.856949 -18.886132 -18.915315 -18.944498 -18.973681        5  \n",
       "..         ...        ...        ...        ...        ...        ...      ...  \n",
       "271  -4.993921  -4.915796  -4.837670  -4.759545  -4.681419  -4.603293        3  \n",
       "272 -17.366341 -18.326782 -19.287223 -20.247664 -21.208105 -22.168546        3  \n",
       "273 -17.366341 -18.326782 -19.287223 -20.247664 -21.208105 -22.168546        3  \n",
       "274 -17.366341 -18.326782 -19.287223 -20.247664 -21.208105 -22.168546        3  \n",
       "275 -17.366341 -18.326782 -19.287223 -20.247664 -21.208105 -22.168546        3  \n",
       "\n",
       "[276 rows x 153 columns]"
      ]
     },
     "execution_count": 51,
     "metadata": {},
     "output_type": "execute_result"
    }
   ],
   "source": [
    "#trends_df.to_csv('D:/Masters/Thesis_New/trends_data2.csv', index=False)\n",
    "trends_df"
   ]
  },
  {
   "cell_type": "code",
   "execution_count": 15,
   "id": "ab02a9d7-49bc-441c-826e-0c29bc3a0329",
   "metadata": {},
   "outputs": [],
   "source": [
    "import pandas as pd\n",
    "import geopandas as gpd\n",
    "from shapely.geometry import Point\n",
    "\n",
    "# Assuming df is your dataframe with x, y, and cluster columns\n",
    "for cluster in range(n_clusters):\n",
    "    # Filter data for each cluster\n",
    "    cluster_data = trends_df[trends_df['Cluster'] == cluster]\n",
    "    \n",
    "    # Convert to a GeoDataFrame\n",
    "    geometry = [Point(xy) for xy in zip(cluster_data['x'], cluster_data['y'])]\n",
    "    gdf = gpd.GeoDataFrame(cluster_data, geometry=geometry)\n",
    "    \n",
    "    # Define the CRS if known (e.g., 'EPSG:4326' for WGS 84)\n",
    "    gdf.set_crs(\"EPSG:4326\", inplace=True) \n",
    "\n",
    "    # Export to shapefile\n",
    "    gdf.to_file(f\"D:/Masters/Thesis_New/Cluster/cluster_{cluster}.shp\")\n"
   ]
  },
  {
   "cell_type": "code",
   "execution_count": 57,
   "id": "ae0cb16f-7153-404b-805b-613d4442c14a",
   "metadata": {},
   "outputs": [
    {
     "data": {
      "image/png": "[encoded data removed]",
      "text/plain": [
       "<Figure size 1000x600 with 1 Axes>"
      ]
     },
     "metadata": {},
     "output_type": "display_data"
    }
   ],
   "source": [
    "import numpy as np\n",
    "import matplotlib.pyplot as plt\n",
    "\n",
    "# Assuming 'trends_matrix' contains the trend data with each row as a time series for each point\n",
    "# and 'clusters' contains the cluster label for each row in 'trends_matrix'\n",
    "\n",
    "# Initialize a dictionary to store the median trend for each cluster\n",
    "median_trends = {}\n",
    "\n",
    "# Calculate the median trend for each cluster\n",
    "for i in range(n_clusters):  # Loop over each cluster (0 to 4 if cluster labels are 0-based)\n",
    "    cluster_data = trends_matrix[clusters == i]  # Extract time series data for the cluster\n",
    "    median_trends[f'Cluster_{i+1}'] = np.median(cluster_data, axis=0)  # Median across rows (time series)\n",
    "\n",
    "# Plot the median trends for each cluster\n",
    "plt.figure(figsize=(10, 6))\n",
    "for cluster, median_trend in median_trends.items():\n",
    "    plt.plot(median_trend, label=cluster)  # Plot median trend of each cluster\n",
    "\n",
    "plt.xlabel(\"Time\")\n",
    "plt.ylabel(\"Median Trend Value\")\n",
    "plt.title(\"Median Trend for Each Cluster\")\n",
    "plt.legend()\n",
    "plt.grid(True)\n",
    "plt.show()\n"
   ]
  },
  {
   "cell_type": "code",
   "execution_count": 38,
   "id": "52ce63f6-5ff5-47f6-a0ac-4e6d21964bf8",
   "metadata": {},
   "outputs": [
    {
     "name": "stdout",
     "output_type": "stream",
     "text": [
      "Clipped NetCDF file saved to: D:\\Masters\\Thesis_New\\Cluster\\GRACE_Clipped_Nepal.nc\n"
     ]
    }
   ],
   "source": [
    "import xarray as xr\n",
    "import geopandas as gpd\n",
    "import rioxarray\n",
    "\n",
    "# Paths to the files\n",
    "file_path_nc = r\"D:\\Masters\\Thesis\\Data\\GRACE_Clipped_converted.nc\"\n",
    "shp_path = r\"D:\\Masters\\Thesis_New\\Cluster\\cluster_2.shp\"\n",
    "output_nc_path = r\"D:\\Masters\\Thesis_New\\Cluster\\GRACE_Clipped_Nepal.nc\"\n",
    "\n",
    "# Load the shapefile\n",
    "nepal_shp = gpd.read_file(shp_path)\n",
    "nepal_shp = nepal_shp.set_crs('epsg:4326')  # Ensure CRS is set to EPSG:4326\n",
    "\n",
    "# Load the NetCDF file\n",
    "ds = xr.open_dataset(file_path_nc)\n",
    "\n",
    "# Assign CRS to the dataset (assuming EPSG:4326 for simplicity; change if needed)\n",
    "ds = ds.rio.write_crs(\"EPSG:4326\", inplace=True)\n",
    "ds = ds.drop_vars('time_bounds')\n",
    "ds = ds.rio.write_crs('epsg:4326')\n",
    "ds = ds.rename({'lon':'x','lat':'y'})\n",
    "\n",
    "# Clip the dataset with the shapefile\n",
    "clipped_ds = ds.rio.clip(nepal_shp.geometry, nepal_shp.crs)\n",
    "\n",
    "# Export the clipped dataset to a new NetCDF file\n",
    "clipped_ds.to_netcdf(output_nc_path)\n",
    "print(f\"Clipped NetCDF file saved to: {output_nc_path}\")\n"
   ]
  },
  {
   "cell_type": "code",
   "execution_count": null,
   "id": "49e0049c-9a10-417a-baa0-76ab14eb44fa",
   "metadata": {},
   "outputs": [],
   "source": []
  }
 ],
 "metadata": {
  "kernelspec": {
   "display_name": "Python 3 (ipykernel)",
   "language": "python",
   "name": "python3"
  },
  "language_info": {
   "codemirror_mode": {
    "name": "ipython",
    "version": 3
   },
   "file_extension": ".py",
   "mimetype": "text/x-python",
   "name": "python",
   "nbconvert_exporter": "python",
   "pygments_lexer": "ipython3",
   "version": "3.12.4"
  }
 },
 "nbformat": 4,
 "nbformat_minor": 5
}
