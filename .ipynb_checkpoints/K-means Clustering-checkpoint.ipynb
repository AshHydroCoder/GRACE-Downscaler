{
 "cells": [
  {
   "cell_type": "code",
   "execution_count": 1,
   "id": "97261511-a2bf-41ee-bb9a-c1813e9f54ba",
   "metadata": {},
   "outputs": [],
   "source": [
    "from statsmodels.tsa.seasonal import seasonal_decompose"
   ]
  },
  {
   "cell_type": "code",
   "execution_count": 3,
   "id": "88339659-735f-4da1-a104-7725657c432b",
   "metadata": {},
   "outputs": [
    {
     "name": "stderr",
     "output_type": "stream",
     "text": [
      "<>:7: SyntaxWarning: invalid escape sequence '\\M'\n",
      "<>:7: SyntaxWarning: invalid escape sequence '\\M'\n",
      "C:\\Users\\Hp\\AppData\\Local\\Temp\\ipykernel_6360\\3576907819.py:7: SyntaxWarning: invalid escape sequence '\\M'\n",
      "  file_path_nc = \"D:\\Masters\\Thesis\\Data\\GRACE_Clipped_converted.nc\"\n",
      "C:\\Users\\Hp\\anaconda3\\Lib\\site-packages\\paramiko\\transport.py:219: CryptographyDeprecationWarning: Blowfish has been deprecated and will be removed in a future release\n",
      "  \"class\": algorithms.Blowfish,\n"
     ]
    }
   ],
   "source": [
    "import numpy as np\n",
    "from numpy import *\n",
    "import xarray as xr\n",
    "import metpy\n",
    "import pandas as pd\n",
    "import geopandas as gpd\n",
    "file_path_nc = \"D:\\Masters\\Thesis\\Data\\GRACE_Clipped_converted.nc\"\n",
    "G_dataset = xr.open_dataset(file_path_nc)\n",
    "G_dataset = G_dataset.rename({'lon':'x','lat':'y'})\n",
    "G_dataset = G_dataset.drop_vars('time_bounds')\n",
    "G_dataset = G_dataset.rio.write_crs('epsg:4326')\n",
    "G_dataset = G_dataset.sel(time=slice('2003-02-01','2016-12-31'))\n",
    "nepal_shp = gpd.read_file(\"D:/Masters/Thesis/Nepal Shape/Study Area.shp\")\n",
    "nepal_shp = nepal_shp.set_crs('epsg:4326')\n",
    "GR_Clip = G_dataset.rio.clip(nepal_shp.geometry,all_touched=True)"
   ]
  },
  {
   "cell_type": "code",
   "execution_count": 4,
   "id": "4a8f279c-1a80-4fa4-ad18-836e48089372",
   "metadata": {},
   "outputs": [
    {
     "data": {
      "text/html": [
       "<div>\n",
       "<style scoped>\n",
       "    .dataframe tbody tr th:only-of-type {\n",
       "        vertical-align: middle;\n",
       "    }\n",
       "\n",
       "    .dataframe tbody tr th {\n",
       "        vertical-align: top;\n",
       "    }\n",
       "\n",
       "    .dataframe thead th {\n",
       "        text-align: right;\n",
       "    }\n",
       "</style>\n",
       "<table border=\"1\" class=\"dataframe\">\n",
       "  <thead>\n",
       "    <tr style=\"text-align: right;\">\n",
       "      <th></th>\n",
       "      <th>time</th>\n",
       "      <th>x</th>\n",
       "      <th>y</th>\n",
       "      <th>spatial_ref</th>\n",
       "      <th>WGS84</th>\n",
       "      <th>lwe_thickness</th>\n",
       "    </tr>\n",
       "  </thead>\n",
       "  <tbody>\n",
       "    <tr>\n",
       "      <th>10</th>\n",
       "      <td>2003-02-15</td>\n",
       "      <td>80.125</td>\n",
       "      <td>28.875</td>\n",
       "      <td>0</td>\n",
       "      <td>0</td>\n",
       "      <td>5.152987</td>\n",
       "    </tr>\n",
       "    <tr>\n",
       "      <th>11</th>\n",
       "      <td>2003-02-15</td>\n",
       "      <td>80.125</td>\n",
       "      <td>29.125</td>\n",
       "      <td>0</td>\n",
       "      <td>0</td>\n",
       "      <td>5.152987</td>\n",
       "    </tr>\n",
       "    <tr>\n",
       "      <th>22</th>\n",
       "      <td>2003-02-15</td>\n",
       "      <td>80.375</td>\n",
       "      <td>28.625</td>\n",
       "      <td>0</td>\n",
       "      <td>0</td>\n",
       "      <td>5.152987</td>\n",
       "    </tr>\n",
       "    <tr>\n",
       "      <th>23</th>\n",
       "      <td>2003-02-15</td>\n",
       "      <td>80.375</td>\n",
       "      <td>28.875</td>\n",
       "      <td>0</td>\n",
       "      <td>0</td>\n",
       "      <td>5.152987</td>\n",
       "    </tr>\n",
       "    <tr>\n",
       "      <th>24</th>\n",
       "      <td>2003-02-15</td>\n",
       "      <td>80.375</td>\n",
       "      <td>29.125</td>\n",
       "      <td>0</td>\n",
       "      <td>0</td>\n",
       "      <td>5.152987</td>\n",
       "    </tr>\n",
       "    <tr>\n",
       "      <th>...</th>\n",
       "      <td>...</td>\n",
       "      <td>...</td>\n",
       "      <td>...</td>\n",
       "      <td>...</td>\n",
       "      <td>...</td>\n",
       "      <td>...</td>\n",
       "    </tr>\n",
       "    <tr>\n",
       "      <th>64327</th>\n",
       "      <td>2016-12-24</td>\n",
       "      <td>87.875</td>\n",
       "      <td>27.125</td>\n",
       "      <td>0</td>\n",
       "      <td>0</td>\n",
       "      <td>-30.280354</td>\n",
       "    </tr>\n",
       "    <tr>\n",
       "      <th>64337</th>\n",
       "      <td>2016-12-24</td>\n",
       "      <td>88.125</td>\n",
       "      <td>26.375</td>\n",
       "      <td>0</td>\n",
       "      <td>0</td>\n",
       "      <td>-25.564869</td>\n",
       "    </tr>\n",
       "    <tr>\n",
       "      <th>64338</th>\n",
       "      <td>2016-12-24</td>\n",
       "      <td>88.125</td>\n",
       "      <td>26.625</td>\n",
       "      <td>0</td>\n",
       "      <td>0</td>\n",
       "      <td>-30.280354</td>\n",
       "    </tr>\n",
       "    <tr>\n",
       "      <th>64339</th>\n",
       "      <td>2016-12-24</td>\n",
       "      <td>88.125</td>\n",
       "      <td>26.875</td>\n",
       "      <td>0</td>\n",
       "      <td>0</td>\n",
       "      <td>-30.280354</td>\n",
       "    </tr>\n",
       "    <tr>\n",
       "      <th>64340</th>\n",
       "      <td>2016-12-24</td>\n",
       "      <td>88.125</td>\n",
       "      <td>27.125</td>\n",
       "      <td>0</td>\n",
       "      <td>0</td>\n",
       "      <td>-30.280354</td>\n",
       "    </tr>\n",
       "  </tbody>\n",
       "</table>\n",
       "<p>21000 rows × 6 columns</p>\n",
       "</div>"
      ],
      "text/plain": [
       "            time       x       y  spatial_ref  WGS84  lwe_thickness\n",
       "10    2003-02-15  80.125  28.875            0      0       5.152987\n",
       "11    2003-02-15  80.125  29.125            0      0       5.152987\n",
       "22    2003-02-15  80.375  28.625            0      0       5.152987\n",
       "23    2003-02-15  80.375  28.875            0      0       5.152987\n",
       "24    2003-02-15  80.375  29.125            0      0       5.152987\n",
       "...          ...     ...     ...          ...    ...            ...\n",
       "64327 2016-12-24  87.875  27.125            0      0     -30.280354\n",
       "64337 2016-12-24  88.125  26.375            0      0     -25.564869\n",
       "64338 2016-12-24  88.125  26.625            0      0     -30.280354\n",
       "64339 2016-12-24  88.125  26.875            0      0     -30.280354\n",
       "64340 2016-12-24  88.125  27.125            0      0     -30.280354\n",
       "\n",
       "[21000 rows x 6 columns]"
      ]
     },
     "execution_count": 4,
     "metadata": {},
     "output_type": "execute_result"
    }
   ],
   "source": [
    "import numpy as np\n",
    "import xarray as xr\n",
    "from sklearn.preprocessing import StandardScaler\n",
    "from sklearn.cluster import KMeans\n",
    "from sklearn.metrics import silhouette_score\n",
    "import matplotlib.pyplot as plt\n",
    "\n",
    "# Load your GRACE dataset (assuming it's already clipped and processed)\n",
    "# Assume ds is your xarray.Dataset\n",
    "# Convert to DataFrame for clustering\n",
    "data_df = GR_Clip.to_dataframe().reset_index()\n",
    "data_df = data_df.dropna(subset=['lwe_thickness'])\n",
    "data_df"
   ]
  },
  {
   "cell_type": "code",
   "execution_count": 7,
   "id": "a0aca3ea-6067-46df-a154-55529316d83a",
   "metadata": {},
   "outputs": [
    {
     "data": {
      "text/plain": [
       "140"
      ]
     },
     "execution_count": 7,
     "metadata": {},
     "output_type": "execute_result"
    }
   ],
   "source": [
    "# Reshape data: each row is a location, each column is a monthly time step\n",
    "data_pivot = data_df.pivot_table(index=['y', 'x'], columns='time', values='lwe_thickness')\n",
    "data_matrix = data_pivot.values\n",
    "len(data_pivot)"
   ]
  },
  {
   "cell_type": "code",
   "execution_count": null,
   "id": "84681f86-28a4-40e8-9223-5e64109370cc",
   "metadata": {},
   "outputs": [],
   "source": [
    "x_value = data_pivot.index.get_level_values('x')[i]\n",
    "x_value"
   ]
  },
  {
   "cell_type": "code",
   "execution_count": null,
   "id": "50ebd0e1-71fd-493b-bf8e-f0e27f56530e",
   "metadata": {},
   "outputs": [],
   "source": [
    "series = data_pivot.iloc[2].values\n",
    "#series = data_pivot.iloc[2].drop(['x', 'y']).values\n",
    "series"
   ]
  },
  {
   "cell_type": "code",
   "execution_count": null,
   "id": "a63dacd5-b02f-457a-b6db-98d99f934f6b",
   "metadata": {},
   "outputs": [],
   "source": [
    "series = data_pivot.iloc[2].values\n",
    "series = data_pivot.iloc[2].drop(['x', 'y']).values\n",
    "series\n",
    "period = 12\n",
    "results = seasonal_decompose(series, model='additive', period=period)\n",
    "trend_estimate    = results.trend\n",
    "periodic_estimate = results.seasonal\n",
    "residual = results.resid\n",
    " \n",
    "plt.figure(figsize=(12,10))\n",
    "plt.subplot(411)\n",
    "plt.plot(series,label='Original time series', color='blue')\n",
    "plt.legend(loc='best')\n",
    "plt.subplot(412)\n",
    "plt.plot(trend_estimate,label='Trend of time series',color='blue')\n",
    "plt.legend(loc='best')\n",
    "plt.subplot(413)\n",
    "plt.plot(periodic_estimate,label='Seasonality of time series',color='blue')\n",
    "plt.legend(loc='best')\n",
    "plt.subplot(414)\n",
    "plt.plot(residual,label='Decomposition residuals of time series',color='blue')\n",
    "plt.legend(loc='best')\n",
    "plt.tight_layout()"
   ]
  },
  {
   "cell_type": "code",
   "execution_count": 9,
   "id": "55cb3093-2776-4b03-9ea3-810331d10e3c",
   "metadata": {},
   "outputs": [
    {
     "data": {
      "text/html": [
       "<div>\n",
       "<style scoped>\n",
       "    .dataframe tbody tr th:only-of-type {\n",
       "        vertical-align: middle;\n",
       "    }\n",
       "\n",
       "    .dataframe tbody tr th {\n",
       "        vertical-align: top;\n",
       "    }\n",
       "\n",
       "    .dataframe thead th {\n",
       "        text-align: right;\n",
       "    }\n",
       "</style>\n",
       "<table border=\"1\" class=\"dataframe\">\n",
       "  <thead>\n",
       "    <tr style=\"text-align: right;\">\n",
       "      <th></th>\n",
       "      <th>time</th>\n",
       "      <th>2003-02-15</th>\n",
       "      <th>2003-03-16</th>\n",
       "      <th>2003-04-16</th>\n",
       "      <th>2003-05-11</th>\n",
       "      <th>2003-07-16</th>\n",
       "      <th>2003-08-16</th>\n",
       "      <th>2003-09-16</th>\n",
       "      <th>2003-10-16</th>\n",
       "      <th>2003-11-16</th>\n",
       "      <th>2003-12-16</th>\n",
       "      <th>...</th>\n",
       "      <th>2015-12-23</th>\n",
       "      <th>2016-01-16</th>\n",
       "      <th>2016-02-14</th>\n",
       "      <th>2016-03-16</th>\n",
       "      <th>2016-05-20</th>\n",
       "      <th>2016-06-16</th>\n",
       "      <th>2016-07-15</th>\n",
       "      <th>2016-08-21</th>\n",
       "      <th>2016-11-27</th>\n",
       "      <th>2016-12-24</th>\n",
       "    </tr>\n",
       "    <tr>\n",
       "      <th>y</th>\n",
       "      <th>x</th>\n",
       "      <th></th>\n",
       "      <th></th>\n",
       "      <th></th>\n",
       "      <th></th>\n",
       "      <th></th>\n",
       "      <th></th>\n",
       "      <th></th>\n",
       "      <th></th>\n",
       "      <th></th>\n",
       "      <th></th>\n",
       "      <th></th>\n",
       "      <th></th>\n",
       "      <th></th>\n",
       "      <th></th>\n",
       "      <th></th>\n",
       "      <th></th>\n",
       "      <th></th>\n",
       "      <th></th>\n",
       "      <th></th>\n",
       "      <th></th>\n",
       "      <th></th>\n",
       "    </tr>\n",
       "  </thead>\n",
       "  <tbody>\n",
       "    <tr>\n",
       "      <th rowspan=\"5\" valign=\"top\">26.375</th>\n",
       "      <th>86.625</th>\n",
       "      <td>0.520747</td>\n",
       "      <td>2.206522</td>\n",
       "      <td>-3.328836</td>\n",
       "      <td>-3.878075</td>\n",
       "      <td>29.734867</td>\n",
       "      <td>24.676708</td>\n",
       "      <td>31.724451</td>\n",
       "      <td>25.877615</td>\n",
       "      <td>24.817574</td>\n",
       "      <td>24.203798</td>\n",
       "      <td>...</td>\n",
       "      <td>-34.152431</td>\n",
       "      <td>-16.082151</td>\n",
       "      <td>-21.675457</td>\n",
       "      <td>-37.433350</td>\n",
       "      <td>-12.911795</td>\n",
       "      <td>-35.524086</td>\n",
       "      <td>-3.392793</td>\n",
       "      <td>-11.730249</td>\n",
       "      <td>-21.584818</td>\n",
       "      <td>-23.664629</td>\n",
       "    </tr>\n",
       "    <tr>\n",
       "      <th>86.875</th>\n",
       "      <td>0.520747</td>\n",
       "      <td>2.206522</td>\n",
       "      <td>-3.328836</td>\n",
       "      <td>-3.878075</td>\n",
       "      <td>29.734867</td>\n",
       "      <td>24.676708</td>\n",
       "      <td>31.724451</td>\n",
       "      <td>25.877615</td>\n",
       "      <td>24.817574</td>\n",
       "      <td>24.203798</td>\n",
       "      <td>...</td>\n",
       "      <td>-34.152431</td>\n",
       "      <td>-16.082151</td>\n",
       "      <td>-21.675457</td>\n",
       "      <td>-37.433350</td>\n",
       "      <td>-12.911795</td>\n",
       "      <td>-35.524086</td>\n",
       "      <td>-3.392793</td>\n",
       "      <td>-11.730249</td>\n",
       "      <td>-21.584818</td>\n",
       "      <td>-23.664629</td>\n",
       "    </tr>\n",
       "    <tr>\n",
       "      <th>87.125</th>\n",
       "      <td>0.520747</td>\n",
       "      <td>2.206522</td>\n",
       "      <td>-3.328836</td>\n",
       "      <td>-3.878075</td>\n",
       "      <td>29.734867</td>\n",
       "      <td>24.676708</td>\n",
       "      <td>31.724451</td>\n",
       "      <td>25.877615</td>\n",
       "      <td>24.817574</td>\n",
       "      <td>24.203798</td>\n",
       "      <td>...</td>\n",
       "      <td>-34.152431</td>\n",
       "      <td>-16.082151</td>\n",
       "      <td>-21.675457</td>\n",
       "      <td>-37.433350</td>\n",
       "      <td>-12.911795</td>\n",
       "      <td>-35.524086</td>\n",
       "      <td>-3.392793</td>\n",
       "      <td>-11.730249</td>\n",
       "      <td>-21.584818</td>\n",
       "      <td>-23.664629</td>\n",
       "    </tr>\n",
       "    <tr>\n",
       "      <th>87.375</th>\n",
       "      <td>-4.330481</td>\n",
       "      <td>-5.765984</td>\n",
       "      <td>-6.234211</td>\n",
       "      <td>-2.540145</td>\n",
       "      <td>36.543545</td>\n",
       "      <td>28.435629</td>\n",
       "      <td>32.619064</td>\n",
       "      <td>30.464649</td>\n",
       "      <td>19.408388</td>\n",
       "      <td>14.212990</td>\n",
       "      <td>...</td>\n",
       "      <td>-31.212240</td>\n",
       "      <td>-24.081369</td>\n",
       "      <td>-26.413548</td>\n",
       "      <td>-37.407276</td>\n",
       "      <td>-32.808308</td>\n",
       "      <td>-27.206438</td>\n",
       "      <td>-3.663992</td>\n",
       "      <td>6.417260</td>\n",
       "      <td>-13.833462</td>\n",
       "      <td>-25.564869</td>\n",
       "    </tr>\n",
       "    <tr>\n",
       "      <th>87.625</th>\n",
       "      <td>-4.330481</td>\n",
       "      <td>-5.765984</td>\n",
       "      <td>-6.234211</td>\n",
       "      <td>-2.540145</td>\n",
       "      <td>36.543545</td>\n",
       "      <td>28.435629</td>\n",
       "      <td>32.619064</td>\n",
       "      <td>30.464649</td>\n",
       "      <td>19.408388</td>\n",
       "      <td>14.212990</td>\n",
       "      <td>...</td>\n",
       "      <td>-31.212240</td>\n",
       "      <td>-24.081369</td>\n",
       "      <td>-26.413548</td>\n",
       "      <td>-37.407276</td>\n",
       "      <td>-32.808308</td>\n",
       "      <td>-27.206438</td>\n",
       "      <td>-3.663992</td>\n",
       "      <td>6.417260</td>\n",
       "      <td>-13.833462</td>\n",
       "      <td>-25.564869</td>\n",
       "    </tr>\n",
       "    <tr>\n",
       "      <th>...</th>\n",
       "      <th>...</th>\n",
       "      <td>...</td>\n",
       "      <td>...</td>\n",
       "      <td>...</td>\n",
       "      <td>...</td>\n",
       "      <td>...</td>\n",
       "      <td>...</td>\n",
       "      <td>...</td>\n",
       "      <td>...</td>\n",
       "      <td>...</td>\n",
       "      <td>...</td>\n",
       "      <td>...</td>\n",
       "      <td>...</td>\n",
       "      <td>...</td>\n",
       "      <td>...</td>\n",
       "      <td>...</td>\n",
       "      <td>...</td>\n",
       "      <td>...</td>\n",
       "      <td>...</td>\n",
       "      <td>...</td>\n",
       "      <td>...</td>\n",
       "      <td>...</td>\n",
       "    </tr>\n",
       "    <tr>\n",
       "      <th>29.125</th>\n",
       "      <th>81.125</th>\n",
       "      <td>0.405136</td>\n",
       "      <td>-0.608160</td>\n",
       "      <td>1.010001</td>\n",
       "      <td>-6.473805</td>\n",
       "      <td>9.006063</td>\n",
       "      <td>17.674801</td>\n",
       "      <td>24.620546</td>\n",
       "      <td>12.531166</td>\n",
       "      <td>6.714274</td>\n",
       "      <td>-2.054239</td>\n",
       "      <td>...</td>\n",
       "      <td>-9.030995</td>\n",
       "      <td>-72.883293</td>\n",
       "      <td>-64.317848</td>\n",
       "      <td>-12.769386</td>\n",
       "      <td>-26.274876</td>\n",
       "      <td>-40.431190</td>\n",
       "      <td>-24.514748</td>\n",
       "      <td>-4.289491</td>\n",
       "      <td>-13.208134</td>\n",
       "      <td>-39.871288</td>\n",
       "    </tr>\n",
       "    <tr>\n",
       "      <th rowspan=\"4\" valign=\"top\">29.375</th>\n",
       "      <th>80.375</th>\n",
       "      <td>0.837950</td>\n",
       "      <td>1.565351</td>\n",
       "      <td>6.033780</td>\n",
       "      <td>-0.728810</td>\n",
       "      <td>13.183617</td>\n",
       "      <td>15.971352</td>\n",
       "      <td>20.125034</td>\n",
       "      <td>10.633415</td>\n",
       "      <td>6.509689</td>\n",
       "      <td>-3.855632</td>\n",
       "      <td>...</td>\n",
       "      <td>-10.565931</td>\n",
       "      <td>-71.783119</td>\n",
       "      <td>-40.962414</td>\n",
       "      <td>-15.576660</td>\n",
       "      <td>-7.870965</td>\n",
       "      <td>-33.642727</td>\n",
       "      <td>-19.469011</td>\n",
       "      <td>-10.398445</td>\n",
       "      <td>-29.145761</td>\n",
       "      <td>-43.775051</td>\n",
       "    </tr>\n",
       "    <tr>\n",
       "      <th>80.625</th>\n",
       "      <td>0.837950</td>\n",
       "      <td>1.565351</td>\n",
       "      <td>6.033780</td>\n",
       "      <td>-0.728810</td>\n",
       "      <td>13.183617</td>\n",
       "      <td>15.971352</td>\n",
       "      <td>20.125034</td>\n",
       "      <td>10.633415</td>\n",
       "      <td>6.509689</td>\n",
       "      <td>-3.855632</td>\n",
       "      <td>...</td>\n",
       "      <td>-10.565931</td>\n",
       "      <td>-71.783119</td>\n",
       "      <td>-40.962414</td>\n",
       "      <td>-15.576660</td>\n",
       "      <td>-7.870965</td>\n",
       "      <td>-33.642727</td>\n",
       "      <td>-19.469011</td>\n",
       "      <td>-10.398445</td>\n",
       "      <td>-29.145761</td>\n",
       "      <td>-43.775051</td>\n",
       "    </tr>\n",
       "    <tr>\n",
       "      <th>80.875</th>\n",
       "      <td>0.837950</td>\n",
       "      <td>1.565351</td>\n",
       "      <td>6.033780</td>\n",
       "      <td>-0.728810</td>\n",
       "      <td>13.183617</td>\n",
       "      <td>15.971352</td>\n",
       "      <td>20.125034</td>\n",
       "      <td>10.633415</td>\n",
       "      <td>6.509689</td>\n",
       "      <td>-3.855632</td>\n",
       "      <td>...</td>\n",
       "      <td>-10.565931</td>\n",
       "      <td>-71.783119</td>\n",
       "      <td>-40.962414</td>\n",
       "      <td>-15.576660</td>\n",
       "      <td>-7.870965</td>\n",
       "      <td>-33.642727</td>\n",
       "      <td>-19.469011</td>\n",
       "      <td>-10.398445</td>\n",
       "      <td>-29.145761</td>\n",
       "      <td>-43.775051</td>\n",
       "    </tr>\n",
       "    <tr>\n",
       "      <th>81.125</th>\n",
       "      <td>0.405136</td>\n",
       "      <td>-0.608160</td>\n",
       "      <td>1.010001</td>\n",
       "      <td>-6.473805</td>\n",
       "      <td>9.006063</td>\n",
       "      <td>17.674801</td>\n",
       "      <td>24.620546</td>\n",
       "      <td>12.531166</td>\n",
       "      <td>6.714274</td>\n",
       "      <td>-2.054239</td>\n",
       "      <td>...</td>\n",
       "      <td>-9.030995</td>\n",
       "      <td>-72.883293</td>\n",
       "      <td>-64.317848</td>\n",
       "      <td>-12.769386</td>\n",
       "      <td>-26.274876</td>\n",
       "      <td>-40.431190</td>\n",
       "      <td>-24.514748</td>\n",
       "      <td>-4.289491</td>\n",
       "      <td>-13.208134</td>\n",
       "      <td>-39.871288</td>\n",
       "    </tr>\n",
       "  </tbody>\n",
       "</table>\n",
       "<p>140 rows × 150 columns</p>\n",
       "</div>"
      ],
      "text/plain": [
       "time           2003-02-15  2003-03-16  2003-04-16  2003-05-11  2003-07-16  \\\n",
       "y      x                                                                    \n",
       "26.375 86.625    0.520747    2.206522   -3.328836   -3.878075   29.734867   \n",
       "       86.875    0.520747    2.206522   -3.328836   -3.878075   29.734867   \n",
       "       87.125    0.520747    2.206522   -3.328836   -3.878075   29.734867   \n",
       "       87.375   -4.330481   -5.765984   -6.234211   -2.540145   36.543545   \n",
       "       87.625   -4.330481   -5.765984   -6.234211   -2.540145   36.543545   \n",
       "...                   ...         ...         ...         ...         ...   \n",
       "29.125 81.125    0.405136   -0.608160    1.010001   -6.473805    9.006063   \n",
       "29.375 80.375    0.837950    1.565351    6.033780   -0.728810   13.183617   \n",
       "       80.625    0.837950    1.565351    6.033780   -0.728810   13.183617   \n",
       "       80.875    0.837950    1.565351    6.033780   -0.728810   13.183617   \n",
       "       81.125    0.405136   -0.608160    1.010001   -6.473805    9.006063   \n",
       "\n",
       "time           2003-08-16  2003-09-16  2003-10-16  2003-11-16  2003-12-16  \\\n",
       "y      x                                                                    \n",
       "26.375 86.625   24.676708   31.724451   25.877615   24.817574   24.203798   \n",
       "       86.875   24.676708   31.724451   25.877615   24.817574   24.203798   \n",
       "       87.125   24.676708   31.724451   25.877615   24.817574   24.203798   \n",
       "       87.375   28.435629   32.619064   30.464649   19.408388   14.212990   \n",
       "       87.625   28.435629   32.619064   30.464649   19.408388   14.212990   \n",
       "...                   ...         ...         ...         ...         ...   \n",
       "29.125 81.125   17.674801   24.620546   12.531166    6.714274   -2.054239   \n",
       "29.375 80.375   15.971352   20.125034   10.633415    6.509689   -3.855632   \n",
       "       80.625   15.971352   20.125034   10.633415    6.509689   -3.855632   \n",
       "       80.875   15.971352   20.125034   10.633415    6.509689   -3.855632   \n",
       "       81.125   17.674801   24.620546   12.531166    6.714274   -2.054239   \n",
       "\n",
       "time           ...  2015-12-23  2016-01-16  2016-02-14  2016-03-16  \\\n",
       "y      x       ...                                                   \n",
       "26.375 86.625  ...  -34.152431  -16.082151  -21.675457  -37.433350   \n",
       "       86.875  ...  -34.152431  -16.082151  -21.675457  -37.433350   \n",
       "       87.125  ...  -34.152431  -16.082151  -21.675457  -37.433350   \n",
       "       87.375  ...  -31.212240  -24.081369  -26.413548  -37.407276   \n",
       "       87.625  ...  -31.212240  -24.081369  -26.413548  -37.407276   \n",
       "...            ...         ...         ...         ...         ...   \n",
       "29.125 81.125  ...   -9.030995  -72.883293  -64.317848  -12.769386   \n",
       "29.375 80.375  ...  -10.565931  -71.783119  -40.962414  -15.576660   \n",
       "       80.625  ...  -10.565931  -71.783119  -40.962414  -15.576660   \n",
       "       80.875  ...  -10.565931  -71.783119  -40.962414  -15.576660   \n",
       "       81.125  ...   -9.030995  -72.883293  -64.317848  -12.769386   \n",
       "\n",
       "time           2016-05-20  2016-06-16  2016-07-15  2016-08-21  2016-11-27  \\\n",
       "y      x                                                                    \n",
       "26.375 86.625  -12.911795  -35.524086   -3.392793  -11.730249  -21.584818   \n",
       "       86.875  -12.911795  -35.524086   -3.392793  -11.730249  -21.584818   \n",
       "       87.125  -12.911795  -35.524086   -3.392793  -11.730249  -21.584818   \n",
       "       87.375  -32.808308  -27.206438   -3.663992    6.417260  -13.833462   \n",
       "       87.625  -32.808308  -27.206438   -3.663992    6.417260  -13.833462   \n",
       "...                   ...         ...         ...         ...         ...   \n",
       "29.125 81.125  -26.274876  -40.431190  -24.514748   -4.289491  -13.208134   \n",
       "29.375 80.375   -7.870965  -33.642727  -19.469011  -10.398445  -29.145761   \n",
       "       80.625   -7.870965  -33.642727  -19.469011  -10.398445  -29.145761   \n",
       "       80.875   -7.870965  -33.642727  -19.469011  -10.398445  -29.145761   \n",
       "       81.125  -26.274876  -40.431190  -24.514748   -4.289491  -13.208134   \n",
       "\n",
       "time           2016-12-24  \n",
       "y      x                   \n",
       "26.375 86.625  -23.664629  \n",
       "       86.875  -23.664629  \n",
       "       87.125  -23.664629  \n",
       "       87.375  -25.564869  \n",
       "       87.625  -25.564869  \n",
       "...                   ...  \n",
       "29.125 81.125  -39.871288  \n",
       "29.375 80.375  -43.775051  \n",
       "       80.625  -43.775051  \n",
       "       80.875  -43.775051  \n",
       "       81.125  -39.871288  \n",
       "\n",
       "[140 rows x 150 columns]"
      ]
     },
     "execution_count": 9,
     "metadata": {},
     "output_type": "execute_result"
    }
   ],
   "source": [
    "data_pivot"
   ]
  },
  {
   "cell_type": "code",
   "execution_count": 15,
   "id": "d0152050-4183-4eae-9f63-66692aadd9c4",
   "metadata": {},
   "outputs": [
    {
     "data": {
      "text/plain": [
       "array([[ 17.79758359,  17.3440405 ,  16.89049741, ..., -19.25190011,\n",
       "        -19.49760728, -19.74331445],\n",
       "       [ 17.79758359,  17.3440405 ,  16.89049741, ..., -19.25190011,\n",
       "        -19.49760728, -19.74331445],\n",
       "       [ 17.79758359,  17.3440405 ,  16.89049741, ..., -19.25190011,\n",
       "        -19.49760728, -19.74331445],\n",
       "       ...,\n",
       "       [  2.14830096,   1.96804295,   1.78778494, ..., -24.11307356,\n",
       "        -24.69771252, -25.28235149],\n",
       "       [  2.14830096,   1.96804295,   1.78778494, ..., -24.11307356,\n",
       "        -24.69771252, -25.28235149],\n",
       "       [  3.94577136,   3.73645747,   3.52714358, ..., -33.83483932,\n",
       "        -35.40648385, -36.97812839]])"
      ]
     },
     "execution_count": 15,
     "metadata": {},
     "output_type": "execute_result"
    }
   ],
   "source": [
    "import pandas as pd\n",
    "from statsmodels.tsa.seasonal import seasonal_decompose\n",
    "\n",
    "# Initialize an empty list to store each row's trend data as dictionaries\n",
    "trends_data = []\n",
    "\n",
    "for i in range(len(data_pivot)):\n",
    "    # Extract x and y from data_pivot for the current row\n",
    "    x_value = data_pivot.index.get_level_values('x')[i]  # Assuming 'x' is a column in data_pivot\n",
    "    y_value = data_pivot.index.get_level_values('y')[i]  # Assuming 'y' is a column in data_pivot\n",
    "    \n",
    "    # Get the series values for decomposition\n",
    "    series = data_pivot.iloc[i].values[2:]  # Exclude 'x' and 'y' columns from the series\n",
    "    \n",
    "    # Perform seasonal decomposition\n",
    "    period = 12\n",
    "    results = seasonal_decompose(series, model='additive', period=period, extrapolate_trend='freq')\n",
    "    \n",
    "    # Extract trend estimate\n",
    "    trend_estimate = results.trend\n",
    "    \n",
    "    # Create a dictionary with x, y, and each value of trend_estimate as a new column\n",
    "    trend_row = {'x': x_value, 'y': y_value}\n",
    "    trend_row.update({f'trend_{j}': value for j, value in enumerate(trend_estimate)})\n",
    "    \n",
    "    # Append the row dictionary to the list\n",
    "    trends_data.append(trend_row)\n",
    "\n",
    "# Convert list of dictionaries to a new dataframe\n",
    "trends_df = pd.DataFrame(trends_data)\n",
    "trends_matrix = trends_df.iloc[:,2:].values\n",
    "trends_matrix\n"
   ]
  },
  {
   "cell_type": "code",
   "execution_count": 37,
   "id": "db146d32-5741-4754-afcd-c5ce33bef9cb",
   "metadata": {},
   "outputs": [
    {
     "name": "stderr",
     "output_type": "stream",
     "text": [
      "C:\\Users\\Hp\\anaconda3\\Lib\\site-packages\\sklearn\\cluster\\_kmeans.py:1446: UserWarning:\n",
      "\n",
      "KMeans is known to have a memory leak on Windows with MKL, when there are less chunks than available threads. You can avoid it by setting the environment variable OMP_NUM_THREADS=1.\n",
      "\n",
      "C:\\Users\\Hp\\anaconda3\\Lib\\site-packages\\sklearn\\cluster\\_kmeans.py:1446: UserWarning:\n",
      "\n",
      "KMeans is known to have a memory leak on Windows with MKL, when there are less chunks than available threads. You can avoid it by setting the environment variable OMP_NUM_THREADS=1.\n",
      "\n",
      "C:\\Users\\Hp\\anaconda3\\Lib\\site-packages\\sklearn\\cluster\\_kmeans.py:1446: UserWarning:\n",
      "\n",
      "KMeans is known to have a memory leak on Windows with MKL, when there are less chunks than available threads. You can avoid it by setting the environment variable OMP_NUM_THREADS=1.\n",
      "\n",
      "C:\\Users\\Hp\\anaconda3\\Lib\\site-packages\\sklearn\\cluster\\_kmeans.py:1446: UserWarning:\n",
      "\n",
      "KMeans is known to have a memory leak on Windows with MKL, when there are less chunks than available threads. You can avoid it by setting the environment variable OMP_NUM_THREADS=1.\n",
      "\n",
      "C:\\Users\\Hp\\anaconda3\\Lib\\site-packages\\sklearn\\cluster\\_kmeans.py:1446: UserWarning:\n",
      "\n",
      "KMeans is known to have a memory leak on Windows with MKL, when there are less chunks than available threads. You can avoid it by setting the environment variable OMP_NUM_THREADS=1.\n",
      "\n",
      "C:\\Users\\Hp\\anaconda3\\Lib\\site-packages\\sklearn\\cluster\\_kmeans.py:1446: UserWarning:\n",
      "\n",
      "KMeans is known to have a memory leak on Windows with MKL, when there are less chunks than available threads. You can avoid it by setting the environment variable OMP_NUM_THREADS=1.\n",
      "\n",
      "C:\\Users\\Hp\\anaconda3\\Lib\\site-packages\\sklearn\\cluster\\_kmeans.py:1446: UserWarning:\n",
      "\n",
      "KMeans is known to have a memory leak on Windows with MKL, when there are less chunks than available threads. You can avoid it by setting the environment variable OMP_NUM_THREADS=1.\n",
      "\n",
      "C:\\Users\\Hp\\anaconda3\\Lib\\site-packages\\sklearn\\cluster\\_kmeans.py:1446: UserWarning:\n",
      "\n",
      "KMeans is known to have a memory leak on Windows with MKL, when there are less chunks than available threads. You can avoid it by setting the environment variable OMP_NUM_THREADS=1.\n",
      "\n"
     ]
    },
    {
     "data": {
      "image/png": "[encoded data removed]",
      "text/plain": [
       "<Figure size 1000x500 with 1 Axes>"
      ]
     },
     "metadata": {},
     "output_type": "display_data"
    },
    {
     "data": {
      "image/png": "[encoded data removed]",
      "text/plain": [
       "<Figure size 1000x500 with 1 Axes>"
      ]
     },
     "metadata": {},
     "output_type": "display_data"
    },
    {
     "data": {
      "image/png": "[encoded data removed]",
      "text/plain": [
       "<Figure size 1000x500 with 1 Axes>"
      ]
     },
     "metadata": {},
     "output_type": "display_data"
    }
   ],
   "source": [
    "import matplotlib.pyplot as plt\n",
    "from sklearn.cluster import KMeans\n",
    "from sklearn.preprocessing import StandardScaler\n",
    "from sklearn.metrics import silhouette_score, davies_bouldin_score\n",
    "# Standardize data\n",
    "scaler = StandardScaler()\n",
    "data_scaled = scaler.fit_transform(trends_matrix)\n",
    "\n",
    "# Finding optimal number of clusters\n",
    "wcss = []\n",
    "silhouette_scores = []\n",
    "dbi_scores = []\n",
    "cluster_range = range(2, 10)\n",
    "\n",
    "for k in cluster_range:\n",
    "    kmeans = KMeans(n_clusters=k, random_state=42)\n",
    "    kmeans.fit(data_scaled)\n",
    "    wcss.append(kmeans.inertia_)\n",
    "    silhouette_scores.append(silhouette_score(data_scaled, kmeans.labels_))\n",
    "    dbi_scores.append(davies_bouldin_score(data_scaled, kmeans.labels_))  # Calculate DBI score\n",
    "\n",
    "# Plotting the Elbow Method\n",
    "plt.figure(figsize=(10, 5))\n",
    "plt.plot(cluster_range, wcss, marker='o')\n",
    "plt.xlabel('Number of clusters')\n",
    "plt.ylabel('WCSS')\n",
    "plt.title('Elbow Method')\n",
    "plt.show()\n",
    "\n",
    "# Plotting Silhouette Scores\n",
    "plt.figure(figsize=(10, 5))\n",
    "plt.plot(cluster_range, silhouette_scores, marker='o')\n",
    "plt.xlabel('Number of clusters')\n",
    "plt.ylabel('Silhouette Score')\n",
    "plt.title('Silhouette Score for each k')\n",
    "plt.show()\n",
    "\n",
    "# Plotting ...\n",
    "plt.figure(figsize=(10, 5))\n",
    "plt.plot(cluster_range, dbi_scores, marker='s', label='Davies-Bouldin Score')  # Plot DBI score\n",
    "plt.xlabel('Number of clusters')\n",
    "plt.ylabel('Davies-Bouldin Score')\n",
    "plt.title('Davies_Bouldin Score for each k')\n",
    "plt.show()\n"
   ]
  },
  {
   "cell_type": "code",
   "execution_count": 29,
   "id": "b36ebea5-bd46-4f77-82de-2b2724bcac0a",
   "metadata": {},
   "outputs": [
    {
     "name": "stderr",
     "output_type": "stream",
     "text": [
      "C:\\Users\\Hp\\anaconda3\\Lib\\site-packages\\sklearn\\cluster\\_kmeans.py:1446: UserWarning:\n",
      "\n",
      "KMeans is known to have a memory leak on Windows with MKL, when there are less chunks than available threads. You can avoid it by setting the environment variable OMP_NUM_THREADS=1.\n",
      "\n",
      "C:\\Users\\Hp\\anaconda3\\Lib\\site-packages\\sklearn\\cluster\\_kmeans.py:1446: UserWarning:\n",
      "\n",
      "KMeans is known to have a memory leak on Windows with MKL, when there are less chunks than available threads. You can avoid it by setting the environment variable OMP_NUM_THREADS=1.\n",
      "\n",
      "C:\\Users\\Hp\\anaconda3\\Lib\\site-packages\\sklearn\\cluster\\_kmeans.py:1446: UserWarning:\n",
      "\n",
      "KMeans is known to have a memory leak on Windows with MKL, when there are less chunks than available threads. You can avoid it by setting the environment variable OMP_NUM_THREADS=1.\n",
      "\n",
      "C:\\Users\\Hp\\anaconda3\\Lib\\site-packages\\sklearn\\cluster\\_kmeans.py:1446: UserWarning:\n",
      "\n",
      "KMeans is known to have a memory leak on Windows with MKL, when there are less chunks than available threads. You can avoid it by setting the environment variable OMP_NUM_THREADS=1.\n",
      "\n",
      "C:\\Users\\Hp\\anaconda3\\Lib\\site-packages\\sklearn\\cluster\\_kmeans.py:1446: UserWarning:\n",
      "\n",
      "KMeans is known to have a memory leak on Windows with MKL, when there are less chunks than available threads. You can avoid it by setting the environment variable OMP_NUM_THREADS=1.\n",
      "\n",
      "C:\\Users\\Hp\\anaconda3\\Lib\\site-packages\\sklearn\\cluster\\_kmeans.py:1446: UserWarning:\n",
      "\n",
      "KMeans is known to have a memory leak on Windows with MKL, when there are less chunks than available threads. You can avoid it by setting the environment variable OMP_NUM_THREADS=1.\n",
      "\n"
     ]
    },
    {
     "data": {
      "application/vnd.plotly.v1+json": {
       "config": {
        "plotlyServerURL": "https://plot.ly"
       },
       "data": [
        {
         "link": {
          "source": [
           0,
           1,
           1,
           2,
           3,
           4,
           4,
           5,
           5,
           6,
           7,
           8,
           9,
           10,
           10,
           11,
           12,
           13,
           14,
           15,
           16,
           16,
           17,
           18,
           19
          ],
          "target": [
           2,
           3,
           4,
           5,
           6,
           7,
           8,
           9,
           13,
           10,
           11,
           12,
           14,
           15,
           19,
           16,
           17,
           18,
           20,
           21,
           22,
           26,
           23,
           24,
           25
          ],
          "value": [
           64,
           39,
           37,
           64,
           39,
           26,
           11,
           51,
           13,
           39,
           26,
           11,
           51,
           31,
           8,
           26,
           11,
           13,
           51,
           31,
           10,
           16,
           11,
           13,
           8
          ]
         },
         "node": {
          "label": [
           "2clusters_1",
           "2clusters_2",
           "3clusters_1",
           "3clusters_2",
           "3clusters_3",
           "4clusters_1",
           "4clusters_2",
           "4clusters_3",
           "4clusters_4",
           "5clusters_1",
           "5clusters_2",
           "5clusters_3",
           "5clusters_4",
           "5clusters_5",
           "6clusters_1",
           "6clusters_2",
           "6clusters_3",
           "6clusters_4",
           "6clusters_5",
           "6clusters_6",
           "7clusters_1",
           "7clusters_2",
           "7clusters_3",
           "7clusters_4",
           "7clusters_5",
           "7clusters_6",
           "7clusters_7"
          ],
          "line": {
           "color": "black",
           "width": 0.5
          },
          "pad": 15,
          "thickness": 20
         },
         "type": "sankey"
        }
       ],
       "layout": {
        "autosize": true,
        "font": {
         "size": 10
        },
        "template": {
         "data": {
          "bar": [
           {
            "error_x": {
             "color": "#2a3f5f"
            },
            "error_y": {
             "color": "#2a3f5f"
            },
            "marker": {
             "line": {
              "color": "#E5ECF6",
              "width": 0.5
             },
             "pattern": {
              "fillmode": "overlay",
              "size": 10,
              "solidity": 0.2
             }
            },
            "type": "bar"
           }
          ],
          "barpolar": [
           {
            "marker": {
             "line": {
              "color": "#E5ECF6",
              "width": 0.5
             },
             "pattern": {
              "fillmode": "overlay",
              "size": 10,
              "solidity": 0.2
             }
            },
            "type": "barpolar"
           }
          ],
          "carpet": [
           {
            "aaxis": {
             "endlinecolor": "#2a3f5f",
             "gridcolor": "white",
             "linecolor": "white",
             "minorgridcolor": "white",
             "startlinecolor": "#2a3f5f"
            },
            "baxis": {
             "endlinecolor": "#2a3f5f",
             "gridcolor": "white",
             "linecolor": "white",
             "minorgridcolor": "white",
             "startlinecolor": "#2a3f5f"
            },
            "type": "carpet"
           }
          ],
          "choropleth": [
           {
            "colorbar": {
             "outlinewidth": 0,
             "ticks": ""
            },
            "type": "choropleth"
           }
          ],
          "contour": [
           {
            "colorbar": {
             "outlinewidth": 0,
             "ticks": ""
            },
            "colorscale": [
             [
              0,
              "#0d0887"
             ],
             [
              0.1111111111111111,
              "#46039f"
             ],
             [
              0.2222222222222222,
              "#7201a8"
             ],
             [
              0.3333333333333333,
              "#9c179e"
             ],
             [
              0.4444444444444444,
              "#bd3786"
             ],
             [
              0.5555555555555556,
              "#d8576b"
             ],
             [
              0.6666666666666666,
              "#ed7953"
             ],
             [
              0.7777777777777778,
              "#fb9f3a"
             ],
             [
              0.8888888888888888,
              "#fdca26"
             ],
             [
              1,
              "#f0f921"
             ]
            ],
            "type": "contour"
           }
          ],
          "contourcarpet": [
           {
            "colorbar": {
             "outlinewidth": 0,
             "ticks": ""
            },
            "type": "contourcarpet"
           }
          ],
          "heatmap": [
           {
            "colorbar": {
             "outlinewidth": 0,
             "ticks": ""
            },
            "colorscale": [
             [
              0,
              "#0d0887"
             ],
             [
              0.1111111111111111,
              "#46039f"
             ],
             [
              0.2222222222222222,
              "#7201a8"
             ],
             [
              0.3333333333333333,
              "#9c179e"
             ],
             [
              0.4444444444444444,
              "#bd3786"
             ],
             [
              0.5555555555555556,
              "#d8576b"
             ],
             [
              0.6666666666666666,
              "#ed7953"
             ],
             [
              0.7777777777777778,
              "#fb9f3a"
             ],
             [
              0.8888888888888888,
              "#fdca26"
             ],
             [
              1,
              "#f0f921"
             ]
            ],
            "type": "heatmap"
           }
          ],
          "heatmapgl": [
           {
            "colorbar": {
             "outlinewidth": 0,
             "ticks": ""
            },
            "colorscale": [
             [
              0,
              "#0d0887"
             ],
             [
              0.1111111111111111,
              "#46039f"
             ],
             [
              0.2222222222222222,
              "#7201a8"
             ],
             [
              0.3333333333333333,
              "#9c179e"
             ],
             [
              0.4444444444444444,
              "#bd3786"
             ],
             [
              0.5555555555555556,
              "#d8576b"
             ],
             [
              0.6666666666666666,
              "#ed7953"
             ],
             [
              0.7777777777777778,
              "#fb9f3a"
             ],
             [
              0.8888888888888888,
              "#fdca26"
             ],
             [
              1,
              "#f0f921"
             ]
            ],
            "type": "heatmapgl"
           }
          ],
          "histogram": [
           {
            "marker": {
             "pattern": {
              "fillmode": "overlay",
              "size": 10,
              "solidity": 0.2
             }
            },
            "type": "histogram"
           }
          ],
          "histogram2d": [
           {
            "colorbar": {
             "outlinewidth": 0,
             "ticks": ""
            },
            "colorscale": [
             [
              0,
              "#0d0887"
             ],
             [
              0.1111111111111111,
              "#46039f"
             ],
             [
              0.2222222222222222,
              "#7201a8"
             ],
             [
              0.3333333333333333,
              "#9c179e"
             ],
             [
              0.4444444444444444,
              "#bd3786"
             ],
             [
              0.5555555555555556,
              "#d8576b"
             ],
             [
              0.6666666666666666,
              "#ed7953"
             ],
             [
              0.7777777777777778,
              "#fb9f3a"
             ],
             [
              0.8888888888888888,
              "#fdca26"
             ],
             [
              1,
              "#f0f921"
             ]
            ],
            "type": "histogram2d"
           }
          ],
          "histogram2dcontour": [
           {
            "colorbar": {
             "outlinewidth": 0,
             "ticks": ""
            },
            "colorscale": [
             [
              0,
              "#0d0887"
             ],
             [
              0.1111111111111111,
              "#46039f"
             ],
             [
              0.2222222222222222,
              "#7201a8"
             ],
             [
              0.3333333333333333,
              "#9c179e"
             ],
             [
              0.4444444444444444,
              "#bd3786"
             ],
             [
              0.5555555555555556,
              "#d8576b"
             ],
             [
              0.6666666666666666,
              "#ed7953"
             ],
             [
              0.7777777777777778,
              "#fb9f3a"
             ],
             [
              0.8888888888888888,
              "#fdca26"
             ],
             [
              1,
              "#f0f921"
             ]
            ],
            "type": "histogram2dcontour"
           }
          ],
          "mesh3d": [
           {
            "colorbar": {
             "outlinewidth": 0,
             "ticks": ""
            },
            "type": "mesh3d"
           }
          ],
          "parcoords": [
           {
            "line": {
             "colorbar": {
              "outlinewidth": 0,
              "ticks": ""
             }
            },
            "type": "parcoords"
           }
          ],
          "pie": [
           {
            "automargin": true,
            "type": "pie"
           }
          ],
          "scatter": [
           {
            "fillpattern": {
             "fillmode": "overlay",
             "size": 10,
             "solidity": 0.2
            },
            "type": "scatter"
           }
          ],
          "scatter3d": [
           {
            "line": {
             "colorbar": {
              "outlinewidth": 0,
              "ticks": ""
             }
            },
            "marker": {
             "colorbar": {
              "outlinewidth": 0,
              "ticks": ""
             }
            },
            "type": "scatter3d"
           }
          ],
          "scattercarpet": [
           {
            "marker": {
             "colorbar": {
              "outlinewidth": 0,
              "ticks": ""
             }
            },
            "type": "scattercarpet"
           }
          ],
          "scattergeo": [
           {
            "marker": {
             "colorbar": {
              "outlinewidth": 0,
              "ticks": ""
             }
            },
            "type": "scattergeo"
           }
          ],
          "scattergl": [
           {
            "marker": {
             "colorbar": {
              "outlinewidth": 0,
              "ticks": ""
             }
            },
            "type": "scattergl"
           }
          ],
          "scattermapbox": [
           {
            "marker": {
             "colorbar": {
              "outlinewidth": 0,
              "ticks": ""
             }
            },
            "type": "scattermapbox"
           }
          ],
          "scatterpolar": [
           {
            "marker": {
             "colorbar": {
              "outlinewidth": 0,
              "ticks": ""
             }
            },
            "type": "scatterpolar"
           }
          ],
          "scatterpolargl": [
           {
            "marker": {
             "colorbar": {
              "outlinewidth": 0,
              "ticks": ""
             }
            },
            "type": "scatterpolargl"
           }
          ],
          "scatterternary": [
           {
            "marker": {
             "colorbar": {
              "outlinewidth": 0,
              "ticks": ""
             }
            },
            "type": "scatterternary"
           }
          ],
          "surface": [
           {
            "colorbar": {
             "outlinewidth": 0,
             "ticks": ""
            },
            "colorscale": [
             [
              0,
              "#0d0887"
             ],
             [
              0.1111111111111111,
              "#46039f"
             ],
             [
              0.2222222222222222,
              "#7201a8"
             ],
             [
              0.3333333333333333,
              "#9c179e"
             ],
             [
              0.4444444444444444,
              "#bd3786"
             ],
             [
              0.5555555555555556,
              "#d8576b"
             ],
             [
              0.6666666666666666,
              "#ed7953"
             ],
             [
              0.7777777777777778,
              "#fb9f3a"
             ],
             [
              0.8888888888888888,
              "#fdca26"
             ],
             [
              1,
              "#f0f921"
             ]
            ],
            "type": "surface"
           }
          ],
          "table": [
           {
            "cells": {
             "fill": {
              "color": "#EBF0F8"
             },
             "line": {
              "color": "white"
             }
            },
            "header": {
             "fill": {
              "color": "#C8D4E3"
             },
             "line": {
              "color": "white"
             }
            },
            "type": "table"
           }
          ]
         },
         "layout": {
          "annotationdefaults": {
           "arrowcolor": "#2a3f5f",
           "arrowhead": 0,
           "arrowwidth": 1
          },
          "autotypenumbers": "strict",
          "coloraxis": {
           "colorbar": {
            "outlinewidth": 0,
            "ticks": ""
           }
          },
          "colorscale": {
           "diverging": [
            [
             0,
             "#8e0152"
            ],
            [
             0.1,
             "#c51b7d"
            ],
            [
             0.2,
             "#de77ae"
            ],
            [
             0.3,
             "#f1b6da"
            ],
            [
             0.4,
             "#fde0ef"
            ],
            [
             0.5,
             "#f7f7f7"
            ],
            [
             0.6,
             "#e6f5d0"
            ],
            [
             0.7,
             "#b8e186"
            ],
            [
             0.8,
             "#7fbc41"
            ],
            [
             0.9,
             "#4d9221"
            ],
            [
             1,
             "#276419"
            ]
           ],
           "sequential": [
            [
             0,
             "#0d0887"
            ],
            [
             0.1111111111111111,
             "#46039f"
            ],
            [
             0.2222222222222222,
             "#7201a8"
            ],
            [
             0.3333333333333333,
             "#9c179e"
            ],
            [
             0.4444444444444444,
             "#bd3786"
            ],
            [
             0.5555555555555556,
             "#d8576b"
            ],
            [
             0.6666666666666666,
             "#ed7953"
            ],
            [
             0.7777777777777778,
             "#fb9f3a"
            ],
            [
             0.8888888888888888,
             "#fdca26"
            ],
            [
             1,
             "#f0f921"
            ]
           ],
           "sequentialminus": [
            [
             0,
             "#0d0887"
            ],
            [
             0.1111111111111111,
             "#46039f"
            ],
            [
             0.2222222222222222,
             "#7201a8"
            ],
            [
             0.3333333333333333,
             "#9c179e"
            ],
            [
             0.4444444444444444,
             "#bd3786"
            ],
            [
             0.5555555555555556,
             "#d8576b"
            ],
            [
             0.6666666666666666,
             "#ed7953"
            ],
            [
             0.7777777777777778,
             "#fb9f3a"
            ],
            [
             0.8888888888888888,
             "#fdca26"
            ],
            [
             1,
             "#f0f921"
            ]
           ]
          },
          "colorway": [
           "#636efa",
           "#EF553B",
           "#00cc96",
           "#ab63fa",
           "#FFA15A",
           "#19d3f3",
           "#FF6692",
           "#B6E880",
           "#FF97FF",
           "#FECB52"
          ],
          "font": {
           "color": "#2a3f5f"
          },
          "geo": {
           "bgcolor": "white",
           "lakecolor": "white",
           "landcolor": "#E5ECF6",
           "showlakes": true,
           "showland": true,
           "subunitcolor": "white"
          },
          "hoverlabel": {
           "align": "left"
          },
          "hovermode": "closest",
          "mapbox": {
           "style": "light"
          },
          "paper_bgcolor": "white",
          "plot_bgcolor": "#E5ECF6",
          "polar": {
           "angularaxis": {
            "gridcolor": "white",
            "linecolor": "white",
            "ticks": ""
           },
           "bgcolor": "#E5ECF6",
           "radialaxis": {
            "gridcolor": "white",
            "linecolor": "white",
            "ticks": ""
           }
          },
          "scene": {
           "xaxis": {
            "backgroundcolor": "#E5ECF6",
            "gridcolor": "white",
            "gridwidth": 2,
            "linecolor": "white",
            "showbackground": true,
            "ticks": "",
            "zerolinecolor": "white"
           },
           "yaxis": {
            "backgroundcolor": "#E5ECF6",
            "gridcolor": "white",
            "gridwidth": 2,
            "linecolor": "white",
            "showbackground": true,
            "ticks": "",
            "zerolinecolor": "white"
           },
           "zaxis": {
            "backgroundcolor": "#E5ECF6",
            "gridcolor": "white",
            "gridwidth": 2,
            "linecolor": "white",
            "showbackground": true,
            "ticks": "",
            "zerolinecolor": "white"
           }
          },
          "shapedefaults": {
           "line": {
            "color": "#2a3f5f"
           }
          },
          "ternary": {
           "aaxis": {
            "gridcolor": "white",
            "linecolor": "white",
            "ticks": ""
           },
           "baxis": {
            "gridcolor": "white",
            "linecolor": "white",
            "ticks": ""
           },
           "bgcolor": "#E5ECF6",
           "caxis": {
            "gridcolor": "white",
            "linecolor": "white",
            "ticks": ""
           }
          },
          "title": {
           "x": 0.05
          },
          "xaxis": {
           "automargin": true,
           "gridcolor": "white",
           "linecolor": "white",
           "ticks": "",
           "title": {
            "standoff": 15
           },
           "zerolinecolor": "white",
           "zerolinewidth": 2
          },
          "yaxis": {
           "automargin": true,
           "gridcolor": "white",
           "linecolor": "white",
           "ticks": "",
           "title": {
            "standoff": 15
           },
           "zerolinecolor": "white",
           "zerolinewidth": 2
          }
         }
        },
        "title": {
         "text": "Flow of Data Points from 2 to 7 Clusters"
        }
       }
      },
      "image/png": "[encoded data removed]",
      "text/html": [
       "<div>                            <div id=\"dea19ab8-047d-4580-b7da-a0ed648c9aa8\" class=\"plotly-graph-div\" style=\"height:525px; width:100%;\"></div>            <script type=\"text/javascript\">                require([\"plotly\"], function(Plotly) {                    window.PLOTLYENV=window.PLOTLYENV || {};                                    if (document.getElementById(\"dea19ab8-047d-4580-b7da-a0ed648c9aa8\")) {                    Plotly.newPlot(                        \"dea19ab8-047d-4580-b7da-a0ed648c9aa8\",                        [{\"link\":{\"source\":[0.0,1.0,1.0,2,3,4,4,5,5,6,7,8,9,10,10,11,12,13,14,15,16,16,17,18,19],\"target\":[2,3,4,5,6,7,8,9,13,10,11,12,14,15,19,16,17,18,20,21,22,26,23,24,25],\"value\":[64,39,37,64,39,26,11,51,13,39,26,11,51,31,8,26,11,13,51,31,10,16,11,13,8]},\"node\":{\"label\":[\"2clusters_1\",\"2clusters_2\",\"3clusters_1\",\"3clusters_2\",\"3clusters_3\",\"4clusters_1\",\"4clusters_2\",\"4clusters_3\",\"4clusters_4\",\"5clusters_1\",\"5clusters_2\",\"5clusters_3\",\"5clusters_4\",\"5clusters_5\",\"6clusters_1\",\"6clusters_2\",\"6clusters_3\",\"6clusters_4\",\"6clusters_5\",\"6clusters_6\",\"7clusters_1\",\"7clusters_2\",\"7clusters_3\",\"7clusters_4\",\"7clusters_5\",\"7clusters_6\",\"7clusters_7\"],\"line\":{\"color\":\"black\",\"width\":0.5},\"pad\":15,\"thickness\":20},\"type\":\"sankey\"}],                        {\"template\":{\"data\":{\"histogram2dcontour\":[{\"type\":\"histogram2dcontour\",\"colorbar\":{\"outlinewidth\":0,\"ticks\":\"\"},\"colorscale\":[[0.0,\"#0d0887\"],[0.1111111111111111,\"#46039f\"],[0.2222222222222222,\"#7201a8\"],[0.3333333333333333,\"#9c179e\"],[0.4444444444444444,\"#bd3786\"],[0.5555555555555556,\"#d8576b\"],[0.6666666666666666,\"#ed7953\"],[0.7777777777777778,\"#fb9f3a\"],[0.8888888888888888,\"#fdca26\"],[1.0,\"#f0f921\"]]}],\"choropleth\":[{\"type\":\"choropleth\",\"colorbar\":{\"outlinewidth\":0,\"ticks\":\"\"}}],\"histogram2d\":[{\"type\":\"histogram2d\",\"colorbar\":{\"outlinewidth\":0,\"ticks\":\"\"},\"colorscale\":[[0.0,\"#0d0887\"],[0.1111111111111111,\"#46039f\"],[0.2222222222222222,\"#7201a8\"],[0.3333333333333333,\"#9c179e\"],[0.4444444444444444,\"#bd3786\"],[0.5555555555555556,\"#d8576b\"],[0.6666666666666666,\"#ed7953\"],[0.7777777777777778,\"#fb9f3a\"],[0.8888888888888888,\"#fdca26\"],[1.0,\"#f0f921\"]]}],\"heatmap\":[{\"type\":\"heatmap\",\"colorbar\":{\"outlinewidth\":0,\"ticks\":\"\"},\"colorscale\":[[0.0,\"#0d0887\"],[0.1111111111111111,\"#46039f\"],[0.2222222222222222,\"#7201a8\"],[0.3333333333333333,\"#9c179e\"],[0.4444444444444444,\"#bd3786\"],[0.5555555555555556,\"#d8576b\"],[0.6666666666666666,\"#ed7953\"],[0.7777777777777778,\"#fb9f3a\"],[0.8888888888888888,\"#fdca26\"],[1.0,\"#f0f921\"]]}],\"heatmapgl\":[{\"type\":\"heatmapgl\",\"colorbar\":{\"outlinewidth\":0,\"ticks\":\"\"},\"colorscale\":[[0.0,\"#0d0887\"],[0.1111111111111111,\"#46039f\"],[0.2222222222222222,\"#7201a8\"],[0.3333333333333333,\"#9c179e\"],[0.4444444444444444,\"#bd3786\"],[0.5555555555555556,\"#d8576b\"],[0.6666666666666666,\"#ed7953\"],[0.7777777777777778,\"#fb9f3a\"],[0.8888888888888888,\"#fdca26\"],[1.0,\"#f0f921\"]]}],\"contourcarpet\":[{\"type\":\"contourcarpet\",\"colorbar\":{\"outlinewidth\":0,\"ticks\":\"\"}}],\"contour\":[{\"type\":\"contour\",\"colorbar\":{\"outlinewidth\":0,\"ticks\":\"\"},\"colorscale\":[[0.0,\"#0d0887\"],[0.1111111111111111,\"#46039f\"],[0.2222222222222222,\"#7201a8\"],[0.3333333333333333,\"#9c179e\"],[0.4444444444444444,\"#bd3786\"],[0.5555555555555556,\"#d8576b\"],[0.6666666666666666,\"#ed7953\"],[0.7777777777777778,\"#fb9f3a\"],[0.8888888888888888,\"#fdca26\"],[1.0,\"#f0f921\"]]}],\"surface\":[{\"type\":\"surface\",\"colorbar\":{\"outlinewidth\":0,\"ticks\":\"\"},\"colorscale\":[[0.0,\"#0d0887\"],[0.1111111111111111,\"#46039f\"],[0.2222222222222222,\"#7201a8\"],[0.3333333333333333,\"#9c179e\"],[0.4444444444444444,\"#bd3786\"],[0.5555555555555556,\"#d8576b\"],[0.6666666666666666,\"#ed7953\"],[0.7777777777777778,\"#fb9f3a\"],[0.8888888888888888,\"#fdca26\"],[1.0,\"#f0f921\"]]}],\"mesh3d\":[{\"type\":\"mesh3d\",\"colorbar\":{\"outlinewidth\":0,\"ticks\":\"\"}}],\"scatter\":[{\"fillpattern\":{\"fillmode\":\"overlay\",\"size\":10,\"solidity\":0.2},\"type\":\"scatter\"}],\"parcoords\":[{\"type\":\"parcoords\",\"line\":{\"colorbar\":{\"outlinewidth\":0,\"ticks\":\"\"}}}],\"scatterpolargl\":[{\"type\":\"scatterpolargl\",\"marker\":{\"colorbar\":{\"outlinewidth\":0,\"ticks\":\"\"}}}],\"bar\":[{\"error_x\":{\"color\":\"#2a3f5f\"},\"error_y\":{\"color\":\"#2a3f5f\"},\"marker\":{\"line\":{\"color\":\"#E5ECF6\",\"width\":0.5},\"pattern\":{\"fillmode\":\"overlay\",\"size\":10,\"solidity\":0.2}},\"type\":\"bar\"}],\"scattergeo\":[{\"type\":\"scattergeo\",\"marker\":{\"colorbar\":{\"outlinewidth\":0,\"ticks\":\"\"}}}],\"scatterpolar\":[{\"type\":\"scatterpolar\",\"marker\":{\"colorbar\":{\"outlinewidth\":0,\"ticks\":\"\"}}}],\"histogram\":[{\"marker\":{\"pattern\":{\"fillmode\":\"overlay\",\"size\":10,\"solidity\":0.2}},\"type\":\"histogram\"}],\"scattergl\":[{\"type\":\"scattergl\",\"marker\":{\"colorbar\":{\"outlinewidth\":0,\"ticks\":\"\"}}}],\"scatter3d\":[{\"type\":\"scatter3d\",\"line\":{\"colorbar\":{\"outlinewidth\":0,\"ticks\":\"\"}},\"marker\":{\"colorbar\":{\"outlinewidth\":0,\"ticks\":\"\"}}}],\"scattermapbox\":[{\"type\":\"scattermapbox\",\"marker\":{\"colorbar\":{\"outlinewidth\":0,\"ticks\":\"\"}}}],\"scatterternary\":[{\"type\":\"scatterternary\",\"marker\":{\"colorbar\":{\"outlinewidth\":0,\"ticks\":\"\"}}}],\"scattercarpet\":[{\"type\":\"scattercarpet\",\"marker\":{\"colorbar\":{\"outlinewidth\":0,\"ticks\":\"\"}}}],\"carpet\":[{\"aaxis\":{\"endlinecolor\":\"#2a3f5f\",\"gridcolor\":\"white\",\"linecolor\":\"white\",\"minorgridcolor\":\"white\",\"startlinecolor\":\"#2a3f5f\"},\"baxis\":{\"endlinecolor\":\"#2a3f5f\",\"gridcolor\":\"white\",\"linecolor\":\"white\",\"minorgridcolor\":\"white\",\"startlinecolor\":\"#2a3f5f\"},\"type\":\"carpet\"}],\"table\":[{\"cells\":{\"fill\":{\"color\":\"#EBF0F8\"},\"line\":{\"color\":\"white\"}},\"header\":{\"fill\":{\"color\":\"#C8D4E3\"},\"line\":{\"color\":\"white\"}},\"type\":\"table\"}],\"barpolar\":[{\"marker\":{\"line\":{\"color\":\"#E5ECF6\",\"width\":0.5},\"pattern\":{\"fillmode\":\"overlay\",\"size\":10,\"solidity\":0.2}},\"type\":\"barpolar\"}],\"pie\":[{\"automargin\":true,\"type\":\"pie\"}]},\"layout\":{\"autotypenumbers\":\"strict\",\"colorway\":[\"#636efa\",\"#EF553B\",\"#00cc96\",\"#ab63fa\",\"#FFA15A\",\"#19d3f3\",\"#FF6692\",\"#B6E880\",\"#FF97FF\",\"#FECB52\"],\"font\":{\"color\":\"#2a3f5f\"},\"hovermode\":\"closest\",\"hoverlabel\":{\"align\":\"left\"},\"paper_bgcolor\":\"white\",\"plot_bgcolor\":\"#E5ECF6\",\"polar\":{\"bgcolor\":\"#E5ECF6\",\"angularaxis\":{\"gridcolor\":\"white\",\"linecolor\":\"white\",\"ticks\":\"\"},\"radialaxis\":{\"gridcolor\":\"white\",\"linecolor\":\"white\",\"ticks\":\"\"}},\"ternary\":{\"bgcolor\":\"#E5ECF6\",\"aaxis\":{\"gridcolor\":\"white\",\"linecolor\":\"white\",\"ticks\":\"\"},\"baxis\":{\"gridcolor\":\"white\",\"linecolor\":\"white\",\"ticks\":\"\"},\"caxis\":{\"gridcolor\":\"white\",\"linecolor\":\"white\",\"ticks\":\"\"}},\"coloraxis\":{\"colorbar\":{\"outlinewidth\":0,\"ticks\":\"\"}},\"colorscale\":{\"sequential\":[[0.0,\"#0d0887\"],[0.1111111111111111,\"#46039f\"],[0.2222222222222222,\"#7201a8\"],[0.3333333333333333,\"#9c179e\"],[0.4444444444444444,\"#bd3786\"],[0.5555555555555556,\"#d8576b\"],[0.6666666666666666,\"#ed7953\"],[0.7777777777777778,\"#fb9f3a\"],[0.8888888888888888,\"#fdca26\"],[1.0,\"#f0f921\"]],\"sequentialminus\":[[0.0,\"#0d0887\"],[0.1111111111111111,\"#46039f\"],[0.2222222222222222,\"#7201a8\"],[0.3333333333333333,\"#9c179e\"],[0.4444444444444444,\"#bd3786\"],[0.5555555555555556,\"#d8576b\"],[0.6666666666666666,\"#ed7953\"],[0.7777777777777778,\"#fb9f3a\"],[0.8888888888888888,\"#fdca26\"],[1.0,\"#f0f921\"]],\"diverging\":[[0,\"#8e0152\"],[0.1,\"#c51b7d\"],[0.2,\"#de77ae\"],[0.3,\"#f1b6da\"],[0.4,\"#fde0ef\"],[0.5,\"#f7f7f7\"],[0.6,\"#e6f5d0\"],[0.7,\"#b8e186\"],[0.8,\"#7fbc41\"],[0.9,\"#4d9221\"],[1,\"#276419\"]]},\"xaxis\":{\"gridcolor\":\"white\",\"linecolor\":\"white\",\"ticks\":\"\",\"title\":{\"standoff\":15},\"zerolinecolor\":\"white\",\"automargin\":true,\"zerolinewidth\":2},\"yaxis\":{\"gridcolor\":\"white\",\"linecolor\":\"white\",\"ticks\":\"\",\"title\":{\"standoff\":15},\"zerolinecolor\":\"white\",\"automargin\":true,\"zerolinewidth\":2},\"scene\":{\"xaxis\":{\"backgroundcolor\":\"#E5ECF6\",\"gridcolor\":\"white\",\"linecolor\":\"white\",\"showbackground\":true,\"ticks\":\"\",\"zerolinecolor\":\"white\",\"gridwidth\":2},\"yaxis\":{\"backgroundcolor\":\"#E5ECF6\",\"gridcolor\":\"white\",\"linecolor\":\"white\",\"showbackground\":true,\"ticks\":\"\",\"zerolinecolor\":\"white\",\"gridwidth\":2},\"zaxis\":{\"backgroundcolor\":\"#E5ECF6\",\"gridcolor\":\"white\",\"linecolor\":\"white\",\"showbackground\":true,\"ticks\":\"\",\"zerolinecolor\":\"white\",\"gridwidth\":2}},\"shapedefaults\":{\"line\":{\"color\":\"#2a3f5f\"}},\"annotationdefaults\":{\"arrowcolor\":\"#2a3f5f\",\"arrowhead\":0,\"arrowwidth\":1},\"geo\":{\"bgcolor\":\"white\",\"landcolor\":\"#E5ECF6\",\"subunitcolor\":\"white\",\"showland\":true,\"showlakes\":true,\"lakecolor\":\"white\"},\"title\":{\"x\":0.05},\"mapbox\":{\"style\":\"light\"}}},\"title\":{\"text\":\"Flow of Data Points from 2 to 7 Clusters\"},\"font\":{\"size\":10}},                        {\"responsive\": true}                    ).then(function(){\n",
       "                            \n",
       "var gd = document.getElementById('dea19ab8-047d-4580-b7da-a0ed648c9aa8');\n",
       "var x = new MutationObserver(function (mutations, observer) {{\n",
       "        var display = window.getComputedStyle(gd).display;\n",
       "        if (!display || display === 'none') {{\n",
       "            console.log([gd, 'removed!']);\n",
       "            Plotly.purge(gd);\n",
       "            observer.disconnect();\n",
       "        }}\n",
       "}});\n",
       "\n",
       "// Listen for the removal of the full notebook cells\n",
       "var notebookContainer = gd.closest('#notebook-container');\n",
       "if (notebookContainer) {{\n",
       "    x.observe(notebookContainer, {childList: true});\n",
       "}}\n",
       "\n",
       "// Listen for the clearing of the current output cell\n",
       "var outputEl = gd.closest('.output');\n",
       "if (outputEl) {{\n",
       "    x.observe(outputEl, {childList: true});\n",
       "}}\n",
       "\n",
       "                        })                };                });            </script>        </div>"
      ]
     },
     "metadata": {},
     "output_type": "display_data"
    }
   ],
   "source": [
    "import pandas as pd\n",
    "from sklearn.cluster import KMeans\n",
    "from sklearn.preprocessing import StandardScaler\n",
    "import plotly.graph_objects as go\n",
    "\n",
    "# Standardize the data\n",
    "scaler = StandardScaler()\n",
    "data_scaled = scaler.fit_transform(trends_matrix)\n",
    "\n",
    "# Dictionary to store cluster labels for each k\n",
    "cluster_labels = {}\n",
    "for k in range(2, 8):  # Clustering from 2 to 7 clusters\n",
    "    kmeans = KMeans(n_clusters=k, random_state=42)\n",
    "    cluster_labels[k] = kmeans.fit_predict(data_scaled)\n",
    "\n",
    "# Prepare transition data for Sankey diagram\n",
    "sources = []\n",
    "targets = []\n",
    "values = []\n",
    "label_list = []\n",
    "\n",
    "# Iterate through pairs of consecutive clusterings\n",
    "for k in range(2, 7):\n",
    "    # Create a DataFrame to track transitions between k and k+1\n",
    "    df_transition = pd.DataFrame({\n",
    "        f'Cluster_{k}': cluster_labels[k],\n",
    "        f'Cluster_{k+1}': cluster_labels[k+1]\n",
    "    })\n",
    "    # Count transitions between clusters\n",
    "    transition_counts = df_transition.groupby([f'Cluster_{k}', f'Cluster_{k+1}']).size().reset_index(name='count')\n",
    "    \n",
    "    for _, row in transition_counts.iterrows():\n",
    "        sources.append(row[f'Cluster_{k}'] + sum(range(2, k)))  # Unique source ID\n",
    "        targets.append(row[f'Cluster_{k+1}'] + sum(range(2, k + 1)))  # Unique target ID\n",
    "        values.append(row['count'])\n",
    "\n",
    "# Define labels for each node\n",
    "label_list = [f\"{k}clusters_{i+1}\" for k in range(2, 8) for i in range(k)]\n",
    "\n",
    "# Create the Sankey diagram\n",
    "fig = go.Figure(go.Sankey(\n",
    "    node=dict(\n",
    "        pad=15,\n",
    "        thickness=20,\n",
    "        line=dict(color=\"black\", width=0.5),\n",
    "        label=label_list,\n",
    "    ),\n",
    "    link=dict(\n",
    "        source=sources,\n",
    "        target=targets,\n",
    "        value=values\n",
    "    )\n",
    "))\n",
    "\n",
    "fig.update_layout(title_text=\"Flow of Data Points from 2 to 7 Clusters\", font_size=10)\n",
    "fig.show()\n"
   ]
  },
  {
   "cell_type": "code",
   "execution_count": 31,
   "id": "1bcfb7d9-b3cd-4ae0-988d-7351b89fabc7",
   "metadata": {},
   "outputs": [
    {
     "name": "stdout",
     "output_type": "stream",
     "text": [
      "Cluster_1 data:\n",
      "         x       y\n",
      "48  82.875  27.375\n",
      "49  83.125  27.375\n",
      "50  83.375  27.375\n",
      "51  83.625  27.375\n",
      "52  83.875  27.375\n",
      "Cluster_2 data:\n",
      "        x       y\n",
      "0  86.625  26.375\n",
      "1  86.875  26.375\n",
      "2  87.125  26.375\n",
      "3  87.375  26.375\n",
      "4  87.625  26.375\n",
      "Cluster_3 data:\n",
      "         x       y\n",
      "19  84.875  26.875\n",
      "20  85.125  26.875\n",
      "33  84.625  27.125\n",
      "34  84.875  27.125\n",
      "35  85.125  27.125\n",
      "Cluster_4 data:\n",
      "          x       y\n",
      "106  80.875  28.375\n",
      "115  80.375  28.625\n",
      "116  80.625  28.625\n",
      "117  80.875  28.625\n",
      "124  80.125  28.875\n"
     ]
    },
    {
     "name": "stderr",
     "output_type": "stream",
     "text": [
      "C:\\Users\\Hp\\anaconda3\\Lib\\site-packages\\sklearn\\cluster\\_kmeans.py:1446: UserWarning:\n",
      "\n",
      "KMeans is known to have a memory leak on Windows with MKL, when there are less chunks than available threads. You can avoid it by setting the environment variable OMP_NUM_THREADS=1.\n",
      "\n"
     ]
    },
    {
     "data": {
      "text/plain": [
       "{'Cluster_1':           x       y\n",
       " 48   82.875  27.375\n",
       " 49   83.125  27.375\n",
       " 50   83.375  27.375\n",
       " 51   83.625  27.375\n",
       " 52   83.875  27.375\n",
       " ..      ...     ...\n",
       " 135  81.125  29.125\n",
       " 136  80.375  29.375\n",
       " 137  80.625  29.375\n",
       " 138  80.875  29.375\n",
       " 139  81.125  29.375\n",
       " \n",
       " [64 rows x 2 columns],\n",
       " 'Cluster_2':          x       y\n",
       " 0   86.625  26.375\n",
       " 1   86.875  26.375\n",
       " 2   87.125  26.375\n",
       " 3   87.375  26.375\n",
       " 4   87.625  26.375\n",
       " 5   87.875  26.375\n",
       " 6   88.125  26.375\n",
       " 7   85.375  26.625\n",
       " 8   85.625  26.625\n",
       " 9   85.875  26.625\n",
       " 10  86.125  26.625\n",
       " 11  86.375  26.625\n",
       " 12  86.625  26.625\n",
       " 13  86.875  26.625\n",
       " 14  87.125  26.625\n",
       " 15  87.375  26.625\n",
       " 16  87.625  26.625\n",
       " 17  87.875  26.625\n",
       " 18  88.125  26.625\n",
       " 21  85.375  26.875\n",
       " 22  85.625  26.875\n",
       " 23  85.875  26.875\n",
       " 24  86.125  26.875\n",
       " 25  86.375  26.875\n",
       " 26  86.625  26.875\n",
       " 27  86.875  26.875\n",
       " 28  87.125  26.875\n",
       " 29  87.375  26.875\n",
       " 30  87.625  26.875\n",
       " 31  87.875  26.875\n",
       " 32  88.125  26.875\n",
       " 40  86.375  27.125\n",
       " 41  86.625  27.125\n",
       " 42  86.875  27.125\n",
       " 43  87.125  27.125\n",
       " 44  87.375  27.125\n",
       " 45  87.625  27.125\n",
       " 46  87.875  27.125\n",
       " 47  88.125  27.125,\n",
       " 'Cluster_3':          x       y\n",
       " 19  84.875  26.875\n",
       " 20  85.125  26.875\n",
       " 33  84.625  27.125\n",
       " 34  84.875  27.125\n",
       " 35  85.125  27.125\n",
       " 36  85.375  27.125\n",
       " 37  85.625  27.125\n",
       " 38  85.875  27.125\n",
       " 39  86.125  27.125\n",
       " 54  84.375  27.375\n",
       " 55  84.625  27.375\n",
       " 56  84.875  27.375\n",
       " 57  85.125  27.375\n",
       " 58  85.375  27.375\n",
       " 59  85.625  27.375\n",
       " 60  85.875  27.375\n",
       " 61  86.125  27.375\n",
       " 62  86.375  27.375\n",
       " 63  86.875  27.375\n",
       " 64  87.125  27.375\n",
       " 73  84.375  27.625\n",
       " 76  85.125  27.625\n",
       " 77  85.375  27.625\n",
       " 78  85.625  27.625\n",
       " 79  85.875  27.625\n",
       " 93  85.625  27.875,\n",
       " 'Cluster_4':           x       y\n",
       " 106  80.875  28.375\n",
       " 115  80.375  28.625\n",
       " 116  80.625  28.625\n",
       " 117  80.875  28.625\n",
       " 124  80.125  28.875\n",
       " 125  80.375  28.875\n",
       " 126  80.625  28.875\n",
       " 127  80.875  28.875\n",
       " 131  80.125  29.125\n",
       " 132  80.375  29.125\n",
       " 133  80.625  29.125}"
      ]
     },
     "execution_count": 31,
     "metadata": {},
     "output_type": "execute_result"
    }
   ],
   "source": [
    "import pandas as pd\n",
    "\n",
    "# Fit KMeans with the chosen number of clusters (5)\n",
    "kmeans = KMeans(n_clusters=4, random_state=42)\n",
    "clusters = kmeans.fit_predict(data_scaled)\n",
    "\n",
    "# Assuming your original data is in a DataFrame called trends_df with columns 'x' and 'y'\n",
    "trends_df['Cluster'] = clusters\n",
    "\n",
    "# Extract the values of x and y for each cluster\n",
    "clustered_data = {}\n",
    "for i in range(4):  # Loop over each cluster\n",
    "    clustered_data[f'Cluster_{i+1}'] = trends_df[trends_df['Cluster'] == i][['x', 'y']]\n",
    "\n",
    "# Display or process the clustered data for each cluster\n",
    "for cluster, data in clustered_data.items():\n",
    "    print(f\"{cluster} data:\")\n",
    "    print(data.head())\n",
    "clustered_data\n"
   ]
  },
  {
   "cell_type": "code",
   "execution_count": null,
   "id": "9b6cc121-8bbd-4a12-8c77-6f0dc243cf85",
   "metadata": {},
   "outputs": [],
   "source": [
    "trends_df"
   ]
  },
  {
   "cell_type": "code",
   "execution_count": null,
   "id": "0e6d2d72-0855-42a4-887d-3db722f97a9a",
   "metadata": {},
   "outputs": [],
   "source": [
    "trends_df.to_csv('D:/Masters/Thesis_New/trends_data.csv', index=False)"
   ]
  },
  {
   "cell_type": "code",
   "execution_count": 35,
   "id": "053bd8bc-4d73-4042-874d-655092118a4d",
   "metadata": {},
   "outputs": [
    {
     "data": {
      "image/png": "[encoded data removed]",
      "text/plain": [
       "<Figure size 1000x600 with 1 Axes>"
      ]
     },
     "metadata": {},
     "output_type": "display_data"
    }
   ],
   "source": [
    "import numpy as np\n",
    "import matplotlib.pyplot as plt\n",
    "\n",
    "# Assuming 'trends_matrix' contains the trend data with each row as a time series for each point\n",
    "# and 'clusters' contains the cluster label for each row in 'trends_matrix'\n",
    "\n",
    "# Initialize a dictionary to store the median trend for each cluster\n",
    "median_trends = {}\n",
    "\n",
    "# Calculate the median trend for each cluster\n",
    "for i in range(4):  # Loop over each cluster (0 to 4 if cluster labels are 0-based)\n",
    "    cluster_data = trends_matrix[clusters == i]  # Extract time series data for the cluster\n",
    "    median_trends[f'Cluster_{i+1}'] = np.median(cluster_data, axis=0)  # Median across rows (time series)\n",
    "\n",
    "# Plot the median trends for each cluster\n",
    "plt.figure(figsize=(10, 6))\n",
    "for cluster, median_trend in median_trends.items():\n",
    "    plt.plot(median_trend, label=cluster)  # Plot median trend of each cluster\n",
    "\n",
    "plt.xlabel(\"Time\")\n",
    "plt.ylabel(\"Median Trend Value\")\n",
    "plt.title(\"Median Trend for Each Cluster\")\n",
    "plt.legend()\n",
    "plt.grid(True)\n",
    "plt.show()\n"
   ]
  },
  {
   "cell_type": "code",
   "execution_count": null,
   "id": "215e6ff3-6829-40c3-9e89-70400b31c0ea",
   "metadata": {},
   "outputs": [],
   "source": []
  }
 ],
 "metadata": {
  "kernelspec": {
   "display_name": "Python 3 (ipykernel)",
   "language": "python",
   "name": "python3"
  },
  "language_info": {
   "codemirror_mode": {
    "name": "ipython",
    "version": 3
   },
   "file_extension": ".py",
   "mimetype": "text/x-python",
   "name": "python",
   "nbconvert_exporter": "python",
   "pygments_lexer": "ipython3",
   "version": "3.12.4"
  }
 },
 "nbformat": 4,
 "nbformat_minor": 5
}
