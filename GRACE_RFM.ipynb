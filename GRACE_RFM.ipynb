{
  "cells": [
    {
      "cell_type": "markdown",
      "metadata": {
        "id": "view-in-github",
        "colab_type": "text"
      },
      "source": [
        "<a href=\"https://colab.research.google.com/github/AshHydroCoder/GRACE-Downscaler/blob/Branch1/GRACE_RFM.ipynb\" target=\"_parent\"><img src=\"https://colab.research.google.com/assets/colab-badge.svg\" alt=\"Open In Colab\"/></a>"
      ]
    },
    {
      "cell_type": "code",
      "execution_count": 1,
      "metadata": {
        "id": "d5k22gT2cAHz"
      },
      "outputs": [],
      "source": [
        "import pandas as pd\n",
        "import numpy as np\n",
        "import matplotlib.pyplot as plt\n",
        "from sklearn.preprocessing import MinMaxScaler"
      ]
    },
    {
      "cell_type": "code",
      "execution_count": null,
      "metadata": {
        "colab": {
          "base_uri": "https://localhost:8080/"
        },
        "id": "krX6zAOo1g66",
        "outputId": "f4f0abe4-e767-4cab-de44-287e8a69ff34"
      },
      "outputs": [
        {
          "output_type": "stream",
          "name": "stdout",
          "text": [
            "Mounted at /content/drive\n"
          ]
        }
      ],
      "source": [
        "from google.colab import drive\n",
        "drive.mount('/content/drive')"
      ]
    },
    {
      "cell_type": "markdown",
      "metadata": {
        "id": "MwX_DFgd153s"
      },
      "source": [
        "# Random Forest Model"
      ]
    },
    {
      "cell_type": "code",
      "execution_count": null,
      "metadata": {
        "colab": {
          "base_uri": "https://localhost:8080/",
          "height": 424
        },
        "id": "0NCTVMzl1pCu",
        "outputId": "7417dd31-9b56-43bf-b8d8-bcf69ce5ed14"
      },
      "outputs": [
        {
          "output_type": "execute_result",
          "data": {
            "text/plain": [
              "            time       x       y  Evap_tavg      aspect    elevation  \\\n",
              "1     2003-02-01  85.375  26.625   0.000022  245.842589    68.989243   \n",
              "2     2003-02-01  85.375  26.875   0.000021  167.506144    83.868672   \n",
              "5     2003-02-01  85.625  26.625   0.000019  148.376922    64.760386   \n",
              "6     2003-02-01  85.625  26.875   0.000017  294.482190    93.342925   \n",
              "9     2003-02-01  85.875  26.625   0.000016  262.032071    66.615664   \n",
              "...          ...     ...     ...        ...         ...          ...   \n",
              "7186  2016-12-01  87.375  26.875   0.000019  329.909900  1106.485007   \n",
              "7188  2016-12-01  87.625  26.375   0.000014  194.748858    63.320129   \n",
              "7189  2016-12-01  87.625  26.625   0.000018  175.136278   112.936461   \n",
              "7192  2016-12-01  87.875  26.375   0.000014  214.812721    67.587645   \n",
              "7196  2016-12-01  88.125  26.375   0.000014  269.246836    67.557653   \n",
              "\n",
              "          slope  lwe_thickness  SoilMoi00_10cm_tavg  SoilMoi100_200cm_tavg  \\\n",
              "1      0.204816       4.849241             0.223674               0.368811   \n",
              "2      0.573595       4.849241             0.223054               0.369423   \n",
              "5      0.812282       4.849241             0.217708               0.373856   \n",
              "6      1.098871       4.849241             0.220301               0.372877   \n",
              "9      0.584041       4.849241             0.210313               0.377796   \n",
              "...         ...            ...                  ...                    ...   \n",
              "7186  29.182045     -23.664629             0.219207               0.373931   \n",
              "7188   0.386694     -25.564869             0.231006               0.374640   \n",
              "7189   0.601675     -25.564869             0.234408               0.373894   \n",
              "7192   0.325698     -25.564869             0.233539               0.374398   \n",
              "7196   0.872928     -25.564869             0.235221               0.374287   \n",
              "\n",
              "      SoilMoi10_40cm_tavg  SoilMoi40_100cm_tavg       NDVI  precipitation  \\\n",
              "1                0.196011              0.187771  5350.0625       0.040000   \n",
              "2                0.186495              0.179262  4811.7500       0.055500   \n",
              "5                0.184688              0.174508  5521.8750       0.038063   \n",
              "6                0.178090              0.170949  5436.3125       0.053750   \n",
              "9                0.177543              0.168992  5172.0625       0.038938   \n",
              "...                   ...                   ...        ...            ...   \n",
              "7186             0.257125              0.273687  6528.0000       0.001000   \n",
              "7188             0.337619              0.350046  3546.7500       0.000750   \n",
              "7189             0.314485              0.333620  4432.1250       0.000938   \n",
              "7192             0.333714              0.347749  3840.0000       0.001000   \n",
              "7196             0.329427              0.345193  3974.8750       0.001000   \n",
              "\n",
              "           Qs_tavg  SWE_inst  \n",
              "1     6.995459e-07       0.0  \n",
              "2     3.628992e-07       0.0  \n",
              "5     1.058235e-06       0.0  \n",
              "6     4.452320e-07       0.0  \n",
              "9     1.064802e-06       0.0  \n",
              "...            ...       ...  \n",
              "7186  1.833171e-10       0.0  \n",
              "7188  9.144242e-12       0.0  \n",
              "7189  1.258983e-11       0.0  \n",
              "7192  6.111483e-12       0.0  \n",
              "7196  4.041017e-12       0.0  \n",
              "\n",
              "[4500 rows x 16 columns]"
            ],
            "text/html": [
              "\n",
              "  <div id=\"df-5f55ede4-d602-4bc9-8b7a-b1b8950f8e38\" class=\"colab-df-container\">\n",
              "    <div>\n",
              "<style scoped>\n",
              "    .dataframe tbody tr th:only-of-type {\n",
              "        vertical-align: middle;\n",
              "    }\n",
              "\n",
              "    .dataframe tbody tr th {\n",
              "        vertical-align: top;\n",
              "    }\n",
              "\n",
              "    .dataframe thead th {\n",
              "        text-align: right;\n",
              "    }\n",
              "</style>\n",
              "<table border=\"1\" class=\"dataframe\">\n",
              "  <thead>\n",
              "    <tr style=\"text-align: right;\">\n",
              "      <th></th>\n",
              "      <th>time</th>\n",
              "      <th>x</th>\n",
              "      <th>y</th>\n",
              "      <th>Evap_tavg</th>\n",
              "      <th>aspect</th>\n",
              "      <th>elevation</th>\n",
              "      <th>slope</th>\n",
              "      <th>lwe_thickness</th>\n",
              "      <th>SoilMoi00_10cm_tavg</th>\n",
              "      <th>SoilMoi100_200cm_tavg</th>\n",
              "      <th>SoilMoi10_40cm_tavg</th>\n",
              "      <th>SoilMoi40_100cm_tavg</th>\n",
              "      <th>NDVI</th>\n",
              "      <th>precipitation</th>\n",
              "      <th>Qs_tavg</th>\n",
              "      <th>SWE_inst</th>\n",
              "    </tr>\n",
              "  </thead>\n",
              "  <tbody>\n",
              "    <tr>\n",
              "      <th>1</th>\n",
              "      <td>2003-02-01</td>\n",
              "      <td>85.375</td>\n",
              "      <td>26.625</td>\n",
              "      <td>0.000022</td>\n",
              "      <td>245.842589</td>\n",
              "      <td>68.989243</td>\n",
              "      <td>0.204816</td>\n",
              "      <td>4.849241</td>\n",
              "      <td>0.223674</td>\n",
              "      <td>0.368811</td>\n",
              "      <td>0.196011</td>\n",
              "      <td>0.187771</td>\n",
              "      <td>5350.0625</td>\n",
              "      <td>0.040000</td>\n",
              "      <td>6.995459e-07</td>\n",
              "      <td>0.0</td>\n",
              "    </tr>\n",
              "    <tr>\n",
              "      <th>2</th>\n",
              "      <td>2003-02-01</td>\n",
              "      <td>85.375</td>\n",
              "      <td>26.875</td>\n",
              "      <td>0.000021</td>\n",
              "      <td>167.506144</td>\n",
              "      <td>83.868672</td>\n",
              "      <td>0.573595</td>\n",
              "      <td>4.849241</td>\n",
              "      <td>0.223054</td>\n",
              "      <td>0.369423</td>\n",
              "      <td>0.186495</td>\n",
              "      <td>0.179262</td>\n",
              "      <td>4811.7500</td>\n",
              "      <td>0.055500</td>\n",
              "      <td>3.628992e-07</td>\n",
              "      <td>0.0</td>\n",
              "    </tr>\n",
              "    <tr>\n",
              "      <th>5</th>\n",
              "      <td>2003-02-01</td>\n",
              "      <td>85.625</td>\n",
              "      <td>26.625</td>\n",
              "      <td>0.000019</td>\n",
              "      <td>148.376922</td>\n",
              "      <td>64.760386</td>\n",
              "      <td>0.812282</td>\n",
              "      <td>4.849241</td>\n",
              "      <td>0.217708</td>\n",
              "      <td>0.373856</td>\n",
              "      <td>0.184688</td>\n",
              "      <td>0.174508</td>\n",
              "      <td>5521.8750</td>\n",
              "      <td>0.038063</td>\n",
              "      <td>1.058235e-06</td>\n",
              "      <td>0.0</td>\n",
              "    </tr>\n",
              "    <tr>\n",
              "      <th>6</th>\n",
              "      <td>2003-02-01</td>\n",
              "      <td>85.625</td>\n",
              "      <td>26.875</td>\n",
              "      <td>0.000017</td>\n",
              "      <td>294.482190</td>\n",
              "      <td>93.342925</td>\n",
              "      <td>1.098871</td>\n",
              "      <td>4.849241</td>\n",
              "      <td>0.220301</td>\n",
              "      <td>0.372877</td>\n",
              "      <td>0.178090</td>\n",
              "      <td>0.170949</td>\n",
              "      <td>5436.3125</td>\n",
              "      <td>0.053750</td>\n",
              "      <td>4.452320e-07</td>\n",
              "      <td>0.0</td>\n",
              "    </tr>\n",
              "    <tr>\n",
              "      <th>9</th>\n",
              "      <td>2003-02-01</td>\n",
              "      <td>85.875</td>\n",
              "      <td>26.625</td>\n",
              "      <td>0.000016</td>\n",
              "      <td>262.032071</td>\n",
              "      <td>66.615664</td>\n",
              "      <td>0.584041</td>\n",
              "      <td>4.849241</td>\n",
              "      <td>0.210313</td>\n",
              "      <td>0.377796</td>\n",
              "      <td>0.177543</td>\n",
              "      <td>0.168992</td>\n",
              "      <td>5172.0625</td>\n",
              "      <td>0.038938</td>\n",
              "      <td>1.064802e-06</td>\n",
              "      <td>0.0</td>\n",
              "    </tr>\n",
              "    <tr>\n",
              "      <th>...</th>\n",
              "      <td>...</td>\n",
              "      <td>...</td>\n",
              "      <td>...</td>\n",
              "      <td>...</td>\n",
              "      <td>...</td>\n",
              "      <td>...</td>\n",
              "      <td>...</td>\n",
              "      <td>...</td>\n",
              "      <td>...</td>\n",
              "      <td>...</td>\n",
              "      <td>...</td>\n",
              "      <td>...</td>\n",
              "      <td>...</td>\n",
              "      <td>...</td>\n",
              "      <td>...</td>\n",
              "      <td>...</td>\n",
              "    </tr>\n",
              "    <tr>\n",
              "      <th>7186</th>\n",
              "      <td>2016-12-01</td>\n",
              "      <td>87.375</td>\n",
              "      <td>26.875</td>\n",
              "      <td>0.000019</td>\n",
              "      <td>329.909900</td>\n",
              "      <td>1106.485007</td>\n",
              "      <td>29.182045</td>\n",
              "      <td>-23.664629</td>\n",
              "      <td>0.219207</td>\n",
              "      <td>0.373931</td>\n",
              "      <td>0.257125</td>\n",
              "      <td>0.273687</td>\n",
              "      <td>6528.0000</td>\n",
              "      <td>0.001000</td>\n",
              "      <td>1.833171e-10</td>\n",
              "      <td>0.0</td>\n",
              "    </tr>\n",
              "    <tr>\n",
              "      <th>7188</th>\n",
              "      <td>2016-12-01</td>\n",
              "      <td>87.625</td>\n",
              "      <td>26.375</td>\n",
              "      <td>0.000014</td>\n",
              "      <td>194.748858</td>\n",
              "      <td>63.320129</td>\n",
              "      <td>0.386694</td>\n",
              "      <td>-25.564869</td>\n",
              "      <td>0.231006</td>\n",
              "      <td>0.374640</td>\n",
              "      <td>0.337619</td>\n",
              "      <td>0.350046</td>\n",
              "      <td>3546.7500</td>\n",
              "      <td>0.000750</td>\n",
              "      <td>9.144242e-12</td>\n",
              "      <td>0.0</td>\n",
              "    </tr>\n",
              "    <tr>\n",
              "      <th>7189</th>\n",
              "      <td>2016-12-01</td>\n",
              "      <td>87.625</td>\n",
              "      <td>26.625</td>\n",
              "      <td>0.000018</td>\n",
              "      <td>175.136278</td>\n",
              "      <td>112.936461</td>\n",
              "      <td>0.601675</td>\n",
              "      <td>-25.564869</td>\n",
              "      <td>0.234408</td>\n",
              "      <td>0.373894</td>\n",
              "      <td>0.314485</td>\n",
              "      <td>0.333620</td>\n",
              "      <td>4432.1250</td>\n",
              "      <td>0.000938</td>\n",
              "      <td>1.258983e-11</td>\n",
              "      <td>0.0</td>\n",
              "    </tr>\n",
              "    <tr>\n",
              "      <th>7192</th>\n",
              "      <td>2016-12-01</td>\n",
              "      <td>87.875</td>\n",
              "      <td>26.375</td>\n",
              "      <td>0.000014</td>\n",
              "      <td>214.812721</td>\n",
              "      <td>67.587645</td>\n",
              "      <td>0.325698</td>\n",
              "      <td>-25.564869</td>\n",
              "      <td>0.233539</td>\n",
              "      <td>0.374398</td>\n",
              "      <td>0.333714</td>\n",
              "      <td>0.347749</td>\n",
              "      <td>3840.0000</td>\n",
              "      <td>0.001000</td>\n",
              "      <td>6.111483e-12</td>\n",
              "      <td>0.0</td>\n",
              "    </tr>\n",
              "    <tr>\n",
              "      <th>7196</th>\n",
              "      <td>2016-12-01</td>\n",
              "      <td>88.125</td>\n",
              "      <td>26.375</td>\n",
              "      <td>0.000014</td>\n",
              "      <td>269.246836</td>\n",
              "      <td>67.557653</td>\n",
              "      <td>0.872928</td>\n",
              "      <td>-25.564869</td>\n",
              "      <td>0.235221</td>\n",
              "      <td>0.374287</td>\n",
              "      <td>0.329427</td>\n",
              "      <td>0.345193</td>\n",
              "      <td>3974.8750</td>\n",
              "      <td>0.001000</td>\n",
              "      <td>4.041017e-12</td>\n",
              "      <td>0.0</td>\n",
              "    </tr>\n",
              "  </tbody>\n",
              "</table>\n",
              "<p>4500 rows × 16 columns</p>\n",
              "</div>\n",
              "    <div class=\"colab-df-buttons\">\n",
              "\n",
              "  <div class=\"colab-df-container\">\n",
              "    <button class=\"colab-df-convert\" onclick=\"convertToInteractive('df-5f55ede4-d602-4bc9-8b7a-b1b8950f8e38')\"\n",
              "            title=\"Convert this dataframe to an interactive table.\"\n",
              "            style=\"display:none;\">\n",
              "\n",
              "  <svg xmlns=\"http://www.w3.org/2000/svg\" height=\"24px\" viewBox=\"0 -960 960 960\">\n",
              "    <path d=\"M120-120v-720h720v720H120Zm60-500h600v-160H180v160Zm220 220h160v-160H400v160Zm0 220h160v-160H400v160ZM180-400h160v-160H180v160Zm440 0h160v-160H620v160ZM180-180h160v-160H180v160Zm440 0h160v-160H620v160Z\"/>\n",
              "  </svg>\n",
              "    </button>\n",
              "\n",
              "  <style>\n",
              "    .colab-df-container {\n",
              "      display:flex;\n",
              "      gap: 12px;\n",
              "    }\n",
              "\n",
              "    .colab-df-convert {\n",
              "      background-color: #E8F0FE;\n",
              "      border: none;\n",
              "      border-radius: 50%;\n",
              "      cursor: pointer;\n",
              "      display: none;\n",
              "      fill: #1967D2;\n",
              "      height: 32px;\n",
              "      padding: 0 0 0 0;\n",
              "      width: 32px;\n",
              "    }\n",
              "\n",
              "    .colab-df-convert:hover {\n",
              "      background-color: #E2EBFA;\n",
              "      box-shadow: 0px 1px 2px rgba(60, 64, 67, 0.3), 0px 1px 3px 1px rgba(60, 64, 67, 0.15);\n",
              "      fill: #174EA6;\n",
              "    }\n",
              "\n",
              "    .colab-df-buttons div {\n",
              "      margin-bottom: 4px;\n",
              "    }\n",
              "\n",
              "    [theme=dark] .colab-df-convert {\n",
              "      background-color: #3B4455;\n",
              "      fill: #D2E3FC;\n",
              "    }\n",
              "\n",
              "    [theme=dark] .colab-df-convert:hover {\n",
              "      background-color: #434B5C;\n",
              "      box-shadow: 0px 1px 3px 1px rgba(0, 0, 0, 0.15);\n",
              "      filter: drop-shadow(0px 1px 2px rgba(0, 0, 0, 0.3));\n",
              "      fill: #FFFFFF;\n",
              "    }\n",
              "  </style>\n",
              "\n",
              "    <script>\n",
              "      const buttonEl =\n",
              "        document.querySelector('#df-5f55ede4-d602-4bc9-8b7a-b1b8950f8e38 button.colab-df-convert');\n",
              "      buttonEl.style.display =\n",
              "        google.colab.kernel.accessAllowed ? 'block' : 'none';\n",
              "\n",
              "      async function convertToInteractive(key) {\n",
              "        const element = document.querySelector('#df-5f55ede4-d602-4bc9-8b7a-b1b8950f8e38');\n",
              "        const dataTable =\n",
              "          await google.colab.kernel.invokeFunction('convertToInteractive',\n",
              "                                                    [key], {});\n",
              "        if (!dataTable) return;\n",
              "\n",
              "        const docLinkHtml = 'Like what you see? Visit the ' +\n",
              "          '<a target=\"_blank\" href=https://colab.research.google.com/notebooks/data_table.ipynb>data table notebook</a>'\n",
              "          + ' to learn more about interactive tables.';\n",
              "        element.innerHTML = '';\n",
              "        dataTable['output_type'] = 'display_data';\n",
              "        await google.colab.output.renderOutput(dataTable, element);\n",
              "        const docLink = document.createElement('div');\n",
              "        docLink.innerHTML = docLinkHtml;\n",
              "        element.appendChild(docLink);\n",
              "      }\n",
              "    </script>\n",
              "  </div>\n",
              "\n",
              "\n",
              "<div id=\"df-d592a5c1-d42e-472f-8d9c-ae7973ff4bbb\">\n",
              "  <button class=\"colab-df-quickchart\" onclick=\"quickchart('df-d592a5c1-d42e-472f-8d9c-ae7973ff4bbb')\"\n",
              "            title=\"Suggest charts\"\n",
              "            style=\"display:none;\">\n",
              "\n",
              "<svg xmlns=\"http://www.w3.org/2000/svg\" height=\"24px\"viewBox=\"0 0 24 24\"\n",
              "     width=\"24px\">\n",
              "    <g>\n",
              "        <path d=\"M19 3H5c-1.1 0-2 .9-2 2v14c0 1.1.9 2 2 2h14c1.1 0 2-.9 2-2V5c0-1.1-.9-2-2-2zM9 17H7v-7h2v7zm4 0h-2V7h2v10zm4 0h-2v-4h2v4z\"/>\n",
              "    </g>\n",
              "</svg>\n",
              "  </button>\n",
              "\n",
              "<style>\n",
              "  .colab-df-quickchart {\n",
              "      --bg-color: #E8F0FE;\n",
              "      --fill-color: #1967D2;\n",
              "      --hover-bg-color: #E2EBFA;\n",
              "      --hover-fill-color: #174EA6;\n",
              "      --disabled-fill-color: #AAA;\n",
              "      --disabled-bg-color: #DDD;\n",
              "  }\n",
              "\n",
              "  [theme=dark] .colab-df-quickchart {\n",
              "      --bg-color: #3B4455;\n",
              "      --fill-color: #D2E3FC;\n",
              "      --hover-bg-color: #434B5C;\n",
              "      --hover-fill-color: #FFFFFF;\n",
              "      --disabled-bg-color: #3B4455;\n",
              "      --disabled-fill-color: #666;\n",
              "  }\n",
              "\n",
              "  .colab-df-quickchart {\n",
              "    background-color: var(--bg-color);\n",
              "    border: none;\n",
              "    border-radius: 50%;\n",
              "    cursor: pointer;\n",
              "    display: none;\n",
              "    fill: var(--fill-color);\n",
              "    height: 32px;\n",
              "    padding: 0;\n",
              "    width: 32px;\n",
              "  }\n",
              "\n",
              "  .colab-df-quickchart:hover {\n",
              "    background-color: var(--hover-bg-color);\n",
              "    box-shadow: 0 1px 2px rgba(60, 64, 67, 0.3), 0 1px 3px 1px rgba(60, 64, 67, 0.15);\n",
              "    fill: var(--button-hover-fill-color);\n",
              "  }\n",
              "\n",
              "  .colab-df-quickchart-complete:disabled,\n",
              "  .colab-df-quickchart-complete:disabled:hover {\n",
              "    background-color: var(--disabled-bg-color);\n",
              "    fill: var(--disabled-fill-color);\n",
              "    box-shadow: none;\n",
              "  }\n",
              "\n",
              "  .colab-df-spinner {\n",
              "    border: 2px solid var(--fill-color);\n",
              "    border-color: transparent;\n",
              "    border-bottom-color: var(--fill-color);\n",
              "    animation:\n",
              "      spin 1s steps(1) infinite;\n",
              "  }\n",
              "\n",
              "  @keyframes spin {\n",
              "    0% {\n",
              "      border-color: transparent;\n",
              "      border-bottom-color: var(--fill-color);\n",
              "      border-left-color: var(--fill-color);\n",
              "    }\n",
              "    20% {\n",
              "      border-color: transparent;\n",
              "      border-left-color: var(--fill-color);\n",
              "      border-top-color: var(--fill-color);\n",
              "    }\n",
              "    30% {\n",
              "      border-color: transparent;\n",
              "      border-left-color: var(--fill-color);\n",
              "      border-top-color: var(--fill-color);\n",
              "      border-right-color: var(--fill-color);\n",
              "    }\n",
              "    40% {\n",
              "      border-color: transparent;\n",
              "      border-right-color: var(--fill-color);\n",
              "      border-top-color: var(--fill-color);\n",
              "    }\n",
              "    60% {\n",
              "      border-color: transparent;\n",
              "      border-right-color: var(--fill-color);\n",
              "    }\n",
              "    80% {\n",
              "      border-color: transparent;\n",
              "      border-right-color: var(--fill-color);\n",
              "      border-bottom-color: var(--fill-color);\n",
              "    }\n",
              "    90% {\n",
              "      border-color: transparent;\n",
              "      border-bottom-color: var(--fill-color);\n",
              "    }\n",
              "  }\n",
              "</style>\n",
              "\n",
              "  <script>\n",
              "    async function quickchart(key) {\n",
              "      const quickchartButtonEl =\n",
              "        document.querySelector('#' + key + ' button');\n",
              "      quickchartButtonEl.disabled = true;  // To prevent multiple clicks.\n",
              "      quickchartButtonEl.classList.add('colab-df-spinner');\n",
              "      try {\n",
              "        const charts = await google.colab.kernel.invokeFunction(\n",
              "            'suggestCharts', [key], {});\n",
              "      } catch (error) {\n",
              "        console.error('Error during call to suggestCharts:', error);\n",
              "      }\n",
              "      quickchartButtonEl.classList.remove('colab-df-spinner');\n",
              "      quickchartButtonEl.classList.add('colab-df-quickchart-complete');\n",
              "    }\n",
              "    (() => {\n",
              "      let quickchartButtonEl =\n",
              "        document.querySelector('#df-d592a5c1-d42e-472f-8d9c-ae7973ff4bbb button');\n",
              "      quickchartButtonEl.style.display =\n",
              "        google.colab.kernel.accessAllowed ? 'block' : 'none';\n",
              "    })();\n",
              "  </script>\n",
              "</div>\n",
              "\n",
              "  <div id=\"id_981e5c27-f5e3-4dc6-b3c7-9927d826d3ce\">\n",
              "    <style>\n",
              "      .colab-df-generate {\n",
              "        background-color: #E8F0FE;\n",
              "        border: none;\n",
              "        border-radius: 50%;\n",
              "        cursor: pointer;\n",
              "        display: none;\n",
              "        fill: #1967D2;\n",
              "        height: 32px;\n",
              "        padding: 0 0 0 0;\n",
              "        width: 32px;\n",
              "      }\n",
              "\n",
              "      .colab-df-generate:hover {\n",
              "        background-color: #E2EBFA;\n",
              "        box-shadow: 0px 1px 2px rgba(60, 64, 67, 0.3), 0px 1px 3px 1px rgba(60, 64, 67, 0.15);\n",
              "        fill: #174EA6;\n",
              "      }\n",
              "\n",
              "      [theme=dark] .colab-df-generate {\n",
              "        background-color: #3B4455;\n",
              "        fill: #D2E3FC;\n",
              "      }\n",
              "\n",
              "      [theme=dark] .colab-df-generate:hover {\n",
              "        background-color: #434B5C;\n",
              "        box-shadow: 0px 1px 3px 1px rgba(0, 0, 0, 0.15);\n",
              "        filter: drop-shadow(0px 1px 2px rgba(0, 0, 0, 0.3));\n",
              "        fill: #FFFFFF;\n",
              "      }\n",
              "    </style>\n",
              "    <button class=\"colab-df-generate\" onclick=\"generateWithVariable('df')\"\n",
              "            title=\"Generate code using this dataframe.\"\n",
              "            style=\"display:none;\">\n",
              "\n",
              "  <svg xmlns=\"http://www.w3.org/2000/svg\" height=\"24px\"viewBox=\"0 0 24 24\"\n",
              "       width=\"24px\">\n",
              "    <path d=\"M7,19H8.4L18.45,9,17,7.55,7,17.6ZM5,21V16.75L18.45,3.32a2,2,0,0,1,2.83,0l1.4,1.43a1.91,1.91,0,0,1,.58,1.4,1.91,1.91,0,0,1-.58,1.4L9.25,21ZM18.45,9,17,7.55Zm-12,3A5.31,5.31,0,0,0,4.9,8.1,5.31,5.31,0,0,0,1,6.5,5.31,5.31,0,0,0,4.9,4.9,5.31,5.31,0,0,0,6.5,1,5.31,5.31,0,0,0,8.1,4.9,5.31,5.31,0,0,0,12,6.5,5.46,5.46,0,0,0,6.5,12Z\"/>\n",
              "  </svg>\n",
              "    </button>\n",
              "    <script>\n",
              "      (() => {\n",
              "      const buttonEl =\n",
              "        document.querySelector('#id_981e5c27-f5e3-4dc6-b3c7-9927d826d3ce button.colab-df-generate');\n",
              "      buttonEl.style.display =\n",
              "        google.colab.kernel.accessAllowed ? 'block' : 'none';\n",
              "\n",
              "      buttonEl.onclick = () => {\n",
              "        google.colab.notebook.generateWithVariable('df');\n",
              "      }\n",
              "      })();\n",
              "    </script>\n",
              "  </div>\n",
              "\n",
              "    </div>\n",
              "  </div>\n"
            ],
            "application/vnd.google.colaboratory.intrinsic+json": {
              "type": "dataframe",
              "variable_name": "df",
              "repr_error": "0"
            }
          },
          "metadata": {},
          "execution_count": 3
        }
      ],
      "source": [
        "import pandas as pd\n",
        "from sklearn.preprocessing import MinMaxScaler\n",
        "\n",
        "# Load the CSV file, keeping 'time' as a regular column\n",
        "df_ori = pd.read_csv('/content/drive/MyDrive/Thesis/Terai/Cluster 5.csv')\n",
        "\n",
        "# Exclude 'time', 'lat', and 'lon' from normalization\n",
        "columns_to_exclude = ['time', 'y', 'x','lwe_thickness','SWE_inst']\n",
        "#columns_to_normalize = df_ori.columns.difference(columns_to_exclude)\n",
        "\n",
        "# Normalize only the selected columns\n",
        "scaler = MinMaxScaler()\n",
        "#df_normalized = scaler.fit_transform(df_ori[columns_to_normalize])\n",
        "\n",
        "# Create a new DataFrame with normalized data and reattach the excluded columns\n",
        "#df_normalized = pd.DataFrame(df_normalized, columns=columns_to_normalize)\n",
        "#df = pd.concat([df_ori[columns_to_exclude], df_ori], axis=0)\n",
        "\n",
        "df = df_ori.dropna()\n",
        "df\n"
      ]
    },
    {
      "cell_type": "code",
      "execution_count": null,
      "metadata": {
        "colab": {
          "base_uri": "https://localhost:8080/",
          "height": 423
        },
        "id": "pNIGcTDCEzaW",
        "outputId": "b5b6e366-0e0b-490a-90dd-bfe51a13df17"
      },
      "outputs": [
        {
          "data": {
            "application/vnd.google.colaboratory.intrinsic+json": {
              "type": "dataframe",
              "variable_name": "df_ori"
            },
            "text/html": [
              "\n",
              "  <div id=\"df-33e4a2d7-fd28-497d-86a3-6060e826c7db\" class=\"colab-df-container\">\n",
              "    <div>\n",
              "<style scoped>\n",
              "    .dataframe tbody tr th:only-of-type {\n",
              "        vertical-align: middle;\n",
              "    }\n",
              "\n",
              "    .dataframe tbody tr th {\n",
              "        vertical-align: top;\n",
              "    }\n",
              "\n",
              "    .dataframe thead th {\n",
              "        text-align: right;\n",
              "    }\n",
              "</style>\n",
              "<table border=\"1\" class=\"dataframe\">\n",
              "  <thead>\n",
              "    <tr style=\"text-align: right;\">\n",
              "      <th></th>\n",
              "      <th>time</th>\n",
              "      <th>lon</th>\n",
              "      <th>lat</th>\n",
              "      <th>Evap_tavg</th>\n",
              "      <th>aspect</th>\n",
              "      <th>elev</th>\n",
              "      <th>slope</th>\n",
              "      <th>lwe_thickness</th>\n",
              "      <th>NDVI</th>\n",
              "      <th>precipitation</th>\n",
              "      <th>Qs_tavg</th>\n",
              "      <th>SM</th>\n",
              "      <th>SWE_inst</th>\n",
              "    </tr>\n",
              "  </thead>\n",
              "  <tbody>\n",
              "    <tr>\n",
              "      <th>0</th>\n",
              "      <td>2003-02-01</td>\n",
              "      <td>76.125</td>\n",
              "      <td>21.125</td>\n",
              "      <td>3.009985e-06</td>\n",
              "      <td>NaN</td>\n",
              "      <td>252.50081</td>\n",
              "      <td>NaN</td>\n",
              "      <td>-16.541576</td>\n",
              "      <td>4534.1250</td>\n",
              "      <td>0.016500</td>\n",
              "      <td>7.996827e-10</td>\n",
              "      <td>0.208599</td>\n",
              "      <td>0.000000</td>\n",
              "    </tr>\n",
              "    <tr>\n",
              "      <th>1</th>\n",
              "      <td>2003-02-01</td>\n",
              "      <td>76.125</td>\n",
              "      <td>21.375</td>\n",
              "      <td>6.191649e-06</td>\n",
              "      <td>NaN</td>\n",
              "      <td>421.54670</td>\n",
              "      <td>NaN</td>\n",
              "      <td>-16.541576</td>\n",
              "      <td>2463.4375</td>\n",
              "      <td>0.016563</td>\n",
              "      <td>3.118762e-08</td>\n",
              "      <td>0.216989</td>\n",
              "      <td>0.000000</td>\n",
              "    </tr>\n",
              "    <tr>\n",
              "      <th>2</th>\n",
              "      <td>2003-02-01</td>\n",
              "      <td>76.125</td>\n",
              "      <td>21.625</td>\n",
              "      <td>7.122360e-06</td>\n",
              "      <td>NaN</td>\n",
              "      <td>423.42834</td>\n",
              "      <td>NaN</td>\n",
              "      <td>-16.541576</td>\n",
              "      <td>2397.4375</td>\n",
              "      <td>0.020062</td>\n",
              "      <td>2.747666e-08</td>\n",
              "      <td>0.225927</td>\n",
              "      <td>0.000000</td>\n",
              "    </tr>\n",
              "    <tr>\n",
              "      <th>3</th>\n",
              "      <td>2003-02-01</td>\n",
              "      <td>76.125</td>\n",
              "      <td>21.875</td>\n",
              "      <td>5.252696e-06</td>\n",
              "      <td>NaN</td>\n",
              "      <td>331.92575</td>\n",
              "      <td>NaN</td>\n",
              "      <td>-14.477905</td>\n",
              "      <td>2485.4375</td>\n",
              "      <td>0.012063</td>\n",
              "      <td>1.329619e-09</td>\n",
              "      <td>0.226344</td>\n",
              "      <td>0.000000</td>\n",
              "    </tr>\n",
              "    <tr>\n",
              "      <th>4</th>\n",
              "      <td>2003-02-01</td>\n",
              "      <td>76.125</td>\n",
              "      <td>22.125</td>\n",
              "      <td>3.506790e-06</td>\n",
              "      <td>NaN</td>\n",
              "      <td>204.12040</td>\n",
              "      <td>NaN</td>\n",
              "      <td>-14.477905</td>\n",
              "      <td>2517.5625</td>\n",
              "      <td>0.010437</td>\n",
              "      <td>1.790954e-10</td>\n",
              "      <td>0.214238</td>\n",
              "      <td>0.000000</td>\n",
              "    </tr>\n",
              "    <tr>\n",
              "      <th>...</th>\n",
              "      <td>...</td>\n",
              "      <td>...</td>\n",
              "      <td>...</td>\n",
              "      <td>...</td>\n",
              "      <td>...</td>\n",
              "      <td>...</td>\n",
              "      <td>...</td>\n",
              "      <td>...</td>\n",
              "      <td>...</td>\n",
              "      <td>...</td>\n",
              "      <td>...</td>\n",
              "      <td>...</td>\n",
              "      <td>...</td>\n",
              "    </tr>\n",
              "    <tr>\n",
              "      <th>518139</th>\n",
              "      <td>2020-12-01</td>\n",
              "      <td>91.875</td>\n",
              "      <td>30.875</td>\n",
              "      <td>4.390905e-07</td>\n",
              "      <td>NaN</td>\n",
              "      <td>5303.68850</td>\n",
              "      <td>NaN</td>\n",
              "      <td>-6.932824</td>\n",
              "      <td>1331.8125</td>\n",
              "      <td>0.001687</td>\n",
              "      <td>2.852763e-10</td>\n",
              "      <td>0.221435</td>\n",
              "      <td>0.024814</td>\n",
              "    </tr>\n",
              "    <tr>\n",
              "      <th>518140</th>\n",
              "      <td>2020-12-01</td>\n",
              "      <td>91.875</td>\n",
              "      <td>31.125</td>\n",
              "      <td>1.419476e-06</td>\n",
              "      <td>NaN</td>\n",
              "      <td>4744.75730</td>\n",
              "      <td>NaN</td>\n",
              "      <td>-6.932824</td>\n",
              "      <td>1887.5000</td>\n",
              "      <td>0.001000</td>\n",
              "      <td>1.922419e-10</td>\n",
              "      <td>0.208458</td>\n",
              "      <td>0.324222</td>\n",
              "    </tr>\n",
              "    <tr>\n",
              "      <th>518141</th>\n",
              "      <td>2020-12-01</td>\n",
              "      <td>91.875</td>\n",
              "      <td>31.375</td>\n",
              "      <td>5.756830e-07</td>\n",
              "      <td>NaN</td>\n",
              "      <td>4522.75240</td>\n",
              "      <td>NaN</td>\n",
              "      <td>-6.932824</td>\n",
              "      <td>1764.5000</td>\n",
              "      <td>0.000000</td>\n",
              "      <td>1.404434e-13</td>\n",
              "      <td>0.207607</td>\n",
              "      <td>0.060043</td>\n",
              "    </tr>\n",
              "    <tr>\n",
              "      <th>518142</th>\n",
              "      <td>2020-12-01</td>\n",
              "      <td>91.875</td>\n",
              "      <td>31.625</td>\n",
              "      <td>6.793612e-07</td>\n",
              "      <td>NaN</td>\n",
              "      <td>4662.02600</td>\n",
              "      <td>NaN</td>\n",
              "      <td>-1.914107</td>\n",
              "      <td>2060.7500</td>\n",
              "      <td>0.000000</td>\n",
              "      <td>2.805751e-11</td>\n",
              "      <td>0.216859</td>\n",
              "      <td>0.043007</td>\n",
              "    </tr>\n",
              "    <tr>\n",
              "      <th>518143</th>\n",
              "      <td>2020-12-01</td>\n",
              "      <td>91.875</td>\n",
              "      <td>31.875</td>\n",
              "      <td>1.025922e-06</td>\n",
              "      <td>NaN</td>\n",
              "      <td>5120.12900</td>\n",
              "      <td>NaN</td>\n",
              "      <td>-1.914107</td>\n",
              "      <td>2260.0625</td>\n",
              "      <td>0.000000</td>\n",
              "      <td>0.000000e+00</td>\n",
              "      <td>0.203394</td>\n",
              "      <td>0.160136</td>\n",
              "    </tr>\n",
              "  </tbody>\n",
              "</table>\n",
              "<p>518144 rows × 13 columns</p>\n",
              "</div>\n",
              "    <div class=\"colab-df-buttons\">\n",
              "\n",
              "  <div class=\"colab-df-container\">\n",
              "    <button class=\"colab-df-convert\" onclick=\"convertToInteractive('df-33e4a2d7-fd28-497d-86a3-6060e826c7db')\"\n",
              "            title=\"Convert this dataframe to an interactive table.\"\n",
              "            style=\"display:none;\">\n",
              "\n",
              "  <svg xmlns=\"http://www.w3.org/2000/svg\" height=\"24px\" viewBox=\"0 -960 960 960\">\n",
              "    <path d=\"M120-120v-720h720v720H120Zm60-500h600v-160H180v160Zm220 220h160v-160H400v160Zm0 220h160v-160H400v160ZM180-400h160v-160H180v160Zm440 0h160v-160H620v160ZM180-180h160v-160H180v160Zm440 0h160v-160H620v160Z\"/>\n",
              "  </svg>\n",
              "    </button>\n",
              "\n",
              "  <style>\n",
              "    .colab-df-container {\n",
              "      display:flex;\n",
              "      gap: 12px;\n",
              "    }\n",
              "\n",
              "    .colab-df-convert {\n",
              "      background-color: #E8F0FE;\n",
              "      border: none;\n",
              "      border-radius: 50%;\n",
              "      cursor: pointer;\n",
              "      display: none;\n",
              "      fill: #1967D2;\n",
              "      height: 32px;\n",
              "      padding: 0 0 0 0;\n",
              "      width: 32px;\n",
              "    }\n",
              "\n",
              "    .colab-df-convert:hover {\n",
              "      background-color: #E2EBFA;\n",
              "      box-shadow: 0px 1px 2px rgba(60, 64, 67, 0.3), 0px 1px 3px 1px rgba(60, 64, 67, 0.15);\n",
              "      fill: #174EA6;\n",
              "    }\n",
              "\n",
              "    .colab-df-buttons div {\n",
              "      margin-bottom: 4px;\n",
              "    }\n",
              "\n",
              "    [theme=dark] .colab-df-convert {\n",
              "      background-color: #3B4455;\n",
              "      fill: #D2E3FC;\n",
              "    }\n",
              "\n",
              "    [theme=dark] .colab-df-convert:hover {\n",
              "      background-color: #434B5C;\n",
              "      box-shadow: 0px 1px 3px 1px rgba(0, 0, 0, 0.15);\n",
              "      filter: drop-shadow(0px 1px 2px rgba(0, 0, 0, 0.3));\n",
              "      fill: #FFFFFF;\n",
              "    }\n",
              "  </style>\n",
              "\n",
              "    <script>\n",
              "      const buttonEl =\n",
              "        document.querySelector('#df-33e4a2d7-fd28-497d-86a3-6060e826c7db button.colab-df-convert');\n",
              "      buttonEl.style.display =\n",
              "        google.colab.kernel.accessAllowed ? 'block' : 'none';\n",
              "\n",
              "      async function convertToInteractive(key) {\n",
              "        const element = document.querySelector('#df-33e4a2d7-fd28-497d-86a3-6060e826c7db');\n",
              "        const dataTable =\n",
              "          await google.colab.kernel.invokeFunction('convertToInteractive',\n",
              "                                                    [key], {});\n",
              "        if (!dataTable) return;\n",
              "\n",
              "        const docLinkHtml = 'Like what you see? Visit the ' +\n",
              "          '<a target=\"_blank\" href=https://colab.research.google.com/notebooks/data_table.ipynb>data table notebook</a>'\n",
              "          + ' to learn more about interactive tables.';\n",
              "        element.innerHTML = '';\n",
              "        dataTable['output_type'] = 'display_data';\n",
              "        await google.colab.output.renderOutput(dataTable, element);\n",
              "        const docLink = document.createElement('div');\n",
              "        docLink.innerHTML = docLinkHtml;\n",
              "        element.appendChild(docLink);\n",
              "      }\n",
              "    </script>\n",
              "  </div>\n",
              "\n",
              "\n",
              "<div id=\"df-42f6d42c-13e1-4b75-9245-7fdebcac7271\">\n",
              "  <button class=\"colab-df-quickchart\" onclick=\"quickchart('df-42f6d42c-13e1-4b75-9245-7fdebcac7271')\"\n",
              "            title=\"Suggest charts\"\n",
              "            style=\"display:none;\">\n",
              "\n",
              "<svg xmlns=\"http://www.w3.org/2000/svg\" height=\"24px\"viewBox=\"0 0 24 24\"\n",
              "     width=\"24px\">\n",
              "    <g>\n",
              "        <path d=\"M19 3H5c-1.1 0-2 .9-2 2v14c0 1.1.9 2 2 2h14c1.1 0 2-.9 2-2V5c0-1.1-.9-2-2-2zM9 17H7v-7h2v7zm4 0h-2V7h2v10zm4 0h-2v-4h2v4z\"/>\n",
              "    </g>\n",
              "</svg>\n",
              "  </button>\n",
              "\n",
              "<style>\n",
              "  .colab-df-quickchart {\n",
              "      --bg-color: #E8F0FE;\n",
              "      --fill-color: #1967D2;\n",
              "      --hover-bg-color: #E2EBFA;\n",
              "      --hover-fill-color: #174EA6;\n",
              "      --disabled-fill-color: #AAA;\n",
              "      --disabled-bg-color: #DDD;\n",
              "  }\n",
              "\n",
              "  [theme=dark] .colab-df-quickchart {\n",
              "      --bg-color: #3B4455;\n",
              "      --fill-color: #D2E3FC;\n",
              "      --hover-bg-color: #434B5C;\n",
              "      --hover-fill-color: #FFFFFF;\n",
              "      --disabled-bg-color: #3B4455;\n",
              "      --disabled-fill-color: #666;\n",
              "  }\n",
              "\n",
              "  .colab-df-quickchart {\n",
              "    background-color: var(--bg-color);\n",
              "    border: none;\n",
              "    border-radius: 50%;\n",
              "    cursor: pointer;\n",
              "    display: none;\n",
              "    fill: var(--fill-color);\n",
              "    height: 32px;\n",
              "    padding: 0;\n",
              "    width: 32px;\n",
              "  }\n",
              "\n",
              "  .colab-df-quickchart:hover {\n",
              "    background-color: var(--hover-bg-color);\n",
              "    box-shadow: 0 1px 2px rgba(60, 64, 67, 0.3), 0 1px 3px 1px rgba(60, 64, 67, 0.15);\n",
              "    fill: var(--button-hover-fill-color);\n",
              "  }\n",
              "\n",
              "  .colab-df-quickchart-complete:disabled,\n",
              "  .colab-df-quickchart-complete:disabled:hover {\n",
              "    background-color: var(--disabled-bg-color);\n",
              "    fill: var(--disabled-fill-color);\n",
              "    box-shadow: none;\n",
              "  }\n",
              "\n",
              "  .colab-df-spinner {\n",
              "    border: 2px solid var(--fill-color);\n",
              "    border-color: transparent;\n",
              "    border-bottom-color: var(--fill-color);\n",
              "    animation:\n",
              "      spin 1s steps(1) infinite;\n",
              "  }\n",
              "\n",
              "  @keyframes spin {\n",
              "    0% {\n",
              "      border-color: transparent;\n",
              "      border-bottom-color: var(--fill-color);\n",
              "      border-left-color: var(--fill-color);\n",
              "    }\n",
              "    20% {\n",
              "      border-color: transparent;\n",
              "      border-left-color: var(--fill-color);\n",
              "      border-top-color: var(--fill-color);\n",
              "    }\n",
              "    30% {\n",
              "      border-color: transparent;\n",
              "      border-left-color: var(--fill-color);\n",
              "      border-top-color: var(--fill-color);\n",
              "      border-right-color: var(--fill-color);\n",
              "    }\n",
              "    40% {\n",
              "      border-color: transparent;\n",
              "      border-right-color: var(--fill-color);\n",
              "      border-top-color: var(--fill-color);\n",
              "    }\n",
              "    60% {\n",
              "      border-color: transparent;\n",
              "      border-right-color: var(--fill-color);\n",
              "    }\n",
              "    80% {\n",
              "      border-color: transparent;\n",
              "      border-right-color: var(--fill-color);\n",
              "      border-bottom-color: var(--fill-color);\n",
              "    }\n",
              "    90% {\n",
              "      border-color: transparent;\n",
              "      border-bottom-color: var(--fill-color);\n",
              "    }\n",
              "  }\n",
              "</style>\n",
              "\n",
              "  <script>\n",
              "    async function quickchart(key) {\n",
              "      const quickchartButtonEl =\n",
              "        document.querySelector('#' + key + ' button');\n",
              "      quickchartButtonEl.disabled = true;  // To prevent multiple clicks.\n",
              "      quickchartButtonEl.classList.add('colab-df-spinner');\n",
              "      try {\n",
              "        const charts = await google.colab.kernel.invokeFunction(\n",
              "            'suggestCharts', [key], {});\n",
              "      } catch (error) {\n",
              "        console.error('Error during call to suggestCharts:', error);\n",
              "      }\n",
              "      quickchartButtonEl.classList.remove('colab-df-spinner');\n",
              "      quickchartButtonEl.classList.add('colab-df-quickchart-complete');\n",
              "    }\n",
              "    (() => {\n",
              "      let quickchartButtonEl =\n",
              "        document.querySelector('#df-42f6d42c-13e1-4b75-9245-7fdebcac7271 button');\n",
              "      quickchartButtonEl.style.display =\n",
              "        google.colab.kernel.accessAllowed ? 'block' : 'none';\n",
              "    })();\n",
              "  </script>\n",
              "</div>\n",
              "\n",
              "  <div id=\"id_8f5ea21f-704d-4ab6-ab89-79f42a7b306d\">\n",
              "    <style>\n",
              "      .colab-df-generate {\n",
              "        background-color: #E8F0FE;\n",
              "        border: none;\n",
              "        border-radius: 50%;\n",
              "        cursor: pointer;\n",
              "        display: none;\n",
              "        fill: #1967D2;\n",
              "        height: 32px;\n",
              "        padding: 0 0 0 0;\n",
              "        width: 32px;\n",
              "      }\n",
              "\n",
              "      .colab-df-generate:hover {\n",
              "        background-color: #E2EBFA;\n",
              "        box-shadow: 0px 1px 2px rgba(60, 64, 67, 0.3), 0px 1px 3px 1px rgba(60, 64, 67, 0.15);\n",
              "        fill: #174EA6;\n",
              "      }\n",
              "\n",
              "      [theme=dark] .colab-df-generate {\n",
              "        background-color: #3B4455;\n",
              "        fill: #D2E3FC;\n",
              "      }\n",
              "\n",
              "      [theme=dark] .colab-df-generate:hover {\n",
              "        background-color: #434B5C;\n",
              "        box-shadow: 0px 1px 3px 1px rgba(0, 0, 0, 0.15);\n",
              "        filter: drop-shadow(0px 1px 2px rgba(0, 0, 0, 0.3));\n",
              "        fill: #FFFFFF;\n",
              "      }\n",
              "    </style>\n",
              "    <button class=\"colab-df-generate\" onclick=\"generateWithVariable('df_ori')\"\n",
              "            title=\"Generate code using this dataframe.\"\n",
              "            style=\"display:none;\">\n",
              "\n",
              "  <svg xmlns=\"http://www.w3.org/2000/svg\" height=\"24px\"viewBox=\"0 0 24 24\"\n",
              "       width=\"24px\">\n",
              "    <path d=\"M7,19H8.4L18.45,9,17,7.55,7,17.6ZM5,21V16.75L18.45,3.32a2,2,0,0,1,2.83,0l1.4,1.43a1.91,1.91,0,0,1,.58,1.4,1.91,1.91,0,0,1-.58,1.4L9.25,21ZM18.45,9,17,7.55Zm-12,3A5.31,5.31,0,0,0,4.9,8.1,5.31,5.31,0,0,0,1,6.5,5.31,5.31,0,0,0,4.9,4.9,5.31,5.31,0,0,0,6.5,1,5.31,5.31,0,0,0,8.1,4.9,5.31,5.31,0,0,0,12,6.5,5.46,5.46,0,0,0,6.5,12Z\"/>\n",
              "  </svg>\n",
              "    </button>\n",
              "    <script>\n",
              "      (() => {\n",
              "      const buttonEl =\n",
              "        document.querySelector('#id_8f5ea21f-704d-4ab6-ab89-79f42a7b306d button.colab-df-generate');\n",
              "      buttonEl.style.display =\n",
              "        google.colab.kernel.accessAllowed ? 'block' : 'none';\n",
              "\n",
              "      buttonEl.onclick = () => {\n",
              "        google.colab.notebook.generateWithVariable('df_ori');\n",
              "      }\n",
              "      })();\n",
              "    </script>\n",
              "  </div>\n",
              "\n",
              "    </div>\n",
              "  </div>\n"
            ],
            "text/plain": [
              "              time     lon     lat     Evap_tavg  aspect        elev  slope  \\\n",
              "0       2003-02-01  76.125  21.125  3.009985e-06     NaN   252.50081    NaN   \n",
              "1       2003-02-01  76.125  21.375  6.191649e-06     NaN   421.54670    NaN   \n",
              "2       2003-02-01  76.125  21.625  7.122360e-06     NaN   423.42834    NaN   \n",
              "3       2003-02-01  76.125  21.875  5.252696e-06     NaN   331.92575    NaN   \n",
              "4       2003-02-01  76.125  22.125  3.506790e-06     NaN   204.12040    NaN   \n",
              "...            ...     ...     ...           ...     ...         ...    ...   \n",
              "518139  2020-12-01  91.875  30.875  4.390905e-07     NaN  5303.68850    NaN   \n",
              "518140  2020-12-01  91.875  31.125  1.419476e-06     NaN  4744.75730    NaN   \n",
              "518141  2020-12-01  91.875  31.375  5.756830e-07     NaN  4522.75240    NaN   \n",
              "518142  2020-12-01  91.875  31.625  6.793612e-07     NaN  4662.02600    NaN   \n",
              "518143  2020-12-01  91.875  31.875  1.025922e-06     NaN  5120.12900    NaN   \n",
              "\n",
              "        lwe_thickness       NDVI  precipitation       Qs_tavg        SM  \\\n",
              "0          -16.541576  4534.1250       0.016500  7.996827e-10  0.208599   \n",
              "1          -16.541576  2463.4375       0.016563  3.118762e-08  0.216989   \n",
              "2          -16.541576  2397.4375       0.020062  2.747666e-08  0.225927   \n",
              "3          -14.477905  2485.4375       0.012063  1.329619e-09  0.226344   \n",
              "4          -14.477905  2517.5625       0.010437  1.790954e-10  0.214238   \n",
              "...               ...        ...            ...           ...       ...   \n",
              "518139      -6.932824  1331.8125       0.001687  2.852763e-10  0.221435   \n",
              "518140      -6.932824  1887.5000       0.001000  1.922419e-10  0.208458   \n",
              "518141      -6.932824  1764.5000       0.000000  1.404434e-13  0.207607   \n",
              "518142      -1.914107  2060.7500       0.000000  2.805751e-11  0.216859   \n",
              "518143      -1.914107  2260.0625       0.000000  0.000000e+00  0.203394   \n",
              "\n",
              "        SWE_inst  \n",
              "0       0.000000  \n",
              "1       0.000000  \n",
              "2       0.000000  \n",
              "3       0.000000  \n",
              "4       0.000000  \n",
              "...          ...  \n",
              "518139  0.024814  \n",
              "518140  0.324222  \n",
              "518141  0.060043  \n",
              "518142  0.043007  \n",
              "518143  0.160136  \n",
              "\n",
              "[518144 rows x 13 columns]"
            ]
          },
          "execution_count": 7,
          "metadata": {},
          "output_type": "execute_result"
        }
      ],
      "source": [
        "df_ori"
      ]
    },
    {
      "cell_type": "code",
      "execution_count": null,
      "metadata": {
        "id": "BGiXz8ZWgi6d"
      },
      "outputs": [],
      "source": [
        "from sklearn.model_selection import train_test_split\n",
        "from sklearn.ensemble import RandomForestRegressor\n",
        "from sklearn.metrics import mean_squared_error, r2_score\n",
        "X =df.drop(['lwe_thickness','x','y','time'], axis=1)\n",
        "y = df['lwe_thickness']\n"
      ]
    },
    {
      "cell_type": "code",
      "execution_count": null,
      "metadata": {
        "colab": {
          "base_uri": "https://localhost:8080/",
          "height": 424
        },
        "id": "IQnAsAOEBfa-",
        "outputId": "ec53125d-ba16-44ab-a0dd-b2a39921bf20"
      },
      "outputs": [
        {
          "output_type": "execute_result",
          "data": {
            "text/plain": [
              "      Evap_tavg      aspect    elevation      slope  SoilMoi00_10cm_tavg  \\\n",
              "1      0.000022  245.842589    68.989243   0.204816             0.223674   \n",
              "2      0.000021  167.506144    83.868672   0.573595             0.223054   \n",
              "5      0.000019  148.376922    64.760386   0.812282             0.217708   \n",
              "6      0.000017  294.482190    93.342925   1.098871             0.220301   \n",
              "9      0.000016  262.032071    66.615664   0.584041             0.210313   \n",
              "...         ...         ...          ...        ...                  ...   \n",
              "7186   0.000019  329.909900  1106.485007  29.182045             0.219207   \n",
              "7188   0.000014  194.748858    63.320129   0.386694             0.231006   \n",
              "7189   0.000018  175.136278   112.936461   0.601675             0.234408   \n",
              "7192   0.000014  214.812721    67.587645   0.325698             0.233539   \n",
              "7196   0.000014  269.246836    67.557653   0.872928             0.235221   \n",
              "\n",
              "      SoilMoi100_200cm_tavg  SoilMoi10_40cm_tavg  SoilMoi40_100cm_tavg  \\\n",
              "1                  0.368811             0.196011              0.187771   \n",
              "2                  0.369423             0.186495              0.179262   \n",
              "5                  0.373856             0.184688              0.174508   \n",
              "6                  0.372877             0.178090              0.170949   \n",
              "9                  0.377796             0.177543              0.168992   \n",
              "...                     ...                  ...                   ...   \n",
              "7186               0.373931             0.257125              0.273687   \n",
              "7188               0.374640             0.337619              0.350046   \n",
              "7189               0.373894             0.314485              0.333620   \n",
              "7192               0.374398             0.333714              0.347749   \n",
              "7196               0.374287             0.329427              0.345193   \n",
              "\n",
              "           NDVI  precipitation       Qs_tavg  SWE_inst  \n",
              "1     5350.0625       0.040000  6.995459e-07       0.0  \n",
              "2     4811.7500       0.055500  3.628992e-07       0.0  \n",
              "5     5521.8750       0.038063  1.058235e-06       0.0  \n",
              "6     5436.3125       0.053750  4.452320e-07       0.0  \n",
              "9     5172.0625       0.038938  1.064802e-06       0.0  \n",
              "...         ...            ...           ...       ...  \n",
              "7186  6528.0000       0.001000  1.833171e-10       0.0  \n",
              "7188  3546.7500       0.000750  9.144242e-12       0.0  \n",
              "7189  4432.1250       0.000938  1.258983e-11       0.0  \n",
              "7192  3840.0000       0.001000  6.111483e-12       0.0  \n",
              "7196  3974.8750       0.001000  4.041017e-12       0.0  \n",
              "\n",
              "[4500 rows x 12 columns]"
            ],
            "text/html": [
              "\n",
              "  <div id=\"df-172e2f8b-e8bc-42a8-b0bd-b7f25bb8c73b\" class=\"colab-df-container\">\n",
              "    <div>\n",
              "<style scoped>\n",
              "    .dataframe tbody tr th:only-of-type {\n",
              "        vertical-align: middle;\n",
              "    }\n",
              "\n",
              "    .dataframe tbody tr th {\n",
              "        vertical-align: top;\n",
              "    }\n",
              "\n",
              "    .dataframe thead th {\n",
              "        text-align: right;\n",
              "    }\n",
              "</style>\n",
              "<table border=\"1\" class=\"dataframe\">\n",
              "  <thead>\n",
              "    <tr style=\"text-align: right;\">\n",
              "      <th></th>\n",
              "      <th>Evap_tavg</th>\n",
              "      <th>aspect</th>\n",
              "      <th>elevation</th>\n",
              "      <th>slope</th>\n",
              "      <th>SoilMoi00_10cm_tavg</th>\n",
              "      <th>SoilMoi100_200cm_tavg</th>\n",
              "      <th>SoilMoi10_40cm_tavg</th>\n",
              "      <th>SoilMoi40_100cm_tavg</th>\n",
              "      <th>NDVI</th>\n",
              "      <th>precipitation</th>\n",
              "      <th>Qs_tavg</th>\n",
              "      <th>SWE_inst</th>\n",
              "    </tr>\n",
              "  </thead>\n",
              "  <tbody>\n",
              "    <tr>\n",
              "      <th>1</th>\n",
              "      <td>0.000022</td>\n",
              "      <td>245.842589</td>\n",
              "      <td>68.989243</td>\n",
              "      <td>0.204816</td>\n",
              "      <td>0.223674</td>\n",
              "      <td>0.368811</td>\n",
              "      <td>0.196011</td>\n",
              "      <td>0.187771</td>\n",
              "      <td>5350.0625</td>\n",
              "      <td>0.040000</td>\n",
              "      <td>6.995459e-07</td>\n",
              "      <td>0.0</td>\n",
              "    </tr>\n",
              "    <tr>\n",
              "      <th>2</th>\n",
              "      <td>0.000021</td>\n",
              "      <td>167.506144</td>\n",
              "      <td>83.868672</td>\n",
              "      <td>0.573595</td>\n",
              "      <td>0.223054</td>\n",
              "      <td>0.369423</td>\n",
              "      <td>0.186495</td>\n",
              "      <td>0.179262</td>\n",
              "      <td>4811.7500</td>\n",
              "      <td>0.055500</td>\n",
              "      <td>3.628992e-07</td>\n",
              "      <td>0.0</td>\n",
              "    </tr>\n",
              "    <tr>\n",
              "      <th>5</th>\n",
              "      <td>0.000019</td>\n",
              "      <td>148.376922</td>\n",
              "      <td>64.760386</td>\n",
              "      <td>0.812282</td>\n",
              "      <td>0.217708</td>\n",
              "      <td>0.373856</td>\n",
              "      <td>0.184688</td>\n",
              "      <td>0.174508</td>\n",
              "      <td>5521.8750</td>\n",
              "      <td>0.038063</td>\n",
              "      <td>1.058235e-06</td>\n",
              "      <td>0.0</td>\n",
              "    </tr>\n",
              "    <tr>\n",
              "      <th>6</th>\n",
              "      <td>0.000017</td>\n",
              "      <td>294.482190</td>\n",
              "      <td>93.342925</td>\n",
              "      <td>1.098871</td>\n",
              "      <td>0.220301</td>\n",
              "      <td>0.372877</td>\n",
              "      <td>0.178090</td>\n",
              "      <td>0.170949</td>\n",
              "      <td>5436.3125</td>\n",
              "      <td>0.053750</td>\n",
              "      <td>4.452320e-07</td>\n",
              "      <td>0.0</td>\n",
              "    </tr>\n",
              "    <tr>\n",
              "      <th>9</th>\n",
              "      <td>0.000016</td>\n",
              "      <td>262.032071</td>\n",
              "      <td>66.615664</td>\n",
              "      <td>0.584041</td>\n",
              "      <td>0.210313</td>\n",
              "      <td>0.377796</td>\n",
              "      <td>0.177543</td>\n",
              "      <td>0.168992</td>\n",
              "      <td>5172.0625</td>\n",
              "      <td>0.038938</td>\n",
              "      <td>1.064802e-06</td>\n",
              "      <td>0.0</td>\n",
              "    </tr>\n",
              "    <tr>\n",
              "      <th>...</th>\n",
              "      <td>...</td>\n",
              "      <td>...</td>\n",
              "      <td>...</td>\n",
              "      <td>...</td>\n",
              "      <td>...</td>\n",
              "      <td>...</td>\n",
              "      <td>...</td>\n",
              "      <td>...</td>\n",
              "      <td>...</td>\n",
              "      <td>...</td>\n",
              "      <td>...</td>\n",
              "      <td>...</td>\n",
              "    </tr>\n",
              "    <tr>\n",
              "      <th>7186</th>\n",
              "      <td>0.000019</td>\n",
              "      <td>329.909900</td>\n",
              "      <td>1106.485007</td>\n",
              "      <td>29.182045</td>\n",
              "      <td>0.219207</td>\n",
              "      <td>0.373931</td>\n",
              "      <td>0.257125</td>\n",
              "      <td>0.273687</td>\n",
              "      <td>6528.0000</td>\n",
              "      <td>0.001000</td>\n",
              "      <td>1.833171e-10</td>\n",
              "      <td>0.0</td>\n",
              "    </tr>\n",
              "    <tr>\n",
              "      <th>7188</th>\n",
              "      <td>0.000014</td>\n",
              "      <td>194.748858</td>\n",
              "      <td>63.320129</td>\n",
              "      <td>0.386694</td>\n",
              "      <td>0.231006</td>\n",
              "      <td>0.374640</td>\n",
              "      <td>0.337619</td>\n",
              "      <td>0.350046</td>\n",
              "      <td>3546.7500</td>\n",
              "      <td>0.000750</td>\n",
              "      <td>9.144242e-12</td>\n",
              "      <td>0.0</td>\n",
              "    </tr>\n",
              "    <tr>\n",
              "      <th>7189</th>\n",
              "      <td>0.000018</td>\n",
              "      <td>175.136278</td>\n",
              "      <td>112.936461</td>\n",
              "      <td>0.601675</td>\n",
              "      <td>0.234408</td>\n",
              "      <td>0.373894</td>\n",
              "      <td>0.314485</td>\n",
              "      <td>0.333620</td>\n",
              "      <td>4432.1250</td>\n",
              "      <td>0.000938</td>\n",
              "      <td>1.258983e-11</td>\n",
              "      <td>0.0</td>\n",
              "    </tr>\n",
              "    <tr>\n",
              "      <th>7192</th>\n",
              "      <td>0.000014</td>\n",
              "      <td>214.812721</td>\n",
              "      <td>67.587645</td>\n",
              "      <td>0.325698</td>\n",
              "      <td>0.233539</td>\n",
              "      <td>0.374398</td>\n",
              "      <td>0.333714</td>\n",
              "      <td>0.347749</td>\n",
              "      <td>3840.0000</td>\n",
              "      <td>0.001000</td>\n",
              "      <td>6.111483e-12</td>\n",
              "      <td>0.0</td>\n",
              "    </tr>\n",
              "    <tr>\n",
              "      <th>7196</th>\n",
              "      <td>0.000014</td>\n",
              "      <td>269.246836</td>\n",
              "      <td>67.557653</td>\n",
              "      <td>0.872928</td>\n",
              "      <td>0.235221</td>\n",
              "      <td>0.374287</td>\n",
              "      <td>0.329427</td>\n",
              "      <td>0.345193</td>\n",
              "      <td>3974.8750</td>\n",
              "      <td>0.001000</td>\n",
              "      <td>4.041017e-12</td>\n",
              "      <td>0.0</td>\n",
              "    </tr>\n",
              "  </tbody>\n",
              "</table>\n",
              "<p>4500 rows × 12 columns</p>\n",
              "</div>\n",
              "    <div class=\"colab-df-buttons\">\n",
              "\n",
              "  <div class=\"colab-df-container\">\n",
              "    <button class=\"colab-df-convert\" onclick=\"convertToInteractive('df-172e2f8b-e8bc-42a8-b0bd-b7f25bb8c73b')\"\n",
              "            title=\"Convert this dataframe to an interactive table.\"\n",
              "            style=\"display:none;\">\n",
              "\n",
              "  <svg xmlns=\"http://www.w3.org/2000/svg\" height=\"24px\" viewBox=\"0 -960 960 960\">\n",
              "    <path d=\"M120-120v-720h720v720H120Zm60-500h600v-160H180v160Zm220 220h160v-160H400v160Zm0 220h160v-160H400v160ZM180-400h160v-160H180v160Zm440 0h160v-160H620v160ZM180-180h160v-160H180v160Zm440 0h160v-160H620v160Z\"/>\n",
              "  </svg>\n",
              "    </button>\n",
              "\n",
              "  <style>\n",
              "    .colab-df-container {\n",
              "      display:flex;\n",
              "      gap: 12px;\n",
              "    }\n",
              "\n",
              "    .colab-df-convert {\n",
              "      background-color: #E8F0FE;\n",
              "      border: none;\n",
              "      border-radius: 50%;\n",
              "      cursor: pointer;\n",
              "      display: none;\n",
              "      fill: #1967D2;\n",
              "      height: 32px;\n",
              "      padding: 0 0 0 0;\n",
              "      width: 32px;\n",
              "    }\n",
              "\n",
              "    .colab-df-convert:hover {\n",
              "      background-color: #E2EBFA;\n",
              "      box-shadow: 0px 1px 2px rgba(60, 64, 67, 0.3), 0px 1px 3px 1px rgba(60, 64, 67, 0.15);\n",
              "      fill: #174EA6;\n",
              "    }\n",
              "\n",
              "    .colab-df-buttons div {\n",
              "      margin-bottom: 4px;\n",
              "    }\n",
              "\n",
              "    [theme=dark] .colab-df-convert {\n",
              "      background-color: #3B4455;\n",
              "      fill: #D2E3FC;\n",
              "    }\n",
              "\n",
              "    [theme=dark] .colab-df-convert:hover {\n",
              "      background-color: #434B5C;\n",
              "      box-shadow: 0px 1px 3px 1px rgba(0, 0, 0, 0.15);\n",
              "      filter: drop-shadow(0px 1px 2px rgba(0, 0, 0, 0.3));\n",
              "      fill: #FFFFFF;\n",
              "    }\n",
              "  </style>\n",
              "\n",
              "    <script>\n",
              "      const buttonEl =\n",
              "        document.querySelector('#df-172e2f8b-e8bc-42a8-b0bd-b7f25bb8c73b button.colab-df-convert');\n",
              "      buttonEl.style.display =\n",
              "        google.colab.kernel.accessAllowed ? 'block' : 'none';\n",
              "\n",
              "      async function convertToInteractive(key) {\n",
              "        const element = document.querySelector('#df-172e2f8b-e8bc-42a8-b0bd-b7f25bb8c73b');\n",
              "        const dataTable =\n",
              "          await google.colab.kernel.invokeFunction('convertToInteractive',\n",
              "                                                    [key], {});\n",
              "        if (!dataTable) return;\n",
              "\n",
              "        const docLinkHtml = 'Like what you see? Visit the ' +\n",
              "          '<a target=\"_blank\" href=https://colab.research.google.com/notebooks/data_table.ipynb>data table notebook</a>'\n",
              "          + ' to learn more about interactive tables.';\n",
              "        element.innerHTML = '';\n",
              "        dataTable['output_type'] = 'display_data';\n",
              "        await google.colab.output.renderOutput(dataTable, element);\n",
              "        const docLink = document.createElement('div');\n",
              "        docLink.innerHTML = docLinkHtml;\n",
              "        element.appendChild(docLink);\n",
              "      }\n",
              "    </script>\n",
              "  </div>\n",
              "\n",
              "\n",
              "<div id=\"df-53c4c298-627b-425f-93ab-99e47820cf2a\">\n",
              "  <button class=\"colab-df-quickchart\" onclick=\"quickchart('df-53c4c298-627b-425f-93ab-99e47820cf2a')\"\n",
              "            title=\"Suggest charts\"\n",
              "            style=\"display:none;\">\n",
              "\n",
              "<svg xmlns=\"http://www.w3.org/2000/svg\" height=\"24px\"viewBox=\"0 0 24 24\"\n",
              "     width=\"24px\">\n",
              "    <g>\n",
              "        <path d=\"M19 3H5c-1.1 0-2 .9-2 2v14c0 1.1.9 2 2 2h14c1.1 0 2-.9 2-2V5c0-1.1-.9-2-2-2zM9 17H7v-7h2v7zm4 0h-2V7h2v10zm4 0h-2v-4h2v4z\"/>\n",
              "    </g>\n",
              "</svg>\n",
              "  </button>\n",
              "\n",
              "<style>\n",
              "  .colab-df-quickchart {\n",
              "      --bg-color: #E8F0FE;\n",
              "      --fill-color: #1967D2;\n",
              "      --hover-bg-color: #E2EBFA;\n",
              "      --hover-fill-color: #174EA6;\n",
              "      --disabled-fill-color: #AAA;\n",
              "      --disabled-bg-color: #DDD;\n",
              "  }\n",
              "\n",
              "  [theme=dark] .colab-df-quickchart {\n",
              "      --bg-color: #3B4455;\n",
              "      --fill-color: #D2E3FC;\n",
              "      --hover-bg-color: #434B5C;\n",
              "      --hover-fill-color: #FFFFFF;\n",
              "      --disabled-bg-color: #3B4455;\n",
              "      --disabled-fill-color: #666;\n",
              "  }\n",
              "\n",
              "  .colab-df-quickchart {\n",
              "    background-color: var(--bg-color);\n",
              "    border: none;\n",
              "    border-radius: 50%;\n",
              "    cursor: pointer;\n",
              "    display: none;\n",
              "    fill: var(--fill-color);\n",
              "    height: 32px;\n",
              "    padding: 0;\n",
              "    width: 32px;\n",
              "  }\n",
              "\n",
              "  .colab-df-quickchart:hover {\n",
              "    background-color: var(--hover-bg-color);\n",
              "    box-shadow: 0 1px 2px rgba(60, 64, 67, 0.3), 0 1px 3px 1px rgba(60, 64, 67, 0.15);\n",
              "    fill: var(--button-hover-fill-color);\n",
              "  }\n",
              "\n",
              "  .colab-df-quickchart-complete:disabled,\n",
              "  .colab-df-quickchart-complete:disabled:hover {\n",
              "    background-color: var(--disabled-bg-color);\n",
              "    fill: var(--disabled-fill-color);\n",
              "    box-shadow: none;\n",
              "  }\n",
              "\n",
              "  .colab-df-spinner {\n",
              "    border: 2px solid var(--fill-color);\n",
              "    border-color: transparent;\n",
              "    border-bottom-color: var(--fill-color);\n",
              "    animation:\n",
              "      spin 1s steps(1) infinite;\n",
              "  }\n",
              "\n",
              "  @keyframes spin {\n",
              "    0% {\n",
              "      border-color: transparent;\n",
              "      border-bottom-color: var(--fill-color);\n",
              "      border-left-color: var(--fill-color);\n",
              "    }\n",
              "    20% {\n",
              "      border-color: transparent;\n",
              "      border-left-color: var(--fill-color);\n",
              "      border-top-color: var(--fill-color);\n",
              "    }\n",
              "    30% {\n",
              "      border-color: transparent;\n",
              "      border-left-color: var(--fill-color);\n",
              "      border-top-color: var(--fill-color);\n",
              "      border-right-color: var(--fill-color);\n",
              "    }\n",
              "    40% {\n",
              "      border-color: transparent;\n",
              "      border-right-color: var(--fill-color);\n",
              "      border-top-color: var(--fill-color);\n",
              "    }\n",
              "    60% {\n",
              "      border-color: transparent;\n",
              "      border-right-color: var(--fill-color);\n",
              "    }\n",
              "    80% {\n",
              "      border-color: transparent;\n",
              "      border-right-color: var(--fill-color);\n",
              "      border-bottom-color: var(--fill-color);\n",
              "    }\n",
              "    90% {\n",
              "      border-color: transparent;\n",
              "      border-bottom-color: var(--fill-color);\n",
              "    }\n",
              "  }\n",
              "</style>\n",
              "\n",
              "  <script>\n",
              "    async function quickchart(key) {\n",
              "      const quickchartButtonEl =\n",
              "        document.querySelector('#' + key + ' button');\n",
              "      quickchartButtonEl.disabled = true;  // To prevent multiple clicks.\n",
              "      quickchartButtonEl.classList.add('colab-df-spinner');\n",
              "      try {\n",
              "        const charts = await google.colab.kernel.invokeFunction(\n",
              "            'suggestCharts', [key], {});\n",
              "      } catch (error) {\n",
              "        console.error('Error during call to suggestCharts:', error);\n",
              "      }\n",
              "      quickchartButtonEl.classList.remove('colab-df-spinner');\n",
              "      quickchartButtonEl.classList.add('colab-df-quickchart-complete');\n",
              "    }\n",
              "    (() => {\n",
              "      let quickchartButtonEl =\n",
              "        document.querySelector('#df-53c4c298-627b-425f-93ab-99e47820cf2a button');\n",
              "      quickchartButtonEl.style.display =\n",
              "        google.colab.kernel.accessAllowed ? 'block' : 'none';\n",
              "    })();\n",
              "  </script>\n",
              "</div>\n",
              "\n",
              "  <div id=\"id_cffc8c90-1ac0-4e9b-8d3e-7c147a55acae\">\n",
              "    <style>\n",
              "      .colab-df-generate {\n",
              "        background-color: #E8F0FE;\n",
              "        border: none;\n",
              "        border-radius: 50%;\n",
              "        cursor: pointer;\n",
              "        display: none;\n",
              "        fill: #1967D2;\n",
              "        height: 32px;\n",
              "        padding: 0 0 0 0;\n",
              "        width: 32px;\n",
              "      }\n",
              "\n",
              "      .colab-df-generate:hover {\n",
              "        background-color: #E2EBFA;\n",
              "        box-shadow: 0px 1px 2px rgba(60, 64, 67, 0.3), 0px 1px 3px 1px rgba(60, 64, 67, 0.15);\n",
              "        fill: #174EA6;\n",
              "      }\n",
              "\n",
              "      [theme=dark] .colab-df-generate {\n",
              "        background-color: #3B4455;\n",
              "        fill: #D2E3FC;\n",
              "      }\n",
              "\n",
              "      [theme=dark] .colab-df-generate:hover {\n",
              "        background-color: #434B5C;\n",
              "        box-shadow: 0px 1px 3px 1px rgba(0, 0, 0, 0.15);\n",
              "        filter: drop-shadow(0px 1px 2px rgba(0, 0, 0, 0.3));\n",
              "        fill: #FFFFFF;\n",
              "      }\n",
              "    </style>\n",
              "    <button class=\"colab-df-generate\" onclick=\"generateWithVariable('X')\"\n",
              "            title=\"Generate code using this dataframe.\"\n",
              "            style=\"display:none;\">\n",
              "\n",
              "  <svg xmlns=\"http://www.w3.org/2000/svg\" height=\"24px\"viewBox=\"0 0 24 24\"\n",
              "       width=\"24px\">\n",
              "    <path d=\"M7,19H8.4L18.45,9,17,7.55,7,17.6ZM5,21V16.75L18.45,3.32a2,2,0,0,1,2.83,0l1.4,1.43a1.91,1.91,0,0,1,.58,1.4,1.91,1.91,0,0,1-.58,1.4L9.25,21ZM18.45,9,17,7.55Zm-12,3A5.31,5.31,0,0,0,4.9,8.1,5.31,5.31,0,0,0,1,6.5,5.31,5.31,0,0,0,4.9,4.9,5.31,5.31,0,0,0,6.5,1,5.31,5.31,0,0,0,8.1,4.9,5.31,5.31,0,0,0,12,6.5,5.46,5.46,0,0,0,6.5,12Z\"/>\n",
              "  </svg>\n",
              "    </button>\n",
              "    <script>\n",
              "      (() => {\n",
              "      const buttonEl =\n",
              "        document.querySelector('#id_cffc8c90-1ac0-4e9b-8d3e-7c147a55acae button.colab-df-generate');\n",
              "      buttonEl.style.display =\n",
              "        google.colab.kernel.accessAllowed ? 'block' : 'none';\n",
              "\n",
              "      buttonEl.onclick = () => {\n",
              "        google.colab.notebook.generateWithVariable('X');\n",
              "      }\n",
              "      })();\n",
              "    </script>\n",
              "  </div>\n",
              "\n",
              "    </div>\n",
              "  </div>\n"
            ],
            "application/vnd.google.colaboratory.intrinsic+json": {
              "type": "dataframe",
              "variable_name": "X",
              "summary": "{\n  \"name\": \"X\",\n  \"rows\": 4500,\n  \"fields\": [\n    {\n      \"column\": \"Evap_tavg\",\n      \"properties\": {\n        \"dtype\": \"number\",\n        \"std\": 1.9737436736414897e-05,\n        \"min\": 5.299994938923609e-06,\n        \"max\": 7.951133102324066e-05,\n        \"num_unique_values\": 4500,\n        \"samples\": [\n          6.332661223496018e-05,\n          1.4806625245000565e-05,\n          6.010907259224084e-05\n        ],\n        \"semantic_type\": \"\",\n        \"description\": \"\"\n      }\n    },\n    {\n      \"column\": \"aspect\",\n      \"properties\": {\n        \"dtype\": \"number\",\n        \"std\": 79.40045498349005,\n        \"min\": 44.99999999999999,\n        \"max\": 354.2551852756562,\n        \"num_unique_values\": 30,\n        \"samples\": [\n          175.13627808055577,\n          315.49214921791844,\n          44.99999999999999\n        ],\n        \"semantic_type\": \"\",\n        \"description\": \"\"\n      }\n    },\n    {\n      \"column\": \"elevation\",\n      \"properties\": {\n        \"dtype\": \"number\",\n        \"std\": 501.74898069942617,\n        \"min\": 63.3201285648925,\n        \"max\": 2337.729074184203,\n        \"num_unique_values\": 30,\n        \"samples\": [\n          112.93646142130584,\n          68.56908922265401,\n          65.0\n        ],\n        \"semantic_type\": \"\",\n        \"description\": \"\"\n      }\n    },\n    {\n      \"column\": \"slope\",\n      \"properties\": {\n        \"dtype\": \"number\",\n        \"std\": 11.191173857954494,\n        \"min\": 0.2019266985485716,\n        \"max\": 34.2104648035528,\n        \"num_unique_values\": 30,\n        \"samples\": [\n          0.6016754186847271,\n          0.7278595294361522,\n          0.4367351903604467\n        ],\n        \"semantic_type\": \"\",\n        \"description\": \"\"\n      }\n    },\n    {\n      \"column\": \"SoilMoi00_10cm_tavg\",\n      \"properties\": {\n        \"dtype\": \"number\",\n        \"std\": 0.08688175405984909,\n        \"min\": 0.1537396600469958,\n        \"max\": 0.4325400833040477,\n        \"num_unique_values\": 4500,\n        \"samples\": [\n          0.4273408427834515,\n          0.2571853511035422,\n          0.4004518762230889\n        ],\n        \"semantic_type\": \"\",\n        \"description\": \"\"\n      }\n    },\n    {\n      \"column\": \"SoilMoi100_200cm_tavg\",\n      \"properties\": {\n        \"dtype\": \"number\",\n        \"std\": 0.036911086272120974,\n        \"min\": 0.2560892850160511,\n        \"max\": 0.4676329996436832,\n        \"num_unique_values\": 4418,\n        \"samples\": [\n          0.3557992335408913,\n          0.462646797299385,\n          0.4203892555087775\n        ],\n        \"semantic_type\": \"\",\n        \"description\": \"\"\n      }\n    },\n    {\n      \"column\": \"SoilMoi10_40cm_tavg\",\n      \"properties\": {\n        \"dtype\": \"number\",\n        \"std\": 0.08310340507220305,\n        \"min\": 0.1490303473547101,\n        \"max\": 0.4355264957994219,\n        \"num_unique_values\": 4500,\n        \"samples\": [\n          0.430122455582023,\n          0.346491226926446,\n          0.4067352134734409\n        ],\n        \"semantic_type\": \"\",\n        \"description\": \"\"\n      }\n    },\n    {\n      \"column\": \"SoilMoi40_100cm_tavg\",\n      \"properties\": {\n        \"dtype\": \"number\",\n        \"std\": 0.09450673087856526,\n        \"min\": 0.141953153535724,\n        \"max\": 0.4436333328485489,\n        \"num_unique_values\": 4500,\n        \"samples\": [\n          0.4370172042399647,\n          0.3595858290791511,\n          0.4137400873005412\n        ],\n        \"semantic_type\": \"\",\n        \"description\": \"\"\n      }\n    },\n    {\n      \"column\": \"NDVI\",\n      \"properties\": {\n        \"dtype\": \"number\",\n        \"std\": 1385.7262398517123,\n        \"min\": 2307.499999999985,\n        \"max\": 8319.437499999976,\n        \"num_unique_values\": 4498,\n        \"samples\": [\n          4529.562500000095,\n          4116.562500000065,\n          4661.562499999845\n        ],\n        \"semantic_type\": \"\",\n        \"description\": \"\"\n      }\n    },\n    {\n      \"column\": \"precipitation\",\n      \"properties\": {\n        \"dtype\": \"number\",\n        \"std\": 0.2148682509766172,\n        \"min\": 0.0,\n        \"max\": 1.1378124174479591,\n        \"num_unique_values\": 3636,\n        \"samples\": [\n          0.0893126416018351,\n          0.7208130764930775,\n          0.1464375741408277\n        ],\n        \"semantic_type\": \"\",\n        \"description\": \"\"\n      }\n    },\n    {\n      \"column\": \"Qs_tavg\",\n      \"properties\": {\n        \"dtype\": \"number\",\n        \"std\": 2.1208885203013135e-05,\n        \"min\": 0.0,\n        \"max\": 0.0001716650967864,\n        \"num_unique_values\": 4486,\n        \"samples\": [\n          1.7222517840309847e-05,\n          8.213885083207505e-08,\n          5.177321953098486e-09\n        ],\n        \"semantic_type\": \"\",\n        \"description\": \"\"\n      }\n    },\n    {\n      \"column\": \"SWE_inst\",\n      \"properties\": {\n        \"dtype\": \"number\",\n        \"std\": 0.0006978107021376935,\n        \"min\": 0.0,\n        \"max\": 0.023181794560506,\n        \"num_unique_values\": 51,\n        \"samples\": [\n          0.002844766815543,\n          8.47367363776833e-10,\n          0.023181794560506\n        ],\n        \"semantic_type\": \"\",\n        \"description\": \"\"\n      }\n    }\n  ]\n}"
            }
          },
          "metadata": {},
          "execution_count": 5
        }
      ],
      "source": [
        "X"
      ]
    },
    {
      "cell_type": "markdown",
      "metadata": {
        "id": "zJtsWsMr0JFq"
      },
      "source": [
        "# K-fold cross validation"
      ]
    },
    {
      "cell_type": "code",
      "execution_count": null,
      "metadata": {
        "colab": {
          "base_uri": "https://localhost:8080/"
        },
        "id": "f6HtsGRR0QKw",
        "outputId": "36df3712-d0c1-49b9-d1b2-a3eb238c42b7"
      },
      "outputs": [
        {
          "output_type": "stream",
          "name": "stdout",
          "text": [
            "Cross-validation R2 scores: [0.68693857 0.69870705 0.73524253 0.65534902 0.65983245 0.66623099\n",
            " 0.67856958 0.69483392 0.72700152 0.66298436]\n",
            "Mean R2 score: 0.6865689991632451\n"
          ]
        }
      ],
      "source": [
        "from sklearn.model_selection import KFold\n",
        "from sklearn.ensemble import RandomForestRegressor\n",
        "from sklearn.model_selection import cross_val_score\n",
        "\n",
        "# Define the number of splits for K-Fold cross-validation\n",
        "k = 10\n",
        "kf = KFold(n_splits=k, shuffle=True, random_state=21)\n",
        "\n",
        "# Initialize the model\n",
        "model = RandomForestRegressor()\n",
        "\n",
        "# Perform cross-validation using all available cores (parallel computing)\n",
        "scores = cross_val_score(model, X, y, cv=kf, scoring='r2', n_jobs=-1)\n",
        "\n",
        "# Print the results\n",
        "print(\"Cross-validation R2 scores:\", scores)\n",
        "print(\"Mean R2 score:\", scores.mean())\n"
      ]
    },
    {
      "cell_type": "code",
      "execution_count": null,
      "metadata": {
        "colab": {
          "base_uri": "https://localhost:8080/"
        },
        "id": "6UHPdx_gxddd",
        "outputId": "34773270-8aed-4242-ab7b-6c6fbf245c3e"
      },
      "outputs": [
        {
          "output_type": "stream",
          "name": "stdout",
          "text": [
            "Total samples: 4500\n",
            "Size of each fold: 450\n",
            "Sizes of each fold: [450, 450, 450, 450, 450, 450, 450, 450, 450, 450]\n"
          ]
        }
      ],
      "source": [
        "import numpy as np\n",
        "from sklearn.model_selection import KFold\n",
        "\n",
        "# Assuming X is your feature matrix\n",
        "num_samples = X.shape[0]  # Get the total number of samples\n",
        "k = 10  # Number of folds\n",
        "\n",
        "# Calculate the size of each fold\n",
        "fold_size = num_samples // k  # Integer division\n",
        "remaining_samples = num_samples % k  # Remainder to account for any leftover samples\n",
        "\n",
        "print(f\"Total samples: {num_samples}\")\n",
        "print(f\"Size of each fold: {fold_size}\")\n",
        "\n",
        "# If you want to see how many samples each fold will have\n",
        "fold_sizes = [fold_size + 1 if i < remaining_samples else fold_size for i in range(k)]\n",
        "print(f\"Sizes of each fold: {fold_sizes}\")\n"
      ]
    },
    {
      "cell_type": "code",
      "execution_count": null,
      "metadata": {
        "colab": {
          "base_uri": "https://localhost:8080/"
        },
        "id": "GXHy3-z7yBz2",
        "outputId": "ea4ad87a-bc21-45a5-dc91-0951b7bbf7e0"
      },
      "outputs": [
        {
          "output_type": "stream",
          "name": "stdout",
          "text": [
            "Feature importances: [0.06248234 0.01194372 0.01841521 0.01388299 0.07438274 0.10015499\n",
            " 0.18661883 0.33982894 0.05307191 0.09890418 0.03996061 0.00035355]\n"
          ]
        }
      ],
      "source": [
        "# Check feature importances\n",
        "importances = model.fit(X, y).feature_importances_\n",
        "print(\"Feature importances:\", importances)\n"
      ]
    },
    {
      "cell_type": "code",
      "execution_count": null,
      "metadata": {
        "colab": {
          "base_uri": "https://localhost:8080/",
          "height": 607
        },
        "id": "HMouO8y01J5k",
        "outputId": "c723231a-ef00-48e3-f467-c041a46fd868"
      },
      "outputs": [
        {
          "output_type": "display_data",
          "data": {
            "text/plain": [
              "<Figure size 1000x600 with 1 Axes>"
            ],
            "image/png": "[encoded data removed]"
          },
          "metadata": {}
        }
      ],
      "source": [
        "# Plotting the feature importances\n",
        "feature_names = X.columns\n",
        "indices = np.argsort(importances)[::-1]  # Sort the features by importance\n",
        "\n",
        "plt.figure(figsize=(10, 6))\n",
        "plt.title(\"Feature Importances\")\n",
        "plt.bar(range(X.shape[1]), importances[indices], align='center')\n",
        "plt.xticks(range(X.shape[1]), np.array(feature_names)[indices], rotation=90)\n",
        "plt.xlabel(\"Features\")\n",
        "plt.ylabel(\"Importance\")\n",
        "plt.tight_layout()\n",
        "plt.show()"
      ]
    },
    {
      "cell_type": "code",
      "execution_count": null,
      "metadata": {
        "id": "yGVYnL131mHf"
      },
      "outputs": [],
      "source": [
        "# Save the trained model to a file\n",
        "import joblib\n",
        "joblib.dump(model, '/content/drive/My Drive/Thesis/RFM/k-fold-RFM.pkl')\n",
        "print(\"Model saved as 'random_forest_model.pkl'\")"
      ]
    },
    {
      "cell_type": "code",
      "execution_count": null,
      "metadata": {
        "colab": {
          "base_uri": "https://localhost:8080/"
        },
        "id": "n68U_QYI00P-",
        "outputId": "8b630d98-01b9-486e-8829-af0d08388d45"
      },
      "outputs": [
        {
          "name": "stdout",
          "output_type": "stream",
          "text": [
            "R² Score for each fold: [0.6054, 0.6159, 0.608, 0.6015, 0.5942, 0.6028, 0.6099, 0.6083, 0.6085, 0.6049]\n",
            "Average R² across 10 folds: 0.61\n"
          ]
        }
      ],
      "source": [
        "import numpy as np\n",
        "\n",
        "average_r2 = np.mean(scores)\n",
        "\n",
        "print(f\"R² Score for each fold: {[round(score, 4) for score in scores]}\")\n",
        "print(f\"Average R² across {k} folds: {average_r2:.2f}\")"
      ]
    },
    {
      "cell_type": "markdown",
      "metadata": {
        "id": "rz0Mjx7I3ChL"
      },
      "source": [
        "# Simple Split"
      ]
    },
    {
      "cell_type": "code",
      "execution_count": null,
      "metadata": {
        "id": "0nnoewEE0FQp",
        "colab": {
          "base_uri": "https://localhost:8080/"
        },
        "outputId": "5797493a-b9be-4346-f081-c5eec50bcb3f"
      },
      "outputs": [
        {
          "output_type": "stream",
          "name": "stdout",
          "text": [
            "{'bootstrap': True, 'ccp_alpha': 0.0, 'criterion': 'squared_error', 'max_depth': None, 'max_features': 1.0, 'max_leaf_nodes': None, 'max_samples': None, 'min_impurity_decrease': 0.0, 'min_samples_leaf': 1, 'min_samples_split': 2, 'min_weight_fraction_leaf': 0.0, 'monotonic_cst': None, 'n_estimators': 100, 'n_jobs': None, 'oob_score': False, 'random_state': 21, 'verbose': 0, 'warm_start': False}\n"
          ]
        }
      ],
      "source": [
        "# Split the data into training and test sets\n",
        "X_train, X_test, y_train, y_test = train_test_split(X, y, test_size=0.2)\n",
        "model_rf = RandomForestRegressor(random_state = 21)\n",
        "print(model_rf.get_params())  # change parameter as necessary (currently default)"
      ]
    },
    {
      "cell_type": "code",
      "execution_count": null,
      "metadata": {
        "colab": {
          "base_uri": "https://localhost:8080/"
        },
        "id": "cXBSTpMtZyPb",
        "outputId": "6ddc25d2-2130-4f31-b2d5-84bc275afaf4"
      },
      "outputs": [
        {
          "output_type": "stream",
          "name": "stdout",
          "text": [
            "Number of samples used to train the model: 3600\n"
          ]
        }
      ],
      "source": [
        "print(f\"Number of samples used to train the model: {X_train.shape[0]}\")"
      ]
    },
    {
      "cell_type": "code",
      "execution_count": null,
      "metadata": {
        "colab": {
          "base_uri": "https://localhost:8080/",
          "height": 81
        },
        "id": "hxckpHX8B_aX",
        "outputId": "1d0cc152-7408-4887-d61e-b6419fc528d1"
      },
      "outputs": [
        {
          "output_type": "execute_result",
          "data": {
            "text/plain": [
              "RandomForestRegressor(random_state=21)"
            ],
            "text/html": [
              "<style>#sk-container-id-2 {\n",
              "  /* Definition of color scheme common for light and dark mode */\n",
              "  --sklearn-color-text: black;\n",
              "  --sklearn-color-line: gray;\n",
              "  /* Definition of color scheme for unfitted estimators */\n",
              "  --sklearn-color-unfitted-level-0: #fff5e6;\n",
              "  --sklearn-color-unfitted-level-1: #f6e4d2;\n",
              "  --sklearn-color-unfitted-level-2: #ffe0b3;\n",
              "  --sklearn-color-unfitted-level-3: chocolate;\n",
              "  /* Definition of color scheme for fitted estimators */\n",
              "  --sklearn-color-fitted-level-0: #f0f8ff;\n",
              "  --sklearn-color-fitted-level-1: #d4ebff;\n",
              "  --sklearn-color-fitted-level-2: #b3dbfd;\n",
              "  --sklearn-color-fitted-level-3: cornflowerblue;\n",
              "\n",
              "  /* Specific color for light theme */\n",
              "  --sklearn-color-text-on-default-background: var(--sg-text-color, var(--theme-code-foreground, var(--jp-content-font-color1, black)));\n",
              "  --sklearn-color-background: var(--sg-background-color, var(--theme-background, var(--jp-layout-color0, white)));\n",
              "  --sklearn-color-border-box: var(--sg-text-color, var(--theme-code-foreground, var(--jp-content-font-color1, black)));\n",
              "  --sklearn-color-icon: #696969;\n",
              "\n",
              "  @media (prefers-color-scheme: dark) {\n",
              "    /* Redefinition of color scheme for dark theme */\n",
              "    --sklearn-color-text-on-default-background: var(--sg-text-color, var(--theme-code-foreground, var(--jp-content-font-color1, white)));\n",
              "    --sklearn-color-background: var(--sg-background-color, var(--theme-background, var(--jp-layout-color0, #111)));\n",
              "    --sklearn-color-border-box: var(--sg-text-color, var(--theme-code-foreground, var(--jp-content-font-color1, white)));\n",
              "    --sklearn-color-icon: #878787;\n",
              "  }\n",
              "}\n",
              "\n",
              "#sk-container-id-2 {\n",
              "  color: var(--sklearn-color-text);\n",
              "}\n",
              "\n",
              "#sk-container-id-2 pre {\n",
              "  padding: 0;\n",
              "}\n",
              "\n",
              "#sk-container-id-2 input.sk-hidden--visually {\n",
              "  border: 0;\n",
              "  clip: rect(1px 1px 1px 1px);\n",
              "  clip: rect(1px, 1px, 1px, 1px);\n",
              "  height: 1px;\n",
              "  margin: -1px;\n",
              "  overflow: hidden;\n",
              "  padding: 0;\n",
              "  position: absolute;\n",
              "  width: 1px;\n",
              "}\n",
              "\n",
              "#sk-container-id-2 div.sk-dashed-wrapped {\n",
              "  border: 1px dashed var(--sklearn-color-line);\n",
              "  margin: 0 0.4em 0.5em 0.4em;\n",
              "  box-sizing: border-box;\n",
              "  padding-bottom: 0.4em;\n",
              "  background-color: var(--sklearn-color-background);\n",
              "}\n",
              "\n",
              "#sk-container-id-2 div.sk-container {\n",
              "  /* jupyter's `normalize.less` sets `[hidden] { display: none; }`\n",
              "     but bootstrap.min.css set `[hidden] { display: none !important; }`\n",
              "     so we also need the `!important` here to be able to override the\n",
              "     default hidden behavior on the sphinx rendered scikit-learn.org.\n",
              "     See: https://github.com/scikit-learn/scikit-learn/issues/21755 */\n",
              "  display: inline-block !important;\n",
              "  position: relative;\n",
              "}\n",
              "\n",
              "#sk-container-id-2 div.sk-text-repr-fallback {\n",
              "  display: none;\n",
              "}\n",
              "\n",
              "div.sk-parallel-item,\n",
              "div.sk-serial,\n",
              "div.sk-item {\n",
              "  /* draw centered vertical line to link estimators */\n",
              "  background-image: linear-gradient(var(--sklearn-color-text-on-default-background), var(--sklearn-color-text-on-default-background));\n",
              "  background-size: 2px 100%;\n",
              "  background-repeat: no-repeat;\n",
              "  background-position: center center;\n",
              "}\n",
              "\n",
              "/* Parallel-specific style estimator block */\n",
              "\n",
              "#sk-container-id-2 div.sk-parallel-item::after {\n",
              "  content: \"\";\n",
              "  width: 100%;\n",
              "  border-bottom: 2px solid var(--sklearn-color-text-on-default-background);\n",
              "  flex-grow: 1;\n",
              "}\n",
              "\n",
              "#sk-container-id-2 div.sk-parallel {\n",
              "  display: flex;\n",
              "  align-items: stretch;\n",
              "  justify-content: center;\n",
              "  background-color: var(--sklearn-color-background);\n",
              "  position: relative;\n",
              "}\n",
              "\n",
              "#sk-container-id-2 div.sk-parallel-item {\n",
              "  display: flex;\n",
              "  flex-direction: column;\n",
              "}\n",
              "\n",
              "#sk-container-id-2 div.sk-parallel-item:first-child::after {\n",
              "  align-self: flex-end;\n",
              "  width: 50%;\n",
              "}\n",
              "\n",
              "#sk-container-id-2 div.sk-parallel-item:last-child::after {\n",
              "  align-self: flex-start;\n",
              "  width: 50%;\n",
              "}\n",
              "\n",
              "#sk-container-id-2 div.sk-parallel-item:only-child::after {\n",
              "  width: 0;\n",
              "}\n",
              "\n",
              "/* Serial-specific style estimator block */\n",
              "\n",
              "#sk-container-id-2 div.sk-serial {\n",
              "  display: flex;\n",
              "  flex-direction: column;\n",
              "  align-items: center;\n",
              "  background-color: var(--sklearn-color-background);\n",
              "  padding-right: 1em;\n",
              "  padding-left: 1em;\n",
              "}\n",
              "\n",
              "\n",
              "/* Toggleable style: style used for estimator/Pipeline/ColumnTransformer box that is\n",
              "clickable and can be expanded/collapsed.\n",
              "- Pipeline and ColumnTransformer use this feature and define the default style\n",
              "- Estimators will overwrite some part of the style using the `sk-estimator` class\n",
              "*/\n",
              "\n",
              "/* Pipeline and ColumnTransformer style (default) */\n",
              "\n",
              "#sk-container-id-2 div.sk-toggleable {\n",
              "  /* Default theme specific background. It is overwritten whether we have a\n",
              "  specific estimator or a Pipeline/ColumnTransformer */\n",
              "  background-color: var(--sklearn-color-background);\n",
              "}\n",
              "\n",
              "/* Toggleable label */\n",
              "#sk-container-id-2 label.sk-toggleable__label {\n",
              "  cursor: pointer;\n",
              "  display: block;\n",
              "  width: 100%;\n",
              "  margin-bottom: 0;\n",
              "  padding: 0.5em;\n",
              "  box-sizing: border-box;\n",
              "  text-align: center;\n",
              "}\n",
              "\n",
              "#sk-container-id-2 label.sk-toggleable__label-arrow:before {\n",
              "  /* Arrow on the left of the label */\n",
              "  content: \"▸\";\n",
              "  float: left;\n",
              "  margin-right: 0.25em;\n",
              "  color: var(--sklearn-color-icon);\n",
              "}\n",
              "\n",
              "#sk-container-id-2 label.sk-toggleable__label-arrow:hover:before {\n",
              "  color: var(--sklearn-color-text);\n",
              "}\n",
              "\n",
              "/* Toggleable content - dropdown */\n",
              "\n",
              "#sk-container-id-2 div.sk-toggleable__content {\n",
              "  max-height: 0;\n",
              "  max-width: 0;\n",
              "  overflow: hidden;\n",
              "  text-align: left;\n",
              "  /* unfitted */\n",
              "  background-color: var(--sklearn-color-unfitted-level-0);\n",
              "}\n",
              "\n",
              "#sk-container-id-2 div.sk-toggleable__content.fitted {\n",
              "  /* fitted */\n",
              "  background-color: var(--sklearn-color-fitted-level-0);\n",
              "}\n",
              "\n",
              "#sk-container-id-2 div.sk-toggleable__content pre {\n",
              "  margin: 0.2em;\n",
              "  border-radius: 0.25em;\n",
              "  color: var(--sklearn-color-text);\n",
              "  /* unfitted */\n",
              "  background-color: var(--sklearn-color-unfitted-level-0);\n",
              "}\n",
              "\n",
              "#sk-container-id-2 div.sk-toggleable__content.fitted pre {\n",
              "  /* unfitted */\n",
              "  background-color: var(--sklearn-color-fitted-level-0);\n",
              "}\n",
              "\n",
              "#sk-container-id-2 input.sk-toggleable__control:checked~div.sk-toggleable__content {\n",
              "  /* Expand drop-down */\n",
              "  max-height: 200px;\n",
              "  max-width: 100%;\n",
              "  overflow: auto;\n",
              "}\n",
              "\n",
              "#sk-container-id-2 input.sk-toggleable__control:checked~label.sk-toggleable__label-arrow:before {\n",
              "  content: \"▾\";\n",
              "}\n",
              "\n",
              "/* Pipeline/ColumnTransformer-specific style */\n",
              "\n",
              "#sk-container-id-2 div.sk-label input.sk-toggleable__control:checked~label.sk-toggleable__label {\n",
              "  color: var(--sklearn-color-text);\n",
              "  background-color: var(--sklearn-color-unfitted-level-2);\n",
              "}\n",
              "\n",
              "#sk-container-id-2 div.sk-label.fitted input.sk-toggleable__control:checked~label.sk-toggleable__label {\n",
              "  background-color: var(--sklearn-color-fitted-level-2);\n",
              "}\n",
              "\n",
              "/* Estimator-specific style */\n",
              "\n",
              "/* Colorize estimator box */\n",
              "#sk-container-id-2 div.sk-estimator input.sk-toggleable__control:checked~label.sk-toggleable__label {\n",
              "  /* unfitted */\n",
              "  background-color: var(--sklearn-color-unfitted-level-2);\n",
              "}\n",
              "\n",
              "#sk-container-id-2 div.sk-estimator.fitted input.sk-toggleable__control:checked~label.sk-toggleable__label {\n",
              "  /* fitted */\n",
              "  background-color: var(--sklearn-color-fitted-level-2);\n",
              "}\n",
              "\n",
              "#sk-container-id-2 div.sk-label label.sk-toggleable__label,\n",
              "#sk-container-id-2 div.sk-label label {\n",
              "  /* The background is the default theme color */\n",
              "  color: var(--sklearn-color-text-on-default-background);\n",
              "}\n",
              "\n",
              "/* On hover, darken the color of the background */\n",
              "#sk-container-id-2 div.sk-label:hover label.sk-toggleable__label {\n",
              "  color: var(--sklearn-color-text);\n",
              "  background-color: var(--sklearn-color-unfitted-level-2);\n",
              "}\n",
              "\n",
              "/* Label box, darken color on hover, fitted */\n",
              "#sk-container-id-2 div.sk-label.fitted:hover label.sk-toggleable__label.fitted {\n",
              "  color: var(--sklearn-color-text);\n",
              "  background-color: var(--sklearn-color-fitted-level-2);\n",
              "}\n",
              "\n",
              "/* Estimator label */\n",
              "\n",
              "#sk-container-id-2 div.sk-label label {\n",
              "  font-family: monospace;\n",
              "  font-weight: bold;\n",
              "  display: inline-block;\n",
              "  line-height: 1.2em;\n",
              "}\n",
              "\n",
              "#sk-container-id-2 div.sk-label-container {\n",
              "  text-align: center;\n",
              "}\n",
              "\n",
              "/* Estimator-specific */\n",
              "#sk-container-id-2 div.sk-estimator {\n",
              "  font-family: monospace;\n",
              "  border: 1px dotted var(--sklearn-color-border-box);\n",
              "  border-radius: 0.25em;\n",
              "  box-sizing: border-box;\n",
              "  margin-bottom: 0.5em;\n",
              "  /* unfitted */\n",
              "  background-color: var(--sklearn-color-unfitted-level-0);\n",
              "}\n",
              "\n",
              "#sk-container-id-2 div.sk-estimator.fitted {\n",
              "  /* fitted */\n",
              "  background-color: var(--sklearn-color-fitted-level-0);\n",
              "}\n",
              "\n",
              "/* on hover */\n",
              "#sk-container-id-2 div.sk-estimator:hover {\n",
              "  /* unfitted */\n",
              "  background-color: var(--sklearn-color-unfitted-level-2);\n",
              "}\n",
              "\n",
              "#sk-container-id-2 div.sk-estimator.fitted:hover {\n",
              "  /* fitted */\n",
              "  background-color: var(--sklearn-color-fitted-level-2);\n",
              "}\n",
              "\n",
              "/* Specification for estimator info (e.g. \"i\" and \"?\") */\n",
              "\n",
              "/* Common style for \"i\" and \"?\" */\n",
              "\n",
              ".sk-estimator-doc-link,\n",
              "a:link.sk-estimator-doc-link,\n",
              "a:visited.sk-estimator-doc-link {\n",
              "  float: right;\n",
              "  font-size: smaller;\n",
              "  line-height: 1em;\n",
              "  font-family: monospace;\n",
              "  background-color: var(--sklearn-color-background);\n",
              "  border-radius: 1em;\n",
              "  height: 1em;\n",
              "  width: 1em;\n",
              "  text-decoration: none !important;\n",
              "  margin-left: 1ex;\n",
              "  /* unfitted */\n",
              "  border: var(--sklearn-color-unfitted-level-1) 1pt solid;\n",
              "  color: var(--sklearn-color-unfitted-level-1);\n",
              "}\n",
              "\n",
              ".sk-estimator-doc-link.fitted,\n",
              "a:link.sk-estimator-doc-link.fitted,\n",
              "a:visited.sk-estimator-doc-link.fitted {\n",
              "  /* fitted */\n",
              "  border: var(--sklearn-color-fitted-level-1) 1pt solid;\n",
              "  color: var(--sklearn-color-fitted-level-1);\n",
              "}\n",
              "\n",
              "/* On hover */\n",
              "div.sk-estimator:hover .sk-estimator-doc-link:hover,\n",
              ".sk-estimator-doc-link:hover,\n",
              "div.sk-label-container:hover .sk-estimator-doc-link:hover,\n",
              ".sk-estimator-doc-link:hover {\n",
              "  /* unfitted */\n",
              "  background-color: var(--sklearn-color-unfitted-level-3);\n",
              "  color: var(--sklearn-color-background);\n",
              "  text-decoration: none;\n",
              "}\n",
              "\n",
              "div.sk-estimator.fitted:hover .sk-estimator-doc-link.fitted:hover,\n",
              ".sk-estimator-doc-link.fitted:hover,\n",
              "div.sk-label-container:hover .sk-estimator-doc-link.fitted:hover,\n",
              ".sk-estimator-doc-link.fitted:hover {\n",
              "  /* fitted */\n",
              "  background-color: var(--sklearn-color-fitted-level-3);\n",
              "  color: var(--sklearn-color-background);\n",
              "  text-decoration: none;\n",
              "}\n",
              "\n",
              "/* Span, style for the box shown on hovering the info icon */\n",
              ".sk-estimator-doc-link span {\n",
              "  display: none;\n",
              "  z-index: 9999;\n",
              "  position: relative;\n",
              "  font-weight: normal;\n",
              "  right: .2ex;\n",
              "  padding: .5ex;\n",
              "  margin: .5ex;\n",
              "  width: min-content;\n",
              "  min-width: 20ex;\n",
              "  max-width: 50ex;\n",
              "  color: var(--sklearn-color-text);\n",
              "  box-shadow: 2pt 2pt 4pt #999;\n",
              "  /* unfitted */\n",
              "  background: var(--sklearn-color-unfitted-level-0);\n",
              "  border: .5pt solid var(--sklearn-color-unfitted-level-3);\n",
              "}\n",
              "\n",
              ".sk-estimator-doc-link.fitted span {\n",
              "  /* fitted */\n",
              "  background: var(--sklearn-color-fitted-level-0);\n",
              "  border: var(--sklearn-color-fitted-level-3);\n",
              "}\n",
              "\n",
              ".sk-estimator-doc-link:hover span {\n",
              "  display: block;\n",
              "}\n",
              "\n",
              "/* \"?\"-specific style due to the `<a>` HTML tag */\n",
              "\n",
              "#sk-container-id-2 a.estimator_doc_link {\n",
              "  float: right;\n",
              "  font-size: 1rem;\n",
              "  line-height: 1em;\n",
              "  font-family: monospace;\n",
              "  background-color: var(--sklearn-color-background);\n",
              "  border-radius: 1rem;\n",
              "  height: 1rem;\n",
              "  width: 1rem;\n",
              "  text-decoration: none;\n",
              "  /* unfitted */\n",
              "  color: var(--sklearn-color-unfitted-level-1);\n",
              "  border: var(--sklearn-color-unfitted-level-1) 1pt solid;\n",
              "}\n",
              "\n",
              "#sk-container-id-2 a.estimator_doc_link.fitted {\n",
              "  /* fitted */\n",
              "  border: var(--sklearn-color-fitted-level-1) 1pt solid;\n",
              "  color: var(--sklearn-color-fitted-level-1);\n",
              "}\n",
              "\n",
              "/* On hover */\n",
              "#sk-container-id-2 a.estimator_doc_link:hover {\n",
              "  /* unfitted */\n",
              "  background-color: var(--sklearn-color-unfitted-level-3);\n",
              "  color: var(--sklearn-color-background);\n",
              "  text-decoration: none;\n",
              "}\n",
              "\n",
              "#sk-container-id-2 a.estimator_doc_link.fitted:hover {\n",
              "  /* fitted */\n",
              "  background-color: var(--sklearn-color-fitted-level-3);\n",
              "}\n",
              "</style><div id=\"sk-container-id-2\" class=\"sk-top-container\"><div class=\"sk-text-repr-fallback\"><pre>RandomForestRegressor(random_state=21)</pre><b>In a Jupyter environment, please rerun this cell to show the HTML representation or trust the notebook. <br />On GitHub, the HTML representation is unable to render, please try loading this page with nbviewer.org.</b></div><div class=\"sk-container\" hidden><div class=\"sk-item\"><div class=\"sk-estimator fitted sk-toggleable\"><input class=\"sk-toggleable__control sk-hidden--visually\" id=\"sk-estimator-id-2\" type=\"checkbox\" checked><label for=\"sk-estimator-id-2\" class=\"sk-toggleable__label fitted sk-toggleable__label-arrow fitted\">&nbsp;&nbsp;RandomForestRegressor<a class=\"sk-estimator-doc-link fitted\" rel=\"noreferrer\" target=\"_blank\" href=\"https://scikit-learn.org/1.5/modules/generated/sklearn.ensemble.RandomForestRegressor.html\">?<span>Documentation for RandomForestRegressor</span></a><span class=\"sk-estimator-doc-link fitted\">i<span>Fitted</span></span></label><div class=\"sk-toggleable__content fitted\"><pre>RandomForestRegressor(random_state=21)</pre></div> </div></div></div></div>"
            ]
          },
          "metadata": {},
          "execution_count": 15
        }
      ],
      "source": [
        "#train model\n",
        "\n",
        "model_rf.fit(X_train, y_train)"
      ]
    },
    {
      "cell_type": "code",
      "execution_count": null,
      "metadata": {
        "colab": {
          "base_uri": "https://localhost:8080/"
        },
        "id": "xVyby3ANWyrS",
        "outputId": "d7ae136d-2885-433a-ef2c-9d8c8cd5d68b"
      },
      "outputs": [
        {
          "output_type": "execute_result",
          "data": {
            "text/plain": [
              "['/content/drive/My Drive/Thesis/RFM/Cluster 5.pkl']"
            ]
          },
          "metadata": {},
          "execution_count": 9
        }
      ],
      "source": [
        "import joblib\n",
        "\n",
        "# Save the trained model to a file\n",
        "joblib.dump(model_rf, '/content/drive/My Drive/Thesis/RFM/Cluster 5.pkl')"
      ]
    },
    {
      "cell_type": "markdown",
      "metadata": {
        "id": "Mwv8-DBEXWOj"
      },
      "source": [
        "## Import RFM"
      ]
    },
    {
      "cell_type": "code",
      "execution_count": null,
      "metadata": {
        "id": "UErtD48jXB5V"
      },
      "outputs": [],
      "source": [
        "import joblib\n",
        "model_rf = joblib.load('/content/drive/My Drive/Thesis/RFM/random_forest_model.pkl')"
      ]
    },
    {
      "cell_type": "code",
      "execution_count": null,
      "metadata": {
        "colab": {
          "base_uri": "https://localhost:8080/"
        },
        "id": "HoQnod31udZ7",
        "outputId": "8c026789-6b81-47a1-ea11-b3ecd2b0ce0a"
      },
      "outputs": [
        {
          "output_type": "execute_result",
          "data": {
            "text/plain": [
              "0.6715454923128135"
            ]
          },
          "metadata": {},
          "execution_count": 16
        }
      ],
      "source": [
        "model_rf.score(X_test,y_test)\n"
      ]
    },
    {
      "cell_type": "code",
      "execution_count": null,
      "metadata": {
        "colab": {
          "base_uri": "https://localhost:8080/"
        },
        "id": "iIxvSaFrr_lr",
        "outputId": "f298c7af-775a-4626-b98b-b21fb7cf3339"
      },
      "outputs": [
        {
          "output_type": "execute_result",
          "data": {
            "text/plain": [
              "0.9542102195181963"
            ]
          },
          "metadata": {},
          "execution_count": 17
        }
      ],
      "source": [
        "model_rf.score(X_train,y_train)"
      ]
    },
    {
      "cell_type": "code",
      "execution_count": null,
      "metadata": {
        "id": "8ZST38ZNu1pC"
      },
      "outputs": [],
      "source": [
        "y_predicted = model_rf.predict(X_test)"
      ]
    },
    {
      "cell_type": "code",
      "execution_count": null,
      "metadata": {
        "colab": {
          "base_uri": "https://localhost:8080/"
        },
        "id": "0vnqZSUev9Rl",
        "outputId": "bd318378-24fd-4cbc-bf5f-c0fdb68852eb"
      },
      "outputs": [
        {
          "output_type": "stream",
          "name": "stdout",
          "text": [
            "Mean Squared Error: 109.25736634930709\n",
            "Mean Absolute Error: 7.967011179321888\n",
            "Nash-Sutcliffe Efficiency: 0.6715454923128135\n",
            "Pearson Correlation Coefficient: 0.8203584512424924\n",
            "Normalized Root Mean Square Error: 10.45262485451894\n"
          ]
        }
      ],
      "source": [
        "from sklearn.metrics import mean_squared_error, mean_absolute_error, r2_score\n",
        "from scipy.stats import pearsonr\n",
        "# Calculate Mean Squared Error\n",
        "mse = mean_squared_error(y_test, y_predicted)\n",
        "print(\"Mean Squared Error:\", mse)\n",
        "\n",
        "# Calculate Mean Absolute Error\n",
        "mae = mean_absolute_error(y_test, y_predicted)\n",
        "print(\"Mean Absolute Error:\", mae)\n",
        "\n",
        "\n",
        "# Calculate Nash-Sutcliffe Efficiency coefficient\n",
        "nse = 1 - (np.sum((y_test - y_predicted)**2) / np.sum((y_test - np.mean(y_test))**2))\n",
        "print(\"Nash-Sutcliffe Efficiency:\", nse)\n",
        "\n",
        "# Calculate Pearson correlation coefficient\n",
        "correlation_coefficient, _ = pearsonr(y_test, y_predicted)\n",
        "print(f\"Pearson Correlation Coefficient: {correlation_coefficient}\")\n",
        "\n",
        "rmse = np.sqrt(mse)\n",
        "nrmse = rmse / (np.max(y_test) - np.min(y_test))\n",
        "print(\"Normalized Root Mean Square Error:\", rmse)"
      ]
    },
    {
      "cell_type": "code",
      "execution_count": null,
      "metadata": {
        "colab": {
          "base_uri": "https://localhost:8080/",
          "height": 564
        },
        "id": "h15DRBmjsTsm",
        "outputId": "0c0b47b1-fead-42d7-f2a2-47da9a23da89"
      },
      "outputs": [
        {
          "output_type": "display_data",
          "data": {
            "text/plain": [
              "<Figure size 1000x600 with 1 Axes>"
            ],
            "image/png": "[encoded data removed]"
          },
          "metadata": {}
        }
      ],
      "source": [
        "plt.figure(figsize=(10, 6))\n",
        "plt.scatter(y_test, y_predicted, color='blue', alpha=0.5)\n",
        "plt.xlabel('Actual Values (y_test)')\n",
        "plt.ylabel('Predicted Values (y_predicted)')\n",
        "plt.title('Actual vs. Predicted Values')\n",
        "plt.plot([min(y_test), max(y_test)], [min(y_test), max(y_test)], color='red', linestyle='--')  # Add a diagonal line\n",
        "plt.show()"
      ]
    },
    {
      "cell_type": "code",
      "source": [
        "import numpy as np\n",
        "from sklearn.metrics import mean_squared_error, r2_score\n",
        "from scipy.stats import pearsonr\n",
        "import matplotlib.pyplot as plt\n",
        "import os\n",
        "\n",
        "# Calculate metrics\n",
        "mse = mean_squared_error(y_test, y_predicted)\n",
        "rmse = np.sqrt(mse)\n",
        "nrmse = rmse / (np.max(y_test) - np.min(y_test))\n",
        "\n",
        "# Calculate Nash-Sutcliffe Efficiency coefficient\n",
        "nse = 1 - (np.sum((y_test - y_predicted)**2) / np.sum((y_test - np.mean(y_test))**2))\n",
        "\n",
        "# Calculate Pearson correlation coefficient\n",
        "correlation_coefficient, _ = pearsonr(y_test, y_predicted)\n",
        "\n",
        "# Create the scatter plot\n",
        "plt.figure(figsize=(10, 6))\n",
        "plt.scatter(y_test, y_predicted, color='blue', alpha=0.5)\n",
        "plt.xlabel('Actual Values (y_test)')\n",
        "plt.ylabel('Predicted Values (y_predicted)')\n",
        "plt.title('Actual vs. Predicted Values')\n",
        "plt.plot([min(y_test), max(y_test)], [min(y_test), max(y_test)], color='red', linestyle='--')\n",
        "\n",
        "# Add metrics to the plot\n",
        "text_metrics = f\"NSE: {nse:.2f}\\nPearson Correlation: {correlation_coefficient:.2f}\\nNRMSE: {nrmse:.2f}\"\n",
        "plt.text(0.05, 0.95, text_metrics, transform=plt.gca().transAxes, fontsize=12,\n",
        "         verticalalignment='top', bbox=dict(facecolor='white', alpha=0.8))\n",
        "\n",
        "# Show the plot\n",
        "plt.show()\n",
        "\n",
        "# Define the output path\n",
        "output_path = '/content/drive/MyDrive/Thesis/Output'\n",
        "\n",
        "# Ensure the directory exists\n",
        "os.makedirs(output_path, exist_ok=True)\n",
        "\n",
        "# Save the plot as an image file\n",
        "output_file = os.path.join(output_path, 'actual_vs_predicted_plot.png')\n",
        "plt.savefig(output_file, dpi=300, bbox_inches='tight')\n",
        "\n",
        "print(f\"Plot saved successfully to {output_file}\")\n"
      ],
      "metadata": {
        "colab": {
          "base_uri": "https://localhost:8080/",
          "height": 599
        },
        "id": "s8Vbgbt19kOP",
        "outputId": "fa9949ea-70fd-4f90-aea6-3b67fb4c7e58"
      },
      "execution_count": null,
      "outputs": [
        {
          "output_type": "display_data",
          "data": {
            "text/plain": [
              "<Figure size 1000x600 with 1 Axes>"
            ],
            "image/png": "[encoded data removed]"
          },
          "metadata": {}
        },
        {
          "output_type": "stream",
          "name": "stdout",
          "text": [
            "Plot saved successfully to /content/drive/MyDrive/Thesis/Output/actual_vs_predicted_plot.png\n"
          ]
        },
        {
          "output_type": "display_data",
          "data": {
            "text/plain": [
              "<Figure size 640x480 with 0 Axes>"
            ]
          },
          "metadata": {}
        }
      ]
    },
    {
      "cell_type": "markdown",
      "metadata": {
        "id": "WAuZZZg49FoV"
      },
      "source": [
        "### Feature Importance"
      ]
    },
    {
      "cell_type": "code",
      "execution_count": null,
      "metadata": {
        "colab": {
          "base_uri": "https://localhost:8080/",
          "height": 790
        },
        "id": "GNgA7M7n9HB0",
        "outputId": "4108ec99-49e5-4db1-da63-e4f02b5144db"
      },
      "outputs": [
        {
          "output_type": "stream",
          "name": "stdout",
          "text": [
            "                  Feature  Importance\n",
            "7    SoilMoi40_100cm_tavg    0.450293\n",
            "5   SoilMoi100_200cm_tavg    0.130381\n",
            "9           precipitation    0.095328\n",
            "4     SoilMoi00_10cm_tavg    0.072954\n",
            "0               Evap_tavg    0.058582\n",
            "8                    NDVI    0.053651\n",
            "6     SoilMoi10_40cm_tavg    0.051824\n",
            "10                Qs_tavg    0.039154\n",
            "2               elevation    0.019230\n",
            "3                   slope    0.015112\n",
            "1                  aspect    0.013072\n",
            "11               SWE_inst    0.000418\n"
          ]
        },
        {
          "output_type": "display_data",
          "data": {
            "text/plain": [
              "<Figure size 1000x600 with 1 Axes>"
            ],
            "image/png": "[encoded data removed]"
          },
          "metadata": {}
        }
      ],
      "source": [
        "importances = model_rf.feature_importances_\n",
        "features = X.columns\n",
        "feature_importance_df = pd.DataFrame({'Feature': features, 'Importance': importances})\n",
        "feature_importance_df = feature_importance_df.sort_values(by='Importance', ascending=False)\n",
        "print(feature_importance_df)\n",
        "# Plot the feature importances\n",
        "plt.figure(figsize=(10, 6))\n",
        "plt.barh(feature_importance_df['Feature'], feature_importance_df['Importance'], color='skyblue')\n",
        "plt.xlabel('Importance')\n",
        "plt.ylabel('Feature')\n",
        "plt.title('Feature Importance in Random Forest Model')\n",
        "plt.gca().invert_yaxis()  # To display the most important features at the top\n",
        "plt.show()"
      ]
    },
    {
      "cell_type": "markdown",
      "metadata": {
        "id": "lCoSw4mgsSB4"
      },
      "source": [
        "### Correlation among variables"
      ]
    },
    {
      "cell_type": "code",
      "execution_count": null,
      "metadata": {
        "colab": {
          "base_uri": "https://localhost:8080/",
          "height": 807
        },
        "id": "uQop7GOwsfBv",
        "outputId": "9af813b5-193f-4994-9737-96c43b04647e"
      },
      "outputs": [
        {
          "output_type": "display_data",
          "data": {
            "text/plain": [
              "<Figure size 1200x800 with 2 Axes>"
            ],
            "image/png": "[encoded data removed]"
          },
          "metadata": {}
        }
      ],
      "source": [
        "import pandas as pd\n",
        "import numpy as np\n",
        "import seaborn as sns\n",
        "import matplotlib.pyplot as plt\n",
        "from scipy.stats import pearsonr\n",
        "\n",
        "# Load the required libraries\n",
        "import seaborn as sns\n",
        "import matplotlib.pyplot as plt\n",
        "from scipy.stats import pearsonr\n",
        "\n",
        "# Function to calculate Pearson's correlation and p-values\n",
        "def calculate_pearsonr(df):\n",
        "    # Create empty DataFrames to store correlation and p-values\n",
        "    corr_matrix = pd.DataFrame(index=df.columns, columns=df.columns)\n",
        "    p_value_matrix = pd.DataFrame(index=df.columns, columns=df.columns)\n",
        "\n",
        "    # Loop through columns and calculate Pearson's correlation coefficient and p-values\n",
        "    for col1 in df.columns:\n",
        "        for col2 in df.columns:\n",
        "            corr, p_value = pearsonr(df[col1], df[col2])\n",
        "            corr_matrix.loc[col1, col2] = corr\n",
        "            p_value_matrix.loc[col1, col2] = p_value\n",
        "\n",
        "    # Convert to numeric type (floating point)\n",
        "    corr_matrix = corr_matrix.astype(float)\n",
        "    p_value_matrix = p_value_matrix.astype(float)\n",
        "\n",
        "    return corr_matrix, p_value_matrix\n",
        "\n",
        "# Exclude 'time', 'lat', 'lon', 'lwe_thickness' (if needed for visualization)\n",
        "df_analysis = df.drop(columns=['time', 'x', 'y', 'lwe_thickness','SWE_inst'])\n",
        "\n",
        "# Calculate correlation and p-values\n",
        "corr_matrix, p_value_matrix = calculate_pearsonr(df_analysis)\n",
        "\n",
        "# Create a mask for significant correlations (p < 0.05)\n",
        "significance_mask = p_value_matrix < 0.05\n",
        "\n",
        "# Set up the matplotlib figure\n",
        "plt.figure(figsize=(12, 8))\n",
        "\n",
        "# Plot the heatmap\n",
        "sns.heatmap(corr_matrix, annot=True, cmap='coolwarm', mask=~significance_mask,\n",
        "            square=True, linewidths=.5, vmin=-1, vmax=1, cbar_kws={\"shrink\": .75},\n",
        "            annot_kws={\"size\": 8}, fmt=\".2f\")\n",
        "\n",
        "# Set titles and labels\n",
        "plt.title(\"Pearson's Correlation Heatmap (Significant at p < 0.05)\", fontsize=14)\n",
        "plt.xticks(rotation=45, ha='right', fontsize=10)\n",
        "plt.yticks(rotation=0, fontsize=10)\n",
        "\n",
        "# Display the plot\n",
        "plt.tight_layout()\n",
        "plt.show()\n"
      ]
    },
    {
      "cell_type": "code",
      "execution_count": null,
      "metadata": {
        "colab": {
          "base_uri": "https://localhost:8080/"
        },
        "id": "zMhcOB2PLEPm",
        "outputId": "a9877e4b-39eb-4c2c-e29a-dc154c3d05b4",
        "collapsed": true
      },
      "outputs": [
        {
          "output_type": "stream",
          "name": "stdout",
          "text": [
            "Collecting optuna\n",
            "  Downloading optuna-4.0.0-py3-none-any.whl.metadata (16 kB)\n",
            "Collecting alembic>=1.5.0 (from optuna)\n",
            "  Downloading alembic-1.14.0-py3-none-any.whl.metadata (7.4 kB)\n",
            "Collecting colorlog (from optuna)\n",
            "  Downloading colorlog-6.9.0-py3-none-any.whl.metadata (10 kB)\n",
            "Requirement already satisfied: numpy in /usr/local/lib/python3.10/dist-packages (from optuna) (1.26.4)\n",
            "Requirement already satisfied: packaging>=20.0 in /usr/local/lib/python3.10/dist-packages (from optuna) (24.1)\n",
            "Collecting sqlalchemy>=1.3.0 (from optuna)\n",
            "  Downloading SQLAlchemy-2.0.36-cp310-cp310-manylinux_2_17_x86_64.manylinux2014_x86_64.whl.metadata (9.7 kB)\n",
            "Requirement already satisfied: tqdm in /usr/local/lib/python3.10/dist-packages (from optuna) (4.66.6)\n",
            "Requirement already satisfied: PyYAML in /usr/local/lib/python3.10/dist-packages (from optuna) (6.0.2)\n",
            "Collecting Mako (from alembic>=1.5.0->optuna)\n",
            "  Downloading Mako-1.3.6-py3-none-any.whl.metadata (2.9 kB)\n",
            "Requirement already satisfied: typing-extensions>=4 in /usr/local/lib/python3.10/dist-packages (from alembic>=1.5.0->optuna) (4.12.2)\n",
            "Collecting greenlet!=0.4.17 (from sqlalchemy>=1.3.0->optuna)\n",
            "  Downloading greenlet-3.1.1-cp310-cp310-manylinux_2_24_x86_64.manylinux_2_28_x86_64.whl.metadata (3.8 kB)\n",
            "Requirement already satisfied: MarkupSafe>=0.9.2 in /usr/local/lib/python3.10/dist-packages (from Mako->alembic>=1.5.0->optuna) (3.0.2)\n",
            "Downloading optuna-4.0.0-py3-none-any.whl (362 kB)\n",
            "\u001b[2K   \u001b[90m━━━━━━━━━━━━━━━━━━━━━━━━━━━━━━━━━━━━━━━━\u001b[0m \u001b[32m362.8/362.8 kB\u001b[0m \u001b[31m5.0 MB/s\u001b[0m eta \u001b[36m0:00:00\u001b[0m\n",
            "\u001b[?25hDownloading alembic-1.14.0-py3-none-any.whl (233 kB)\n",
            "\u001b[2K   \u001b[90m━━━━━━━━━━━━━━━━━━━━━━━━━━━━━━━━━━━━━━━━\u001b[0m \u001b[32m233.5/233.5 kB\u001b[0m \u001b[31m16.4 MB/s\u001b[0m eta \u001b[36m0:00:00\u001b[0m\n",
            "\u001b[?25hDownloading SQLAlchemy-2.0.36-cp310-cp310-manylinux_2_17_x86_64.manylinux2014_x86_64.whl (3.1 MB)\n",
            "\u001b[2K   \u001b[90m━━━━━━━━━━━━━━━━━━━━━━━━━━━━━━━━━━━━━━━━\u001b[0m \u001b[32m3.1/3.1 MB\u001b[0m \u001b[31m63.2 MB/s\u001b[0m eta \u001b[36m0:00:00\u001b[0m\n",
            "\u001b[?25hDownloading colorlog-6.9.0-py3-none-any.whl (11 kB)\n",
            "Downloading greenlet-3.1.1-cp310-cp310-manylinux_2_24_x86_64.manylinux_2_28_x86_64.whl (599 kB)\n",
            "\u001b[2K   \u001b[90m━━━━━━━━━━━━━━━━━━━━━━━━━━━━━━━━━━━━━━━━\u001b[0m \u001b[32m599.5/599.5 kB\u001b[0m \u001b[31m40.4 MB/s\u001b[0m eta \u001b[36m0:00:00\u001b[0m\n",
            "\u001b[?25hDownloading Mako-1.3.6-py3-none-any.whl (78 kB)\n",
            "\u001b[2K   \u001b[90m━━━━━━━━━━━━━━━━━━━━━━━━━━━━━━━━━━━━━━━━\u001b[0m \u001b[32m78.6/78.6 kB\u001b[0m \u001b[31m7.5 MB/s\u001b[0m eta \u001b[36m0:00:00\u001b[0m\n",
            "\u001b[?25hInstalling collected packages: Mako, greenlet, colorlog, sqlalchemy, alembic, optuna\n",
            "Successfully installed Mako-1.3.6 alembic-1.14.0 colorlog-6.9.0 greenlet-3.1.1 optuna-4.0.0 sqlalchemy-2.0.36\n"
          ]
        }
      ],
      "source": [
        "!pip install optuna"
      ]
    },
    {
      "cell_type": "markdown",
      "metadata": {
        "id": "pxCq1HorCAJ9"
      },
      "source": [
        "# Optuna"
      ]
    },
    {
      "cell_type": "code",
      "execution_count": null,
      "metadata": {
        "colab": {
          "base_uri": "https://localhost:8080/"
        },
        "id": "FW3SuB3zCBi4",
        "outputId": "8a457aa2-f7fe-4405-d99f-de535f259202",
        "collapsed": true
      },
      "outputs": [
        {
          "output_type": "stream",
          "name": "stderr",
          "text": [
            "[I 2024-11-06 19:23:29,513] A new study created in memory with name: no-name-b563ac2d-1919-4296-a5ad-57deba10aafc\n",
            "[I 2024-11-06 19:23:41,131] Trial 16 finished with value: 0.533529252921439 and parameters: {'n_estimators': 130, 'max_depth': 6, 'min_samples_split': 5, 'min_samples_leaf': 34, 'max_features': 'log2', 'criterion': 'squared_error'}. Best is trial 16 with value: 0.533529252921439.\n",
            "[I 2024-11-06 19:23:46,409] Trial 19 finished with value: 0.5309602314497844 and parameters: {'n_estimators': 139, 'max_depth': 5, 'min_samples_split': 5, 'min_samples_leaf': 28, 'max_features': 'sqrt', 'criterion': 'squared_error'}. Best is trial 19 with value: 0.5309602314497844.\n",
            "[I 2024-11-06 19:23:47,948] Trial 15 finished with value: 0.5519695066049496 and parameters: {'n_estimators': 159, 'max_depth': 9, 'min_samples_split': 5, 'min_samples_leaf': 16, 'max_features': 'sqrt', 'criterion': 'squared_error'}. Best is trial 19 with value: 0.5309602314497844.\n",
            "[I 2024-11-06 19:23:53,093] Trial 3 finished with value: 0.5297868731046051 and parameters: {'n_estimators': 167, 'max_depth': 9, 'min_samples_split': 4, 'min_samples_leaf': 28, 'max_features': 'sqrt', 'criterion': 'squared_error'}. Best is trial 3 with value: 0.5297868731046051.\n",
            "[I 2024-11-06 19:23:54,067] Trial 22 finished with value: 0.5247893339969091 and parameters: {'n_estimators': 130, 'max_depth': 6, 'min_samples_split': 3, 'min_samples_leaf': 19, 'max_features': 'sqrt', 'criterion': 'absolute_error'}. Best is trial 22 with value: 0.5247893339969091.\n",
            "[I 2024-11-06 19:23:54,481] Trial 36 finished with value: 0.5235668749848537 and parameters: {'n_estimators': 106, 'max_depth': 5, 'min_samples_split': 3, 'min_samples_leaf': 42, 'max_features': 'log2', 'criterion': 'squared_error'}. Best is trial 36 with value: 0.5235668749848537.\n",
            "[I 2024-11-06 19:23:55,430] Trial 31 finished with value: 0.5469507119723584 and parameters: {'n_estimators': 120, 'max_depth': 6, 'min_samples_split': 5, 'min_samples_leaf': 18, 'max_features': 'sqrt', 'criterion': 'squared_error'}. Best is trial 36 with value: 0.5235668749848537.\n",
            "[I 2024-11-06 19:24:00,959] Trial 14 finished with value: 0.5815729418640236 and parameters: {'n_estimators': 142, 'max_depth': 5, 'min_samples_split': 3, 'min_samples_leaf': 6, 'max_features': 'log2', 'criterion': 'absolute_error'}. Best is trial 36 with value: 0.5235668749848537.\n",
            "[I 2024-11-06 19:24:02,850] Trial 74 finished with value: 0.5502655798429281 and parameters: {'n_estimators': 106, 'max_depth': 6, 'min_samples_split': 3, 'min_samples_leaf': 22, 'max_features': 'log2', 'criterion': 'squared_error'}. Best is trial 36 with value: 0.5235668749848537.\n",
            "[I 2024-11-06 19:24:03,065] Trial 59 finished with value: 0.5226707002048041 and parameters: {'n_estimators': 106, 'max_depth': 10, 'min_samples_split': 3, 'min_samples_leaf': 45, 'max_features': 'log2', 'criterion': 'squared_error'}. Best is trial 59 with value: 0.5226707002048041.\n",
            "[I 2024-11-06 19:24:03,157] Trial 6 finished with value: 0.5164130145274688 and parameters: {'n_estimators': 187, 'max_depth': 10, 'min_samples_split': 4, 'min_samples_leaf': 25, 'max_features': 'sqrt', 'criterion': 'absolute_error'}. Best is trial 6 with value: 0.5164130145274688.\n",
            "[I 2024-11-06 19:24:05,065] Trial 56 finished with value: 0.5227232970433695 and parameters: {'n_estimators': 132, 'max_depth': 6, 'min_samples_split': 2, 'min_samples_leaf': 43, 'max_features': 'log2', 'criterion': 'squared_error'}. Best is trial 6 with value: 0.5164130145274688.\n",
            "[I 2024-11-06 19:24:05,346] Trial 39 finished with value: 0.5293400154500023 and parameters: {'n_estimators': 156, 'max_depth': 10, 'min_samples_split': 4, 'min_samples_leaf': 30, 'max_features': 'sqrt', 'criterion': 'squared_error'}. Best is trial 6 with value: 0.5164130145274688.\n",
            "[I 2024-11-06 19:24:06,507] Trial 95 finished with value: 0.531757785426443 and parameters: {'n_estimators': 133, 'max_depth': 10, 'min_samples_split': 4, 'min_samples_leaf': 36, 'max_features': 'log2', 'criterion': 'squared_error'}. Best is trial 6 with value: 0.5164130145274688.\n",
            "[I 2024-11-06 19:24:06,543] Trial 35 finished with value: 0.5024871762398342 and parameters: {'n_estimators': 158, 'max_depth': 9, 'min_samples_split': 3, 'min_samples_leaf': 34, 'max_features': 'sqrt', 'criterion': 'absolute_error'}. Best is trial 35 with value: 0.5024871762398342.\n",
            "[I 2024-11-06 19:24:06,590] Trial 17 finished with value: 0.5372836598566846 and parameters: {'n_estimators': 290, 'max_depth': 10, 'min_samples_split': 5, 'min_samples_leaf': 33, 'max_features': 'log2', 'criterion': 'squared_error'}. Best is trial 35 with value: 0.5024871762398342.\n",
            "[I 2024-11-06 19:24:07,111] Trial 9 finished with value: 0.5225698165342763 and parameters: {'n_estimators': 282, 'max_depth': 6, 'min_samples_split': 5, 'min_samples_leaf': 46, 'max_features': 'log2', 'criterion': 'squared_error'}. Best is trial 35 with value: 0.5024871762398342.\n",
            "[I 2024-11-06 19:24:10,566] Trial 0 finished with value: 0.49479172426703666 and parameters: {'n_estimators': 229, 'max_depth': 7, 'min_samples_split': 4, 'min_samples_leaf': 45, 'max_features': 'sqrt', 'criterion': 'absolute_error'}. Best is trial 0 with value: 0.49479172426703666.\n",
            "[I 2024-11-06 19:24:11,732] Trial 26 finished with value: 0.5341649334258398 and parameters: {'n_estimators': 297, 'max_depth': 8, 'min_samples_split': 3, 'min_samples_leaf': 35, 'max_features': 'log2', 'criterion': 'squared_error'}. Best is trial 0 with value: 0.49479172426703666.\n",
            "[I 2024-11-06 19:24:12,073] Trial 40 finished with value: 0.5092599018230142 and parameters: {'n_estimators': 165, 'max_depth': 7, 'min_samples_split': 5, 'min_samples_leaf': 31, 'max_features': 'sqrt', 'criterion': 'absolute_error'}. Best is trial 0 with value: 0.49479172426703666.\n",
            "[I 2024-11-06 19:24:13,117] Trial 30 finished with value: 0.5596579846481684 and parameters: {'n_estimators': 229, 'max_depth': 8, 'min_samples_split': 5, 'min_samples_leaf': 18, 'max_features': 'log2', 'criterion': 'squared_error'}. Best is trial 0 with value: 0.49479172426703666.\n",
            "[I 2024-11-06 19:24:14,302] Trial 101 finished with value: 0.5015752777185462 and parameters: {'n_estimators': 108, 'max_depth': 9, 'min_samples_split': 2, 'min_samples_leaf': 34, 'max_features': 'sqrt', 'criterion': 'absolute_error'}. Best is trial 0 with value: 0.49479172426703666.\n",
            "[I 2024-11-06 19:24:14,695] Trial 10 finished with value: 0.5350174186106196 and parameters: {'n_estimators': 312, 'max_depth': 8, 'min_samples_split': 3, 'min_samples_leaf': 34, 'max_features': 'log2', 'criterion': 'squared_error'}. Best is trial 0 with value: 0.49479172426703666.\n",
            "[I 2024-11-06 19:24:15,537] Trial 78 finished with value: 0.5550378441640247 and parameters: {'n_estimators': 192, 'max_depth': 5, 'min_samples_split': 2, 'min_samples_leaf': 15, 'max_features': 'sqrt', 'criterion': 'squared_error'}. Best is trial 0 with value: 0.49479172426703666.\n",
            "[I 2024-11-06 19:24:16,505] Trial 27 finished with value: 0.5206320441359124 and parameters: {'n_estimators': 244, 'max_depth': 7, 'min_samples_split': 5, 'min_samples_leaf': 49, 'max_features': 'log2', 'criterion': 'squared_error'}. Best is trial 0 with value: 0.49479172426703666.\n",
            "[I 2024-11-06 19:24:18,189] Trial 5 finished with value: 0.5574810774219543 and parameters: {'n_estimators': 346, 'max_depth': 7, 'min_samples_split': 3, 'min_samples_leaf': 14, 'max_features': 'sqrt', 'criterion': 'squared_error'}. Best is trial 0 with value: 0.49479172426703666.\n",
            "[I 2024-11-06 19:24:18,321] Trial 100 finished with value: 0.586153875919359 and parameters: {'n_estimators': 151, 'max_depth': 6, 'min_samples_split': 5, 'min_samples_leaf': 9, 'max_features': 'log2', 'criterion': 'squared_error'}. Best is trial 0 with value: 0.49479172426703666.\n",
            "[I 2024-11-06 19:24:18,440] Trial 79 finished with value: 0.5549868264459077 and parameters: {'n_estimators': 198, 'max_depth': 9, 'min_samples_split': 3, 'min_samples_leaf': 21, 'max_features': 'log2', 'criterion': 'squared_error'}. Best is trial 0 with value: 0.49479172426703666.\n",
            "[I 2024-11-06 19:24:20,034] Trial 73 finished with value: 0.5643105119116792 and parameters: {'n_estimators': 157, 'max_depth': 10, 'min_samples_split': 5, 'min_samples_leaf': 11, 'max_features': 'log2', 'criterion': 'absolute_error'}. Best is trial 0 with value: 0.49479172426703666.\n",
            "[I 2024-11-06 19:24:20,479] Trial 24 finished with value: 0.49015587717792475 and parameters: {'n_estimators': 277, 'max_depth': 6, 'min_samples_split': 2, 'min_samples_leaf': 50, 'max_features': 'sqrt', 'criterion': 'absolute_error'}. Best is trial 24 with value: 0.49015587717792475.\n",
            "[I 2024-11-06 19:24:22,349] Trial 94 finished with value: 0.49883643865178884 and parameters: {'n_estimators': 175, 'max_depth': 7, 'min_samples_split': 3, 'min_samples_leaf': 47, 'max_features': 'log2', 'criterion': 'absolute_error'}. Best is trial 24 with value: 0.49015587717792475.\n",
            "[I 2024-11-06 19:24:24,723] Trial 28 finished with value: 0.5113099666597551 and parameters: {'n_estimators': 304, 'max_depth': 7, 'min_samples_split': 2, 'min_samples_leaf': 45, 'max_features': 'sqrt', 'criterion': 'squared_error'}. Best is trial 24 with value: 0.49015587717792475.\n",
            "[I 2024-11-06 19:24:25,726] Trial 112 finished with value: 0.5865704890132277 and parameters: {'n_estimators': 109, 'max_depth': 10, 'min_samples_split': 3, 'min_samples_leaf': 9, 'max_features': 'log2', 'criterion': 'squared_error'}. Best is trial 24 with value: 0.49015587717792475.\n",
            "[I 2024-11-06 19:24:26,059] Trial 25 finished with value: 0.5337378013136806 and parameters: {'n_estimators': 387, 'max_depth': 6, 'min_samples_split': 3, 'min_samples_leaf': 35, 'max_features': 'log2', 'criterion': 'squared_error'}. Best is trial 24 with value: 0.49015587717792475.\n",
            "[I 2024-11-06 19:24:26,434] Trial 82 finished with value: 0.5454341155833986 and parameters: {'n_estimators': 219, 'max_depth': 8, 'min_samples_split': 3, 'min_samples_leaf': 13, 'max_features': 'sqrt', 'criterion': 'absolute_error'}. Best is trial 24 with value: 0.49015587717792475.\n",
            "[I 2024-11-06 19:24:26,814] Trial 42 finished with value: 0.5546880803452021 and parameters: {'n_estimators': 281, 'max_depth': 10, 'min_samples_split': 4, 'min_samples_leaf': 21, 'max_features': 'log2', 'criterion': 'squared_error'}. Best is trial 24 with value: 0.49015587717792475.\n",
            "[I 2024-11-06 19:24:27,023] Trial 107 finished with value: 0.5516296750468153 and parameters: {'n_estimators': 144, 'max_depth': 8, 'min_samples_split': 5, 'min_samples_leaf': 17, 'max_features': 'sqrt', 'criterion': 'squared_error'}. Best is trial 24 with value: 0.49015587717792475.\n",
            "[I 2024-11-06 19:24:27,493] Trial 98 finished with value: 0.5354211665502948 and parameters: {'n_estimators': 237, 'max_depth': 9, 'min_samples_split': 2, 'min_samples_leaf': 24, 'max_features': 'sqrt', 'criterion': 'squared_error'}. Best is trial 24 with value: 0.49015587717792475.\n",
            "[I 2024-11-06 19:24:27,609] Trial 23 finished with value: 0.5536379983396388 and parameters: {'n_estimators': 379, 'max_depth': 7, 'min_samples_split': 2, 'min_samples_leaf': 16, 'max_features': 'sqrt', 'criterion': 'squared_error'}. Best is trial 24 with value: 0.49015587717792475.\n",
            "[I 2024-11-06 19:24:29,944] Trial 54 finished with value: 0.5910574096652637 and parameters: {'n_estimators': 296, 'max_depth': 6, 'min_samples_split': 3, 'min_samples_leaf': 7, 'max_features': 'log2', 'criterion': 'squared_error'}. Best is trial 24 with value: 0.49015587717792475.\n",
            "[I 2024-11-06 19:24:30,043] Trial 37 finished with value: 0.5675164050505905 and parameters: {'n_estimators': 317, 'max_depth': 10, 'min_samples_split': 4, 'min_samples_leaf': 11, 'max_features': 'sqrt', 'criterion': 'squared_error'}. Best is trial 24 with value: 0.49015587717792475.\n",
            "[I 2024-11-06 19:24:32,399] Trial 38 finished with value: 0.5288663979377975 and parameters: {'n_estimators': 346, 'max_depth': 6, 'min_samples_split': 4, 'min_samples_leaf': 40, 'max_features': 'log2', 'criterion': 'squared_error'}. Best is trial 24 with value: 0.49015587717792475.\n",
            "[I 2024-11-06 19:24:33,066] Trial 104 finished with value: 0.5570037793456424 and parameters: {'n_estimators': 175, 'max_depth': 5, 'min_samples_split': 2, 'min_samples_leaf': 14, 'max_features': 'sqrt', 'criterion': 'squared_error'}. Best is trial 24 with value: 0.49015587717792475.\n",
            "[I 2024-11-06 19:24:33,450] Trial 70 finished with value: 0.5138381166736206 and parameters: {'n_estimators': 272, 'max_depth': 8, 'min_samples_split': 4, 'min_samples_leaf': 33, 'max_features': 'log2', 'criterion': 'absolute_error'}. Best is trial 24 with value: 0.49015587717792475.\n",
            "[I 2024-11-06 19:24:33,694] Trial 11 finished with value: 0.5089771940745655 and parameters: {'n_estimators': 454, 'max_depth': 7, 'min_samples_split': 2, 'min_samples_leaf': 49, 'max_features': 'sqrt', 'criterion': 'squared_error'}. Best is trial 24 with value: 0.49015587717792475.\n",
            "[I 2024-11-06 19:24:34,522] Trial 64 finished with value: 0.5231344049436764 and parameters: {'n_estimators': 315, 'max_depth': 8, 'min_samples_split': 5, 'min_samples_leaf': 46, 'max_features': 'log2', 'criterion': 'squared_error'}. Best is trial 24 with value: 0.49015587717792475.\n",
            "[I 2024-11-06 19:24:34,604] Trial 34 finished with value: 0.5687488373324032 and parameters: {'n_estimators': 265, 'max_depth': 6, 'min_samples_split': 4, 'min_samples_leaf': 9, 'max_features': 'log2', 'criterion': 'absolute_error'}. Best is trial 24 with value: 0.49015587717792475.\n",
            "[I 2024-11-06 19:24:35,175] Trial 13 finished with value: 0.538999566689901 and parameters: {'n_estimators': 432, 'max_depth': 9, 'min_samples_split': 3, 'min_samples_leaf': 32, 'max_features': 'log2', 'criterion': 'squared_error'}. Best is trial 24 with value: 0.49015587717792475.\n",
            "[I 2024-11-06 19:24:35,603] Trial 83 finished with value: 0.5906820383853654 and parameters: {'n_estimators': 311, 'max_depth': 6, 'min_samples_split': 5, 'min_samples_leaf': 7, 'max_features': 'log2', 'criterion': 'squared_error'}. Best is trial 24 with value: 0.49015587717792475.\n",
            "[I 2024-11-06 19:24:35,687] Trial 53 finished with value: 0.5396478881279194 and parameters: {'n_estimators': 316, 'max_depth': 9, 'min_samples_split': 5, 'min_samples_leaf': 23, 'max_features': 'sqrt', 'criterion': 'squared_error'}. Best is trial 24 with value: 0.49015587717792475.\n",
            "[I 2024-11-06 19:24:35,748] Trial 51 finished with value: 0.5290947707756386 and parameters: {'n_estimators': 357, 'max_depth': 7, 'min_samples_split': 2, 'min_samples_leaf': 30, 'max_features': 'sqrt', 'criterion': 'squared_error'}. Best is trial 24 with value: 0.49015587717792475.\n",
            "[I 2024-11-06 19:24:35,892] Trial 92 finished with value: 0.505343733699116 and parameters: {'n_estimators': 256, 'max_depth': 6, 'min_samples_split': 2, 'min_samples_leaf': 32, 'max_features': 'sqrt', 'criterion': 'absolute_error'}. Best is trial 24 with value: 0.49015587717792475.\n",
            "[I 2024-11-06 19:24:36,167] Trial 55 finished with value: 0.49581323359206475 and parameters: {'n_estimators': 284, 'max_depth': 10, 'min_samples_split': 2, 'min_samples_leaf': 44, 'max_features': 'sqrt', 'criterion': 'absolute_error'}. Best is trial 24 with value: 0.49015587717792475.\n",
            "[I 2024-11-06 19:24:36,328] Trial 80 finished with value: 0.5906307110546689 and parameters: {'n_estimators': 315, 'max_depth': 5, 'min_samples_split': 3, 'min_samples_leaf': 7, 'max_features': 'log2', 'criterion': 'squared_error'}. Best is trial 24 with value: 0.49015587717792475.\n",
            "[I 2024-11-06 19:24:38,464] Trial 18 finished with value: 0.5505320236356476 and parameters: {'n_estimators': 451, 'max_depth': 6, 'min_samples_split': 4, 'min_samples_leaf': 18, 'max_features': 'sqrt', 'criterion': 'squared_error'}. Best is trial 24 with value: 0.49015587717792475.\n",
            "[I 2024-11-06 19:24:38,700] Trial 58 finished with value: 0.5351308762839497 and parameters: {'n_estimators': 315, 'max_depth': 10, 'min_samples_split': 3, 'min_samples_leaf': 25, 'max_features': 'sqrt', 'criterion': 'squared_error'}. Best is trial 24 with value: 0.49015587717792475.\n",
            "[I 2024-11-06 19:24:39,930] Trial 86 finished with value: 0.5152285594692478 and parameters: {'n_estimators': 329, 'max_depth': 8, 'min_samples_split': 4, 'min_samples_leaf': 42, 'max_features': 'sqrt', 'criterion': 'squared_error'}. Best is trial 24 with value: 0.49015587717792475.\n",
            "[I 2024-11-06 19:24:39,978] Trial 108 finished with value: 0.5262545636251754 and parameters: {'n_estimators': 172, 'max_depth': 9, 'min_samples_split': 5, 'min_samples_leaf': 19, 'max_features': 'sqrt', 'criterion': 'absolute_error'}. Best is trial 24 with value: 0.49015587717792475.\n",
            "[I 2024-11-06 19:24:40,038] Trial 12 finished with value: 0.5233441469982284 and parameters: {'n_estimators': 499, 'max_depth': 9, 'min_samples_split': 4, 'min_samples_leaf': 47, 'max_features': 'log2', 'criterion': 'squared_error'}. Best is trial 24 with value: 0.49015587717792475.\n",
            "[I 2024-11-06 19:24:40,070] Trial 50 finished with value: 0.5580330331443906 and parameters: {'n_estimators': 294, 'max_depth': 8, 'min_samples_split': 3, 'min_samples_leaf': 9, 'max_features': 'sqrt', 'criterion': 'absolute_error'}. Best is trial 24 with value: 0.49015587717792475.\n",
            "[I 2024-11-06 19:24:41,825] Trial 8 finished with value: 0.5374446761947942 and parameters: {'n_estimators': 471, 'max_depth': 9, 'min_samples_split': 2, 'min_samples_leaf': 24, 'max_features': 'sqrt', 'criterion': 'squared_error'}. Best is trial 24 with value: 0.49015587717792475.\n",
            "[I 2024-11-06 19:24:42,033] Trial 49 finished with value: 0.5186657494618778 and parameters: {'n_estimators': 285, 'max_depth': 5, 'min_samples_split': 5, 'min_samples_leaf': 29, 'max_features': 'log2', 'criterion': 'absolute_error'}. Best is trial 24 with value: 0.49015587717792475.\n",
            "[I 2024-11-06 19:24:42,050] Trial 111 finished with value: 0.5210738028191777 and parameters: {'n_estimators': 223, 'max_depth': 5, 'min_samples_split': 3, 'min_samples_leaf': 47, 'max_features': 'log2', 'criterion': 'squared_error'}. Best is trial 24 with value: 0.49015587717792475.\n",
            "[I 2024-11-06 19:24:42,906] Trial 57 finished with value: 0.5041459809454352 and parameters: {'n_estimators': 327, 'max_depth': 8, 'min_samples_split': 5, 'min_samples_leaf': 34, 'max_features': 'sqrt', 'criterion': 'absolute_error'}. Best is trial 24 with value: 0.49015587717792475.\n",
            "[I 2024-11-06 19:24:42,959] Trial 7 finished with value: 0.5248181916368431 and parameters: {'n_estimators': 394, 'max_depth': 5, 'min_samples_split': 5, 'min_samples_leaf': 23, 'max_features': 'sqrt', 'criterion': 'absolute_error'}. Best is trial 24 with value: 0.49015587717792475.\n",
            "[I 2024-11-06 19:24:43,822] Trial 116 finished with value: 0.5462340892114088 and parameters: {'n_estimators': 193, 'max_depth': 8, 'min_samples_split': 5, 'min_samples_leaf': 25, 'max_features': 'log2', 'criterion': 'squared_error'}. Best is trial 24 with value: 0.49015587717792475.\n",
            "[I 2024-11-06 19:24:44,568] Trial 134 finished with value: 0.5151383514250967 and parameters: {'n_estimators': 109, 'max_depth': 9, 'min_samples_split': 4, 'min_samples_leaf': 42, 'max_features': 'sqrt', 'criterion': 'squared_error'}. Best is trial 24 with value: 0.49015587717792475.\n",
            "[I 2024-11-06 19:24:44,596] Trial 85 finished with value: 0.5312330159035654 and parameters: {'n_estimators': 384, 'max_depth': 7, 'min_samples_split': 2, 'min_samples_leaf': 38, 'max_features': 'log2', 'criterion': 'squared_error'}. Best is trial 24 with value: 0.49015587717792475.\n",
            "[I 2024-11-06 19:24:45,319] Trial 71 finished with value: 0.5515943433972792 and parameters: {'n_estimators': 273, 'max_depth': 6, 'min_samples_split': 4, 'min_samples_leaf': 15, 'max_features': 'log2', 'criterion': 'absolute_error'}. Best is trial 24 with value: 0.49015587717792475.\n",
            "[I 2024-11-06 19:24:45,588] Trial 47 finished with value: 0.5082705018743796 and parameters: {'n_estimators': 337, 'max_depth': 10, 'min_samples_split': 5, 'min_samples_leaf': 31, 'max_features': 'sqrt', 'criterion': 'absolute_error'}. Best is trial 24 with value: 0.49015587717792475.\n",
            "[I 2024-11-06 19:24:45,875] Trial 46 finished with value: 0.5447511191819359 and parameters: {'n_estimators': 393, 'max_depth': 10, 'min_samples_split': 3, 'min_samples_leaf': 27, 'max_features': 'log2', 'criterion': 'squared_error'}. Best is trial 24 with value: 0.49015587717792475.\n",
            "[I 2024-11-06 19:24:46,128] Trial 115 finished with value: 0.5598247322476254 and parameters: {'n_estimators': 210, 'max_depth': 9, 'min_samples_split': 3, 'min_samples_leaf': 17, 'max_features': 'log2', 'criterion': 'squared_error'}. Best is trial 24 with value: 0.49015587717792475.\n",
            "[I 2024-11-06 19:24:47,173] Trial 69 finished with value: 0.5833351809273633 and parameters: {'n_estimators': 291, 'max_depth': 8, 'min_samples_split': 4, 'min_samples_leaf': 6, 'max_features': 'log2', 'criterion': 'absolute_error'}. Best is trial 24 with value: 0.49015587717792475.\n",
            "[I 2024-11-06 19:24:47,211] Trial 97 finished with value: 0.4990018650536009 and parameters: {'n_estimators': 314, 'max_depth': 7, 'min_samples_split': 4, 'min_samples_leaf': 41, 'max_features': 'sqrt', 'criterion': 'absolute_error'}. Best is trial 24 with value: 0.49015587717792475.\n",
            "[I 2024-11-06 19:24:47,659] Trial 1 finished with value: 0.4964747158385844 and parameters: {'n_estimators': 422, 'max_depth': 10, 'min_samples_split': 3, 'min_samples_leaf': 44, 'max_features': 'sqrt', 'criterion': 'absolute_error'}. Best is trial 24 with value: 0.49015587717792475.\n",
            "[I 2024-11-06 19:24:47,708] Trial 76 finished with value: 0.5451756987566116 and parameters: {'n_estimators': 384, 'max_depth': 10, 'min_samples_split': 3, 'min_samples_leaf': 20, 'max_features': 'sqrt', 'criterion': 'squared_error'}. Best is trial 24 with value: 0.49015587717792475.\n",
            "[I 2024-11-06 19:24:48,345] Trial 2 finished with value: 0.49649865827090744 and parameters: {'n_estimators': 430, 'max_depth': 7, 'min_samples_split': 3, 'min_samples_leaf': 44, 'max_features': 'sqrt', 'criterion': 'absolute_error'}. Best is trial 24 with value: 0.49015587717792475.\n",
            "[I 2024-11-06 19:24:48,535] Trial 4 finished with value: 0.5752116212718688 and parameters: {'n_estimators': 365, 'max_depth': 5, 'min_samples_split': 2, 'min_samples_leaf': 8, 'max_features': 'log2', 'criterion': 'absolute_error'}. Best is trial 24 with value: 0.49015587717792475.\n",
            "[I 2024-11-06 19:24:49,838] Trial 52 finished with value: 0.4944421512509881 and parameters: {'n_estimators': 351, 'max_depth': 10, 'min_samples_split': 3, 'min_samples_leaf': 45, 'max_features': 'sqrt', 'criterion': 'absolute_error'}. Best is trial 24 with value: 0.49015587717792475.\n",
            "[I 2024-11-06 19:24:49,961] Trial 96 finished with value: 0.5848915324011029 and parameters: {'n_estimators': 370, 'max_depth': 6, 'min_samples_split': 2, 'min_samples_leaf': 9, 'max_features': 'log2', 'criterion': 'squared_error'}. Best is trial 24 with value: 0.49015587717792475.\n",
            "[I 2024-11-06 19:24:50,049] Trial 128 finished with value: 0.5853022838597537 and parameters: {'n_estimators': 145, 'max_depth': 5, 'min_samples_split': 5, 'min_samples_leaf': 8, 'max_features': 'log2', 'criterion': 'squared_error'}. Best is trial 24 with value: 0.49015587717792475.\n",
            "[I 2024-11-06 19:24:50,361] Trial 90 finished with value: 0.5582245354175851 and parameters: {'n_estimators': 325, 'max_depth': 10, 'min_samples_split': 5, 'min_samples_leaf': 9, 'max_features': 'sqrt', 'criterion': 'absolute_error'}. Best is trial 24 with value: 0.49015587717792475.\n",
            "[I 2024-11-06 19:24:50,852] Trial 21 finished with value: 0.5015871772703338 and parameters: {'n_estimators': 420, 'max_depth': 10, 'min_samples_split': 4, 'min_samples_leaf': 39, 'max_features': 'sqrt', 'criterion': 'absolute_error'}. Best is trial 24 with value: 0.49015587717792475.\n",
            "[I 2024-11-06 19:24:51,333] Trial 99 finished with value: 0.5313186062633757 and parameters: {'n_estimators': 293, 'max_depth': 5, 'min_samples_split': 4, 'min_samples_leaf': 18, 'max_features': 'sqrt', 'criterion': 'absolute_error'}. Best is trial 24 with value: 0.49015587717792475.\n",
            "[I 2024-11-06 19:24:51,587] Trial 129 finished with value: 0.5516859616416697 and parameters: {'n_estimators': 165, 'max_depth': 5, 'min_samples_split': 4, 'min_samples_leaf': 17, 'max_features': 'sqrt', 'criterion': 'squared_error'}. Best is trial 24 with value: 0.49015587717792475.\n",
            "[I 2024-11-06 19:24:52,727] Trial 105 finished with value: 0.5143256118912871 and parameters: {'n_estimators': 291, 'max_depth': 5, 'min_samples_split': 3, 'min_samples_leaf': 40, 'max_features': 'sqrt', 'criterion': 'squared_error'}. Best is trial 24 with value: 0.49015587717792475.\n",
            "[I 2024-11-06 19:24:52,849] Trial 119 finished with value: 0.49529470612037285 and parameters: {'n_estimators': 203, 'max_depth': 9, 'min_samples_split': 4, 'min_samples_leaf': 44, 'max_features': 'sqrt', 'criterion': 'absolute_error'}. Best is trial 24 with value: 0.49015587717792475.\n",
            "[I 2024-11-06 19:24:52,963] Trial 81 finished with value: 0.5006695509820738 and parameters: {'n_estimators': 348, 'max_depth': 8, 'min_samples_split': 3, 'min_samples_leaf': 39, 'max_features': 'sqrt', 'criterion': 'absolute_error'}. Best is trial 24 with value: 0.49015587717792475.\n",
            "[I 2024-11-06 19:24:55,192] Trial 109 finished with value: 0.5685596729016364 and parameters: {'n_estimators': 250, 'max_depth': 8, 'min_samples_split': 2, 'min_samples_leaf': 7, 'max_features': 'sqrt', 'criterion': 'absolute_error'}. Best is trial 24 with value: 0.49015587717792475.\n",
            "[I 2024-11-06 19:24:55,240] Trial 45 finished with value: 0.5335262282028004 and parameters: {'n_estimators': 452, 'max_depth': 10, 'min_samples_split': 4, 'min_samples_leaf': 27, 'max_features': 'sqrt', 'criterion': 'squared_error'}. Best is trial 24 with value: 0.49015587717792475.\n",
            "[I 2024-11-06 19:24:55,824] Trial 44 finished with value: 0.5054912057926794 and parameters: {'n_estimators': 399, 'max_depth': 7, 'min_samples_split': 2, 'min_samples_leaf': 34, 'max_features': 'sqrt', 'criterion': 'absolute_error'}. Best is trial 24 with value: 0.49015587717792475.\n",
            "[I 2024-11-06 19:24:55,833] Trial 127 finished with value: 0.5097845637525882 and parameters: {'n_estimators': 146, 'max_depth': 7, 'min_samples_split': 3, 'min_samples_leaf': 37, 'max_features': 'log2', 'criterion': 'absolute_error'}. Best is trial 24 with value: 0.49015587717792475.\n",
            "[I 2024-11-06 19:24:56,159] Trial 33 finished with value: 0.518748023566229 and parameters: {'n_estimators': 369, 'max_depth': 5, 'min_samples_split': 3, 'min_samples_leaf': 31, 'max_features': 'log2', 'criterion': 'absolute_error'}. Best is trial 24 with value: 0.49015587717792475.\n",
            "[I 2024-11-06 19:24:57,224] Trial 75 finished with value: 0.5006605424430122 and parameters: {'n_estimators': 362, 'max_depth': 10, 'min_samples_split': 4, 'min_samples_leaf': 35, 'max_features': 'sqrt', 'criterion': 'absolute_error'}. Best is trial 24 with value: 0.49015587717792475.\n",
            "[I 2024-11-06 19:24:57,473] Trial 48 finished with value: 0.5255694967289448 and parameters: {'n_estimators': 468, 'max_depth': 9, 'min_samples_split': 3, 'min_samples_leaf': 43, 'max_features': 'log2', 'criterion': 'squared_error'}. Best is trial 24 with value: 0.49015587717792475.\n",
            "[I 2024-11-06 19:24:58,230] Trial 88 finished with value: 0.5585682764682007 and parameters: {'n_estimators': 445, 'max_depth': 8, 'min_samples_split': 4, 'min_samples_leaf': 14, 'max_features': 'sqrt', 'criterion': 'squared_error'}. Best is trial 24 with value: 0.49015587717792475.\n",
            "[I 2024-11-06 19:24:58,475] Trial 131 finished with value: 0.5931249198646782 and parameters: {'n_estimators': 178, 'max_depth': 8, 'min_samples_split': 5, 'min_samples_leaf': 6, 'max_features': 'log2', 'criterion': 'squared_error'}. Best is trial 24 with value: 0.49015587717792475.\n",
            "[I 2024-11-06 19:24:58,801] Trial 29 finished with value: 0.5654109569544591 and parameters: {'n_estimators': 471, 'max_depth': 7, 'min_samples_split': 5, 'min_samples_leaf': 15, 'max_features': 'log2', 'criterion': 'squared_error'}. Best is trial 24 with value: 0.49015587717792475.\n",
            "[I 2024-11-06 19:24:59,317] Trial 87 finished with value: 0.5007107818848787 and parameters: {'n_estimators': 372, 'max_depth': 6, 'min_samples_split': 4, 'min_samples_leaf': 48, 'max_features': 'log2', 'criterion': 'absolute_error'}. Best is trial 24 with value: 0.49015587717792475.\n",
            "[I 2024-11-06 19:25:00,221] Trial 61 finished with value: 0.5102715049021931 and parameters: {'n_estimators': 459, 'max_depth': 8, 'min_samples_split': 4, 'min_samples_leaf': 48, 'max_features': 'sqrt', 'criterion': 'squared_error'}. Best is trial 24 with value: 0.49015587717792475.\n",
            "[I 2024-11-06 19:25:00,633] Trial 60 finished with value: 0.5341707461629235 and parameters: {'n_estimators': 394, 'max_depth': 10, 'min_samples_split': 3, 'min_samples_leaf': 18, 'max_features': 'sqrt', 'criterion': 'absolute_error'}. Best is trial 24 with value: 0.49015587717792475.\n",
            "[I 2024-11-06 19:25:00,818] Trial 124 finished with value: 0.5462007352057849 and parameters: {'n_estimators': 248, 'max_depth': 5, 'min_samples_split': 4, 'min_samples_leaf': 26, 'max_features': 'log2', 'criterion': 'squared_error'}. Best is trial 24 with value: 0.49015587717792475.\n",
            "[I 2024-11-06 19:25:01,766] Trial 68 finished with value: 0.5411147949088247 and parameters: {'n_estimators': 476, 'max_depth': 8, 'min_samples_split': 5, 'min_samples_leaf': 22, 'max_features': 'sqrt', 'criterion': 'squared_error'}. Best is trial 24 with value: 0.49015587717792475.\n",
            "[I 2024-11-06 19:25:02,520] Trial 67 finished with value: 0.5414883310432559 and parameters: {'n_estimators': 359, 'max_depth': 9, 'min_samples_split': 4, 'min_samples_leaf': 19, 'max_features': 'log2', 'criterion': 'absolute_error'}. Best is trial 24 with value: 0.49015587717792475.\n",
            "[I 2024-11-06 19:25:03,268] Trial 165 finished with value: 0.5864132150289982 and parameters: {'n_estimators': 114, 'max_depth': 9, 'min_samples_split': 2, 'min_samples_leaf': 9, 'max_features': 'log2', 'criterion': 'squared_error'}. Best is trial 24 with value: 0.49015587717792475.\n",
            "[I 2024-11-06 19:25:03,384] Trial 84 finished with value: 0.510159930081598 and parameters: {'n_estimators': 491, 'max_depth': 5, 'min_samples_split': 5, 'min_samples_leaf': 48, 'max_features': 'sqrt', 'criterion': 'squared_error'}. Best is trial 24 with value: 0.49015587717792475.\n",
            "[I 2024-11-06 19:25:03,604] Trial 62 finished with value: 0.5076300646212291 and parameters: {'n_estimators': 419, 'max_depth': 8, 'min_samples_split': 5, 'min_samples_leaf': 32, 'max_features': 'sqrt', 'criterion': 'absolute_error'}. Best is trial 24 with value: 0.49015587717792475.\n",
            "[I 2024-11-06 19:25:04,102] Trial 91 finished with value: 0.550435389828094 and parameters: {'n_estimators': 498, 'max_depth': 7, 'min_samples_split': 2, 'min_samples_leaf': 22, 'max_features': 'log2', 'criterion': 'squared_error'}. Best is trial 24 with value: 0.49015587717792475.\n",
            "[I 2024-11-06 19:25:06,066] Trial 158 finished with value: 0.5896150514976762 and parameters: {'n_estimators': 137, 'max_depth': 8, 'min_samples_split': 5, 'min_samples_leaf': 5, 'max_features': 'sqrt', 'criterion': 'squared_error'}. Best is trial 24 with value: 0.49015587717792475.\n",
            "[I 2024-11-06 19:25:06,670] Trial 89 finished with value: 0.5406250292059318 and parameters: {'n_estimators': 402, 'max_depth': 7, 'min_samples_split': 5, 'min_samples_leaf': 21, 'max_features': 'log2', 'criterion': 'absolute_error'}. Best is trial 24 with value: 0.49015587717792475.\n",
            "[I 2024-11-06 19:25:06,678] Trial 65 finished with value: 0.584249227908884 and parameters: {'n_estimators': 366, 'max_depth': 9, 'min_samples_split': 3, 'min_samples_leaf': 6, 'max_features': 'log2', 'criterion': 'absolute_error'}. Best is trial 24 with value: 0.49015587717792475.\n",
            "[I 2024-11-06 19:25:06,763] Trial 63 finished with value: 0.5844164887798702 and parameters: {'n_estimators': 392, 'max_depth': 6, 'min_samples_split': 4, 'min_samples_leaf': 6, 'max_features': 'log2', 'criterion': 'absolute_error'}. Best is trial 24 with value: 0.49015587717792475.\n",
            "[I 2024-11-06 19:25:07,110] Trial 32 finished with value: 0.501147154259547 and parameters: {'n_estimators': 493, 'max_depth': 7, 'min_samples_split': 5, 'min_samples_leaf': 39, 'max_features': 'sqrt', 'criterion': 'absolute_error'}. Best is trial 24 with value: 0.49015587717792475.\n",
            "[I 2024-11-06 19:25:07,259] Trial 72 finished with value: 0.5053704774344 and parameters: {'n_estimators': 429, 'max_depth': 8, 'min_samples_split': 5, 'min_samples_leaf': 33, 'max_features': 'sqrt', 'criterion': 'absolute_error'}. Best is trial 24 with value: 0.49015587717792475.\n",
            "[I 2024-11-06 19:25:07,268] Trial 153 finished with value: 0.5344830294823872 and parameters: {'n_estimators': 143, 'max_depth': 5, 'min_samples_split': 3, 'min_samples_leaf': 17, 'max_features': 'sqrt', 'criterion': 'absolute_error'}. Best is trial 24 with value: 0.49015587717792475.\n",
            "[I 2024-11-06 19:25:07,532] Trial 155 finished with value: 0.5588634367825459 and parameters: {'n_estimators': 173, 'max_depth': 10, 'min_samples_split': 4, 'min_samples_leaf': 13, 'max_features': 'sqrt', 'criterion': 'squared_error'}. Best is trial 24 with value: 0.49015587717792475.\n",
            "[I 2024-11-06 19:25:07,874] Trial 43 finished with value: 0.5568157875513009 and parameters: {'n_estimators': 438, 'max_depth': 9, 'min_samples_split': 5, 'min_samples_leaf': 13, 'max_features': 'log2', 'criterion': 'absolute_error'}. Best is trial 24 with value: 0.49015587717792475.\n",
            "[I 2024-11-06 19:25:08,520] Trial 179 finished with value: 0.5461652115277544 and parameters: {'n_estimators': 105, 'max_depth': 6, 'min_samples_split': 4, 'min_samples_leaf': 25, 'max_features': 'log2', 'criterion': 'squared_error'}. Best is trial 24 with value: 0.49015587717792475.\n",
            "[I 2024-11-06 19:25:09,224] Trial 162 finished with value: 0.5397428397626522 and parameters: {'n_estimators': 153, 'max_depth': 9, 'min_samples_split': 3, 'min_samples_leaf': 23, 'max_features': 'sqrt', 'criterion': 'squared_error'}. Best is trial 24 with value: 0.49015587717792475.\n",
            "[I 2024-11-06 19:25:09,504] Trial 135 finished with value: 0.4959505667858445 and parameters: {'n_estimators': 216, 'max_depth': 5, 'min_samples_split': 4, 'min_samples_leaf': 43, 'max_features': 'sqrt', 'criterion': 'absolute_error'}. Best is trial 24 with value: 0.49015587717792475.\n",
            "[I 2024-11-06 19:25:10,430] Trial 102 finished with value: 0.5141646969222771 and parameters: {'n_estimators': 357, 'max_depth': 9, 'min_samples_split': 2, 'min_samples_leaf': 34, 'max_features': 'log2', 'criterion': 'absolute_error'}. Best is trial 24 with value: 0.49015587717792475.\n",
            "[I 2024-11-06 19:25:10,576] Trial 166 finished with value: 0.508910785441334 and parameters: {'n_estimators': 153, 'max_depth': 9, 'min_samples_split': 2, 'min_samples_leaf': 31, 'max_features': 'sqrt', 'criterion': 'absolute_error'}. Best is trial 24 with value: 0.49015587717792475.\n",
            "[I 2024-11-06 19:25:10,904] Trial 93 finished with value: 0.4930977563101303 and parameters: {'n_estimators': 462, 'max_depth': 7, 'min_samples_split': 2, 'min_samples_leaf': 47, 'max_features': 'sqrt', 'criterion': 'absolute_error'}. Best is trial 24 with value: 0.49015587717792475.\n",
            "[I 2024-11-06 19:25:11,211] Trial 77 finished with value: 0.49804608903478076 and parameters: {'n_estimators': 456, 'max_depth': 7, 'min_samples_split': 3, 'min_samples_leaf': 43, 'max_features': 'sqrt', 'criterion': 'absolute_error'}. Best is trial 24 with value: 0.49015587717792475.\n",
            "[I 2024-11-06 19:25:11,404] Trial 20 finished with value: 0.5353550354635175 and parameters: {'n_estimators': 479, 'max_depth': 5, 'min_samples_split': 5, 'min_samples_leaf': 23, 'max_features': 'log2', 'criterion': 'absolute_error'}. Best is trial 24 with value: 0.49015587717792475.\n",
            "[I 2024-11-06 19:25:11,454] Trial 139 finished with value: 0.5137962744798977 and parameters: {'n_estimators': 253, 'max_depth': 5, 'min_samples_split': 2, 'min_samples_leaf': 40, 'max_features': 'sqrt', 'criterion': 'squared_error'}. Best is trial 24 with value: 0.49015587717792475.\n",
            "[I 2024-11-06 19:25:11,560] Trial 130 finished with value: 0.4961618710775715 and parameters: {'n_estimators': 242, 'max_depth': 6, 'min_samples_split': 4, 'min_samples_leaf': 43, 'max_features': 'sqrt', 'criterion': 'absolute_error'}. Best is trial 24 with value: 0.49015587717792475.\n",
            "[I 2024-11-06 19:25:11,692] Trial 123 finished with value: 0.5996796968342206 and parameters: {'n_estimators': 323, 'max_depth': 5, 'min_samples_split': 2, 'min_samples_leaf': 5, 'max_features': 'log2', 'criterion': 'squared_error'}. Best is trial 24 with value: 0.49015587717792475.\n",
            "[I 2024-11-06 19:25:12,057] Trial 118 finished with value: 0.527914381031503 and parameters: {'n_estimators': 297, 'max_depth': 10, 'min_samples_split': 4, 'min_samples_leaf': 26, 'max_features': 'log2', 'criterion': 'absolute_error'}. Best is trial 24 with value: 0.49015587717792475.\n",
            "[I 2024-11-06 19:25:12,201] Trial 154 finished with value: 0.5593041996464123 and parameters: {'n_estimators': 220, 'max_depth': 9, 'min_samples_split': 3, 'min_samples_leaf': 13, 'max_features': 'sqrt', 'criterion': 'squared_error'}. Best is trial 24 with value: 0.49015587717792475.\n",
            "[I 2024-11-06 19:25:12,764] Trial 133 finished with value: 0.49040492570269856 and parameters: {'n_estimators': 251, 'max_depth': 10, 'min_samples_split': 2, 'min_samples_leaf': 48, 'max_features': 'sqrt', 'criterion': 'absolute_error'}. Best is trial 24 with value: 0.49015587717792475.\n",
            "[I 2024-11-06 19:25:12,905] Trial 110 finished with value: 0.5025706589736472 and parameters: {'n_estimators': 351, 'max_depth': 9, 'min_samples_split': 2, 'min_samples_leaf': 46, 'max_features': 'log2', 'criterion': 'absolute_error'}. Best is trial 24 with value: 0.49015587717792475.\n",
            "[I 2024-11-06 19:25:13,378] Trial 159 finished with value: 0.5197663059336626 and parameters: {'n_estimators': 181, 'max_depth': 10, 'min_samples_split': 4, 'min_samples_leaf': 24, 'max_features': 'sqrt', 'criterion': 'absolute_error'}. Best is trial 24 with value: 0.49015587717792475.\n",
            "[I 2024-11-06 19:25:13,428] Trial 167 finished with value: 0.5253047788386476 and parameters: {'n_estimators': 150, 'max_depth': 8, 'min_samples_split': 2, 'min_samples_leaf': 21, 'max_features': 'sqrt', 'criterion': 'absolute_error'}. Best is trial 24 with value: 0.49015587717792475.\n",
            "[I 2024-11-06 19:25:13,441] Trial 196 finished with value: 0.5254579641931523 and parameters: {'n_estimators': 117, 'max_depth': 7, 'min_samples_split': 5, 'min_samples_leaf': 40, 'max_features': 'log2', 'criterion': 'squared_error'}. Best is trial 24 with value: 0.49015587717792475.\n",
            "[I 2024-11-06 19:25:13,762] Trial 145 finished with value: 0.5330057670619115 and parameters: {'n_estimators': 205, 'max_depth': 5, 'min_samples_split': 2, 'min_samples_leaf': 22, 'max_features': 'log2', 'criterion': 'absolute_error'}. Best is trial 24 with value: 0.49015587717792475.\n",
            "[I 2024-11-06 19:25:13,958] Trial 41 finished with value: 0.5197352565886488 and parameters: {'n_estimators': 487, 'max_depth': 7, 'min_samples_split': 4, 'min_samples_leaf': 31, 'max_features': 'log2', 'criterion': 'absolute_error'}. Best is trial 24 with value: 0.49015587717792475.\n",
            "[I 2024-11-06 19:25:15,168] Trial 121 finished with value: 0.5399554026242227 and parameters: {'n_estimators': 282, 'max_depth': 5, 'min_samples_split': 2, 'min_samples_leaf': 19, 'max_features': 'log2', 'criterion': 'absolute_error'}. Best is trial 24 with value: 0.49015587717792475.\n",
            "[I 2024-11-06 19:25:15,311] Trial 114 finished with value: 0.5740143115875715 and parameters: {'n_estimators': 412, 'max_depth': 10, 'min_samples_split': 4, 'min_samples_leaf': 9, 'max_features': 'sqrt', 'criterion': 'squared_error'}. Best is trial 24 with value: 0.49015587717792475.\n",
            "[I 2024-11-06 19:25:15,330] Trial 66 finished with value: 0.5027415856184791 and parameters: {'n_estimators': 491, 'max_depth': 7, 'min_samples_split': 3, 'min_samples_leaf': 46, 'max_features': 'log2', 'criterion': 'absolute_error'}. Best is trial 24 with value: 0.49015587717792475.\n",
            "[I 2024-11-06 19:25:15,337] Trial 190 finished with value: 0.5133806172110831 and parameters: {'n_estimators': 145, 'max_depth': 10, 'min_samples_split': 5, 'min_samples_leaf': 43, 'max_features': 'sqrt', 'criterion': 'squared_error'}. Best is trial 24 with value: 0.49015587717792475.\n",
            "[I 2024-11-06 19:25:15,371] Trial 132 finished with value: 0.4904738566530088 and parameters: {'n_estimators': 250, 'max_depth': 6, 'min_samples_split': 2, 'min_samples_leaf': 48, 'max_features': 'sqrt', 'criterion': 'absolute_error'}. Best is trial 24 with value: 0.49015587717792475.\n",
            "[I 2024-11-06 19:25:15,988] Trial 143 finished with value: 0.5116055587472459 and parameters: {'n_estimators': 283, 'max_depth': 5, 'min_samples_split': 5, 'min_samples_leaf': 44, 'max_features': 'sqrt', 'criterion': 'squared_error'}. Best is trial 24 with value: 0.49015587717792475.\n",
            "[I 2024-11-06 19:25:16,115] Trial 142 finished with value: 0.5949684361712194 and parameters: {'n_estimators': 278, 'max_depth': 10, 'min_samples_split': 5, 'min_samples_leaf': 6, 'max_features': 'log2', 'criterion': 'squared_error'}. Best is trial 24 with value: 0.49015587717792475.\n",
            "[I 2024-11-06 19:25:16,508] Trial 117 finished with value: 0.5410652134909255 and parameters: {'n_estimators': 446, 'max_depth': 9, 'min_samples_split': 3, 'min_samples_leaf': 22, 'max_features': 'sqrt', 'criterion': 'squared_error'}. Best is trial 24 with value: 0.49015587717792475.\n",
            "[I 2024-11-06 19:25:16,712] Trial 195 finished with value: 0.5654558038433919 and parameters: {'n_estimators': 146, 'max_depth': 9, 'min_samples_split': 3, 'min_samples_leaf': 11, 'max_features': 'sqrt', 'criterion': 'squared_error'}. Best is trial 24 with value: 0.49015587717792475.\n",
            "[I 2024-11-06 19:25:17,359] Trial 148 finished with value: 0.5477038808363797 and parameters: {'n_estimators': 219, 'max_depth': 7, 'min_samples_split': 3, 'min_samples_leaf': 16, 'max_features': 'log2', 'criterion': 'absolute_error'}. Best is trial 24 with value: 0.49015587717792475.\n",
            "[I 2024-11-06 19:25:17,439] Trial 113 finished with value: 0.529214686676188 and parameters: {'n_estimators': 462, 'max_depth': 6, 'min_samples_split': 4, 'min_samples_leaf': 40, 'max_features': 'log2', 'criterion': 'squared_error'}. Best is trial 24 with value: 0.49015587717792475.\n",
            "[I 2024-11-06 19:25:17,661] Trial 136 finished with value: 0.5522390187569262 and parameters: {'n_estimators': 258, 'max_depth': 8, 'min_samples_split': 4, 'min_samples_leaf': 15, 'max_features': 'log2', 'criterion': 'absolute_error'}. Best is trial 24 with value: 0.49015587717792475.\n",
            "[I 2024-11-06 19:25:17,733] Trial 169 finished with value: 0.5262274896572581 and parameters: {'n_estimators': 227, 'max_depth': 10, 'min_samples_split': 4, 'min_samples_leaf': 41, 'max_features': 'log2', 'criterion': 'squared_error'}. Best is trial 24 with value: 0.49015587717792475.\n",
            "[I 2024-11-06 19:25:18,853] Trial 138 finished with value: 0.5523141090476648 and parameters: {'n_estimators': 233, 'max_depth': 10, 'min_samples_split': 4, 'min_samples_leaf': 15, 'max_features': 'log2', 'criterion': 'absolute_error'}. Best is trial 24 with value: 0.49015587717792475.\n",
            "[I 2024-11-06 19:25:19,331] Trial 103 finished with value: 0.5035696015912383 and parameters: {'n_estimators': 469, 'max_depth': 8, 'min_samples_split': 2, 'min_samples_leaf': 37, 'max_features': 'sqrt', 'criterion': 'absolute_error'}. Best is trial 24 with value: 0.49015587717792475.\n",
            "[I 2024-11-06 19:25:19,651] Trial 171 finished with value: 0.5409252860779928 and parameters: {'n_estimators': 253, 'max_depth': 10, 'min_samples_split': 2, 'min_samples_leaf': 29, 'max_features': 'log2', 'criterion': 'squared_error'}. Best is trial 24 with value: 0.49015587717792475.\n",
            "[I 2024-11-06 19:25:19,805] Trial 126 finished with value: 0.5525879131173101 and parameters: {'n_estimators': 475, 'max_depth': 10, 'min_samples_split': 3, 'min_samples_leaf': 17, 'max_features': 'sqrt', 'criterion': 'squared_error'}. Best is trial 24 with value: 0.49015587717792475.\n",
            "[I 2024-11-06 19:25:20,764] Trial 172 finished with value: 0.5401790517618481 and parameters: {'n_estimators': 282, 'max_depth': 9, 'min_samples_split': 4, 'min_samples_leaf': 31, 'max_features': 'log2', 'criterion': 'squared_error'}. Best is trial 24 with value: 0.49015587717792475.\n",
            "[I 2024-11-06 19:25:20,855] Trial 141 finished with value: 0.5258462517310019 and parameters: {'n_estimators': 375, 'max_depth': 10, 'min_samples_split': 2, 'min_samples_leaf': 33, 'max_features': 'sqrt', 'criterion': 'squared_error'}. Best is trial 24 with value: 0.49015587717792475.\n",
            "[I 2024-11-06 19:25:21,213] Trial 160 finished with value: 0.5144293841044902 and parameters: {'n_estimators': 300, 'max_depth': 10, 'min_samples_split': 3, 'min_samples_leaf': 28, 'max_features': 'sqrt', 'criterion': 'absolute_error'}. Best is trial 24 with value: 0.49015587717792475.\n",
            "[I 2024-11-06 19:25:21,584] Trial 194 finished with value: 0.5295537003831969 and parameters: {'n_estimators': 249, 'max_depth': 7, 'min_samples_split': 3, 'min_samples_leaf': 28, 'max_features': 'sqrt', 'criterion': 'squared_error'}. Best is trial 24 with value: 0.49015587717792475.\n",
            "[I 2024-11-06 19:25:21,616] Trial 122 finished with value: 0.5676765045141509 and parameters: {'n_estimators': 496, 'max_depth': 6, 'min_samples_split': 3, 'min_samples_leaf': 11, 'max_features': 'sqrt', 'criterion': 'squared_error'}. Best is trial 24 with value: 0.49015587717792475.\n",
            "[I 2024-11-06 19:25:21,639] Trial 185 finished with value: 0.5627265755089434 and parameters: {'n_estimators': 288, 'max_depth': 10, 'min_samples_split': 3, 'min_samples_leaf': 12, 'max_features': 'sqrt', 'criterion': 'squared_error'}. Best is trial 24 with value: 0.49015587717792475.\n",
            "[I 2024-11-06 19:25:22,181] Trial 149 finished with value: 0.5580377730782959 and parameters: {'n_estimators': 385, 'max_depth': 8, 'min_samples_split': 5, 'min_samples_leaf': 14, 'max_features': 'sqrt', 'criterion': 'squared_error'}. Best is trial 24 with value: 0.49015587717792475.\n",
            "[I 2024-11-06 19:25:22,252] Trial 140 finished with value: 0.5496720986163446 and parameters: {'n_estimators': 389, 'max_depth': 7, 'min_samples_split': 4, 'min_samples_leaf': 24, 'max_features': 'log2', 'criterion': 'squared_error'}. Best is trial 24 with value: 0.49015587717792475.\n",
            "[I 2024-11-06 19:25:22,316] Trial 178 finished with value: 0.5436921216963087 and parameters: {'n_estimators': 265, 'max_depth': 9, 'min_samples_split': 2, 'min_samples_leaf': 20, 'max_features': 'sqrt', 'criterion': 'squared_error'}. Best is trial 24 with value: 0.49015587717792475.\n",
            "[I 2024-11-06 19:25:22,360] Trial 176 finished with value: 0.5188375653657119 and parameters: {'n_estimators': 284, 'max_depth': 7, 'min_samples_split': 5, 'min_samples_leaf': 37, 'max_features': 'sqrt', 'criterion': 'squared_error'}. Best is trial 24 with value: 0.49015587717792475.\n",
            "[I 2024-11-06 19:25:22,520] Trial 184 finished with value: 0.5330057670619115 and parameters: {'n_estimators': 205, 'max_depth': 6, 'min_samples_split': 5, 'min_samples_leaf': 22, 'max_features': 'log2', 'criterion': 'absolute_error'}. Best is trial 24 with value: 0.49015587717792475.\n",
            "[I 2024-11-06 19:25:22,863] Trial 181 finished with value: 0.5433078220939034 and parameters: {'n_estimators': 300, 'max_depth': 9, 'min_samples_split': 2, 'min_samples_leaf': 28, 'max_features': 'log2', 'criterion': 'squared_error'}. Best is trial 24 with value: 0.49015587717792475.\n",
            "[I 2024-11-06 19:25:23,022] Trial 163 finished with value: 0.6005902619029325 and parameters: {'n_estimators': 376, 'max_depth': 8, 'min_samples_split': 4, 'min_samples_leaf': 5, 'max_features': 'log2', 'criterion': 'squared_error'}. Best is trial 24 with value: 0.49015587717792475.\n",
            "[I 2024-11-06 19:25:23,535] Trial 186 finished with value: 0.5490433714213656 and parameters: {'n_estimators': 203, 'max_depth': 7, 'min_samples_split': 4, 'min_samples_leaf': 12, 'max_features': 'sqrt', 'criterion': 'absolute_error'}. Best is trial 24 with value: 0.49015587717792475.\n",
            "[I 2024-11-06 19:25:23,605] Trial 147 finished with value: 0.5144905750501866 and parameters: {'n_estimators': 286, 'max_depth': 9, 'min_samples_split': 3, 'min_samples_leaf': 33, 'max_features': 'log2', 'criterion': 'absolute_error'}. Best is trial 24 with value: 0.49015587717792475.\n",
            "[I 2024-11-06 19:25:23,641] Trial 175 finished with value: 0.5497347811946531 and parameters: {'n_estimators': 357, 'max_depth': 5, 'min_samples_split': 4, 'min_samples_leaf': 24, 'max_features': 'log2', 'criterion': 'squared_error'}. Best is trial 24 with value: 0.49015587717792475.\n",
            "[I 2024-11-06 19:25:23,716] Trial 144 finished with value: 0.530790343650816 and parameters: {'n_estimators': 445, 'max_depth': 9, 'min_samples_split': 5, 'min_samples_leaf': 29, 'max_features': 'sqrt', 'criterion': 'squared_error'}. Best is trial 24 with value: 0.49015587717792475.\n",
            "[I 2024-11-06 19:25:24,028] Trial 156 finished with value: 0.5404680514664565 and parameters: {'n_estimators': 360, 'max_depth': 7, 'min_samples_split': 5, 'min_samples_leaf': 30, 'max_features': 'log2', 'criterion': 'squared_error'}. Best is trial 24 with value: 0.49015587717792475.\n",
            "[I 2024-11-06 19:25:24,094] Trial 187 finished with value: 0.531345237240934 and parameters: {'n_estimators': 358, 'max_depth': 7, 'min_samples_split': 2, 'min_samples_leaf': 28, 'max_features': 'sqrt', 'criterion': 'squared_error'}. Best is trial 24 with value: 0.49015587717792475.\n",
            "[I 2024-11-06 19:25:24,280] Trial 198 finished with value: 0.5079309170092179 and parameters: {'n_estimators': 296, 'max_depth': 6, 'min_samples_split': 4, 'min_samples_leaf': 49, 'max_features': 'sqrt', 'criterion': 'squared_error'}. Best is trial 24 with value: 0.49015587717792475.\n",
            "[I 2024-11-06 19:25:24,286] Trial 106 finished with value: 0.5199910459157935 and parameters: {'n_estimators': 495, 'max_depth': 10, 'min_samples_split': 2, 'min_samples_leaf': 31, 'max_features': 'log2', 'criterion': 'absolute_error'}. Best is trial 24 with value: 0.49015587717792475.\n",
            "[I 2024-11-06 19:25:24,465] Trial 152 finished with value: 0.5873018155604026 and parameters: {'n_estimators': 441, 'max_depth': 5, 'min_samples_split': 3, 'min_samples_leaf': 8, 'max_features': 'log2', 'criterion': 'squared_error'}. Best is trial 24 with value: 0.49015587717792475.\n",
            "[I 2024-11-06 19:25:24,533] Trial 183 finished with value: 0.5657323012042136 and parameters: {'n_estimators': 388, 'max_depth': 6, 'min_samples_split': 3, 'min_samples_leaf': 15, 'max_features': 'log2', 'criterion': 'squared_error'}. Best is trial 24 with value: 0.49015587717792475.\n",
            "[I 2024-11-06 19:25:24,535] Trial 173 finished with value: 0.4901662666940506 and parameters: {'n_estimators': 330, 'max_depth': 8, 'min_samples_split': 2, 'min_samples_leaf': 49, 'max_features': 'sqrt', 'criterion': 'absolute_error'}. Best is trial 24 with value: 0.49015587717792475.\n",
            "[I 2024-11-06 19:25:24,631] Trial 150 finished with value: 0.5362491954416606 and parameters: {'n_estimators': 488, 'max_depth': 9, 'min_samples_split': 4, 'min_samples_leaf': 33, 'max_features': 'log2', 'criterion': 'squared_error'}. Best is trial 24 with value: 0.49015587717792475.\n",
            "[I 2024-11-06 19:25:24,682] Trial 189 finished with value: 0.5008741334832106 and parameters: {'n_estimators': 249, 'max_depth': 8, 'min_samples_split': 5, 'min_samples_leaf': 44, 'max_features': 'log2', 'criterion': 'absolute_error'}. Best is trial 24 with value: 0.49015587717792475.\n",
            "[I 2024-11-06 19:25:24,705] Trial 120 finished with value: 0.5237666207198781 and parameters: {'n_estimators': 449, 'max_depth': 8, 'min_samples_split': 2, 'min_samples_leaf': 28, 'max_features': 'log2', 'criterion': 'absolute_error'}. Best is trial 24 with value: 0.49015587717792475.\n",
            "[I 2024-11-06 19:25:24,795] Trial 182 finished with value: 0.49123948023592945 and parameters: {'n_estimators': 318, 'max_depth': 7, 'min_samples_split': 3, 'min_samples_leaf': 48, 'max_features': 'sqrt', 'criterion': 'absolute_error'}. Best is trial 24 with value: 0.49015587717792475.\n",
            "[I 2024-11-06 19:25:24,825] Trial 188 finished with value: 0.5806771837597231 and parameters: {'n_estimators': 366, 'max_depth': 9, 'min_samples_split': 3, 'min_samples_leaf': 10, 'max_features': 'log2', 'criterion': 'squared_error'}. Best is trial 24 with value: 0.49015587717792475.\n",
            "[I 2024-11-06 19:25:24,830] Trial 146 finished with value: 0.5006468304105793 and parameters: {'n_estimators': 378, 'max_depth': 5, 'min_samples_split': 3, 'min_samples_leaf': 48, 'max_features': 'log2', 'criterion': 'absolute_error'}. Best is trial 24 with value: 0.49015587717792475.\n",
            "[I 2024-11-06 19:25:24,862] Trial 125 finished with value: 0.523450295425902 and parameters: {'n_estimators': 475, 'max_depth': 5, 'min_samples_split': 2, 'min_samples_leaf': 24, 'max_features': 'sqrt', 'criterion': 'absolute_error'}. Best is trial 24 with value: 0.49015587717792475.\n",
            "[I 2024-11-06 19:25:24,947] Trial 180 finished with value: 0.5526208747211938 and parameters: {'n_estimators': 461, 'max_depth': 6, 'min_samples_split': 3, 'min_samples_leaf': 17, 'max_features': 'sqrt', 'criterion': 'squared_error'}. Best is trial 24 with value: 0.49015587717792475.\n",
            "[I 2024-11-06 19:25:24,968] Trial 192 finished with value: 0.5464251234513897 and parameters: {'n_estimators': 448, 'max_depth': 8, 'min_samples_split': 4, 'min_samples_leaf': 19, 'max_features': 'sqrt', 'criterion': 'squared_error'}. Best is trial 24 with value: 0.49015587717792475.\n",
            "[I 2024-11-06 19:25:24,975] Trial 170 finished with value: 0.5646937183178355 and parameters: {'n_estimators': 494, 'max_depth': 7, 'min_samples_split': 2, 'min_samples_leaf': 16, 'max_features': 'log2', 'criterion': 'squared_error'}. Best is trial 24 with value: 0.49015587717792475.\n",
            "[I 2024-11-06 19:25:25,056] Trial 161 finished with value: 0.5596045967114976 and parameters: {'n_estimators': 364, 'max_depth': 7, 'min_samples_split': 4, 'min_samples_leaf': 9, 'max_features': 'sqrt', 'criterion': 'absolute_error'}. Best is trial 24 with value: 0.49015587717792475.\n",
            "[I 2024-11-06 19:25:25,429] Trial 197 finished with value: 0.5309614347095719 and parameters: {'n_estimators': 224, 'max_depth': 7, 'min_samples_split': 2, 'min_samples_leaf': 25, 'max_features': 'log2', 'criterion': 'absolute_error'}. Best is trial 24 with value: 0.49015587717792475.\n",
            "[I 2024-11-06 19:25:25,651] Trial 193 finished with value: 0.5032031415864751 and parameters: {'n_estimators': 278, 'max_depth': 10, 'min_samples_split': 5, 'min_samples_leaf': 43, 'max_features': 'log2', 'criterion': 'absolute_error'}. Best is trial 24 with value: 0.49015587717792475.\n",
            "[I 2024-11-06 19:25:26,312] Trial 151 finished with value: 0.528710186139782 and parameters: {'n_estimators': 390, 'max_depth': 10, 'min_samples_split': 3, 'min_samples_leaf': 26, 'max_features': 'log2', 'criterion': 'absolute_error'}. Best is trial 24 with value: 0.49015587717792475.\n",
            "[I 2024-11-06 19:25:26,560] Trial 174 finished with value: 0.49052783088224294 and parameters: {'n_estimators': 422, 'max_depth': 9, 'min_samples_split': 3, 'min_samples_leaf': 49, 'max_features': 'sqrt', 'criterion': 'absolute_error'}. Best is trial 24 with value: 0.49015587717792475.\n",
            "[I 2024-11-06 19:25:26,908] Trial 137 finished with value: 0.5432878424574807 and parameters: {'n_estimators': 430, 'max_depth': 6, 'min_samples_split': 5, 'min_samples_leaf': 18, 'max_features': 'log2', 'criterion': 'absolute_error'}. Best is trial 24 with value: 0.49015587717792475.\n",
            "[I 2024-11-06 19:25:26,915] Trial 191 finished with value: 0.49726995565573984 and parameters: {'n_estimators': 379, 'max_depth': 7, 'min_samples_split': 4, 'min_samples_leaf': 43, 'max_features': 'sqrt', 'criterion': 'absolute_error'}. Best is trial 24 with value: 0.49015587717792475.\n",
            "[I 2024-11-06 19:25:27,520] Trial 157 finished with value: 0.5822644974543125 and parameters: {'n_estimators': 449, 'max_depth': 9, 'min_samples_split': 3, 'min_samples_leaf': 5, 'max_features': 'sqrt', 'criterion': 'absolute_error'}. Best is trial 24 with value: 0.49015587717792475.\n",
            "[I 2024-11-06 19:25:28,269] Trial 164 finished with value: 0.5418900251915286 and parameters: {'n_estimators': 453, 'max_depth': 8, 'min_samples_split': 3, 'min_samples_leaf': 15, 'max_features': 'sqrt', 'criterion': 'absolute_error'}. Best is trial 24 with value: 0.49015587717792475.\n",
            "[I 2024-11-06 19:25:29,056] Trial 168 finished with value: 0.5353331863349913 and parameters: {'n_estimators': 398, 'max_depth': 9, 'min_samples_split': 5, 'min_samples_leaf': 22, 'max_features': 'log2', 'criterion': 'absolute_error'}. Best is trial 24 with value: 0.49015587717792475.\n",
            "[I 2024-11-06 19:25:29,538] Trial 177 finished with value: 0.5018906994155776 and parameters: {'n_estimators': 421, 'max_depth': 8, 'min_samples_split': 5, 'min_samples_leaf': 47, 'max_features': 'log2', 'criterion': 'absolute_error'}. Best is trial 24 with value: 0.49015587717792475.\n",
            "[I 2024-11-06 19:25:33,995] Trial 199 finished with value: 0.528224766706371 and parameters: {'n_estimators': 460, 'max_depth': 8, 'min_samples_split': 4, 'min_samples_leaf': 26, 'max_features': 'log2', 'criterion': 'absolute_error'}. Best is trial 24 with value: 0.49015587717792475.\n"
          ]
        },
        {
          "output_type": "stream",
          "name": "stdout",
          "text": [
            "Best trial:\n",
            "Value: 0.4902\n",
            "Params: \n",
            "    n_estimators: 277\n",
            "    max_depth: 6\n",
            "    min_samples_split: 2\n",
            "    min_samples_leaf: 50\n",
            "    max_features: sqrt\n",
            "    criterion: absolute_error\n"
          ]
        }
      ],
      "source": [
        "import optuna\n",
        "from sklearn.model_selection import cross_val_score\n",
        "def objective(trial):\n",
        "  n_estimators = trial.suggest_int('n_estimators', 100, 500)\n",
        "  max_depth = trial.suggest_int('max_depth', 5, 10)\n",
        "  min_samples_split = trial.suggest_int('min_samples_split', 2, 5)\n",
        "  min_samples_leaf = trial.suggest_int('min_samples_leaf', 5, 50)\n",
        "  max_features = trial.suggest_categorical('max_features', ['sqrt', 'log2'])\n",
        "  criterion = trial.suggest_categorical('criterion', [\"squared_error\", \"absolute_error\"])\n",
        "  model = RandomForestRegressor(n_estimators=n_estimators, max_depth= None,\n",
        "                                min_samples_split=min_samples_split, min_samples_leaf=min_samples_leaf,\n",
        "                                max_features=max_features, criterion=criterion,bootstrap = True,random_state = 21)\n",
        "  model.fit(X_train, y_train)\n",
        "  y_pred = model.predict(X_test)\n",
        "\n",
        "    # metric  to optimize\n",
        "  score = r2_score(y_test, y_pred)\n",
        "\n",
        "  return score\n",
        "\n",
        "study = optuna.create_study(direction='minimize', sampler=optuna.samplers.RandomSampler(seed=42))\n",
        "study.optimize(objective, n_trials=200,n_jobs=-1)\n",
        "\n",
        "# Print the best parameters found\n",
        "print(\"Best trial:\")\n",
        "trial = study.best_trial\n",
        "\n",
        "print(\"Value: {:.4f}\".format(trial.value))\n",
        "\n",
        "print(\"Params: \")\n",
        "for key, value in trial.params.items():\n",
        "    print(\"    {}: {}\".format(key, value))\n"
      ]
    },
    {
      "cell_type": "code",
      "source": [
        "import optuna\n",
        "from sklearn.ensemble import RandomForestRegressor\n",
        "from sklearn.metrics import r2_score\n",
        "from sklearn.model_selection import cross_val_score\n",
        "\n",
        "def objective(trial):\n",
        "    n_estimators = trial.suggest_int('n_estimators', 50,300)\n",
        "    max_depth = trial.suggest_int('max_depth', 3, 10)\n",
        "    min_samples_split = trial.suggest_int('min_samples_split', 2, 5)\n",
        "    min_samples_leaf = trial.suggest_int('min_samples_leaf', 5, 50)\n",
        "    max_features = trial.suggest_categorical('max_features', ['sqrt', 'log2'])\n",
        "    criterion = trial.suggest_categorical('criterion', [\"squared_error\", \"absolute_error\"])\n",
        "\n",
        "    model = RandomForestRegressor(\n",
        "        n_estimators=n_estimators, max_depth=max_depth,\n",
        "        min_samples_split=min_samples_split, min_samples_leaf=min_samples_leaf,\n",
        "        max_features=max_features, criterion=criterion, bootstrap=True,\n",
        "        random_state=21\n",
        "    )\n",
        "\n",
        "    # Cross-validation for stability and to reduce overfitting\n",
        "    score = cross_val_score(model, X_train, y_train, cv=5, scoring=\"r2\").mean()\n",
        "    print(f\"Trial {trial.number} - R2 score: {score:.4f}\")  # Print score for each trial\n",
        "\n",
        "    return -score  # Minimize negative R² to maximize R²\n",
        "\n",
        "study = optuna.create_study(direction='minimize', sampler=optuna.samplers.RandomSampler(seed=42))\n",
        "study.optimize(objective, n_trials=200, n_jobs=-1)\n",
        "\n",
        "print(\"Best trial:\")\n",
        "trial = study.best_trial\n",
        "print(\"Value: {:.4f}\".format(-trial.value))  # Invert sign to show positive R²\n",
        "print(\"Params: \")\n",
        "for key, value in trial.params.items():\n",
        "    print(\"    {}: {}\".format(key, value))\n"
      ],
      "metadata": {
        "colab": {
          "base_uri": "https://localhost:8080/"
        },
        "id": "Ff-lZpIayjiA",
        "outputId": "c3c36035-22b7-47f0-9530-a1904b9e139e",
        "collapsed": true
      },
      "execution_count": null,
      "outputs": [
        {
          "metadata": {
            "tags": null
          },
          "name": "stderr",
          "output_type": "stream",
          "text": [
            "[I 2024-10-25 17:49:57,766] A new study created in memory with name: no-name-93b42dd9-d2bb-4939-93a5-883873ca129f\n",
            "[I 2024-10-25 17:50:44,074] Trial 11 finished with value: -0.511803132817515 and parameters: {'n_estimators': 57, 'max_depth': 10, 'min_samples_split': 5, 'min_samples_leaf': 9, 'max_features': 'log2', 'criterion': 'squared_error'}. Best is trial 11 with value: -0.511803132817515.\n"
          ]
        },
        {
          "metadata": {
            "tags": null
          },
          "name": "stdout",
          "output_type": "stream",
          "text": [
            "Trial 11 - R2 score: 0.5118\n"
          ]
        },
        {
          "metadata": {
            "tags": null
          },
          "name": "stderr",
          "output_type": "stream",
          "text": [
            "[I 2024-10-25 17:50:46,293] Trial 45 finished with value: -0.3768865437346462 and parameters: {'n_estimators': 62, 'max_depth': 3, 'min_samples_split': 5, 'min_samples_leaf': 42, 'max_features': 'sqrt', 'criterion': 'squared_error'}. Best is trial 11 with value: -0.511803132817515.\n"
          ]
        },
        {
          "metadata": {
            "tags": null
          },
          "name": "stdout",
          "output_type": "stream",
          "text": [
            "Trial 45 - R2 score: 0.3769\n"
          ]
        },
        {
          "metadata": {
            "tags": null
          },
          "name": "stderr",
          "output_type": "stream",
          "text": [
            "[I 2024-10-25 17:50:48,492] Trial 71 finished with value: -0.49055350743855036 and parameters: {'n_estimators': 55, 'max_depth': 9, 'min_samples_split': 4, 'min_samples_leaf': 27, 'max_features': 'log2', 'criterion': 'squared_error'}. Best is trial 11 with value: -0.511803132817515.\n",
            "[I 2024-10-25 17:50:48,566] Trial 67 finished with value: -0.4451744916341597 and parameters: {'n_estimators': 57, 'max_depth': 5, 'min_samples_split': 3, 'min_samples_leaf': 43, 'max_features': 'log2', 'criterion': 'squared_error'}. Best is trial 11 with value: -0.511803132817515.\n"
          ]
        },
        {
          "metadata": {
            "tags": null
          },
          "name": "stdout",
          "output_type": "stream",
          "text": [
            "Trial 71 - R2 score: 0.4906\n",
            "Trial 67 - R2 score: 0.4452\n"
          ]
        },
        {
          "metadata": {
            "tags": null
          },
          "name": "stderr",
          "output_type": "stream",
          "text": [
            "[I 2024-10-25 17:50:49,824] Trial 77 finished with value: -0.3976749994114619 and parameters: {'n_estimators': 63, 'max_depth': 3, 'min_samples_split': 3, 'min_samples_leaf': 49, 'max_features': 'log2', 'criterion': 'squared_error'}. Best is trial 11 with value: -0.511803132817515.\n",
            "[I 2024-10-25 17:50:49,835] Trial 43 finished with value: -0.4754883057260697 and parameters: {'n_estimators': 59, 'max_depth': 7, 'min_samples_split': 2, 'min_samples_leaf': 23, 'max_features': 'log2', 'criterion': 'squared_error'}. Best is trial 11 with value: -0.511803132817515.\n"
          ]
        },
        {
          "metadata": {
            "tags": null
          },
          "name": "stdout",
          "output_type": "stream",
          "text": [
            "Trial 77 - R2 score: 0.3977\n",
            "Trial 43 - R2 score: 0.4755\n"
          ]
        },
        {
          "metadata": {
            "tags": null
          },
          "name": "stderr",
          "output_type": "stream",
          "text": [
            "[I 2024-10-25 17:50:53,342] Trial 91 finished with value: -0.42610858348579017 and parameters: {'n_estimators': 64, 'max_depth': 4, 'min_samples_split': 4, 'min_samples_leaf': 8, 'max_features': 'log2', 'criterion': 'squared_error'}. Best is trial 11 with value: -0.511803132817515.\n"
          ]
        },
        {
          "metadata": {
            "tags": null
          },
          "name": "stdout",
          "output_type": "stream",
          "text": [
            "Trial 91 - R2 score: 0.4261\n"
          ]
        },
        {
          "metadata": {
            "tags": null
          },
          "name": "stderr",
          "output_type": "stream",
          "text": [
            "[I 2024-10-25 17:50:58,305] Trial 76 finished with value: -0.4481881806366482 and parameters: {'n_estimators': 74, 'max_depth': 6, 'min_samples_split': 5, 'min_samples_leaf': 22, 'max_features': 'sqrt', 'criterion': 'squared_error'}. Best is trial 11 with value: -0.511803132817515.\n"
          ]
        },
        {
          "metadata": {
            "tags": null
          },
          "name": "stdout",
          "output_type": "stream",
          "text": [
            "Trial 76 - R2 score: 0.4482\n"
          ]
        },
        {
          "metadata": {
            "tags": null
          },
          "name": "stderr",
          "output_type": "stream",
          "text": [
            "[I 2024-10-25 17:51:04,135] Trial 3 finished with value: -0.3985478783314252 and parameters: {'n_estimators': 102, 'max_depth': 3, 'min_samples_split': 5, 'min_samples_leaf': 43, 'max_features': 'log2', 'criterion': 'squared_error'}. Best is trial 11 with value: -0.511803132817515.\n"
          ]
        },
        {
          "metadata": {
            "tags": null
          },
          "name": "stdout",
          "output_type": "stream",
          "text": [
            "Trial 3 - R2 score: 0.3985\n"
          ]
        },
        {
          "metadata": {
            "tags": null
          },
          "name": "stderr",
          "output_type": "stream",
          "text": [
            "[I 2024-10-25 17:51:09,712] Trial 69 finished with value: -0.47002263322165827 and parameters: {'n_estimators': 88, 'max_depth': 8, 'min_samples_split': 3, 'min_samples_leaf': 28, 'max_features': 'sqrt', 'criterion': 'squared_error'}. Best is trial 11 with value: -0.511803132817515.\n"
          ]
        },
        {
          "metadata": {
            "tags": null
          },
          "name": "stdout",
          "output_type": "stream",
          "text": [
            "Trial 69 - R2 score: 0.4700\n"
          ]
        },
        {
          "metadata": {
            "tags": null
          },
          "name": "stderr",
          "output_type": "stream",
          "text": [
            "[I 2024-10-25 17:51:10,059] Trial 58 finished with value: -0.48551994367281887 and parameters: {'n_estimators': 86, 'max_depth': 8, 'min_samples_split': 5, 'min_samples_leaf': 23, 'max_features': 'log2', 'criterion': 'squared_error'}. Best is trial 11 with value: -0.511803132817515.\n"
          ]
        },
        {
          "metadata": {
            "tags": null
          },
          "name": "stdout",
          "output_type": "stream",
          "text": [
            "Trial 58 - R2 score: 0.4855\n"
          ]
        },
        {
          "metadata": {
            "tags": null
          },
          "name": "stderr",
          "output_type": "stream",
          "text": [
            "[I 2024-10-25 17:51:20,455] Trial 92 finished with value: -0.4801430385606521 and parameters: {'n_estimators': 103, 'max_depth': 10, 'min_samples_split': 4, 'min_samples_leaf': 34, 'max_features': 'sqrt', 'criterion': 'squared_error'}. Best is trial 11 with value: -0.511803132817515.\n"
          ]
        },
        {
          "metadata": {
            "tags": null
          },
          "name": "stdout",
          "output_type": "stream",
          "text": [
            "Trial 92 - R2 score: 0.4801\n"
          ]
        },
        {
          "metadata": {
            "tags": null
          },
          "name": "stderr",
          "output_type": "stream",
          "text": [
            "[I 2024-10-25 17:51:20,769] Trial 81 finished with value: -0.37800311075936943 and parameters: {'n_estimators': 113, 'max_depth': 3, 'min_samples_split': 5, 'min_samples_leaf': 25, 'max_features': 'sqrt', 'criterion': 'squared_error'}. Best is trial 11 with value: -0.511803132817515.\n"
          ]
        },
        {
          "metadata": {
            "tags": null
          },
          "name": "stdout",
          "output_type": "stream",
          "text": [
            "Trial 81 - R2 score: 0.3780\n"
          ]
        },
        {
          "metadata": {
            "tags": null
          },
          "name": "stderr",
          "output_type": "stream",
          "text": [
            "[I 2024-10-25 17:51:21,312] Trial 2 finished with value: -0.3793335134762591 and parameters: {'n_estimators': 132, 'max_depth': 3, 'min_samples_split': 4, 'min_samples_leaf': 35, 'max_features': 'sqrt', 'criterion': 'squared_error'}. Best is trial 11 with value: -0.511803132817515.\n",
            "[I 2024-10-25 17:51:21,499] Trial 19 finished with value: -0.46799142173187674 and parameters: {'n_estimators': 115, 'max_depth': 8, 'min_samples_split': 4, 'min_samples_leaf': 34, 'max_features': 'sqrt', 'criterion': 'squared_error'}. Best is trial 11 with value: -0.511803132817515.\n"
          ]
        },
        {
          "metadata": {
            "tags": null
          },
          "name": "stdout",
          "output_type": "stream",
          "text": [
            "Trial 2 - R2 score: 0.3793\n",
            "Trial 19 - R2 score: 0.4680\n"
          ]
        },
        {
          "metadata": {
            "tags": null
          },
          "name": "stderr",
          "output_type": "stream",
          "text": [
            "[I 2024-10-25 17:51:22,394] Trial 15 finished with value: -0.4037843671011531 and parameters: {'n_estimators': 127, 'max_depth': 4, 'min_samples_split': 4, 'min_samples_leaf': 31, 'max_features': 'sqrt', 'criterion': 'squared_error'}. Best is trial 11 with value: -0.511803132817515.\n"
          ]
        },
        {
          "metadata": {
            "tags": null
          },
          "name": "stdout",
          "output_type": "stream",
          "text": [
            "Trial 15 - R2 score: 0.4038\n"
          ]
        },
        {
          "metadata": {
            "tags": null
          },
          "name": "stderr",
          "output_type": "stream",
          "text": [
            "[I 2024-10-25 17:51:23,961] Trial 57 finished with value: -0.4260548306479359 and parameters: {'n_estimators': 114, 'max_depth': 4, 'min_samples_split': 3, 'min_samples_leaf': 16, 'max_features': 'log2', 'criterion': 'squared_error'}. Best is trial 11 with value: -0.511803132817515.\n"
          ]
        },
        {
          "metadata": {
            "tags": null
          },
          "name": "stdout",
          "output_type": "stream",
          "text": [
            "Trial 57 - R2 score: 0.4261\n"
          ]
        },
        {
          "metadata": {
            "tags": null
          },
          "name": "stderr",
          "output_type": "stream",
          "text": [
            "[I 2024-10-25 17:51:33,478] Trial 55 finished with value: -0.40390325299656793 and parameters: {'n_estimators': 132, 'max_depth': 4, 'min_samples_split': 3, 'min_samples_leaf': 41, 'max_features': 'sqrt', 'criterion': 'squared_error'}. Best is trial 11 with value: -0.511803132817515.\n"
          ]
        },
        {
          "metadata": {
            "tags": null
          },
          "name": "stdout",
          "output_type": "stream",
          "text": [
            "Trial 55 - R2 score: 0.4039\n"
          ]
        },
        {
          "metadata": {
            "tags": null
          },
          "name": "stderr",
          "output_type": "stream",
          "text": [
            "[I 2024-10-25 17:51:35,125] Trial 102 finished with value: -0.47220010707416044 and parameters: {'n_estimators': 60, 'max_depth': 10, 'min_samples_split': 4, 'min_samples_leaf': 46, 'max_features': 'sqrt', 'criterion': 'squared_error'}. Best is trial 11 with value: -0.511803132817515.\n"
          ]
        },
        {
          "metadata": {
            "tags": null
          },
          "name": "stdout",
          "output_type": "stream",
          "text": [
            "Trial 102 - R2 score: 0.4722\n"
          ]
        },
        {
          "metadata": {
            "tags": null
          },
          "name": "stderr",
          "output_type": "stream",
          "text": [
            "[I 2024-10-25 17:51:38,645] Trial 82 finished with value: -0.4469217225158671 and parameters: {'n_estimators': 140, 'max_depth': 6, 'min_samples_split': 5, 'min_samples_leaf': 35, 'max_features': 'sqrt', 'criterion': 'squared_error'}. Best is trial 11 with value: -0.511803132817515.\n"
          ]
        },
        {
          "metadata": {
            "tags": null
          },
          "name": "stdout",
          "output_type": "stream",
          "text": [
            "Trial 82 - R2 score: 0.4469\n"
          ]
        },
        {
          "metadata": {
            "tags": null
          },
          "name": "stderr",
          "output_type": "stream",
          "text": [
            "[I 2024-10-25 17:51:40,842] Trial 6 finished with value: -0.48439058481719305 and parameters: {'n_estimators': 142, 'max_depth': 8, 'min_samples_split': 4, 'min_samples_leaf': 28, 'max_features': 'log2', 'criterion': 'squared_error'}. Best is trial 11 with value: -0.511803132817515.\n"
          ]
        },
        {
          "metadata": {
            "tags": null
          },
          "name": "stdout",
          "output_type": "stream",
          "text": [
            "Trial 6 - R2 score: 0.4844\n"
          ]
        },
        {
          "metadata": {
            "tags": null
          },
          "name": "stderr",
          "output_type": "stream",
          "text": [
            "[I 2024-10-25 17:51:41,787] Trial 60 finished with value: -0.45535519088585463 and parameters: {'n_estimators': 145, 'max_depth': 7, 'min_samples_split': 3, 'min_samples_leaf': 45, 'max_features': 'sqrt', 'criterion': 'squared_error'}. Best is trial 11 with value: -0.511803132817515.\n"
          ]
        },
        {
          "metadata": {
            "tags": null
          },
          "name": "stdout",
          "output_type": "stream",
          "text": [
            "Trial 60 - R2 score: 0.4554\n"
          ]
        },
        {
          "metadata": {
            "tags": null
          },
          "name": "stderr",
          "output_type": "stream",
          "text": [
            "[I 2024-10-25 17:51:45,772] Trial 85 finished with value: -0.49520108739039487 and parameters: {'n_estimators': 135, 'max_depth': 9, 'min_samples_split': 5, 'min_samples_leaf': 22, 'max_features': 'log2', 'criterion': 'squared_error'}. Best is trial 11 with value: -0.511803132817515.\n"
          ]
        },
        {
          "metadata": {
            "tags": null
          },
          "name": "stdout",
          "output_type": "stream",
          "text": [
            "Trial 85 - R2 score: 0.4952\n"
          ]
        },
        {
          "metadata": {
            "tags": null
          },
          "name": "stderr",
          "output_type": "stream",
          "text": [
            "[I 2024-10-25 17:51:47,974] Trial 97 finished with value: -0.4466016762316226 and parameters: {'n_estimators': 98, 'max_depth': 6, 'min_samples_split': 2, 'min_samples_leaf': 24, 'max_features': 'sqrt', 'criterion': 'squared_error'}. Best is trial 11 with value: -0.511803132817515.\n"
          ]
        },
        {
          "metadata": {
            "tags": null
          },
          "name": "stdout",
          "output_type": "stream",
          "text": [
            "Trial 97 - R2 score: 0.4466\n"
          ]
        },
        {
          "metadata": {
            "tags": null
          },
          "name": "stderr",
          "output_type": "stream",
          "text": [
            "[I 2024-10-25 17:51:49,122] Trial 59 finished with value: -0.4052080297929569 and parameters: {'n_estimators': 162, 'max_depth': 4, 'min_samples_split': 5, 'min_samples_leaf': 38, 'max_features': 'sqrt', 'criterion': 'squared_error'}. Best is trial 11 with value: -0.511803132817515.\n"
          ]
        },
        {
          "metadata": {
            "tags": null
          },
          "name": "stdout",
          "output_type": "stream",
          "text": [
            "Trial 59 - R2 score: 0.4052\n"
          ]
        },
        {
          "metadata": {
            "tags": null
          },
          "name": "stderr",
          "output_type": "stream",
          "text": [
            "[I 2024-10-25 17:51:49,448] Trial 63 finished with value: -0.44799004331563647 and parameters: {'n_estimators': 161, 'max_depth': 6, 'min_samples_split': 2, 'min_samples_leaf': 26, 'max_features': 'sqrt', 'criterion': 'squared_error'}. Best is trial 11 with value: -0.511803132817515.\n"
          ]
        },
        {
          "metadata": {
            "tags": null
          },
          "name": "stdout",
          "output_type": "stream",
          "text": [
            "Trial 63 - R2 score: 0.4480\n"
          ]
        },
        {
          "metadata": {
            "tags": null
          },
          "name": "stderr",
          "output_type": "stream",
          "text": [
            "[I 2024-10-25 17:51:52,451] Trial 39 finished with value: -0.4315640870327737 and parameters: {'n_estimators': 168, 'max_depth': 5, 'min_samples_split': 4, 'min_samples_leaf': 20, 'max_features': 'sqrt', 'criterion': 'squared_error'}. Best is trial 11 with value: -0.511803132817515.\n"
          ]
        },
        {
          "metadata": {
            "tags": null
          },
          "name": "stdout",
          "output_type": "stream",
          "text": [
            "Trial 39 - R2 score: 0.4316\n"
          ]
        },
        {
          "metadata": {
            "tags": null
          },
          "name": "stderr",
          "output_type": "stream",
          "text": [
            "[I 2024-10-25 17:51:52,741] Trial 1 finished with value: -0.4804611841178847 and parameters: {'n_estimators': 169, 'max_depth': 7, 'min_samples_split': 5, 'min_samples_leaf': 12, 'max_features': 'log2', 'criterion': 'squared_error'}. Best is trial 11 with value: -0.511803132817515.\n"
          ]
        },
        {
          "metadata": {
            "tags": null
          },
          "name": "stdout",
          "output_type": "stream",
          "text": [
            "Trial 1 - R2 score: 0.4805\n"
          ]
        },
        {
          "metadata": {
            "tags": null
          },
          "name": "stderr",
          "output_type": "stream",
          "text": [
            "[I 2024-10-25 17:51:57,713] Trial 32 finished with value: -0.4499204805788681 and parameters: {'n_estimators': 175, 'max_depth': 5, 'min_samples_split': 2, 'min_samples_leaf': 10, 'max_features': 'log2', 'criterion': 'squared_error'}. Best is trial 11 with value: -0.511803132817515.\n"
          ]
        },
        {
          "metadata": {
            "tags": null
          },
          "name": "stdout",
          "output_type": "stream",
          "text": [
            "Trial 32 - R2 score: 0.4499\n"
          ]
        },
        {
          "metadata": {
            "tags": null
          },
          "name": "stderr",
          "output_type": "stream",
          "text": [
            "[I 2024-10-25 17:51:59,290] Trial 46 finished with value: -0.46976638733756787 and parameters: {'n_estimators': 175, 'max_depth': 8, 'min_samples_split': 4, 'min_samples_leaf': 30, 'max_features': 'sqrt', 'criterion': 'squared_error'}. Best is trial 11 with value: -0.511803132817515.\n"
          ]
        },
        {
          "metadata": {
            "tags": null
          },
          "name": "stdout",
          "output_type": "stream",
          "text": [
            "Trial 46 - R2 score: 0.4698\n"
          ]
        },
        {
          "metadata": {
            "tags": null
          },
          "name": "stderr",
          "output_type": "stream",
          "text": [
            "[I 2024-10-25 17:52:02,042] Trial 12 finished with value: -0.43086757037233986 and parameters: {'n_estimators': 204, 'max_depth': 5, 'min_samples_split': 2, 'min_samples_leaf': 21, 'max_features': 'sqrt', 'criterion': 'squared_error'}. Best is trial 11 with value: -0.511803132817515.\n"
          ]
        },
        {
          "metadata": {
            "tags": null
          },
          "name": "stdout",
          "output_type": "stream",
          "text": [
            "Trial 12 - R2 score: 0.4309\n"
          ]
        },
        {
          "metadata": {
            "tags": null
          },
          "name": "stderr",
          "output_type": "stream",
          "text": [
            "[I 2024-10-25 17:52:06,504] Trial 47 finished with value: -0.39983814162446574 and parameters: {'n_estimators': 196, 'max_depth': 3, 'min_samples_split': 3, 'min_samples_leaf': 14, 'max_features': 'log2', 'criterion': 'squared_error'}. Best is trial 11 with value: -0.511803132817515.\n"
          ]
        },
        {
          "metadata": {
            "tags": null
          },
          "name": "stdout",
          "output_type": "stream",
          "text": [
            "Trial 47 - R2 score: 0.3998\n"
          ]
        },
        {
          "metadata": {
            "tags": null
          },
          "name": "stderr",
          "output_type": "stream",
          "text": [
            "[I 2024-10-25 17:52:12,070] Trial 107 finished with value: -0.455462753038665 and parameters: {'n_estimators': 88, 'max_depth': 7, 'min_samples_split': 3, 'min_samples_leaf': 42, 'max_features': 'sqrt', 'criterion': 'squared_error'}. Best is trial 11 with value: -0.511803132817515.\n"
          ]
        },
        {
          "metadata": {
            "tags": null
          },
          "name": "stdout",
          "output_type": "stream",
          "text": [
            "Trial 107 - R2 score: 0.4555\n"
          ]
        },
        {
          "metadata": {
            "tags": null
          },
          "name": "stderr",
          "output_type": "stream",
          "text": [
            "[I 2024-10-25 17:52:13,354] Trial 95 finished with value: -0.3999842453600019 and parameters: {'n_estimators': 212, 'max_depth': 3, 'min_samples_split': 3, 'min_samples_leaf': 23, 'max_features': 'log2', 'criterion': 'squared_error'}. Best is trial 11 with value: -0.511803132817515.\n"
          ]
        },
        {
          "metadata": {
            "tags": null
          },
          "name": "stdout",
          "output_type": "stream",
          "text": [
            "Trial 95 - R2 score: 0.4000\n"
          ]
        },
        {
          "metadata": {
            "tags": null
          },
          "name": "stderr",
          "output_type": "stream",
          "text": [
            "[I 2024-10-25 17:52:17,219] Trial 48 finished with value: -0.40500598368759083 and parameters: {'n_estimators': 221, 'max_depth': 4, 'min_samples_split': 4, 'min_samples_leaf': 19, 'max_features': 'sqrt', 'criterion': 'squared_error'}. Best is trial 11 with value: -0.511803132817515.\n"
          ]
        },
        {
          "metadata": {
            "tags": null
          },
          "name": "stdout",
          "output_type": "stream",
          "text": [
            "Trial 48 - R2 score: 0.4050\n"
          ]
        },
        {
          "metadata": {
            "tags": null
          },
          "name": "stderr",
          "output_type": "stream",
          "text": [
            "[I 2024-10-25 17:52:19,602] Trial 26 finished with value: -0.37934741736455513 and parameters: {'n_estimators': 238, 'max_depth': 3, 'min_samples_split': 2, 'min_samples_leaf': 18, 'max_features': 'sqrt', 'criterion': 'squared_error'}. Best is trial 11 with value: -0.511803132817515.\n"
          ]
        },
        {
          "metadata": {
            "tags": null
          },
          "name": "stdout",
          "output_type": "stream",
          "text": [
            "Trial 26 - R2 score: 0.3793\n"
          ]
        },
        {
          "metadata": {
            "tags": null
          },
          "name": "stderr",
          "output_type": "stream",
          "text": [
            "[I 2024-10-25 17:52:22,086] Trial 13 finished with value: -0.46225970906304853 and parameters: {'n_estimators': 221, 'max_depth': 6, 'min_samples_split': 4, 'min_samples_leaf': 35, 'max_features': 'log2', 'criterion': 'squared_error'}. Best is trial 11 with value: -0.511803132817515.\n"
          ]
        },
        {
          "metadata": {
            "tags": null
          },
          "name": "stdout",
          "output_type": "stream",
          "text": [
            "Trial 13 - R2 score: 0.4623\n"
          ]
        },
        {
          "metadata": {
            "tags": null
          },
          "name": "stderr",
          "output_type": "stream",
          "text": [
            "[I 2024-10-25 17:52:25,480] Trial 7 finished with value: -0.37902012623751047 and parameters: {'n_estimators': 259, 'max_depth': 3, 'min_samples_split': 5, 'min_samples_leaf': 21, 'max_features': 'sqrt', 'criterion': 'squared_error'}. Best is trial 11 with value: -0.511803132817515.\n"
          ]
        },
        {
          "metadata": {
            "tags": null
          },
          "name": "stdout",
          "output_type": "stream",
          "text": [
            "Trial 7 - R2 score: 0.3790\n"
          ]
        },
        {
          "metadata": {
            "tags": null
          },
          "name": "stderr",
          "output_type": "stream",
          "text": [
            "[I 2024-10-25 17:52:25,879] Trial 20 finished with value: -0.4732511624879662 and parameters: {'n_estimators': 227, 'max_depth': 8, 'min_samples_split': 3, 'min_samples_leaf': 22, 'max_features': 'sqrt', 'criterion': 'squared_error'}. Best is trial 11 with value: -0.511803132817515.\n"
          ]
        },
        {
          "metadata": {
            "tags": null
          },
          "name": "stdout",
          "output_type": "stream",
          "text": [
            "Trial 20 - R2 score: 0.4733\n"
          ]
        },
        {
          "metadata": {
            "tags": null
          },
          "name": "stderr",
          "output_type": "stream",
          "text": [
            "[I 2024-10-25 17:52:26,617] Trial 79 finished with value: -0.4312694218690952 and parameters: {'n_estimators': 233, 'max_depth': 5, 'min_samples_split': 2, 'min_samples_leaf': 16, 'max_features': 'sqrt', 'criterion': 'squared_error'}. Best is trial 11 with value: -0.511803132817515.\n"
          ]
        },
        {
          "metadata": {
            "tags": null
          },
          "name": "stdout",
          "output_type": "stream",
          "text": [
            "Trial 79 - R2 score: 0.4313\n"
          ]
        },
        {
          "metadata": {
            "tags": null
          },
          "name": "stderr",
          "output_type": "stream",
          "text": [
            "[I 2024-10-25 17:52:28,584] Trial 119 finished with value: -0.4621738336998509 and parameters: {'n_estimators': 72, 'max_depth': 7, 'min_samples_split': 3, 'min_samples_leaf': 20, 'max_features': 'sqrt', 'criterion': 'squared_error'}. Best is trial 11 with value: -0.511803132817515.\n",
            "[I 2024-10-25 17:52:28,745] Trial 93 finished with value: -0.42683200386319564 and parameters: {'n_estimators': 233, 'max_depth': 4, 'min_samples_split': 5, 'min_samples_leaf': 33, 'max_features': 'log2', 'criterion': 'squared_error'}. Best is trial 11 with value: -0.511803132817515.\n"
          ]
        },
        {
          "metadata": {
            "tags": null
          },
          "name": "stdout",
          "output_type": "stream",
          "text": [
            "Trial 119 - R2 score: 0.4622\n",
            "Trial 93 - R2 score: 0.4268\n"
          ]
        },
        {
          "metadata": {
            "tags": null
          },
          "name": "stderr",
          "output_type": "stream",
          "text": [
            "[I 2024-10-25 17:52:31,294] Trial 74 finished with value: -0.4785812424674195 and parameters: {'n_estimators': 230, 'max_depth': 10, 'min_samples_split': 2, 'min_samples_leaf': 35, 'max_features': 'sqrt', 'criterion': 'squared_error'}. Best is trial 11 with value: -0.511803132817515.\n"
          ]
        },
        {
          "metadata": {
            "tags": null
          },
          "name": "stdout",
          "output_type": "stream",
          "text": [
            "Trial 74 - R2 score: 0.4786\n"
          ]
        },
        {
          "metadata": {
            "tags": null
          },
          "name": "stderr",
          "output_type": "stream",
          "text": [
            "[I 2024-10-25 17:52:34,854] Trial 80 finished with value: -0.4271057872783275 and parameters: {'n_estimators': 254, 'max_depth': 4, 'min_samples_split': 2, 'min_samples_leaf': 34, 'max_features': 'log2', 'criterion': 'squared_error'}. Best is trial 11 with value: -0.511803132817515.\n"
          ]
        },
        {
          "metadata": {
            "tags": null
          },
          "name": "stdout",
          "output_type": "stream",
          "text": [
            "Trial 80 - R2 score: 0.4271\n"
          ]
        },
        {
          "metadata": {
            "tags": null
          },
          "name": "stderr",
          "output_type": "stream",
          "text": [
            "[I 2024-10-25 17:52:35,319] Trial 27 finished with value: -0.44670038709433146 and parameters: {'n_estimators': 260, 'max_depth': 6, 'min_samples_split': 5, 'min_samples_leaf': 33, 'max_features': 'sqrt', 'criterion': 'squared_error'}. Best is trial 11 with value: -0.511803132817515.\n",
            "[I 2024-10-25 17:52:35,357] Trial 62 finished with value: -0.48402618718184093 and parameters: {'n_estimators': 243, 'max_depth': 10, 'min_samples_split': 2, 'min_samples_leaf': 26, 'max_features': 'sqrt', 'criterion': 'squared_error'}. Best is trial 11 with value: -0.511803132817515.\n"
          ]
        },
        {
          "metadata": {
            "tags": null
          },
          "name": "stdout",
          "output_type": "stream",
          "text": [
            "Trial 27 - R2 score: 0.4467\n",
            "Trial 62 - R2 score: 0.4840\n"
          ]
        },
        {
          "metadata": {
            "tags": null
          },
          "name": "stderr",
          "output_type": "stream",
          "text": [
            "[I 2024-10-25 17:52:36,949] Trial 118 finished with value: -0.4451577625513387 and parameters: {'n_estimators': 98, 'max_depth': 6, 'min_samples_split': 5, 'min_samples_leaf': 38, 'max_features': 'sqrt', 'criterion': 'squared_error'}. Best is trial 11 with value: -0.511803132817515.\n"
          ]
        },
        {
          "metadata": {
            "tags": null
          },
          "name": "stdout",
          "output_type": "stream",
          "text": [
            "Trial 118 - R2 score: 0.4452\n"
          ]
        },
        {
          "metadata": {
            "tags": null
          },
          "name": "stderr",
          "output_type": "stream",
          "text": [
            "[I 2024-10-25 17:52:37,719] Trial 42 finished with value: -0.43162528014446294 and parameters: {'n_estimators': 256, 'max_depth': 5, 'min_samples_split': 4, 'min_samples_leaf': 12, 'max_features': 'sqrt', 'criterion': 'squared_error'}. Best is trial 11 with value: -0.511803132817515.\n"
          ]
        },
        {
          "metadata": {
            "tags": null
          },
          "name": "stdout",
          "output_type": "stream",
          "text": [
            "Trial 42 - R2 score: 0.4316\n"
          ]
        },
        {
          "metadata": {
            "tags": null
          },
          "name": "stderr",
          "output_type": "stream",
          "text": [
            "[I 2024-10-25 17:52:40,086] Trial 10 finished with value: -0.4471176408042024 and parameters: {'n_estimators': 281, 'max_depth': 6, 'min_samples_split': 3, 'min_samples_leaf': 30, 'max_features': 'sqrt', 'criterion': 'squared_error'}. Best is trial 11 with value: -0.511803132817515.\n"
          ]
        },
        {
          "metadata": {
            "tags": null
          },
          "name": "stdout",
          "output_type": "stream",
          "text": [
            "Trial 10 - R2 score: 0.4471\n"
          ]
        },
        {
          "metadata": {
            "tags": null
          },
          "name": "stderr",
          "output_type": "stream",
          "text": [
            "[I 2024-10-25 17:52:41,342] Trial 117 finished with value: -0.3987566489497428 and parameters: {'n_estimators': 122, 'max_depth': 3, 'min_samples_split': 3, 'min_samples_leaf': 37, 'max_features': 'log2', 'criterion': 'squared_error'}. Best is trial 11 with value: -0.511803132817515.\n"
          ]
        },
        {
          "metadata": {
            "tags": null
          },
          "name": "stdout",
          "output_type": "stream",
          "text": [
            "Trial 117 - R2 score: 0.3988\n"
          ]
        },
        {
          "metadata": {
            "tags": null
          },
          "name": "stderr",
          "output_type": "stream",
          "text": [
            "[I 2024-10-25 17:52:42,273] Trial 88 finished with value: -0.4823556118670023 and parameters: {'n_estimators': 255, 'max_depth': 9, 'min_samples_split': 4, 'min_samples_leaf': 20, 'max_features': 'sqrt', 'criterion': 'squared_error'}. Best is trial 11 with value: -0.511803132817515.\n"
          ]
        },
        {
          "metadata": {
            "tags": null
          },
          "name": "stdout",
          "output_type": "stream",
          "text": [
            "Trial 88 - R2 score: 0.4824\n"
          ]
        },
        {
          "metadata": {
            "tags": null
          },
          "name": "stderr",
          "output_type": "stream",
          "text": [
            "[I 2024-10-25 17:52:45,189] Trial 90 finished with value: -0.4696463187596721 and parameters: {'n_estimators': 266, 'max_depth': 8, 'min_samples_split': 5, 'min_samples_leaf': 30, 'max_features': 'sqrt', 'criterion': 'squared_error'}. Best is trial 11 with value: -0.511803132817515.\n",
            "[I 2024-10-25 17:52:45,265] Trial 133 finished with value: -0.3823039879650888 and parameters: {'n_estimators': 50, 'max_depth': 3, 'min_samples_split': 5, 'min_samples_leaf': 8, 'max_features': 'sqrt', 'criterion': 'squared_error'}. Best is trial 11 with value: -0.511803132817515.\n"
          ]
        },
        {
          "metadata": {
            "tags": null
          },
          "name": "stdout",
          "output_type": "stream",
          "text": [
            "Trial 90 - R2 score: 0.4696\n",
            "Trial 133 - R2 score: 0.3823\n"
          ]
        },
        {
          "metadata": {
            "tags": null
          },
          "name": "stderr",
          "output_type": "stream",
          "text": [
            "[I 2024-10-25 17:52:46,326] Trial 87 finished with value: -0.4892654571020286 and parameters: {'n_estimators': 247, 'max_depth': 9, 'min_samples_split': 5, 'min_samples_leaf': 33, 'max_features': 'log2', 'criterion': 'squared_error'}. Best is trial 11 with value: -0.511803132817515.\n"
          ]
        },
        {
          "metadata": {
            "tags": null
          },
          "name": "stdout",
          "output_type": "stream",
          "text": [
            "Trial 87 - R2 score: 0.4893\n"
          ]
        },
        {
          "metadata": {
            "tags": null
          },
          "name": "stderr",
          "output_type": "stream",
          "text": [
            "[I 2024-10-25 17:52:47,333] Trial 37 finished with value: -0.5063912111569385 and parameters: {'n_estimators': 247, 'max_depth': 9, 'min_samples_split': 4, 'min_samples_leaf': 7, 'max_features': 'log2', 'criterion': 'squared_error'}. Best is trial 11 with value: -0.511803132817515.\n"
          ]
        },
        {
          "metadata": {
            "tags": null
          },
          "name": "stdout",
          "output_type": "stream",
          "text": [
            "Trial 37 - R2 score: 0.5064\n"
          ]
        },
        {
          "metadata": {
            "tags": null
          },
          "name": "stderr",
          "output_type": "stream",
          "text": [
            "[I 2024-10-25 17:52:50,796] Trial 61 finished with value: -0.4281647553084233 and parameters: {'n_estimators': 295, 'max_depth': 4, 'min_samples_split': 3, 'min_samples_leaf': 10, 'max_features': 'log2', 'criterion': 'squared_error'}. Best is trial 11 with value: -0.511803132817515.\n"
          ]
        },
        {
          "metadata": {
            "tags": null
          },
          "name": "stdout",
          "output_type": "stream",
          "text": [
            "Trial 61 - R2 score: 0.4282\n"
          ]
        },
        {
          "metadata": {
            "tags": null
          },
          "name": "stderr",
          "output_type": "stream",
          "text": [
            "[I 2024-10-25 17:52:51,381] Trial 138 finished with value: -0.43066731451229323 and parameters: {'n_estimators': 52, 'max_depth': 5, 'min_samples_split': 5, 'min_samples_leaf': 26, 'max_features': 'sqrt', 'criterion': 'squared_error'}. Best is trial 11 with value: -0.511803132817515.\n",
            "[I 2024-10-25 17:52:51,471] Trial 104 finished with value: -0.4893632668651242 and parameters: {'n_estimators': 181, 'max_depth': 10, 'min_samples_split': 2, 'min_samples_leaf': 40, 'max_features': 'log2', 'criterion': 'squared_error'}. Best is trial 11 with value: -0.511803132817515.\n"
          ]
        },
        {
          "metadata": {
            "tags": null
          },
          "name": "stdout",
          "output_type": "stream",
          "text": [
            "Trial 138 - R2 score: 0.4307\n",
            "Trial 104 - R2 score: 0.4894\n"
          ]
        },
        {
          "metadata": {
            "tags": null
          },
          "name": "stderr",
          "output_type": "stream",
          "text": [
            "[I 2024-10-25 17:52:51,692] Trial 110 finished with value: -0.4642754595082705 and parameters: {'n_estimators': 172, 'max_depth': 6, 'min_samples_split': 3, 'min_samples_leaf': 24, 'max_features': 'log2', 'criterion': 'squared_error'}. Best is trial 11 with value: -0.511803132817515.\n"
          ]
        },
        {
          "metadata": {
            "tags": null
          },
          "name": "stdout",
          "output_type": "stream",
          "text": [
            "Trial 110 - R2 score: 0.4643\n"
          ]
        },
        {
          "metadata": {
            "tags": null
          },
          "name": "stderr",
          "output_type": "stream",
          "text": [
            "[I 2024-10-25 17:52:54,241] Trial 123 finished with value: -0.38055027187721807 and parameters: {'n_estimators': 147, 'max_depth': 3, 'min_samples_split': 3, 'min_samples_leaf': 39, 'max_features': 'sqrt', 'criterion': 'squared_error'}. Best is trial 11 with value: -0.511803132817515.\n"
          ]
        },
        {
          "metadata": {
            "tags": null
          },
          "name": "stdout",
          "output_type": "stream",
          "text": [
            "Trial 123 - R2 score: 0.3806\n"
          ]
        },
        {
          "metadata": {
            "tags": null
          },
          "name": "stderr",
          "output_type": "stream",
          "text": [
            "[I 2024-10-25 17:53:01,124] Trial 121 finished with value: -0.43192697994012086 and parameters: {'n_estimators': 172, 'max_depth': 5, 'min_samples_split': 5, 'min_samples_leaf': 6, 'max_features': 'sqrt', 'criterion': 'squared_error'}. Best is trial 11 with value: -0.511803132817515.\n"
          ]
        },
        {
          "metadata": {
            "tags": null
          },
          "name": "stdout",
          "output_type": "stream",
          "text": [
            "Trial 121 - R2 score: 0.4319\n"
          ]
        },
        {
          "metadata": {
            "tags": null
          },
          "name": "stderr",
          "output_type": "stream",
          "text": [
            "[I 2024-10-25 17:53:03,276] Trial 128 finished with value: -0.4044990040696696 and parameters: {'n_estimators': 137, 'max_depth': 4, 'min_samples_split': 2, 'min_samples_leaf': 27, 'max_features': 'sqrt', 'criterion': 'squared_error'}. Best is trial 11 with value: -0.511803132817515.\n"
          ]
        },
        {
          "metadata": {
            "tags": null
          },
          "name": "stdout",
          "output_type": "stream",
          "text": [
            "Trial 128 - R2 score: 0.4045\n"
          ]
        },
        {
          "metadata": {
            "tags": null
          },
          "name": "stderr",
          "output_type": "stream",
          "text": [
            "[I 2024-10-25 17:53:05,669] Trial 148 finished with value: -0.4886514111555879 and parameters: {'n_estimators': 53, 'max_depth': 9, 'min_samples_split': 2, 'min_samples_leaf': 8, 'max_features': 'sqrt', 'criterion': 'squared_error'}. Best is trial 11 with value: -0.511803132817515.\n"
          ]
        },
        {
          "metadata": {
            "tags": null
          },
          "name": "stdout",
          "output_type": "stream",
          "text": [
            "Trial 148 - R2 score: 0.4887\n"
          ]
        },
        {
          "metadata": {
            "tags": null
          },
          "name": "stderr",
          "output_type": "stream",
          "text": [
            "[I 2024-10-25 17:53:07,899] Trial 120 finished with value: -0.40417243773425093 and parameters: {'n_estimators': 200, 'max_depth': 4, 'min_samples_split': 3, 'min_samples_leaf': 32, 'max_features': 'sqrt', 'criterion': 'squared_error'}. Best is trial 11 with value: -0.511803132817515.\n"
          ]
        },
        {
          "metadata": {
            "tags": null
          },
          "name": "stdout",
          "output_type": "stream",
          "text": [
            "Trial 120 - R2 score: 0.4042\n"
          ]
        },
        {
          "metadata": {
            "tags": null
          },
          "name": "stderr",
          "output_type": "stream",
          "text": [
            "[I 2024-10-25 17:53:15,068] Trial 136 finished with value: -0.4301501277700462 and parameters: {'n_estimators': 141, 'max_depth': 5, 'min_samples_split': 4, 'min_samples_leaf': 34, 'max_features': 'sqrt', 'criterion': 'squared_error'}. Best is trial 11 with value: -0.511803132817515.\n"
          ]
        },
        {
          "metadata": {
            "tags": null
          },
          "name": "stdout",
          "output_type": "stream",
          "text": [
            "Trial 136 - R2 score: 0.4302\n"
          ]
        },
        {
          "metadata": {
            "tags": null
          },
          "name": "stderr",
          "output_type": "stream",
          "text": [
            "[I 2024-10-25 17:53:15,626] Trial 151 finished with value: -0.37905470714505274 and parameters: {'n_estimators': 91, 'max_depth': 3, 'min_samples_split': 5, 'min_samples_leaf': 28, 'max_features': 'sqrt', 'criterion': 'squared_error'}. Best is trial 11 with value: -0.511803132817515.\n"
          ]
        },
        {
          "metadata": {
            "tags": null
          },
          "name": "stdout",
          "output_type": "stream",
          "text": [
            "Trial 151 - R2 score: 0.3791\n"
          ]
        },
        {
          "metadata": {
            "tags": null
          },
          "name": "stderr",
          "output_type": "stream",
          "text": [
            "[I 2024-10-25 17:53:19,502] Trial 111 finished with value: -0.45465050446643274 and parameters: {'n_estimators': 268, 'max_depth': 7, 'min_samples_split': 4, 'min_samples_leaf': 48, 'max_features': 'sqrt', 'criterion': 'squared_error'}. Best is trial 11 with value: -0.511803132817515.\n"
          ]
        },
        {
          "metadata": {
            "tags": null
          },
          "name": "stdout",
          "output_type": "stream",
          "text": [
            "Trial 111 - R2 score: 0.4547\n"
          ]
        },
        {
          "metadata": {
            "tags": null
          },
          "name": "stderr",
          "output_type": "stream",
          "text": [
            "[I 2024-10-25 17:53:22,394] Trial 132 finished with value: -0.46421103858155127 and parameters: {'n_estimators': 170, 'max_depth': 7, 'min_samples_split': 3, 'min_samples_leaf': 18, 'max_features': 'sqrt', 'criterion': 'squared_error'}. Best is trial 11 with value: -0.511803132817515.\n"
          ]
        },
        {
          "metadata": {
            "tags": null
          },
          "name": "stdout",
          "output_type": "stream",
          "text": [
            "Trial 132 - R2 score: 0.4642\n"
          ]
        },
        {
          "metadata": {
            "tags": null
          },
          "name": "stderr",
          "output_type": "stream",
          "text": [
            "[I 2024-10-25 17:53:30,554] Trial 126 finished with value: -0.48633104859887377 and parameters: {'n_estimators': 220, 'max_depth': 10, 'min_samples_split': 2, 'min_samples_leaf': 23, 'max_features': 'sqrt', 'criterion': 'squared_error'}. Best is trial 11 with value: -0.511803132817515.\n"
          ]
        },
        {
          "metadata": {
            "tags": null
          },
          "name": "stdout",
          "output_type": "stream",
          "text": [
            "Trial 126 - R2 score: 0.4863\n"
          ]
        },
        {
          "metadata": {
            "tags": null
          },
          "name": "stderr",
          "output_type": "stream",
          "text": [
            "[I 2024-10-25 17:53:31,799] Trial 122 finished with value: -0.48581889066306905 and parameters: {'n_estimators': 225, 'max_depth': 8, 'min_samples_split': 5, 'min_samples_leaf': 26, 'max_features': 'log2', 'criterion': 'squared_error'}. Best is trial 11 with value: -0.511803132817515.\n"
          ]
        },
        {
          "metadata": {
            "tags": null
          },
          "name": "stdout",
          "output_type": "stream",
          "text": [
            "Trial 122 - R2 score: 0.4858\n"
          ]
        },
        {
          "metadata": {
            "tags": null
          },
          "name": "stderr",
          "output_type": "stream",
          "text": [
            "[I 2024-10-25 17:53:44,282] Trial 159 finished with value: -0.43188850400068296 and parameters: {'n_estimators': 158, 'max_depth': 5, 'min_samples_split': 2, 'min_samples_leaf': 18, 'max_features': 'sqrt', 'criterion': 'squared_error'}. Best is trial 11 with value: -0.511803132817515.\n"
          ]
        },
        {
          "metadata": {
            "tags": null
          },
          "name": "stdout",
          "output_type": "stream",
          "text": [
            "Trial 159 - R2 score: 0.4319\n"
          ]
        },
        {
          "metadata": {
            "tags": null
          },
          "name": "stderr",
          "output_type": "stream",
          "text": [
            "[I 2024-10-25 17:53:46,997] Trial 146 finished with value: -0.46634120681845104 and parameters: {'n_estimators': 206, 'max_depth': 6, 'min_samples_split': 3, 'min_samples_leaf': 12, 'max_features': 'log2', 'criterion': 'squared_error'}. Best is trial 11 with value: -0.511803132817515.\n"
          ]
        },
        {
          "metadata": {
            "tags": null
          },
          "name": "stdout",
          "output_type": "stream",
          "text": [
            "Trial 146 - R2 score: 0.4663\n"
          ]
        },
        {
          "metadata": {
            "tags": null
          },
          "name": "stderr",
          "output_type": "stream",
          "text": [
            "[I 2024-10-25 17:53:53,564] Trial 147 finished with value: -0.4725967809806135 and parameters: {'n_estimators': 214, 'max_depth': 7, 'min_samples_split': 3, 'min_samples_leaf': 38, 'max_features': 'log2', 'criterion': 'squared_error'}. Best is trial 11 with value: -0.511803132817515.\n"
          ]
        },
        {
          "metadata": {
            "tags": null
          },
          "name": "stdout",
          "output_type": "stream",
          "text": [
            "Trial 147 - R2 score: 0.4726\n"
          ]
        },
        {
          "metadata": {
            "tags": null
          },
          "name": "stderr",
          "output_type": "stream",
          "text": [
            "[I 2024-10-25 17:53:55,192] Trial 155 finished with value: -0.40134505544681326 and parameters: {'n_estimators': 277, 'max_depth': 3, 'min_samples_split': 4, 'min_samples_leaf': 6, 'max_features': 'log2', 'criterion': 'squared_error'}. Best is trial 11 with value: -0.511803132817515.\n"
          ]
        },
        {
          "metadata": {
            "tags": null
          },
          "name": "stdout",
          "output_type": "stream",
          "text": [
            "Trial 155 - R2 score: 0.4013\n"
          ]
        },
        {
          "metadata": {
            "tags": null
          },
          "name": "stderr",
          "output_type": "stream",
          "text": [
            "[I 2024-10-25 17:53:59,342] Trial 131 finished with value: -0.4824574266140308 and parameters: {'n_estimators': 292, 'max_depth': 7, 'min_samples_split': 2, 'min_samples_leaf': 8, 'max_features': 'log2', 'criterion': 'squared_error'}. Best is trial 11 with value: -0.511803132817515.\n"
          ]
        },
        {
          "metadata": {
            "tags": null
          },
          "name": "stdout",
          "output_type": "stream",
          "text": [
            "Trial 131 - R2 score: 0.4825\n"
          ]
        },
        {
          "metadata": {
            "tags": null
          },
          "name": "stderr",
          "output_type": "stream",
          "text": [
            "[I 2024-10-25 17:54:00,709] Trial 166 finished with value: -0.48018058644279443 and parameters: {'n_estimators': 66, 'max_depth': 7, 'min_samples_split': 3, 'min_samples_leaf': 9, 'max_features': 'log2', 'criterion': 'squared_error'}. Best is trial 11 with value: -0.511803132817515.\n"
          ]
        },
        {
          "metadata": {
            "tags": null
          },
          "name": "stdout",
          "output_type": "stream",
          "text": [
            "Trial 166 - R2 score: 0.4802\n"
          ]
        },
        {
          "metadata": {
            "tags": null
          },
          "name": "stderr",
          "output_type": "stream",
          "text": [
            "[I 2024-10-25 17:54:01,971] Trial 142 finished with value: -0.47896630062007334 and parameters: {'n_estimators': 262, 'max_depth': 8, 'min_samples_split': 3, 'min_samples_leaf': 43, 'max_features': 'log2', 'criterion': 'squared_error'}. Best is trial 11 with value: -0.511803132817515.\n"
          ]
        },
        {
          "metadata": {
            "tags": null
          },
          "name": "stdout",
          "output_type": "stream",
          "text": [
            "Trial 142 - R2 score: 0.4790\n"
          ]
        },
        {
          "metadata": {
            "tags": null
          },
          "name": "stderr",
          "output_type": "stream",
          "text": [
            "[I 2024-10-25 17:54:02,780] Trial 164 finished with value: -0.48749134731978055 and parameters: {'n_estimators': 115, 'max_depth': 8, 'min_samples_split': 4, 'min_samples_leaf': 20, 'max_features': 'log2', 'criterion': 'squared_error'}. Best is trial 11 with value: -0.511803132817515.\n"
          ]
        },
        {
          "metadata": {
            "tags": null
          },
          "name": "stdout",
          "output_type": "stream",
          "text": [
            "Trial 164 - R2 score: 0.4875\n"
          ]
        },
        {
          "metadata": {
            "tags": null
          },
          "name": "stderr",
          "output_type": "stream",
          "text": [
            "[I 2024-10-25 17:54:04,564] Trial 135 finished with value: -0.48752634357023117 and parameters: {'n_estimators': 290, 'max_depth': 8, 'min_samples_split': 4, 'min_samples_leaf': 23, 'max_features': 'log2', 'criterion': 'squared_error'}. Best is trial 11 with value: -0.511803132817515.\n"
          ]
        },
        {
          "metadata": {
            "tags": null
          },
          "name": "stdout",
          "output_type": "stream",
          "text": [
            "Trial 135 - R2 score: 0.4875\n"
          ]
        },
        {
          "metadata": {
            "tags": null
          },
          "name": "stderr",
          "output_type": "stream",
          "text": [
            "[I 2024-10-25 17:54:04,826] Trial 163 finished with value: -0.40586818518886203 and parameters: {'n_estimators': 246, 'max_depth': 4, 'min_samples_split': 4, 'min_samples_leaf': 11, 'max_features': 'sqrt', 'criterion': 'squared_error'}. Best is trial 11 with value: -0.511803132817515.\n"
          ]
        },
        {
          "metadata": {
            "tags": null
          },
          "name": "stdout",
          "output_type": "stream",
          "text": [
            "Trial 163 - R2 score: 0.4059\n"
          ]
        },
        {
          "metadata": {
            "tags": null
          },
          "name": "stderr",
          "output_type": "stream",
          "text": [
            "[I 2024-10-25 17:54:09,409] Trial 150 finished with value: -0.4841450498487819 and parameters: {'n_estimators': 281, 'max_depth': 8, 'min_samples_split': 5, 'min_samples_leaf': 31, 'max_features': 'log2', 'criterion': 'squared_error'}. Best is trial 11 with value: -0.511803132817515.\n"
          ]
        },
        {
          "metadata": {
            "tags": null
          },
          "name": "stdout",
          "output_type": "stream",
          "text": [
            "Trial 150 - R2 score: 0.4841\n"
          ]
        },
        {
          "metadata": {
            "tags": null
          },
          "name": "stderr",
          "output_type": "stream",
          "text": [
            "[I 2024-10-25 17:54:09,805] Trial 161 finished with value: -0.47085281558261904 and parameters: {'n_estimators': 237, 'max_depth': 10, 'min_samples_split': 2, 'min_samples_leaf': 50, 'max_features': 'sqrt', 'criterion': 'squared_error'}. Best is trial 11 with value: -0.511803132817515.\n"
          ]
        },
        {
          "metadata": {
            "tags": null
          },
          "name": "stdout",
          "output_type": "stream",
          "text": [
            "Trial 161 - R2 score: 0.4709\n"
          ]
        },
        {
          "metadata": {
            "tags": null
          },
          "name": "stderr",
          "output_type": "stream",
          "text": [
            "[I 2024-10-25 17:54:15,972] Trial 169 finished with value: -0.42688856484747195 and parameters: {'n_estimators': 153, 'max_depth': 4, 'min_samples_split': 4, 'min_samples_leaf': 23, 'max_features': 'log2', 'criterion': 'squared_error'}. Best is trial 11 with value: -0.511803132817515.\n"
          ]
        },
        {
          "metadata": {
            "tags": null
          },
          "name": "stdout",
          "output_type": "stream",
          "text": [
            "Trial 169 - R2 score: 0.4269\n"
          ]
        },
        {
          "metadata": {
            "tags": null
          },
          "name": "stderr",
          "output_type": "stream",
          "text": [
            "[I 2024-10-25 17:54:16,668] Trial 176 finished with value: -0.45865498594221066 and parameters: {'n_estimators': 54, 'max_depth': 7, 'min_samples_split': 5, 'min_samples_leaf': 31, 'max_features': 'sqrt', 'criterion': 'squared_error'}. Best is trial 11 with value: -0.511803132817515.\n"
          ]
        },
        {
          "metadata": {
            "tags": null
          },
          "name": "stdout",
          "output_type": "stream",
          "text": [
            "Trial 176 - R2 score: 0.4587\n"
          ]
        },
        {
          "metadata": {
            "tags": null
          },
          "name": "stderr",
          "output_type": "stream",
          "text": [
            "[I 2024-10-25 17:54:27,185] Trial 170 finished with value: -0.4492032642202696 and parameters: {'n_estimators': 230, 'max_depth': 6, 'min_samples_split': 5, 'min_samples_leaf': 20, 'max_features': 'sqrt', 'criterion': 'squared_error'}. Best is trial 11 with value: -0.511803132817515.\n"
          ]
        },
        {
          "metadata": {
            "tags": null
          },
          "name": "stdout",
          "output_type": "stream",
          "text": [
            "Trial 170 - R2 score: 0.4492\n"
          ]
        }
      ]
    },
    {
      "cell_type": "markdown",
      "source": [
        "# XGBoost"
      ],
      "metadata": {
        "id": "VAbrwdxJ70Rp"
      }
    },
    {
      "cell_type": "code",
      "source": [
        "!pip install xgboost"
      ],
      "metadata": {
        "colab": {
          "base_uri": "https://localhost:8080/"
        },
        "id": "mhLuNdox7wyY",
        "outputId": "6c4c3584-0ef5-42fa-a807-72b8435c1ed7"
      },
      "execution_count": null,
      "outputs": [
        {
          "output_type": "stream",
          "name": "stdout",
          "text": [
            "Requirement already satisfied: xgboost in /usr/local/lib/python3.10/dist-packages (2.1.2)\n",
            "Requirement already satisfied: numpy in /usr/local/lib/python3.10/dist-packages (from xgboost) (1.26.4)\n",
            "Requirement already satisfied: nvidia-nccl-cu12 in /usr/local/lib/python3.10/dist-packages (from xgboost) (2.23.4)\n",
            "Requirement already satisfied: scipy in /usr/local/lib/python3.10/dist-packages (from xgboost) (1.13.1)\n"
          ]
        }
      ]
    },
    {
      "cell_type": "code",
      "source": [
        "import pandas as pd\n",
        "from sklearn.model_selection import train_test_split\n",
        "from xgboost import XGBRegressor\n",
        "from sklearn.metrics import mean_squared_error, r2_score\n",
        "\n",
        "\n",
        "# Initialize and train the XGBoost model\n",
        "model_xgb = XGBRegressor(random_state=21, objective='reg:squarederror', n_estimators=100, learning_rate=0.1, max_depth=6)\n",
        "model_xgb.fit(X_train, y_train)\n",
        "\n",
        "# Make predictions\n",
        "y_pred = model_xgb.predict(X_test)\n",
        "\n",
        "# Evaluate the model\n",
        "mse = mean_squared_error(y_test, y_pred)\n",
        "r2 = r2_score(y_test, y_pred)\n",
        "\n",
        "print(\"Mean Squared Error:\", mse)\n",
        "print(\"R² Score:\", r2)\n"
      ],
      "metadata": {
        "colab": {
          "base_uri": "https://localhost:8080/"
        },
        "id": "6hXxbUut8CPX",
        "outputId": "071e565f-7b1f-4175-ddd0-e8152dd5b354"
      },
      "execution_count": null,
      "outputs": [
        {
          "output_type": "stream",
          "name": "stdout",
          "text": [
            "Mean Squared Error: 133.2721357223303\n",
            "R² Score: 0.6182182961237757\n"
          ]
        }
      ]
    },
    {
      "cell_type": "code",
      "source": [
        "import pandas as pd\n",
        "from sklearn.model_selection import train_test_split\n",
        "from sklearn.linear_model import LinearRegression\n",
        "from sklearn.neural_network import MLPRegressor\n",
        "from sklearn.metrics import mean_squared_error, r2_score\n",
        "from xgboost import XGBRegressor\n",
        "import numpy as np\n",
        "\n",
        "# Define a function to calculate and display RMSE and R²\n",
        "def evaluate_model(y_test, y_pred, model_name):\n",
        "    mse = mean_squared_error(y_test, y_pred)\n",
        "    rmse = np.sqrt(mse)\n",
        "    r2 = r2_score(y_test, y_pred)\n",
        "    print(f\"\\n{model_name} Performance:\")\n",
        "    print(\"Mean Squared Error:\", mse)\n",
        "    print(\"Root Mean Squared Error:\", rmse)\n",
        "    print(\"R² Score:\", r2)\n",
        "\n",
        "# 1. Multivariate Linear Regression\n",
        "model_lr = LinearRegression()\n",
        "model_lr.fit(X_train, y_train)\n",
        "y_pred_lr = model_lr.predict(X_test)\n",
        "evaluate_model(y_test, y_pred_lr, \"Multivariate Linear Regression\")\n",
        "\n",
        "# 2. Artificial Neural Network (ANN) - MLPRegressor\n",
        "model_ann = MLPRegressor(hidden_layer_sizes=(64, 32), activation='relu', solver='adam', max_iter=1000, random_state=21)\n",
        "model_ann.fit(X_train, y_train)\n",
        "y_pred_ann = model_ann.predict(X_test)\n",
        "evaluate_model(y_test, y_pred_ann, \"Artificial Neural Network\")\n",
        "\n",
        "# 3. Extreme Gradient Boosting (XGBoost)\n",
        "model_xgb = XGBRegressor(random_state=21, objective='reg:squarederror', n_estimators=100, learning_rate=0.1, max_depth=6)\n",
        "model_xgb.fit(X_train, y_train)\n",
        "y_pred_xgb = model_xgb.predict(X_test)\n",
        "evaluate_model(y_test, y_pred_xgb, \"Extreme Gradient Boosting\")\n",
        "\n",
        "# (Optional) Additional tuning parameters and architectures can be added for ANN and XGBoost as needed\n"
      ],
      "metadata": {
        "colab": {
          "base_uri": "https://localhost:8080/"
        },
        "id": "gfa0iDdwLy6D",
        "outputId": "2d3b4cac-76bf-4f17-90b9-a36b99624954"
      },
      "execution_count": null,
      "outputs": [
        {
          "output_type": "stream",
          "name": "stdout",
          "text": [
            "\n",
            "Multivariate Linear Regression Performance:\n",
            "Mean Squared Error: 168.7718207678041\n",
            "Root Mean Squared Error: 12.991220911361799\n",
            "R² Score: 0.492630408786064\n",
            "\n",
            "Artificial Neural Network Performance:\n",
            "Mean Squared Error: 330.2427647460292\n",
            "Root Mean Squared Error: 18.172582775875014\n",
            "R² Score: 0.00720904835722036\n",
            "\n",
            "Extreme Gradient Boosting Performance:\n",
            "Mean Squared Error: 113.90853811337166\n",
            "Root Mean Squared Error: 10.6727942973418\n",
            "R² Score: 0.6575629263497079\n"
          ]
        }
      ]
    }
  ],
  "metadata": {
    "colab": {
      "provenance": [],
      "include_colab_link": true
    },
    "kernelspec": {
      "display_name": "Python 3",
      "name": "python3"
    },
    "language_info": {
      "name": "python"
    }
  },
  "nbformat": 4,
  "nbformat_minor": 0
}