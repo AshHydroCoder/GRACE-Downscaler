{
  "cells": [
    {
      "cell_type": "markdown",
      "metadata": {
        "id": "view-in-github",
        "colab_type": "text"
      },
      "source": [
        "<a href=\"https://colab.research.google.com/github/AshHydroCoder/GRACE-Downscaler/blob/Branch1/GRACE_RFM.ipynb\" target=\"_parent\"><img src=\"https://colab.research.google.com/assets/colab-badge.svg\" alt=\"Open In Colab\"/></a>"
      ]
    },
    {
      "cell_type": "code",
      "execution_count": 1,
      "metadata": {
        "id": "d5k22gT2cAHz"
      },
      "outputs": [],
      "source": [
        "import pandas as pd\n",
        "import numpy as np\n",
        "import matplotlib.pyplot as plt\n",
        "from sklearn.preprocessing import MinMaxScaler"
      ]
    },
    {
      "cell_type": "code",
      "execution_count": 3,
      "metadata": {
        "colab": {
          "base_uri": "https://localhost:8080/"
        },
        "id": "krX6zAOo1g66",
        "outputId": "da99d97e-b8d2-493b-e28c-0cbd003afe93"
      },
      "outputs": [
        {
          "output_type": "stream",
          "name": "stdout",
          "text": [
            "Mounted at /content/drive\n"
          ]
        }
      ],
      "source": [
        "from google.colab import drive\n",
        "drive.mount('/content/drive')"
      ]
    },
    {
      "cell_type": "markdown",
      "metadata": {
        "id": "MwX_DFgd153s"
      },
      "source": [
        "# Random Forest Model"
      ]
    },
    {
      "cell_type": "code",
      "execution_count": 4,
      "metadata": {
        "colab": {
          "base_uri": "https://localhost:8080/",
          "height": 424
        },
        "id": "0NCTVMzl1pCu",
        "outputId": "a8352c84-f9b0-4822-f933-48bb7e63e29d"
      },
      "outputs": [
        {
          "output_type": "execute_result",
          "data": {
            "text/plain": [
              "                       time       y       x  lwe_thickness  Evap_tavg  \\\n",
              "7       2003-01-16 12:00:00  26.375  77.625      -2.469173   0.030785   \n",
              "13      2003-01-16 12:00:00  27.875  77.625       2.392963   0.127288   \n",
              "25      2003-01-16 12:00:00  26.375  77.875      -2.469173   0.061684   \n",
              "29      2003-01-16 12:00:00  27.375  77.875       2.392963   0.096437   \n",
              "30      2003-01-16 12:00:00  27.625  77.875      17.199837   0.102037   \n",
              "...                     ...     ...     ...            ...        ...   \n",
              "174987  2023-12-16 12:00:00  26.875  87.875     -51.866310   0.183182   \n",
              "175003  2023-12-16 12:00:00  26.375  88.125     -45.142426   0.164548   \n",
              "175004  2023-12-16 12:00:00  26.625  88.125     -51.866310   0.245901   \n",
              "175005  2023-12-16 12:00:00  26.875  88.125     -51.866310   0.156002   \n",
              "175023  2023-12-16 12:00:00  26.875  88.375     -51.866310   0.234692   \n",
              "\n",
              "         Qs_tavg  RadT_tavg  SWE_inst  SoilMoi00_10cm_tavg  elevation  \\\n",
              "7       0.000072   0.209397       0.0             0.051745   0.959157   \n",
              "13      0.000257   0.136756       0.0             0.089072   0.959099   \n",
              "25      0.000480   0.196240       0.0             0.065856   0.958982   \n",
              "29      0.000013   0.141938       0.0             0.056607   0.959011   \n",
              "30      0.000008   0.139340       0.0             0.063129   0.959128   \n",
              "...          ...        ...       ...                  ...        ...   \n",
              "174987  0.000160   0.198476       0.0             0.644351   0.974993   \n",
              "175003  0.000079   0.352014       0.0             0.510047   0.955896   \n",
              "175004  0.000060   0.332715       0.0             0.551977   0.957148   \n",
              "175005  0.000025   0.138936       0.0             0.630519   0.997293   \n",
              "175023  0.000031   0.232339       0.0             0.484926   0.973683   \n",
              "\n",
              "        precipitation  \n",
              "7            0.013928  \n",
              "13           0.032510  \n",
              "25           0.016708  \n",
              "29           0.031967  \n",
              "30           0.035484  \n",
              "...               ...  \n",
              "174987       0.008547  \n",
              "175003       0.005554  \n",
              "175004       0.005554  \n",
              "175005       0.007629  \n",
              "175023       0.006184  \n",
              "\n",
              "[100113 rows x 11 columns]"
            ],
            "text/html": [
              "\n",
              "  <div id=\"df-dd2163a9-2d91-4849-adf6-630b59912f4f\" class=\"colab-df-container\">\n",
              "    <div>\n",
              "<style scoped>\n",
              "    .dataframe tbody tr th:only-of-type {\n",
              "        vertical-align: middle;\n",
              "    }\n",
              "\n",
              "    .dataframe tbody tr th {\n",
              "        vertical-align: top;\n",
              "    }\n",
              "\n",
              "    .dataframe thead th {\n",
              "        text-align: right;\n",
              "    }\n",
              "</style>\n",
              "<table border=\"1\" class=\"dataframe\">\n",
              "  <thead>\n",
              "    <tr style=\"text-align: right;\">\n",
              "      <th></th>\n",
              "      <th>time</th>\n",
              "      <th>y</th>\n",
              "      <th>x</th>\n",
              "      <th>lwe_thickness</th>\n",
              "      <th>Evap_tavg</th>\n",
              "      <th>Qs_tavg</th>\n",
              "      <th>RadT_tavg</th>\n",
              "      <th>SWE_inst</th>\n",
              "      <th>SoilMoi00_10cm_tavg</th>\n",
              "      <th>elevation</th>\n",
              "      <th>precipitation</th>\n",
              "    </tr>\n",
              "  </thead>\n",
              "  <tbody>\n",
              "    <tr>\n",
              "      <th>7</th>\n",
              "      <td>2003-01-16 12:00:00</td>\n",
              "      <td>26.375</td>\n",
              "      <td>77.625</td>\n",
              "      <td>-2.469173</td>\n",
              "      <td>0.030785</td>\n",
              "      <td>0.000072</td>\n",
              "      <td>0.209397</td>\n",
              "      <td>0.0</td>\n",
              "      <td>0.051745</td>\n",
              "      <td>0.959157</td>\n",
              "      <td>0.013928</td>\n",
              "    </tr>\n",
              "    <tr>\n",
              "      <th>13</th>\n",
              "      <td>2003-01-16 12:00:00</td>\n",
              "      <td>27.875</td>\n",
              "      <td>77.625</td>\n",
              "      <td>2.392963</td>\n",
              "      <td>0.127288</td>\n",
              "      <td>0.000257</td>\n",
              "      <td>0.136756</td>\n",
              "      <td>0.0</td>\n",
              "      <td>0.089072</td>\n",
              "      <td>0.959099</td>\n",
              "      <td>0.032510</td>\n",
              "    </tr>\n",
              "    <tr>\n",
              "      <th>25</th>\n",
              "      <td>2003-01-16 12:00:00</td>\n",
              "      <td>26.375</td>\n",
              "      <td>77.875</td>\n",
              "      <td>-2.469173</td>\n",
              "      <td>0.061684</td>\n",
              "      <td>0.000480</td>\n",
              "      <td>0.196240</td>\n",
              "      <td>0.0</td>\n",
              "      <td>0.065856</td>\n",
              "      <td>0.958982</td>\n",
              "      <td>0.016708</td>\n",
              "    </tr>\n",
              "    <tr>\n",
              "      <th>29</th>\n",
              "      <td>2003-01-16 12:00:00</td>\n",
              "      <td>27.375</td>\n",
              "      <td>77.875</td>\n",
              "      <td>2.392963</td>\n",
              "      <td>0.096437</td>\n",
              "      <td>0.000013</td>\n",
              "      <td>0.141938</td>\n",
              "      <td>0.0</td>\n",
              "      <td>0.056607</td>\n",
              "      <td>0.959011</td>\n",
              "      <td>0.031967</td>\n",
              "    </tr>\n",
              "    <tr>\n",
              "      <th>30</th>\n",
              "      <td>2003-01-16 12:00:00</td>\n",
              "      <td>27.625</td>\n",
              "      <td>77.875</td>\n",
              "      <td>17.199837</td>\n",
              "      <td>0.102037</td>\n",
              "      <td>0.000008</td>\n",
              "      <td>0.139340</td>\n",
              "      <td>0.0</td>\n",
              "      <td>0.063129</td>\n",
              "      <td>0.959128</td>\n",
              "      <td>0.035484</td>\n",
              "    </tr>\n",
              "    <tr>\n",
              "      <th>...</th>\n",
              "      <td>...</td>\n",
              "      <td>...</td>\n",
              "      <td>...</td>\n",
              "      <td>...</td>\n",
              "      <td>...</td>\n",
              "      <td>...</td>\n",
              "      <td>...</td>\n",
              "      <td>...</td>\n",
              "      <td>...</td>\n",
              "      <td>...</td>\n",
              "      <td>...</td>\n",
              "    </tr>\n",
              "    <tr>\n",
              "      <th>174987</th>\n",
              "      <td>2023-12-16 12:00:00</td>\n",
              "      <td>26.875</td>\n",
              "      <td>87.875</td>\n",
              "      <td>-51.866310</td>\n",
              "      <td>0.183182</td>\n",
              "      <td>0.000160</td>\n",
              "      <td>0.198476</td>\n",
              "      <td>0.0</td>\n",
              "      <td>0.644351</td>\n",
              "      <td>0.974993</td>\n",
              "      <td>0.008547</td>\n",
              "    </tr>\n",
              "    <tr>\n",
              "      <th>175003</th>\n",
              "      <td>2023-12-16 12:00:00</td>\n",
              "      <td>26.375</td>\n",
              "      <td>88.125</td>\n",
              "      <td>-45.142426</td>\n",
              "      <td>0.164548</td>\n",
              "      <td>0.000079</td>\n",
              "      <td>0.352014</td>\n",
              "      <td>0.0</td>\n",
              "      <td>0.510047</td>\n",
              "      <td>0.955896</td>\n",
              "      <td>0.005554</td>\n",
              "    </tr>\n",
              "    <tr>\n",
              "      <th>175004</th>\n",
              "      <td>2023-12-16 12:00:00</td>\n",
              "      <td>26.625</td>\n",
              "      <td>88.125</td>\n",
              "      <td>-51.866310</td>\n",
              "      <td>0.245901</td>\n",
              "      <td>0.000060</td>\n",
              "      <td>0.332715</td>\n",
              "      <td>0.0</td>\n",
              "      <td>0.551977</td>\n",
              "      <td>0.957148</td>\n",
              "      <td>0.005554</td>\n",
              "    </tr>\n",
              "    <tr>\n",
              "      <th>175005</th>\n",
              "      <td>2023-12-16 12:00:00</td>\n",
              "      <td>26.875</td>\n",
              "      <td>88.125</td>\n",
              "      <td>-51.866310</td>\n",
              "      <td>0.156002</td>\n",
              "      <td>0.000025</td>\n",
              "      <td>0.138936</td>\n",
              "      <td>0.0</td>\n",
              "      <td>0.630519</td>\n",
              "      <td>0.997293</td>\n",
              "      <td>0.007629</td>\n",
              "    </tr>\n",
              "    <tr>\n",
              "      <th>175023</th>\n",
              "      <td>2023-12-16 12:00:00</td>\n",
              "      <td>26.875</td>\n",
              "      <td>88.375</td>\n",
              "      <td>-51.866310</td>\n",
              "      <td>0.234692</td>\n",
              "      <td>0.000031</td>\n",
              "      <td>0.232339</td>\n",
              "      <td>0.0</td>\n",
              "      <td>0.484926</td>\n",
              "      <td>0.973683</td>\n",
              "      <td>0.006184</td>\n",
              "    </tr>\n",
              "  </tbody>\n",
              "</table>\n",
              "<p>100113 rows × 11 columns</p>\n",
              "</div>\n",
              "    <div class=\"colab-df-buttons\">\n",
              "\n",
              "  <div class=\"colab-df-container\">\n",
              "    <button class=\"colab-df-convert\" onclick=\"convertToInteractive('df-dd2163a9-2d91-4849-adf6-630b59912f4f')\"\n",
              "            title=\"Convert this dataframe to an interactive table.\"\n",
              "            style=\"display:none;\">\n",
              "\n",
              "  <svg xmlns=\"http://www.w3.org/2000/svg\" height=\"24px\" viewBox=\"0 -960 960 960\">\n",
              "    <path d=\"M120-120v-720h720v720H120Zm60-500h600v-160H180v160Zm220 220h160v-160H400v160Zm0 220h160v-160H400v160ZM180-400h160v-160H180v160Zm440 0h160v-160H620v160ZM180-180h160v-160H180v160Zm440 0h160v-160H620v160Z\"/>\n",
              "  </svg>\n",
              "    </button>\n",
              "\n",
              "  <style>\n",
              "    .colab-df-container {\n",
              "      display:flex;\n",
              "      gap: 12px;\n",
              "    }\n",
              "\n",
              "    .colab-df-convert {\n",
              "      background-color: #E8F0FE;\n",
              "      border: none;\n",
              "      border-radius: 50%;\n",
              "      cursor: pointer;\n",
              "      display: none;\n",
              "      fill: #1967D2;\n",
              "      height: 32px;\n",
              "      padding: 0 0 0 0;\n",
              "      width: 32px;\n",
              "    }\n",
              "\n",
              "    .colab-df-convert:hover {\n",
              "      background-color: #E2EBFA;\n",
              "      box-shadow: 0px 1px 2px rgba(60, 64, 67, 0.3), 0px 1px 3px 1px rgba(60, 64, 67, 0.15);\n",
              "      fill: #174EA6;\n",
              "    }\n",
              "\n",
              "    .colab-df-buttons div {\n",
              "      margin-bottom: 4px;\n",
              "    }\n",
              "\n",
              "    [theme=dark] .colab-df-convert {\n",
              "      background-color: #3B4455;\n",
              "      fill: #D2E3FC;\n",
              "    }\n",
              "\n",
              "    [theme=dark] .colab-df-convert:hover {\n",
              "      background-color: #434B5C;\n",
              "      box-shadow: 0px 1px 3px 1px rgba(0, 0, 0, 0.15);\n",
              "      filter: drop-shadow(0px 1px 2px rgba(0, 0, 0, 0.3));\n",
              "      fill: #FFFFFF;\n",
              "    }\n",
              "  </style>\n",
              "\n",
              "    <script>\n",
              "      const buttonEl =\n",
              "        document.querySelector('#df-dd2163a9-2d91-4849-adf6-630b59912f4f button.colab-df-convert');\n",
              "      buttonEl.style.display =\n",
              "        google.colab.kernel.accessAllowed ? 'block' : 'none';\n",
              "\n",
              "      async function convertToInteractive(key) {\n",
              "        const element = document.querySelector('#df-dd2163a9-2d91-4849-adf6-630b59912f4f');\n",
              "        const dataTable =\n",
              "          await google.colab.kernel.invokeFunction('convertToInteractive',\n",
              "                                                    [key], {});\n",
              "        if (!dataTable) return;\n",
              "\n",
              "        const docLinkHtml = 'Like what you see? Visit the ' +\n",
              "          '<a target=\"_blank\" href=https://colab.research.google.com/notebooks/data_table.ipynb>data table notebook</a>'\n",
              "          + ' to learn more about interactive tables.';\n",
              "        element.innerHTML = '';\n",
              "        dataTable['output_type'] = 'display_data';\n",
              "        await google.colab.output.renderOutput(dataTable, element);\n",
              "        const docLink = document.createElement('div');\n",
              "        docLink.innerHTML = docLinkHtml;\n",
              "        element.appendChild(docLink);\n",
              "      }\n",
              "    </script>\n",
              "  </div>\n",
              "\n",
              "\n",
              "<div id=\"df-fa67bc14-990c-4123-8162-ea60e8dcdab5\">\n",
              "  <button class=\"colab-df-quickchart\" onclick=\"quickchart('df-fa67bc14-990c-4123-8162-ea60e8dcdab5')\"\n",
              "            title=\"Suggest charts\"\n",
              "            style=\"display:none;\">\n",
              "\n",
              "<svg xmlns=\"http://www.w3.org/2000/svg\" height=\"24px\"viewBox=\"0 0 24 24\"\n",
              "     width=\"24px\">\n",
              "    <g>\n",
              "        <path d=\"M19 3H5c-1.1 0-2 .9-2 2v14c0 1.1.9 2 2 2h14c1.1 0 2-.9 2-2V5c0-1.1-.9-2-2-2zM9 17H7v-7h2v7zm4 0h-2V7h2v10zm4 0h-2v-4h2v4z\"/>\n",
              "    </g>\n",
              "</svg>\n",
              "  </button>\n",
              "\n",
              "<style>\n",
              "  .colab-df-quickchart {\n",
              "      --bg-color: #E8F0FE;\n",
              "      --fill-color: #1967D2;\n",
              "      --hover-bg-color: #E2EBFA;\n",
              "      --hover-fill-color: #174EA6;\n",
              "      --disabled-fill-color: #AAA;\n",
              "      --disabled-bg-color: #DDD;\n",
              "  }\n",
              "\n",
              "  [theme=dark] .colab-df-quickchart {\n",
              "      --bg-color: #3B4455;\n",
              "      --fill-color: #D2E3FC;\n",
              "      --hover-bg-color: #434B5C;\n",
              "      --hover-fill-color: #FFFFFF;\n",
              "      --disabled-bg-color: #3B4455;\n",
              "      --disabled-fill-color: #666;\n",
              "  }\n",
              "\n",
              "  .colab-df-quickchart {\n",
              "    background-color: var(--bg-color);\n",
              "    border: none;\n",
              "    border-radius: 50%;\n",
              "    cursor: pointer;\n",
              "    display: none;\n",
              "    fill: var(--fill-color);\n",
              "    height: 32px;\n",
              "    padding: 0;\n",
              "    width: 32px;\n",
              "  }\n",
              "\n",
              "  .colab-df-quickchart:hover {\n",
              "    background-color: var(--hover-bg-color);\n",
              "    box-shadow: 0 1px 2px rgba(60, 64, 67, 0.3), 0 1px 3px 1px rgba(60, 64, 67, 0.15);\n",
              "    fill: var(--button-hover-fill-color);\n",
              "  }\n",
              "\n",
              "  .colab-df-quickchart-complete:disabled,\n",
              "  .colab-df-quickchart-complete:disabled:hover {\n",
              "    background-color: var(--disabled-bg-color);\n",
              "    fill: var(--disabled-fill-color);\n",
              "    box-shadow: none;\n",
              "  }\n",
              "\n",
              "  .colab-df-spinner {\n",
              "    border: 2px solid var(--fill-color);\n",
              "    border-color: transparent;\n",
              "    border-bottom-color: var(--fill-color);\n",
              "    animation:\n",
              "      spin 1s steps(1) infinite;\n",
              "  }\n",
              "\n",
              "  @keyframes spin {\n",
              "    0% {\n",
              "      border-color: transparent;\n",
              "      border-bottom-color: var(--fill-color);\n",
              "      border-left-color: var(--fill-color);\n",
              "    }\n",
              "    20% {\n",
              "      border-color: transparent;\n",
              "      border-left-color: var(--fill-color);\n",
              "      border-top-color: var(--fill-color);\n",
              "    }\n",
              "    30% {\n",
              "      border-color: transparent;\n",
              "      border-left-color: var(--fill-color);\n",
              "      border-top-color: var(--fill-color);\n",
              "      border-right-color: var(--fill-color);\n",
              "    }\n",
              "    40% {\n",
              "      border-color: transparent;\n",
              "      border-right-color: var(--fill-color);\n",
              "      border-top-color: var(--fill-color);\n",
              "    }\n",
              "    60% {\n",
              "      border-color: transparent;\n",
              "      border-right-color: var(--fill-color);\n",
              "    }\n",
              "    80% {\n",
              "      border-color: transparent;\n",
              "      border-right-color: var(--fill-color);\n",
              "      border-bottom-color: var(--fill-color);\n",
              "    }\n",
              "    90% {\n",
              "      border-color: transparent;\n",
              "      border-bottom-color: var(--fill-color);\n",
              "    }\n",
              "  }\n",
              "</style>\n",
              "\n",
              "  <script>\n",
              "    async function quickchart(key) {\n",
              "      const quickchartButtonEl =\n",
              "        document.querySelector('#' + key + ' button');\n",
              "      quickchartButtonEl.disabled = true;  // To prevent multiple clicks.\n",
              "      quickchartButtonEl.classList.add('colab-df-spinner');\n",
              "      try {\n",
              "        const charts = await google.colab.kernel.invokeFunction(\n",
              "            'suggestCharts', [key], {});\n",
              "      } catch (error) {\n",
              "        console.error('Error during call to suggestCharts:', error);\n",
              "      }\n",
              "      quickchartButtonEl.classList.remove('colab-df-spinner');\n",
              "      quickchartButtonEl.classList.add('colab-df-quickchart-complete');\n",
              "    }\n",
              "    (() => {\n",
              "      let quickchartButtonEl =\n",
              "        document.querySelector('#df-fa67bc14-990c-4123-8162-ea60e8dcdab5 button');\n",
              "      quickchartButtonEl.style.display =\n",
              "        google.colab.kernel.accessAllowed ? 'block' : 'none';\n",
              "    })();\n",
              "  </script>\n",
              "</div>\n",
              "\n",
              "  <div id=\"id_bfc83a68-8405-4d84-bd0c-48b78111f144\">\n",
              "    <style>\n",
              "      .colab-df-generate {\n",
              "        background-color: #E8F0FE;\n",
              "        border: none;\n",
              "        border-radius: 50%;\n",
              "        cursor: pointer;\n",
              "        display: none;\n",
              "        fill: #1967D2;\n",
              "        height: 32px;\n",
              "        padding: 0 0 0 0;\n",
              "        width: 32px;\n",
              "      }\n",
              "\n",
              "      .colab-df-generate:hover {\n",
              "        background-color: #E2EBFA;\n",
              "        box-shadow: 0px 1px 2px rgba(60, 64, 67, 0.3), 0px 1px 3px 1px rgba(60, 64, 67, 0.15);\n",
              "        fill: #174EA6;\n",
              "      }\n",
              "\n",
              "      [theme=dark] .colab-df-generate {\n",
              "        background-color: #3B4455;\n",
              "        fill: #D2E3FC;\n",
              "      }\n",
              "\n",
              "      [theme=dark] .colab-df-generate:hover {\n",
              "        background-color: #434B5C;\n",
              "        box-shadow: 0px 1px 3px 1px rgba(0, 0, 0, 0.15);\n",
              "        filter: drop-shadow(0px 1px 2px rgba(0, 0, 0, 0.3));\n",
              "        fill: #FFFFFF;\n",
              "      }\n",
              "    </style>\n",
              "    <button class=\"colab-df-generate\" onclick=\"generateWithVariable('df')\"\n",
              "            title=\"Generate code using this dataframe.\"\n",
              "            style=\"display:none;\">\n",
              "\n",
              "  <svg xmlns=\"http://www.w3.org/2000/svg\" height=\"24px\"viewBox=\"0 0 24 24\"\n",
              "       width=\"24px\">\n",
              "    <path d=\"M7,19H8.4L18.45,9,17,7.55,7,17.6ZM5,21V16.75L18.45,3.32a2,2,0,0,1,2.83,0l1.4,1.43a1.91,1.91,0,0,1,.58,1.4,1.91,1.91,0,0,1-.58,1.4L9.25,21ZM18.45,9,17,7.55Zm-12,3A5.31,5.31,0,0,0,4.9,8.1,5.31,5.31,0,0,0,1,6.5,5.31,5.31,0,0,0,4.9,4.9,5.31,5.31,0,0,0,6.5,1,5.31,5.31,0,0,0,8.1,4.9,5.31,5.31,0,0,0,12,6.5,5.46,5.46,0,0,0,6.5,12Z\"/>\n",
              "  </svg>\n",
              "    </button>\n",
              "    <script>\n",
              "      (() => {\n",
              "      const buttonEl =\n",
              "        document.querySelector('#id_bfc83a68-8405-4d84-bd0c-48b78111f144 button.colab-df-generate');\n",
              "      buttonEl.style.display =\n",
              "        google.colab.kernel.accessAllowed ? 'block' : 'none';\n",
              "\n",
              "      buttonEl.onclick = () => {\n",
              "        google.colab.notebook.generateWithVariable('df');\n",
              "      }\n",
              "      })();\n",
              "    </script>\n",
              "  </div>\n",
              "\n",
              "    </div>\n",
              "  </div>\n"
            ],
            "application/vnd.google.colaboratory.intrinsic+json": {
              "type": "dataframe",
              "variable_name": "df"
            }
          },
          "metadata": {},
          "execution_count": 4
        }
      ],
      "source": [
        "import pandas as pd\n",
        "import os\n",
        "from sklearn.preprocessing import MinMaxScaler\n",
        "\n",
        "path = '/content/drive/MyDrive/Thesis/RFM/Training'\n",
        "\n",
        "\n",
        "# Load the CSV file, keeping 'time' as a regular column\n",
        "df_ori = pd.read_csv(os.path.join(path, 'combined_csv.csv'))\n",
        "#df_ori = pd.read_csv(f'/content/drive/MyDrive/Thesis/Terai/{cluster}/combined_csv.csv')\n",
        "\n",
        "# Exclude 'time', 'lat', and 'lon' from normalization\n",
        "columns_to_exclude = ['time', 'y', 'x','lwe_thickness']\n",
        "columns_to_normalize = df_ori.columns.difference(columns_to_exclude)\n",
        "\n",
        "# Normalize only the selected columns\n",
        "scaler = MinMaxScaler()\n",
        "df_normalized = scaler.fit_transform(df_ori[columns_to_normalize])\n",
        "\n",
        "# Create a new DataFrame with normalized data and reattach the excluded columns\n",
        "df_normalized = pd.DataFrame(df_normalized, columns=columns_to_normalize)\n",
        "# Create a new DataFrame with normalized data and reattach the excluded columns\n",
        "df_normalized = pd.DataFrame(df_normalized, columns=columns_to_normalize)\n",
        "df = pd.concat([df_ori[columns_to_exclude], df_normalized], axis=1)\n",
        "df = df.dropna()\n",
        "df"
      ]
    },
    {
      "cell_type": "code",
      "execution_count": 5,
      "metadata": {
        "id": "BGiXz8ZWgi6d"
      },
      "outputs": [],
      "source": [
        "from sklearn.model_selection import train_test_split\n",
        "from sklearn.ensemble import RandomForestRegressor\n",
        "from sklearn.metrics import mean_squared_error, r2_score\n",
        "X =df.drop(['lwe_thickness','x','y','time'], axis=1)\n",
        "y = df['lwe_thickness']\n"
      ]
    },
    {
      "cell_type": "code",
      "execution_count": 6,
      "metadata": {
        "colab": {
          "base_uri": "https://localhost:8080/",
          "height": 424
        },
        "id": "IQnAsAOEBfa-",
        "outputId": "8cbb104e-d3a2-4c74-fa89-3ac674550d56"
      },
      "outputs": [
        {
          "output_type": "execute_result",
          "data": {
            "text/plain": [
              "        Evap_tavg   Qs_tavg  RadT_tavg  SWE_inst  SoilMoi00_10cm_tavg  \\\n",
              "7        0.030785  0.000072   0.209397       0.0             0.051745   \n",
              "13       0.127288  0.000257   0.136756       0.0             0.089072   \n",
              "25       0.061684  0.000480   0.196240       0.0             0.065856   \n",
              "29       0.096437  0.000013   0.141938       0.0             0.056607   \n",
              "30       0.102037  0.000008   0.139340       0.0             0.063129   \n",
              "...           ...       ...        ...       ...                  ...   \n",
              "174987   0.183182  0.000160   0.198476       0.0             0.644351   \n",
              "175003   0.164548  0.000079   0.352014       0.0             0.510047   \n",
              "175004   0.245901  0.000060   0.332715       0.0             0.551977   \n",
              "175005   0.156002  0.000025   0.138936       0.0             0.630519   \n",
              "175023   0.234692  0.000031   0.232339       0.0             0.484926   \n",
              "\n",
              "        elevation  precipitation  \n",
              "7        0.959157       0.013928  \n",
              "13       0.959099       0.032510  \n",
              "25       0.958982       0.016708  \n",
              "29       0.959011       0.031967  \n",
              "30       0.959128       0.035484  \n",
              "...           ...            ...  \n",
              "174987   0.974993       0.008547  \n",
              "175003   0.955896       0.005554  \n",
              "175004   0.957148       0.005554  \n",
              "175005   0.997293       0.007629  \n",
              "175023   0.973683       0.006184  \n",
              "\n",
              "[100113 rows x 7 columns]"
            ],
            "text/html": [
              "\n",
              "  <div id=\"df-52f25d8f-3403-4632-a22f-dc42ec554a1a\" class=\"colab-df-container\">\n",
              "    <div>\n",
              "<style scoped>\n",
              "    .dataframe tbody tr th:only-of-type {\n",
              "        vertical-align: middle;\n",
              "    }\n",
              "\n",
              "    .dataframe tbody tr th {\n",
              "        vertical-align: top;\n",
              "    }\n",
              "\n",
              "    .dataframe thead th {\n",
              "        text-align: right;\n",
              "    }\n",
              "</style>\n",
              "<table border=\"1\" class=\"dataframe\">\n",
              "  <thead>\n",
              "    <tr style=\"text-align: right;\">\n",
              "      <th></th>\n",
              "      <th>Evap_tavg</th>\n",
              "      <th>Qs_tavg</th>\n",
              "      <th>RadT_tavg</th>\n",
              "      <th>SWE_inst</th>\n",
              "      <th>SoilMoi00_10cm_tavg</th>\n",
              "      <th>elevation</th>\n",
              "      <th>precipitation</th>\n",
              "    </tr>\n",
              "  </thead>\n",
              "  <tbody>\n",
              "    <tr>\n",
              "      <th>7</th>\n",
              "      <td>0.030785</td>\n",
              "      <td>0.000072</td>\n",
              "      <td>0.209397</td>\n",
              "      <td>0.0</td>\n",
              "      <td>0.051745</td>\n",
              "      <td>0.959157</td>\n",
              "      <td>0.013928</td>\n",
              "    </tr>\n",
              "    <tr>\n",
              "      <th>13</th>\n",
              "      <td>0.127288</td>\n",
              "      <td>0.000257</td>\n",
              "      <td>0.136756</td>\n",
              "      <td>0.0</td>\n",
              "      <td>0.089072</td>\n",
              "      <td>0.959099</td>\n",
              "      <td>0.032510</td>\n",
              "    </tr>\n",
              "    <tr>\n",
              "      <th>25</th>\n",
              "      <td>0.061684</td>\n",
              "      <td>0.000480</td>\n",
              "      <td>0.196240</td>\n",
              "      <td>0.0</td>\n",
              "      <td>0.065856</td>\n",
              "      <td>0.958982</td>\n",
              "      <td>0.016708</td>\n",
              "    </tr>\n",
              "    <tr>\n",
              "      <th>29</th>\n",
              "      <td>0.096437</td>\n",
              "      <td>0.000013</td>\n",
              "      <td>0.141938</td>\n",
              "      <td>0.0</td>\n",
              "      <td>0.056607</td>\n",
              "      <td>0.959011</td>\n",
              "      <td>0.031967</td>\n",
              "    </tr>\n",
              "    <tr>\n",
              "      <th>30</th>\n",
              "      <td>0.102037</td>\n",
              "      <td>0.000008</td>\n",
              "      <td>0.139340</td>\n",
              "      <td>0.0</td>\n",
              "      <td>0.063129</td>\n",
              "      <td>0.959128</td>\n",
              "      <td>0.035484</td>\n",
              "    </tr>\n",
              "    <tr>\n",
              "      <th>...</th>\n",
              "      <td>...</td>\n",
              "      <td>...</td>\n",
              "      <td>...</td>\n",
              "      <td>...</td>\n",
              "      <td>...</td>\n",
              "      <td>...</td>\n",
              "      <td>...</td>\n",
              "    </tr>\n",
              "    <tr>\n",
              "      <th>174987</th>\n",
              "      <td>0.183182</td>\n",
              "      <td>0.000160</td>\n",
              "      <td>0.198476</td>\n",
              "      <td>0.0</td>\n",
              "      <td>0.644351</td>\n",
              "      <td>0.974993</td>\n",
              "      <td>0.008547</td>\n",
              "    </tr>\n",
              "    <tr>\n",
              "      <th>175003</th>\n",
              "      <td>0.164548</td>\n",
              "      <td>0.000079</td>\n",
              "      <td>0.352014</td>\n",
              "      <td>0.0</td>\n",
              "      <td>0.510047</td>\n",
              "      <td>0.955896</td>\n",
              "      <td>0.005554</td>\n",
              "    </tr>\n",
              "    <tr>\n",
              "      <th>175004</th>\n",
              "      <td>0.245901</td>\n",
              "      <td>0.000060</td>\n",
              "      <td>0.332715</td>\n",
              "      <td>0.0</td>\n",
              "      <td>0.551977</td>\n",
              "      <td>0.957148</td>\n",
              "      <td>0.005554</td>\n",
              "    </tr>\n",
              "    <tr>\n",
              "      <th>175005</th>\n",
              "      <td>0.156002</td>\n",
              "      <td>0.000025</td>\n",
              "      <td>0.138936</td>\n",
              "      <td>0.0</td>\n",
              "      <td>0.630519</td>\n",
              "      <td>0.997293</td>\n",
              "      <td>0.007629</td>\n",
              "    </tr>\n",
              "    <tr>\n",
              "      <th>175023</th>\n",
              "      <td>0.234692</td>\n",
              "      <td>0.000031</td>\n",
              "      <td>0.232339</td>\n",
              "      <td>0.0</td>\n",
              "      <td>0.484926</td>\n",
              "      <td>0.973683</td>\n",
              "      <td>0.006184</td>\n",
              "    </tr>\n",
              "  </tbody>\n",
              "</table>\n",
              "<p>100113 rows × 7 columns</p>\n",
              "</div>\n",
              "    <div class=\"colab-df-buttons\">\n",
              "\n",
              "  <div class=\"colab-df-container\">\n",
              "    <button class=\"colab-df-convert\" onclick=\"convertToInteractive('df-52f25d8f-3403-4632-a22f-dc42ec554a1a')\"\n",
              "            title=\"Convert this dataframe to an interactive table.\"\n",
              "            style=\"display:none;\">\n",
              "\n",
              "  <svg xmlns=\"http://www.w3.org/2000/svg\" height=\"24px\" viewBox=\"0 -960 960 960\">\n",
              "    <path d=\"M120-120v-720h720v720H120Zm60-500h600v-160H180v160Zm220 220h160v-160H400v160Zm0 220h160v-160H400v160ZM180-400h160v-160H180v160Zm440 0h160v-160H620v160ZM180-180h160v-160H180v160Zm440 0h160v-160H620v160Z\"/>\n",
              "  </svg>\n",
              "    </button>\n",
              "\n",
              "  <style>\n",
              "    .colab-df-container {\n",
              "      display:flex;\n",
              "      gap: 12px;\n",
              "    }\n",
              "\n",
              "    .colab-df-convert {\n",
              "      background-color: #E8F0FE;\n",
              "      border: none;\n",
              "      border-radius: 50%;\n",
              "      cursor: pointer;\n",
              "      display: none;\n",
              "      fill: #1967D2;\n",
              "      height: 32px;\n",
              "      padding: 0 0 0 0;\n",
              "      width: 32px;\n",
              "    }\n",
              "\n",
              "    .colab-df-convert:hover {\n",
              "      background-color: #E2EBFA;\n",
              "      box-shadow: 0px 1px 2px rgba(60, 64, 67, 0.3), 0px 1px 3px 1px rgba(60, 64, 67, 0.15);\n",
              "      fill: #174EA6;\n",
              "    }\n",
              "\n",
              "    .colab-df-buttons div {\n",
              "      margin-bottom: 4px;\n",
              "    }\n",
              "\n",
              "    [theme=dark] .colab-df-convert {\n",
              "      background-color: #3B4455;\n",
              "      fill: #D2E3FC;\n",
              "    }\n",
              "\n",
              "    [theme=dark] .colab-df-convert:hover {\n",
              "      background-color: #434B5C;\n",
              "      box-shadow: 0px 1px 3px 1px rgba(0, 0, 0, 0.15);\n",
              "      filter: drop-shadow(0px 1px 2px rgba(0, 0, 0, 0.3));\n",
              "      fill: #FFFFFF;\n",
              "    }\n",
              "  </style>\n",
              "\n",
              "    <script>\n",
              "      const buttonEl =\n",
              "        document.querySelector('#df-52f25d8f-3403-4632-a22f-dc42ec554a1a button.colab-df-convert');\n",
              "      buttonEl.style.display =\n",
              "        google.colab.kernel.accessAllowed ? 'block' : 'none';\n",
              "\n",
              "      async function convertToInteractive(key) {\n",
              "        const element = document.querySelector('#df-52f25d8f-3403-4632-a22f-dc42ec554a1a');\n",
              "        const dataTable =\n",
              "          await google.colab.kernel.invokeFunction('convertToInteractive',\n",
              "                                                    [key], {});\n",
              "        if (!dataTable) return;\n",
              "\n",
              "        const docLinkHtml = 'Like what you see? Visit the ' +\n",
              "          '<a target=\"_blank\" href=https://colab.research.google.com/notebooks/data_table.ipynb>data table notebook</a>'\n",
              "          + ' to learn more about interactive tables.';\n",
              "        element.innerHTML = '';\n",
              "        dataTable['output_type'] = 'display_data';\n",
              "        await google.colab.output.renderOutput(dataTable, element);\n",
              "        const docLink = document.createElement('div');\n",
              "        docLink.innerHTML = docLinkHtml;\n",
              "        element.appendChild(docLink);\n",
              "      }\n",
              "    </script>\n",
              "  </div>\n",
              "\n",
              "\n",
              "<div id=\"df-8ddb7250-f940-4446-8a07-0f999f6960f8\">\n",
              "  <button class=\"colab-df-quickchart\" onclick=\"quickchart('df-8ddb7250-f940-4446-8a07-0f999f6960f8')\"\n",
              "            title=\"Suggest charts\"\n",
              "            style=\"display:none;\">\n",
              "\n",
              "<svg xmlns=\"http://www.w3.org/2000/svg\" height=\"24px\"viewBox=\"0 0 24 24\"\n",
              "     width=\"24px\">\n",
              "    <g>\n",
              "        <path d=\"M19 3H5c-1.1 0-2 .9-2 2v14c0 1.1.9 2 2 2h14c1.1 0 2-.9 2-2V5c0-1.1-.9-2-2-2zM9 17H7v-7h2v7zm4 0h-2V7h2v10zm4 0h-2v-4h2v4z\"/>\n",
              "    </g>\n",
              "</svg>\n",
              "  </button>\n",
              "\n",
              "<style>\n",
              "  .colab-df-quickchart {\n",
              "      --bg-color: #E8F0FE;\n",
              "      --fill-color: #1967D2;\n",
              "      --hover-bg-color: #E2EBFA;\n",
              "      --hover-fill-color: #174EA6;\n",
              "      --disabled-fill-color: #AAA;\n",
              "      --disabled-bg-color: #DDD;\n",
              "  }\n",
              "\n",
              "  [theme=dark] .colab-df-quickchart {\n",
              "      --bg-color: #3B4455;\n",
              "      --fill-color: #D2E3FC;\n",
              "      --hover-bg-color: #434B5C;\n",
              "      --hover-fill-color: #FFFFFF;\n",
              "      --disabled-bg-color: #3B4455;\n",
              "      --disabled-fill-color: #666;\n",
              "  }\n",
              "\n",
              "  .colab-df-quickchart {\n",
              "    background-color: var(--bg-color);\n",
              "    border: none;\n",
              "    border-radius: 50%;\n",
              "    cursor: pointer;\n",
              "    display: none;\n",
              "    fill: var(--fill-color);\n",
              "    height: 32px;\n",
              "    padding: 0;\n",
              "    width: 32px;\n",
              "  }\n",
              "\n",
              "  .colab-df-quickchart:hover {\n",
              "    background-color: var(--hover-bg-color);\n",
              "    box-shadow: 0 1px 2px rgba(60, 64, 67, 0.3), 0 1px 3px 1px rgba(60, 64, 67, 0.15);\n",
              "    fill: var(--button-hover-fill-color);\n",
              "  }\n",
              "\n",
              "  .colab-df-quickchart-complete:disabled,\n",
              "  .colab-df-quickchart-complete:disabled:hover {\n",
              "    background-color: var(--disabled-bg-color);\n",
              "    fill: var(--disabled-fill-color);\n",
              "    box-shadow: none;\n",
              "  }\n",
              "\n",
              "  .colab-df-spinner {\n",
              "    border: 2px solid var(--fill-color);\n",
              "    border-color: transparent;\n",
              "    border-bottom-color: var(--fill-color);\n",
              "    animation:\n",
              "      spin 1s steps(1) infinite;\n",
              "  }\n",
              "\n",
              "  @keyframes spin {\n",
              "    0% {\n",
              "      border-color: transparent;\n",
              "      border-bottom-color: var(--fill-color);\n",
              "      border-left-color: var(--fill-color);\n",
              "    }\n",
              "    20% {\n",
              "      border-color: transparent;\n",
              "      border-left-color: var(--fill-color);\n",
              "      border-top-color: var(--fill-color);\n",
              "    }\n",
              "    30% {\n",
              "      border-color: transparent;\n",
              "      border-left-color: var(--fill-color);\n",
              "      border-top-color: var(--fill-color);\n",
              "      border-right-color: var(--fill-color);\n",
              "    }\n",
              "    40% {\n",
              "      border-color: transparent;\n",
              "      border-right-color: var(--fill-color);\n",
              "      border-top-color: var(--fill-color);\n",
              "    }\n",
              "    60% {\n",
              "      border-color: transparent;\n",
              "      border-right-color: var(--fill-color);\n",
              "    }\n",
              "    80% {\n",
              "      border-color: transparent;\n",
              "      border-right-color: var(--fill-color);\n",
              "      border-bottom-color: var(--fill-color);\n",
              "    }\n",
              "    90% {\n",
              "      border-color: transparent;\n",
              "      border-bottom-color: var(--fill-color);\n",
              "    }\n",
              "  }\n",
              "</style>\n",
              "\n",
              "  <script>\n",
              "    async function quickchart(key) {\n",
              "      const quickchartButtonEl =\n",
              "        document.querySelector('#' + key + ' button');\n",
              "      quickchartButtonEl.disabled = true;  // To prevent multiple clicks.\n",
              "      quickchartButtonEl.classList.add('colab-df-spinner');\n",
              "      try {\n",
              "        const charts = await google.colab.kernel.invokeFunction(\n",
              "            'suggestCharts', [key], {});\n",
              "      } catch (error) {\n",
              "        console.error('Error during call to suggestCharts:', error);\n",
              "      }\n",
              "      quickchartButtonEl.classList.remove('colab-df-spinner');\n",
              "      quickchartButtonEl.classList.add('colab-df-quickchart-complete');\n",
              "    }\n",
              "    (() => {\n",
              "      let quickchartButtonEl =\n",
              "        document.querySelector('#df-8ddb7250-f940-4446-8a07-0f999f6960f8 button');\n",
              "      quickchartButtonEl.style.display =\n",
              "        google.colab.kernel.accessAllowed ? 'block' : 'none';\n",
              "    })();\n",
              "  </script>\n",
              "</div>\n",
              "\n",
              "  <div id=\"id_b68246dc-09ea-43eb-b83b-88e37fb88d21\">\n",
              "    <style>\n",
              "      .colab-df-generate {\n",
              "        background-color: #E8F0FE;\n",
              "        border: none;\n",
              "        border-radius: 50%;\n",
              "        cursor: pointer;\n",
              "        display: none;\n",
              "        fill: #1967D2;\n",
              "        height: 32px;\n",
              "        padding: 0 0 0 0;\n",
              "        width: 32px;\n",
              "      }\n",
              "\n",
              "      .colab-df-generate:hover {\n",
              "        background-color: #E2EBFA;\n",
              "        box-shadow: 0px 1px 2px rgba(60, 64, 67, 0.3), 0px 1px 3px 1px rgba(60, 64, 67, 0.15);\n",
              "        fill: #174EA6;\n",
              "      }\n",
              "\n",
              "      [theme=dark] .colab-df-generate {\n",
              "        background-color: #3B4455;\n",
              "        fill: #D2E3FC;\n",
              "      }\n",
              "\n",
              "      [theme=dark] .colab-df-generate:hover {\n",
              "        background-color: #434B5C;\n",
              "        box-shadow: 0px 1px 3px 1px rgba(0, 0, 0, 0.15);\n",
              "        filter: drop-shadow(0px 1px 2px rgba(0, 0, 0, 0.3));\n",
              "        fill: #FFFFFF;\n",
              "      }\n",
              "    </style>\n",
              "    <button class=\"colab-df-generate\" onclick=\"generateWithVariable('X')\"\n",
              "            title=\"Generate code using this dataframe.\"\n",
              "            style=\"display:none;\">\n",
              "\n",
              "  <svg xmlns=\"http://www.w3.org/2000/svg\" height=\"24px\"viewBox=\"0 0 24 24\"\n",
              "       width=\"24px\">\n",
              "    <path d=\"M7,19H8.4L18.45,9,17,7.55,7,17.6ZM5,21V16.75L18.45,3.32a2,2,0,0,1,2.83,0l1.4,1.43a1.91,1.91,0,0,1,.58,1.4,1.91,1.91,0,0,1-.58,1.4L9.25,21ZM18.45,9,17,7.55Zm-12,3A5.31,5.31,0,0,0,4.9,8.1,5.31,5.31,0,0,0,1,6.5,5.31,5.31,0,0,0,4.9,4.9,5.31,5.31,0,0,0,6.5,1,5.31,5.31,0,0,0,8.1,4.9,5.31,5.31,0,0,0,12,6.5,5.46,5.46,0,0,0,6.5,12Z\"/>\n",
              "  </svg>\n",
              "    </button>\n",
              "    <script>\n",
              "      (() => {\n",
              "      const buttonEl =\n",
              "        document.querySelector('#id_b68246dc-09ea-43eb-b83b-88e37fb88d21 button.colab-df-generate');\n",
              "      buttonEl.style.display =\n",
              "        google.colab.kernel.accessAllowed ? 'block' : 'none';\n",
              "\n",
              "      buttonEl.onclick = () => {\n",
              "        google.colab.notebook.generateWithVariable('X');\n",
              "      }\n",
              "      })();\n",
              "    </script>\n",
              "  </div>\n",
              "\n",
              "    </div>\n",
              "  </div>\n"
            ],
            "application/vnd.google.colaboratory.intrinsic+json": {
              "type": "dataframe",
              "variable_name": "X"
            }
          },
          "metadata": {},
          "execution_count": 6
        }
      ],
      "source": [
        "X"
      ]
    },
    {
      "cell_type": "markdown",
      "metadata": {
        "id": "zJtsWsMr0JFq"
      },
      "source": [
        "# K-fold cross validation"
      ]
    },
    {
      "cell_type": "code",
      "execution_count": 17,
      "metadata": {
        "colab": {
          "base_uri": "https://localhost:8080/"
        },
        "id": "f6HtsGRR0QKw",
        "outputId": "a9e19291-e770-4b28-aebb-321fe950527f"
      },
      "outputs": [
        {
          "output_type": "stream",
          "name": "stdout",
          "text": [
            "Cross-validation R2 scores: [0.73297193 0.71989565 0.73492752 0.72620736 0.71375466 0.71376335\n",
            " 0.71743227 0.72702904 0.72320065 0.7339939 ]\n",
            "Mean R2 score: 0.724317634461575\n"
          ]
        }
      ],
      "source": [
        "from sklearn.model_selection import KFold\n",
        "from sklearn.ensemble import RandomForestRegressor\n",
        "from sklearn.model_selection import cross_val_score\n",
        "\n",
        "# Define the number of splits for K-Fold cross-validation\n",
        "k = 10\n",
        "kf = KFold(n_splits=k, shuffle=True, random_state=21)\n",
        "\n",
        "# Initialize the model\n",
        "model = RandomForestRegressor()\n",
        "\n",
        "# Perform cross-validation using all available cores (parallel computing)\n",
        "scores = cross_val_score(model, X, y, cv=kf, scoring='r2', n_jobs=-1)\n",
        "\n",
        "# Print the results\n",
        "print(\"Cross-validation R2 scores:\", scores)\n",
        "print(\"Mean R2 score:\", scores.mean())\n"
      ]
    },
    {
      "cell_type": "code",
      "execution_count": null,
      "metadata": {
        "colab": {
          "base_uri": "https://localhost:8080/"
        },
        "id": "6UHPdx_gxddd",
        "outputId": "87dfc37e-c22c-449a-dcbd-ef6c6dd23c18"
      },
      "outputs": [
        {
          "output_type": "stream",
          "name": "stdout",
          "text": [
            "Total samples: 7200\n",
            "Size of each fold: 720\n",
            "Sizes of each fold: [720, 720, 720, 720, 720, 720, 720, 720, 720, 720]\n"
          ]
        }
      ],
      "source": [
        "import numpy as np\n",
        "from sklearn.model_selection import KFold\n",
        "\n",
        "# Assuming X is your feature matrix\n",
        "num_samples = X.shape[0]  # Get the total number of samples\n",
        "k = 10  # Number of folds\n",
        "\n",
        "# Calculate the size of each fold\n",
        "fold_size = num_samples // k  # Integer division\n",
        "remaining_samples = num_samples % k  # Remainder to account for any leftover samples\n",
        "\n",
        "print(f\"Total samples: {num_samples}\")\n",
        "print(f\"Size of each fold: {fold_size}\")\n",
        "\n",
        "# If you want to see how many samples each fold will have\n",
        "fold_sizes = [fold_size + 1 if i < remaining_samples else fold_size for i in range(k)]\n",
        "print(f\"Sizes of each fold: {fold_sizes}\")\n"
      ]
    },
    {
      "cell_type": "code",
      "execution_count": null,
      "metadata": {
        "colab": {
          "base_uri": "https://localhost:8080/"
        },
        "id": "GXHy3-z7yBz2",
        "outputId": "132a013a-9923-4843-af3a-c01f072c5951"
      },
      "outputs": [
        {
          "output_type": "stream",
          "name": "stdout",
          "text": [
            "Feature importances: [0.09712563 0.13674423 0.11000457 0.37519609 0.05065912 0.01876992\n",
            " 0.03117073 0.15777966 0.02255006]\n"
          ]
        }
      ],
      "source": [
        "# Check feature importances\n",
        "importances = model.fit(X, y).feature_importances_\n",
        "print(\"Feature importances:\", importances)\n"
      ]
    },
    {
      "cell_type": "code",
      "execution_count": 18,
      "metadata": {
        "colab": {
          "base_uri": "https://localhost:8080/",
          "height": 607
        },
        "id": "HMouO8y01J5k",
        "outputId": "43866b17-1705-4d2e-9d03-226c43ed8668"
      },
      "outputs": [
        {
          "output_type": "display_data",
          "data": {
            "text/plain": [
              "<Figure size 1000x600 with 1 Axes>"
            ],
            "image/png": "[encoded data removed]"
          },
          "metadata": {}
        }
      ],
      "source": [
        "# Plotting the feature importances\n",
        "feature_names = X.columns\n",
        "indices = np.argsort(importances)[::-1]  # Sort the features by importance\n",
        "\n",
        "plt.figure(figsize=(10, 6))\n",
        "plt.title(\"Feature Importances\")\n",
        "plt.bar(range(X.shape[1]), importances[indices], align='center')\n",
        "plt.xticks(range(X.shape[1]), np.array(feature_names)[indices], rotation=90)\n",
        "plt.xlabel(\"Features\")\n",
        "plt.ylabel(\"Importance\")\n",
        "plt.tight_layout()\n",
        "plt.show()"
      ]
    },
    {
      "cell_type": "code",
      "execution_count": null,
      "metadata": {
        "id": "yGVYnL131mHf"
      },
      "outputs": [],
      "source": [
        "# Save the trained model to a file\n",
        "import joblib\n",
        "joblib.dump(model, '/content/drive/My Drive/Thesis/RFM/k-fold-RFM.pkl')\n",
        "print(\"Model saved as 'random_forest_model.pkl'\")"
      ]
    },
    {
      "cell_type": "code",
      "execution_count": null,
      "metadata": {
        "colab": {
          "base_uri": "https://localhost:8080/"
        },
        "id": "n68U_QYI00P-",
        "outputId": "8b630d98-01b9-486e-8829-af0d08388d45"
      },
      "outputs": [
        {
          "name": "stdout",
          "output_type": "stream",
          "text": [
            "R² Score for each fold: [0.6054, 0.6159, 0.608, 0.6015, 0.5942, 0.6028, 0.6099, 0.6083, 0.6085, 0.6049]\n",
            "Average R² across 10 folds: 0.61\n"
          ]
        }
      ],
      "source": [
        "import numpy as np\n",
        "\n",
        "average_r2 = np.mean(scores)\n",
        "\n",
        "print(f\"R² Score for each fold: {[round(score, 4) for score in scores]}\")\n",
        "print(f\"Average R² across {k} folds: {average_r2:.2f}\")"
      ]
    },
    {
      "cell_type": "markdown",
      "metadata": {
        "id": "rz0Mjx7I3ChL"
      },
      "source": [
        "# Simple Split"
      ]
    },
    {
      "cell_type": "code",
      "execution_count": 7,
      "metadata": {
        "id": "0nnoewEE0FQp",
        "colab": {
          "base_uri": "https://localhost:8080/"
        },
        "outputId": "23094fc8-fd96-4610-ec3b-5ba50056ff6f"
      },
      "outputs": [
        {
          "output_type": "stream",
          "name": "stdout",
          "text": [
            "{'bootstrap': True, 'ccp_alpha': 0.0, 'criterion': 'squared_error', 'max_depth': None, 'max_features': 1.0, 'max_leaf_nodes': None, 'max_samples': None, 'min_impurity_decrease': 0.0, 'min_samples_leaf': 1, 'min_samples_split': 2, 'min_weight_fraction_leaf': 0.0, 'monotonic_cst': None, 'n_estimators': 100, 'n_jobs': None, 'oob_score': False, 'random_state': 21, 'verbose': 0, 'warm_start': False}\n"
          ]
        }
      ],
      "source": [
        "# Split the data into training and test sets\n",
        "X_train, X_test, y_train, y_test = train_test_split(X, y, test_size=0.2)\n",
        "model_rf = RandomForestRegressor(random_state = 21)\n",
        "print(model_rf.get_params())  # change parameter as necessary (currently default)"
      ]
    },
    {
      "cell_type": "code",
      "execution_count": 8,
      "metadata": {
        "colab": {
          "base_uri": "https://localhost:8080/"
        },
        "id": "cXBSTpMtZyPb",
        "outputId": "4a226cad-e57a-410f-ba21-4dbe6f0c636b"
      },
      "outputs": [
        {
          "output_type": "stream",
          "name": "stdout",
          "text": [
            "['Evap_tavg', 'Qs_tavg', 'RadT_tavg', 'SWE_inst', 'SoilMoi00_10cm_tavg', 'elevation', 'precipitation']\n"
          ]
        }
      ],
      "source": [
        "X_train_columns = X_train.columns.tolist()\n",
        "print(X_train_columns)"
      ]
    },
    {
      "cell_type": "code",
      "execution_count": 9,
      "metadata": {
        "colab": {
          "base_uri": "https://localhost:8080/",
          "height": 80
        },
        "id": "hxckpHX8B_aX",
        "outputId": "266aa2b1-2518-4784-f88c-00473e8fd5ca"
      },
      "outputs": [
        {
          "output_type": "execute_result",
          "data": {
            "text/plain": [
              "RandomForestRegressor(random_state=21)"
            ],
            "text/html": [
              "<style>#sk-container-id-1 {\n",
              "  /* Definition of color scheme common for light and dark mode */\n",
              "  --sklearn-color-text: #000;\n",
              "  --sklearn-color-text-muted: #666;\n",
              "  --sklearn-color-line: gray;\n",
              "  /* Definition of color scheme for unfitted estimators */\n",
              "  --sklearn-color-unfitted-level-0: #fff5e6;\n",
              "  --sklearn-color-unfitted-level-1: #f6e4d2;\n",
              "  --sklearn-color-unfitted-level-2: #ffe0b3;\n",
              "  --sklearn-color-unfitted-level-3: chocolate;\n",
              "  /* Definition of color scheme for fitted estimators */\n",
              "  --sklearn-color-fitted-level-0: #f0f8ff;\n",
              "  --sklearn-color-fitted-level-1: #d4ebff;\n",
              "  --sklearn-color-fitted-level-2: #b3dbfd;\n",
              "  --sklearn-color-fitted-level-3: cornflowerblue;\n",
              "\n",
              "  /* Specific color for light theme */\n",
              "  --sklearn-color-text-on-default-background: var(--sg-text-color, var(--theme-code-foreground, var(--jp-content-font-color1, black)));\n",
              "  --sklearn-color-background: var(--sg-background-color, var(--theme-background, var(--jp-layout-color0, white)));\n",
              "  --sklearn-color-border-box: var(--sg-text-color, var(--theme-code-foreground, var(--jp-content-font-color1, black)));\n",
              "  --sklearn-color-icon: #696969;\n",
              "\n",
              "  @media (prefers-color-scheme: dark) {\n",
              "    /* Redefinition of color scheme for dark theme */\n",
              "    --sklearn-color-text-on-default-background: var(--sg-text-color, var(--theme-code-foreground, var(--jp-content-font-color1, white)));\n",
              "    --sklearn-color-background: var(--sg-background-color, var(--theme-background, var(--jp-layout-color0, #111)));\n",
              "    --sklearn-color-border-box: var(--sg-text-color, var(--theme-code-foreground, var(--jp-content-font-color1, white)));\n",
              "    --sklearn-color-icon: #878787;\n",
              "  }\n",
              "}\n",
              "\n",
              "#sk-container-id-1 {\n",
              "  color: var(--sklearn-color-text);\n",
              "}\n",
              "\n",
              "#sk-container-id-1 pre {\n",
              "  padding: 0;\n",
              "}\n",
              "\n",
              "#sk-container-id-1 input.sk-hidden--visually {\n",
              "  border: 0;\n",
              "  clip: rect(1px 1px 1px 1px);\n",
              "  clip: rect(1px, 1px, 1px, 1px);\n",
              "  height: 1px;\n",
              "  margin: -1px;\n",
              "  overflow: hidden;\n",
              "  padding: 0;\n",
              "  position: absolute;\n",
              "  width: 1px;\n",
              "}\n",
              "\n",
              "#sk-container-id-1 div.sk-dashed-wrapped {\n",
              "  border: 1px dashed var(--sklearn-color-line);\n",
              "  margin: 0 0.4em 0.5em 0.4em;\n",
              "  box-sizing: border-box;\n",
              "  padding-bottom: 0.4em;\n",
              "  background-color: var(--sklearn-color-background);\n",
              "}\n",
              "\n",
              "#sk-container-id-1 div.sk-container {\n",
              "  /* jupyter's `normalize.less` sets `[hidden] { display: none; }`\n",
              "     but bootstrap.min.css set `[hidden] { display: none !important; }`\n",
              "     so we also need the `!important` here to be able to override the\n",
              "     default hidden behavior on the sphinx rendered scikit-learn.org.\n",
              "     See: https://github.com/scikit-learn/scikit-learn/issues/21755 */\n",
              "  display: inline-block !important;\n",
              "  position: relative;\n",
              "}\n",
              "\n",
              "#sk-container-id-1 div.sk-text-repr-fallback {\n",
              "  display: none;\n",
              "}\n",
              "\n",
              "div.sk-parallel-item,\n",
              "div.sk-serial,\n",
              "div.sk-item {\n",
              "  /* draw centered vertical line to link estimators */\n",
              "  background-image: linear-gradient(var(--sklearn-color-text-on-default-background), var(--sklearn-color-text-on-default-background));\n",
              "  background-size: 2px 100%;\n",
              "  background-repeat: no-repeat;\n",
              "  background-position: center center;\n",
              "}\n",
              "\n",
              "/* Parallel-specific style estimator block */\n",
              "\n",
              "#sk-container-id-1 div.sk-parallel-item::after {\n",
              "  content: \"\";\n",
              "  width: 100%;\n",
              "  border-bottom: 2px solid var(--sklearn-color-text-on-default-background);\n",
              "  flex-grow: 1;\n",
              "}\n",
              "\n",
              "#sk-container-id-1 div.sk-parallel {\n",
              "  display: flex;\n",
              "  align-items: stretch;\n",
              "  justify-content: center;\n",
              "  background-color: var(--sklearn-color-background);\n",
              "  position: relative;\n",
              "}\n",
              "\n",
              "#sk-container-id-1 div.sk-parallel-item {\n",
              "  display: flex;\n",
              "  flex-direction: column;\n",
              "}\n",
              "\n",
              "#sk-container-id-1 div.sk-parallel-item:first-child::after {\n",
              "  align-self: flex-end;\n",
              "  width: 50%;\n",
              "}\n",
              "\n",
              "#sk-container-id-1 div.sk-parallel-item:last-child::after {\n",
              "  align-self: flex-start;\n",
              "  width: 50%;\n",
              "}\n",
              "\n",
              "#sk-container-id-1 div.sk-parallel-item:only-child::after {\n",
              "  width: 0;\n",
              "}\n",
              "\n",
              "/* Serial-specific style estimator block */\n",
              "\n",
              "#sk-container-id-1 div.sk-serial {\n",
              "  display: flex;\n",
              "  flex-direction: column;\n",
              "  align-items: center;\n",
              "  background-color: var(--sklearn-color-background);\n",
              "  padding-right: 1em;\n",
              "  padding-left: 1em;\n",
              "}\n",
              "\n",
              "\n",
              "/* Toggleable style: style used for estimator/Pipeline/ColumnTransformer box that is\n",
              "clickable and can be expanded/collapsed.\n",
              "- Pipeline and ColumnTransformer use this feature and define the default style\n",
              "- Estimators will overwrite some part of the style using the `sk-estimator` class\n",
              "*/\n",
              "\n",
              "/* Pipeline and ColumnTransformer style (default) */\n",
              "\n",
              "#sk-container-id-1 div.sk-toggleable {\n",
              "  /* Default theme specific background. It is overwritten whether we have a\n",
              "  specific estimator or a Pipeline/ColumnTransformer */\n",
              "  background-color: var(--sklearn-color-background);\n",
              "}\n",
              "\n",
              "/* Toggleable label */\n",
              "#sk-container-id-1 label.sk-toggleable__label {\n",
              "  cursor: pointer;\n",
              "  display: flex;\n",
              "  width: 100%;\n",
              "  margin-bottom: 0;\n",
              "  padding: 0.5em;\n",
              "  box-sizing: border-box;\n",
              "  text-align: center;\n",
              "  align-items: start;\n",
              "  justify-content: space-between;\n",
              "  gap: 0.5em;\n",
              "}\n",
              "\n",
              "#sk-container-id-1 label.sk-toggleable__label .caption {\n",
              "  font-size: 0.6rem;\n",
              "  font-weight: lighter;\n",
              "  color: var(--sklearn-color-text-muted);\n",
              "}\n",
              "\n",
              "#sk-container-id-1 label.sk-toggleable__label-arrow:before {\n",
              "  /* Arrow on the left of the label */\n",
              "  content: \"▸\";\n",
              "  float: left;\n",
              "  margin-right: 0.25em;\n",
              "  color: var(--sklearn-color-icon);\n",
              "}\n",
              "\n",
              "#sk-container-id-1 label.sk-toggleable__label-arrow:hover:before {\n",
              "  color: var(--sklearn-color-text);\n",
              "}\n",
              "\n",
              "/* Toggleable content - dropdown */\n",
              "\n",
              "#sk-container-id-1 div.sk-toggleable__content {\n",
              "  max-height: 0;\n",
              "  max-width: 0;\n",
              "  overflow: hidden;\n",
              "  text-align: left;\n",
              "  /* unfitted */\n",
              "  background-color: var(--sklearn-color-unfitted-level-0);\n",
              "}\n",
              "\n",
              "#sk-container-id-1 div.sk-toggleable__content.fitted {\n",
              "  /* fitted */\n",
              "  background-color: var(--sklearn-color-fitted-level-0);\n",
              "}\n",
              "\n",
              "#sk-container-id-1 div.sk-toggleable__content pre {\n",
              "  margin: 0.2em;\n",
              "  border-radius: 0.25em;\n",
              "  color: var(--sklearn-color-text);\n",
              "  /* unfitted */\n",
              "  background-color: var(--sklearn-color-unfitted-level-0);\n",
              "}\n",
              "\n",
              "#sk-container-id-1 div.sk-toggleable__content.fitted pre {\n",
              "  /* unfitted */\n",
              "  background-color: var(--sklearn-color-fitted-level-0);\n",
              "}\n",
              "\n",
              "#sk-container-id-1 input.sk-toggleable__control:checked~div.sk-toggleable__content {\n",
              "  /* Expand drop-down */\n",
              "  max-height: 200px;\n",
              "  max-width: 100%;\n",
              "  overflow: auto;\n",
              "}\n",
              "\n",
              "#sk-container-id-1 input.sk-toggleable__control:checked~label.sk-toggleable__label-arrow:before {\n",
              "  content: \"▾\";\n",
              "}\n",
              "\n",
              "/* Pipeline/ColumnTransformer-specific style */\n",
              "\n",
              "#sk-container-id-1 div.sk-label input.sk-toggleable__control:checked~label.sk-toggleable__label {\n",
              "  color: var(--sklearn-color-text);\n",
              "  background-color: var(--sklearn-color-unfitted-level-2);\n",
              "}\n",
              "\n",
              "#sk-container-id-1 div.sk-label.fitted input.sk-toggleable__control:checked~label.sk-toggleable__label {\n",
              "  background-color: var(--sklearn-color-fitted-level-2);\n",
              "}\n",
              "\n",
              "/* Estimator-specific style */\n",
              "\n",
              "/* Colorize estimator box */\n",
              "#sk-container-id-1 div.sk-estimator input.sk-toggleable__control:checked~label.sk-toggleable__label {\n",
              "  /* unfitted */\n",
              "  background-color: var(--sklearn-color-unfitted-level-2);\n",
              "}\n",
              "\n",
              "#sk-container-id-1 div.sk-estimator.fitted input.sk-toggleable__control:checked~label.sk-toggleable__label {\n",
              "  /* fitted */\n",
              "  background-color: var(--sklearn-color-fitted-level-2);\n",
              "}\n",
              "\n",
              "#sk-container-id-1 div.sk-label label.sk-toggleable__label,\n",
              "#sk-container-id-1 div.sk-label label {\n",
              "  /* The background is the default theme color */\n",
              "  color: var(--sklearn-color-text-on-default-background);\n",
              "}\n",
              "\n",
              "/* On hover, darken the color of the background */\n",
              "#sk-container-id-1 div.sk-label:hover label.sk-toggleable__label {\n",
              "  color: var(--sklearn-color-text);\n",
              "  background-color: var(--sklearn-color-unfitted-level-2);\n",
              "}\n",
              "\n",
              "/* Label box, darken color on hover, fitted */\n",
              "#sk-container-id-1 div.sk-label.fitted:hover label.sk-toggleable__label.fitted {\n",
              "  color: var(--sklearn-color-text);\n",
              "  background-color: var(--sklearn-color-fitted-level-2);\n",
              "}\n",
              "\n",
              "/* Estimator label */\n",
              "\n",
              "#sk-container-id-1 div.sk-label label {\n",
              "  font-family: monospace;\n",
              "  font-weight: bold;\n",
              "  display: inline-block;\n",
              "  line-height: 1.2em;\n",
              "}\n",
              "\n",
              "#sk-container-id-1 div.sk-label-container {\n",
              "  text-align: center;\n",
              "}\n",
              "\n",
              "/* Estimator-specific */\n",
              "#sk-container-id-1 div.sk-estimator {\n",
              "  font-family: monospace;\n",
              "  border: 1px dotted var(--sklearn-color-border-box);\n",
              "  border-radius: 0.25em;\n",
              "  box-sizing: border-box;\n",
              "  margin-bottom: 0.5em;\n",
              "  /* unfitted */\n",
              "  background-color: var(--sklearn-color-unfitted-level-0);\n",
              "}\n",
              "\n",
              "#sk-container-id-1 div.sk-estimator.fitted {\n",
              "  /* fitted */\n",
              "  background-color: var(--sklearn-color-fitted-level-0);\n",
              "}\n",
              "\n",
              "/* on hover */\n",
              "#sk-container-id-1 div.sk-estimator:hover {\n",
              "  /* unfitted */\n",
              "  background-color: var(--sklearn-color-unfitted-level-2);\n",
              "}\n",
              "\n",
              "#sk-container-id-1 div.sk-estimator.fitted:hover {\n",
              "  /* fitted */\n",
              "  background-color: var(--sklearn-color-fitted-level-2);\n",
              "}\n",
              "\n",
              "/* Specification for estimator info (e.g. \"i\" and \"?\") */\n",
              "\n",
              "/* Common style for \"i\" and \"?\" */\n",
              "\n",
              ".sk-estimator-doc-link,\n",
              "a:link.sk-estimator-doc-link,\n",
              "a:visited.sk-estimator-doc-link {\n",
              "  float: right;\n",
              "  font-size: smaller;\n",
              "  line-height: 1em;\n",
              "  font-family: monospace;\n",
              "  background-color: var(--sklearn-color-background);\n",
              "  border-radius: 1em;\n",
              "  height: 1em;\n",
              "  width: 1em;\n",
              "  text-decoration: none !important;\n",
              "  margin-left: 0.5em;\n",
              "  text-align: center;\n",
              "  /* unfitted */\n",
              "  border: var(--sklearn-color-unfitted-level-1) 1pt solid;\n",
              "  color: var(--sklearn-color-unfitted-level-1);\n",
              "}\n",
              "\n",
              ".sk-estimator-doc-link.fitted,\n",
              "a:link.sk-estimator-doc-link.fitted,\n",
              "a:visited.sk-estimator-doc-link.fitted {\n",
              "  /* fitted */\n",
              "  border: var(--sklearn-color-fitted-level-1) 1pt solid;\n",
              "  color: var(--sklearn-color-fitted-level-1);\n",
              "}\n",
              "\n",
              "/* On hover */\n",
              "div.sk-estimator:hover .sk-estimator-doc-link:hover,\n",
              ".sk-estimator-doc-link:hover,\n",
              "div.sk-label-container:hover .sk-estimator-doc-link:hover,\n",
              ".sk-estimator-doc-link:hover {\n",
              "  /* unfitted */\n",
              "  background-color: var(--sklearn-color-unfitted-level-3);\n",
              "  color: var(--sklearn-color-background);\n",
              "  text-decoration: none;\n",
              "}\n",
              "\n",
              "div.sk-estimator.fitted:hover .sk-estimator-doc-link.fitted:hover,\n",
              ".sk-estimator-doc-link.fitted:hover,\n",
              "div.sk-label-container:hover .sk-estimator-doc-link.fitted:hover,\n",
              ".sk-estimator-doc-link.fitted:hover {\n",
              "  /* fitted */\n",
              "  background-color: var(--sklearn-color-fitted-level-3);\n",
              "  color: var(--sklearn-color-background);\n",
              "  text-decoration: none;\n",
              "}\n",
              "\n",
              "/* Span, style for the box shown on hovering the info icon */\n",
              ".sk-estimator-doc-link span {\n",
              "  display: none;\n",
              "  z-index: 9999;\n",
              "  position: relative;\n",
              "  font-weight: normal;\n",
              "  right: .2ex;\n",
              "  padding: .5ex;\n",
              "  margin: .5ex;\n",
              "  width: min-content;\n",
              "  min-width: 20ex;\n",
              "  max-width: 50ex;\n",
              "  color: var(--sklearn-color-text);\n",
              "  box-shadow: 2pt 2pt 4pt #999;\n",
              "  /* unfitted */\n",
              "  background: var(--sklearn-color-unfitted-level-0);\n",
              "  border: .5pt solid var(--sklearn-color-unfitted-level-3);\n",
              "}\n",
              "\n",
              ".sk-estimator-doc-link.fitted span {\n",
              "  /* fitted */\n",
              "  background: var(--sklearn-color-fitted-level-0);\n",
              "  border: var(--sklearn-color-fitted-level-3);\n",
              "}\n",
              "\n",
              ".sk-estimator-doc-link:hover span {\n",
              "  display: block;\n",
              "}\n",
              "\n",
              "/* \"?\"-specific style due to the `<a>` HTML tag */\n",
              "\n",
              "#sk-container-id-1 a.estimator_doc_link {\n",
              "  float: right;\n",
              "  font-size: 1rem;\n",
              "  line-height: 1em;\n",
              "  font-family: monospace;\n",
              "  background-color: var(--sklearn-color-background);\n",
              "  border-radius: 1rem;\n",
              "  height: 1rem;\n",
              "  width: 1rem;\n",
              "  text-decoration: none;\n",
              "  /* unfitted */\n",
              "  color: var(--sklearn-color-unfitted-level-1);\n",
              "  border: var(--sklearn-color-unfitted-level-1) 1pt solid;\n",
              "}\n",
              "\n",
              "#sk-container-id-1 a.estimator_doc_link.fitted {\n",
              "  /* fitted */\n",
              "  border: var(--sklearn-color-fitted-level-1) 1pt solid;\n",
              "  color: var(--sklearn-color-fitted-level-1);\n",
              "}\n",
              "\n",
              "/* On hover */\n",
              "#sk-container-id-1 a.estimator_doc_link:hover {\n",
              "  /* unfitted */\n",
              "  background-color: var(--sklearn-color-unfitted-level-3);\n",
              "  color: var(--sklearn-color-background);\n",
              "  text-decoration: none;\n",
              "}\n",
              "\n",
              "#sk-container-id-1 a.estimator_doc_link.fitted:hover {\n",
              "  /* fitted */\n",
              "  background-color: var(--sklearn-color-fitted-level-3);\n",
              "}\n",
              "</style><div id=\"sk-container-id-1\" class=\"sk-top-container\"><div class=\"sk-text-repr-fallback\"><pre>RandomForestRegressor(random_state=21)</pre><b>In a Jupyter environment, please rerun this cell to show the HTML representation or trust the notebook. <br />On GitHub, the HTML representation is unable to render, please try loading this page with nbviewer.org.</b></div><div class=\"sk-container\" hidden><div class=\"sk-item\"><div class=\"sk-estimator fitted sk-toggleable\"><input class=\"sk-toggleable__control sk-hidden--visually\" id=\"sk-estimator-id-1\" type=\"checkbox\" checked><label for=\"sk-estimator-id-1\" class=\"sk-toggleable__label fitted sk-toggleable__label-arrow\"><div><div>RandomForestRegressor</div></div><div><a class=\"sk-estimator-doc-link fitted\" rel=\"noreferrer\" target=\"_blank\" href=\"https://scikit-learn.org/1.6/modules/generated/sklearn.ensemble.RandomForestRegressor.html\">?<span>Documentation for RandomForestRegressor</span></a><span class=\"sk-estimator-doc-link fitted\">i<span>Fitted</span></span></div></label><div class=\"sk-toggleable__content fitted\"><pre>RandomForestRegressor(random_state=21)</pre></div> </div></div></div></div>"
            ]
          },
          "metadata": {},
          "execution_count": 9
        }
      ],
      "source": [
        "#train model\n",
        "\n",
        "model_rf.fit(X_train, y_train)"
      ]
    },
    {
      "cell_type": "code",
      "execution_count": null,
      "metadata": {
        "colab": {
          "base_uri": "https://localhost:8080/"
        },
        "id": "xVyby3ANWyrS",
        "outputId": "76034fbb-8b58-4daf-d1a2-378e07956d03"
      },
      "outputs": [
        {
          "output_type": "execute_result",
          "data": {
            "text/plain": [
              "['/content/drive/My Drive/Thesis/RFM/Cluster 1.pkl']"
            ]
          },
          "metadata": {},
          "execution_count": 11
        }
      ],
      "source": [
        "import joblib\n",
        "joblib.dump(model_rf, f'/content/drive/My Drive/Thesis/RFM/{cluster}.pkl')"
      ]
    },
    {
      "cell_type": "markdown",
      "metadata": {
        "id": "Mwv8-DBEXWOj"
      },
      "source": [
        "## Import RFM"
      ]
    },
    {
      "cell_type": "code",
      "execution_count": null,
      "metadata": {
        "id": "UErtD48jXB5V"
      },
      "outputs": [],
      "source": [
        "import joblib\n",
        "model_rf = joblib.load(f'/content/drive/My Drive/Thesis/RFM/{cluster}.pkl')"
      ]
    },
    {
      "cell_type": "code",
      "execution_count": 10,
      "metadata": {
        "colab": {
          "base_uri": "https://localhost:8080/"
        },
        "id": "HoQnod31udZ7",
        "outputId": "0dbec77e-a3eb-47d0-ad22-259a132c9772"
      },
      "outputs": [
        {
          "output_type": "execute_result",
          "data": {
            "text/plain": [
              "0.7101046695939132"
            ]
          },
          "metadata": {},
          "execution_count": 10
        }
      ],
      "source": [
        "model_rf.score(X_test,y_test)\n"
      ]
    },
    {
      "cell_type": "code",
      "execution_count": 11,
      "metadata": {
        "colab": {
          "base_uri": "https://localhost:8080/"
        },
        "id": "iIxvSaFrr_lr",
        "outputId": "7235b332-cdef-4e2d-e61a-dc0989401162"
      },
      "outputs": [
        {
          "output_type": "execute_result",
          "data": {
            "text/plain": [
              "0.9591542236161908"
            ]
          },
          "metadata": {},
          "execution_count": 11
        }
      ],
      "source": [
        "model_rf.score(X_train,y_train)"
      ]
    },
    {
      "cell_type": "code",
      "execution_count": 12,
      "metadata": {
        "id": "8ZST38ZNu1pC"
      },
      "outputs": [],
      "source": [
        "y_predicted = model_rf.predict(X_test)"
      ]
    },
    {
      "cell_type": "code",
      "execution_count": 13,
      "metadata": {
        "colab": {
          "base_uri": "https://localhost:8080/"
        },
        "id": "0vnqZSUev9Rl",
        "outputId": "76b939c6-f72d-41ec-c414-ee256fe46a7f"
      },
      "outputs": [
        {
          "output_type": "stream",
          "name": "stdout",
          "text": [
            "Mean Squared Error: 123.67214240710135\n",
            "Mean Absolute Error: 7.081756337824535\n",
            "Nash-Sutcliffe Efficiency: 0.7101046695939132\n",
            "Pearson Correlation Coefficient: 0.8446255636043599\n",
            "Normalized Root Mean Square Error: 11.120797741488753\n"
          ]
        }
      ],
      "source": [
        "from sklearn.metrics import mean_squared_error, mean_absolute_error, r2_score\n",
        "from scipy.stats import pearsonr\n",
        "# Calculate Mean Squared Error\n",
        "mse = mean_squared_error(y_test, y_predicted)\n",
        "print(\"Mean Squared Error:\", mse)\n",
        "\n",
        "# Calculate Mean Absolute Error\n",
        "mae = mean_absolute_error(y_test, y_predicted)\n",
        "print(\"Mean Absolute Error:\", mae)\n",
        "\n",
        "\n",
        "# Calculate Nash-Sutcliffe Efficiency coefficient\n",
        "nse = 1 - (np.sum((y_test - y_predicted)**2) / np.sum((y_test - np.mean(y_test))**2))\n",
        "print(\"Nash-Sutcliffe Efficiency:\", nse)\n",
        "\n",
        "# Calculate Pearson correlation coefficient\n",
        "correlation_coefficient, _ = pearsonr(y_test, y_predicted)\n",
        "print(f\"Pearson Correlation Coefficient: {correlation_coefficient}\")\n",
        "\n",
        "rmse = np.sqrt(mse)\n",
        "nrmse = rmse / (np.max(y_test) - np.min(y_test))\n",
        "print(\"Normalized Root Mean Square Error:\", rmse)"
      ]
    },
    {
      "cell_type": "code",
      "execution_count": 14,
      "metadata": {
        "colab": {
          "base_uri": "https://localhost:8080/",
          "height": 564
        },
        "id": "h15DRBmjsTsm",
        "outputId": "b4773b2e-49fc-4945-bcc0-de1c03ea0e06"
      },
      "outputs": [
        {
          "output_type": "display_data",
          "data": {
            "text/plain": [
              "<Figure size 1000x600 with 1 Axes>"
            ],
            "image/png": "[encoded data removed]"
          },
          "metadata": {}
        }
      ],
      "source": [
        "plt.figure(figsize=(10, 6))\n",
        "plt.scatter(y_test, y_predicted, color='blue', alpha=0.5)\n",
        "plt.xlabel('Actual Values (y_test)')\n",
        "plt.ylabel('Predicted Values (y_predicted)')\n",
        "plt.title('Actual vs. Predicted Values')\n",
        "plt.plot([min(y_test), max(y_test)], [min(y_test), max(y_test)], color='red', linestyle='--')  # Add a diagonal line\n",
        "plt.show()"
      ]
    },
    {
      "cell_type": "code",
      "source": [
        "import numpy as np\n",
        "from sklearn.metrics import mean_squared_error, r2_score\n",
        "from scipy.stats import pearsonr\n",
        "import matplotlib.pyplot as plt\n",
        "import os\n",
        "\n",
        "# Calculate metrics\n",
        "mse = mean_squared_error(y_test, y_predicted)\n",
        "rmse = np.sqrt(mse)\n",
        "nrmse = rmse / (np.max(y_test) - np.min(y_test))\n",
        "\n",
        "# Calculate Nash-Sutcliffe Efficiency coefficient\n",
        "nse = 1 - (np.sum((y_test - y_predicted)**2) / np.sum((y_test - np.mean(y_test))**2))\n",
        "\n",
        "# Calculate Pearson correlation coefficient\n",
        "correlation_coefficient, _ = pearsonr(y_test, y_predicted)\n",
        "\n",
        "# Create the scatter plot\n",
        "plt.figure(figsize=(10, 6))\n",
        "plt.scatter(y_test, y_predicted, color='blue', alpha=0.5)\n",
        "plt.xlabel('Actual Values (y_test)')\n",
        "plt.ylabel('Predicted Values (y_predicted)')\n",
        "plt.title('Actual vs. Predicted Values')\n",
        "plt.plot([min(y_test), max(y_test)], [min(y_test), max(y_test)], color='red', linestyle='--')\n",
        "\n",
        "# Add metrics to the plot\n",
        "text_metrics = f\"NSE: {nse:.2f}\\nPearson Correlation: {correlation_coefficient:.2f}\\nNRMSE: {nrmse:.2f}\"\n",
        "plt.text(0.05, 0.95, text_metrics, transform=plt.gca().transAxes, fontsize=12,\n",
        "         verticalalignment='top', bbox=dict(facecolor='white', alpha=0.8))\n",
        "\n",
        "# Show the plot\n",
        "plt.show()\n",
        "\n",
        "\n"
      ],
      "metadata": {
        "colab": {
          "base_uri": "https://localhost:8080/",
          "height": 564
        },
        "id": "s8Vbgbt19kOP",
        "outputId": "cbdb7e9b-56aa-4543-ebd4-6058c566248b"
      },
      "execution_count": 15,
      "outputs": [
        {
          "output_type": "display_data",
          "data": {
            "text/plain": [
              "<Figure size 1000x600 with 1 Axes>"
            ],
            "image/png": "[encoded data removed]"
          },
          "metadata": {}
        }
      ]
    },
    {
      "cell_type": "markdown",
      "metadata": {
        "id": "WAuZZZg49FoV"
      },
      "source": [
        "### Feature Importance"
      ]
    },
    {
      "cell_type": "code",
      "execution_count": 16,
      "metadata": {
        "colab": {
          "base_uri": "https://localhost:8080/",
          "height": 703
        },
        "id": "GNgA7M7n9HB0",
        "outputId": "7d1f0c07-400d-414c-8829-8c07f4c66c5a"
      },
      "outputs": [
        {
          "output_type": "stream",
          "name": "stdout",
          "text": [
            "               Feature  Importance\n",
            "4  SoilMoi00_10cm_tavg    0.331080\n",
            "2            RadT_tavg    0.213071\n",
            "5            elevation    0.129790\n",
            "6        precipitation    0.120332\n",
            "0            Evap_tavg    0.104797\n",
            "1              Qs_tavg    0.100811\n",
            "3             SWE_inst    0.000118\n"
          ]
        },
        {
          "output_type": "display_data",
          "data": {
            "text/plain": [
              "<Figure size 1000x600 with 1 Axes>"
            ],
            "image/png": "[encoded data removed]"
          },
          "metadata": {}
        }
      ],
      "source": [
        "importances = model_rf.feature_importances_\n",
        "features = X.columns\n",
        "feature_importance_df = pd.DataFrame({'Feature': features, 'Importance': importances})\n",
        "feature_importance_df = feature_importance_df.sort_values(by='Importance', ascending=False)\n",
        "print(feature_importance_df)\n",
        "# Plot the feature importances\n",
        "plt.figure(figsize=(10, 6))\n",
        "plt.barh(feature_importance_df['Feature'], feature_importance_df['Importance'], color='skyblue')\n",
        "plt.xlabel('Importance')\n",
        "plt.ylabel('Feature')\n",
        "plt.title('Feature Importance in Random Forest Model')\n",
        "plt.gca().invert_yaxis()  # To display the most important features at the top\n",
        "plt.show()"
      ]
    },
    {
      "cell_type": "markdown",
      "metadata": {
        "id": "lCoSw4mgsSB4"
      },
      "source": [
        "### Correlation among variables"
      ]
    },
    {
      "cell_type": "code",
      "execution_count": null,
      "metadata": {
        "colab": {
          "base_uri": "https://localhost:8080/",
          "height": 807
        },
        "id": "uQop7GOwsfBv",
        "outputId": "dabd4630-73c0-424d-ab94-9cee0458c04e"
      },
      "outputs": [
        {
          "output_type": "display_data",
          "data": {
            "text/plain": [
              "<Figure size 1200x800 with 2 Axes>"
            ],
            "image/png": "[encoded data removed]"
          },
          "metadata": {}
        }
      ],
      "source": [
        "import pandas as pd\n",
        "import numpy as np\n",
        "import seaborn as sns\n",
        "import matplotlib.pyplot as plt\n",
        "from scipy.stats import pearsonr\n",
        "\n",
        "# Load the required libraries\n",
        "import seaborn as sns\n",
        "import matplotlib.pyplot as plt\n",
        "from scipy.stats import pearsonr\n",
        "\n",
        "# Function to calculate Pearson's correlation and p-values\n",
        "def calculate_pearsonr(df):\n",
        "    # Create empty DataFrames to store correlation and p-values\n",
        "    corr_matrix = pd.DataFrame(index=df.columns, columns=df.columns)\n",
        "    p_value_matrix = pd.DataFrame(index=df.columns, columns=df.columns)\n",
        "\n",
        "    # Loop through columns and calculate Pearson's correlation coefficient and p-values\n",
        "    for col1 in df.columns:\n",
        "        for col2 in df.columns:\n",
        "            corr, p_value = pearsonr(df[col1], df[col2])\n",
        "            corr_matrix.loc[col1, col2] = corr\n",
        "            p_value_matrix.loc[col1, col2] = p_value\n",
        "\n",
        "    # Convert to numeric type (floating point)\n",
        "    corr_matrix = corr_matrix.astype(float)\n",
        "    p_value_matrix = p_value_matrix.astype(float)\n",
        "\n",
        "    return corr_matrix, p_value_matrix\n",
        "\n",
        "# Exclude 'time', 'lat', 'lon', 'lwe_thickness' (if needed for visualization)\n",
        "df_analysis = df.drop(columns=['time', 'x', 'y', 'lwe_thickness','SWE_inst'])\n",
        "\n",
        "# Calculate correlation and p-values\n",
        "corr_matrix, p_value_matrix = calculate_pearsonr(df_analysis)\n",
        "\n",
        "# Create a mask for significant correlations (p < 0.05)\n",
        "significance_mask = p_value_matrix < 0.05\n",
        "\n",
        "# Set up the matplotlib figure\n",
        "plt.figure(figsize=(12, 8))\n",
        "\n",
        "# Plot the heatmap\n",
        "sns.heatmap(corr_matrix, annot=True, cmap='coolwarm', mask=~significance_mask,\n",
        "            square=True, linewidths=.5, vmin=-1, vmax=1, cbar_kws={\"shrink\": .75},\n",
        "            annot_kws={\"size\": 8}, fmt=\".2f\")\n",
        "\n",
        "# Set titles and labels\n",
        "plt.title(\"Pearson's Correlation Heatmap (Significant at p < 0.05)\", fontsize=14)\n",
        "plt.xticks(rotation=45, ha='right', fontsize=10)\n",
        "plt.yticks(rotation=0, fontsize=10)\n",
        "\n",
        "# Display the plot\n",
        "plt.tight_layout()\n",
        "plt.show()\n"
      ]
    },
    {
      "cell_type": "code",
      "execution_count": null,
      "metadata": {
        "colab": {
          "base_uri": "https://localhost:8080/"
        },
        "id": "zMhcOB2PLEPm",
        "outputId": "ac046867-3c93-44e3-cfad-2bef834ea31c",
        "collapsed": true
      },
      "outputs": [
        {
          "output_type": "stream",
          "name": "stdout",
          "text": [
            "Collecting optuna\n",
            "  Downloading optuna-4.1.0-py3-none-any.whl.metadata (16 kB)\n",
            "Collecting alembic>=1.5.0 (from optuna)\n",
            "  Downloading alembic-1.14.0-py3-none-any.whl.metadata (7.4 kB)\n",
            "Collecting colorlog (from optuna)\n",
            "  Downloading colorlog-6.9.0-py3-none-any.whl.metadata (10 kB)\n",
            "Requirement already satisfied: numpy in /usr/local/lib/python3.10/dist-packages (from optuna) (1.26.4)\n",
            "Requirement already satisfied: packaging>=20.0 in /usr/local/lib/python3.10/dist-packages (from optuna) (24.2)\n",
            "Requirement already satisfied: sqlalchemy>=1.4.2 in /usr/local/lib/python3.10/dist-packages (from optuna) (2.0.36)\n",
            "Requirement already satisfied: tqdm in /usr/local/lib/python3.10/dist-packages (from optuna) (4.67.1)\n",
            "Requirement already satisfied: PyYAML in /usr/local/lib/python3.10/dist-packages (from optuna) (6.0.2)\n",
            "Collecting Mako (from alembic>=1.5.0->optuna)\n",
            "  Downloading Mako-1.3.8-py3-none-any.whl.metadata (2.9 kB)\n",
            "Requirement already satisfied: typing-extensions>=4 in /usr/local/lib/python3.10/dist-packages (from alembic>=1.5.0->optuna) (4.12.2)\n",
            "Requirement already satisfied: greenlet!=0.4.17 in /usr/local/lib/python3.10/dist-packages (from sqlalchemy>=1.4.2->optuna) (3.1.1)\n",
            "Requirement already satisfied: MarkupSafe>=0.9.2 in /usr/local/lib/python3.10/dist-packages (from Mako->alembic>=1.5.0->optuna) (3.0.2)\n",
            "Downloading optuna-4.1.0-py3-none-any.whl (364 kB)\n",
            "\u001b[2K   \u001b[90m━━━━━━━━━━━━━━━━━━━━━━━━━━━━━━━━━━━━━━━━\u001b[0m \u001b[32m364.4/364.4 kB\u001b[0m \u001b[31m9.2 MB/s\u001b[0m eta \u001b[36m0:00:00\u001b[0m\n",
            "\u001b[?25hDownloading alembic-1.14.0-py3-none-any.whl (233 kB)\n",
            "\u001b[2K   \u001b[90m━━━━━━━━━━━━━━━━━━━━━━━━━━━━━━━━━━━━━━━━\u001b[0m \u001b[32m233.5/233.5 kB\u001b[0m \u001b[31m15.4 MB/s\u001b[0m eta \u001b[36m0:00:00\u001b[0m\n",
            "\u001b[?25hDownloading colorlog-6.9.0-py3-none-any.whl (11 kB)\n",
            "Downloading Mako-1.3.8-py3-none-any.whl (78 kB)\n",
            "\u001b[2K   \u001b[90m━━━━━━━━━━━━━━━━━━━━━━━━━━━━━━━━━━━━━━━━\u001b[0m \u001b[32m78.6/78.6 kB\u001b[0m \u001b[31m5.8 MB/s\u001b[0m eta \u001b[36m0:00:00\u001b[0m\n",
            "\u001b[?25hInstalling collected packages: Mako, colorlog, alembic, optuna\n",
            "Successfully installed Mako-1.3.8 alembic-1.14.0 colorlog-6.9.0 optuna-4.1.0\n"
          ]
        }
      ],
      "source": [
        "!pip install optuna"
      ]
    },
    {
      "cell_type": "markdown",
      "metadata": {
        "id": "pxCq1HorCAJ9"
      },
      "source": [
        "# Optuna"
      ]
    },
    {
      "cell_type": "code",
      "execution_count": null,
      "metadata": {
        "colab": {
          "base_uri": "https://localhost:8080/",
          "height": 740
        },
        "id": "FW3SuB3zCBi4",
        "outputId": "5481cdea-c61c-4aeb-8bec-6736c9cc964b",
        "collapsed": true
      },
      "outputs": [
        {
          "output_type": "stream",
          "name": "stderr",
          "text": [
            "[I 2025-01-02 16:23:56,473] A new study created in memory with name: no-name-22f07f69-ac3e-488c-a045-a5da8127a095\n",
            "[I 2025-01-02 16:23:59,394] Trial 0 finished with value: 0.4925666632095018 and parameters: {'n_estimators': 104, 'max_depth': 6, 'min_samples_split': 3, 'min_samples_leaf': 34, 'max_features': 'sqrt', 'criterion': 'squared_error'}. Best is trial 0 with value: 0.4925666632095018.\n",
            "[I 2025-01-02 16:24:10,985] Trial 1 finished with value: 0.5056159571337189 and parameters: {'n_estimators': 347, 'max_depth': 6, 'min_samples_split': 5, 'min_samples_leaf': 26, 'max_features': 'log2', 'criterion': 'squared_error'}. Best is trial 0 with value: 0.4925666632095018.\n",
            "[I 2025-01-02 16:24:21,651] Trial 2 finished with value: 0.5590516181717864 and parameters: {'n_estimators': 451, 'max_depth': 8, 'min_samples_split': 2, 'min_samples_leaf': 7, 'max_features': 'sqrt', 'criterion': 'squared_error'}. Best is trial 0 with value: 0.4925666632095018.\n",
            "[I 2025-01-02 16:25:37,311] Trial 3 finished with value: 0.4914074060112408 and parameters: {'n_estimators': 151, 'max_depth': 9, 'min_samples_split': 5, 'min_samples_leaf': 30, 'max_features': 'log2', 'criterion': 'absolute_error'}. Best is trial 3 with value: 0.4914074060112408.\n",
            "[I 2025-01-02 16:25:48,245] Trial 5 finished with value: 0.5636280009533823 and parameters: {'n_estimators': 436, 'max_depth': 7, 'min_samples_split': 5, 'min_samples_leaf': 5, 'max_features': 'log2', 'criterion': 'squared_error'}. Best is trial 3 with value: 0.4914074060112408.\n",
            "[I 2025-01-02 16:26:39,310] Trial 4 finished with value: 0.49676833520884345 and parameters: {'n_estimators': 265, 'max_depth': 10, 'min_samples_split': 2, 'min_samples_leaf': 28, 'max_features': 'sqrt', 'criterion': 'absolute_error'}. Best is trial 3 with value: 0.4914074060112408.\n",
            "[I 2025-01-02 16:26:44,603] Trial 7 finished with value: 0.5123610599146257 and parameters: {'n_estimators': 331, 'max_depth': 10, 'min_samples_split': 3, 'min_samples_leaf': 22, 'max_features': 'sqrt', 'criterion': 'squared_error'}. Best is trial 3 with value: 0.4914074060112408.\n",
            "[I 2025-01-02 16:26:48,074] Trial 8 finished with value: 0.5294079815918905 and parameters: {'n_estimators': 198, 'max_depth': 10, 'min_samples_split': 4, 'min_samples_leaf': 14, 'max_features': 'sqrt', 'criterion': 'squared_error'}. Best is trial 3 with value: 0.4914074060112408.\n",
            "[I 2025-01-02 16:28:34,553] Trial 6 finished with value: 0.49376794595546203 and parameters: {'n_estimators': 345, 'max_depth': 7, 'min_samples_split': 4, 'min_samples_leaf': 29, 'max_features': 'log2', 'criterion': 'absolute_error'}. Best is trial 3 with value: 0.4914074060112408.\n",
            "[I 2025-01-02 16:30:44,818] Trial 9 finished with value: 0.5052987264173721 and parameters: {'n_estimators': 481, 'max_depth': 8, 'min_samples_split': 2, 'min_samples_leaf': 22, 'max_features': 'log2', 'criterion': 'absolute_error'}. Best is trial 3 with value: 0.4914074060112408.\n",
            "[I 2025-01-02 16:30:57,786] Trial 11 finished with value: 0.5592197450850573 and parameters: {'n_estimators': 475, 'max_depth': 8, 'min_samples_split': 5, 'min_samples_leaf': 7, 'max_features': 'sqrt', 'criterion': 'squared_error'}. Best is trial 3 with value: 0.4914074060112408.\n",
            "[I 2025-01-02 16:31:07,366] Trial 12 finished with value: 0.5104128845655538 and parameters: {'n_estimators': 438, 'max_depth': 10, 'min_samples_split': 4, 'min_samples_leaf': 23, 'max_features': 'log2', 'criterion': 'squared_error'}. Best is trial 3 with value: 0.4914074060112408.\n",
            "[I 2025-01-02 16:32:13,519] Trial 13 finished with value: 0.4814889961648824 and parameters: {'n_estimators': 141, 'max_depth': 5, 'min_samples_split': 4, 'min_samples_leaf': 40, 'max_features': 'sqrt', 'criterion': 'absolute_error'}. Best is trial 13 with value: 0.4814889961648824.\n",
            "[I 2025-01-02 16:32:22,317] Trial 10 finished with value: 0.49264382332541545 and parameters: {'n_estimators': 474, 'max_depth': 7, 'min_samples_split': 4, 'min_samples_leaf': 30, 'max_features': 'log2', 'criterion': 'absolute_error'}. Best is trial 13 with value: 0.4814889961648824.\n",
            "[I 2025-01-02 16:32:25,469] Trial 15 finished with value: 0.49929078525022486 and parameters: {'n_estimators': 120, 'max_depth': 10, 'min_samples_split': 3, 'min_samples_leaf': 30, 'max_features': 'sqrt', 'criterion': 'squared_error'}. Best is trial 13 with value: 0.4814889961648824.\n",
            "[I 2025-01-02 16:34:11,964] Trial 16 finished with value: 0.48635417503982037 and parameters: {'n_estimators': 202, 'max_depth': 8, 'min_samples_split': 5, 'min_samples_leaf': 36, 'max_features': 'sqrt', 'criterion': 'absolute_error'}. Best is trial 13 with value: 0.4814889961648824.\n"
          ]
        },
        {
          "output_type": "error",
          "ename": "KeyboardInterrupt",
          "evalue": "",
          "traceback": [
            "\u001b[0;31m---------------------------------------------------------------------------\u001b[0m",
            "\u001b[0;31mKeyboardInterrupt\u001b[0m                         Traceback (most recent call last)",
            "\u001b[0;32m/usr/local/lib/python3.10/dist-packages/optuna/study/_optimize.py\u001b[0m in \u001b[0;36m_optimize\u001b[0;34m(study, func, n_trials, timeout, n_jobs, catch, callbacks, gc_after_trial, show_progress_bar)\u001b[0m\n\u001b[1;32m     96\u001b[0m                     \u001b[0;32mif\u001b[0m \u001b[0mlen\u001b[0m\u001b[0;34m(\u001b[0m\u001b[0mfutures\u001b[0m\u001b[0;34m)\u001b[0m \u001b[0;34m>=\u001b[0m \u001b[0mn_jobs\u001b[0m\u001b[0;34m:\u001b[0m\u001b[0;34m\u001b[0m\u001b[0;34m\u001b[0m\u001b[0m\n\u001b[0;32m---> 97\u001b[0;31m                         \u001b[0mcompleted\u001b[0m\u001b[0;34m,\u001b[0m \u001b[0mfutures\u001b[0m \u001b[0;34m=\u001b[0m \u001b[0mwait\u001b[0m\u001b[0;34m(\u001b[0m\u001b[0mfutures\u001b[0m\u001b[0;34m,\u001b[0m \u001b[0mreturn_when\u001b[0m\u001b[0;34m=\u001b[0m\u001b[0mFIRST_COMPLETED\u001b[0m\u001b[0;34m)\u001b[0m\u001b[0;34m\u001b[0m\u001b[0;34m\u001b[0m\u001b[0m\n\u001b[0m\u001b[1;32m     98\u001b[0m                         \u001b[0;31m# Raise if exception occurred in executing the completed futures.\u001b[0m\u001b[0;34m\u001b[0m\u001b[0;34m\u001b[0m\u001b[0m\n",
            "\u001b[0;32m/usr/lib/python3.10/concurrent/futures/_base.py\u001b[0m in \u001b[0;36mwait\u001b[0;34m(fs, timeout, return_when)\u001b[0m\n\u001b[1;32m    306\u001b[0m \u001b[0;34m\u001b[0m\u001b[0m\n\u001b[0;32m--> 307\u001b[0;31m     \u001b[0mwaiter\u001b[0m\u001b[0;34m.\u001b[0m\u001b[0mevent\u001b[0m\u001b[0;34m.\u001b[0m\u001b[0mwait\u001b[0m\u001b[0;34m(\u001b[0m\u001b[0mtimeout\u001b[0m\u001b[0;34m)\u001b[0m\u001b[0;34m\u001b[0m\u001b[0;34m\u001b[0m\u001b[0m\n\u001b[0m\u001b[1;32m    308\u001b[0m     \u001b[0;32mfor\u001b[0m \u001b[0mf\u001b[0m \u001b[0;32min\u001b[0m \u001b[0mfs\u001b[0m\u001b[0;34m:\u001b[0m\u001b[0;34m\u001b[0m\u001b[0;34m\u001b[0m\u001b[0m\n",
            "\u001b[0;32m/usr/lib/python3.10/threading.py\u001b[0m in \u001b[0;36mwait\u001b[0;34m(self, timeout)\u001b[0m\n\u001b[1;32m    606\u001b[0m             \u001b[0;32mif\u001b[0m \u001b[0;32mnot\u001b[0m \u001b[0msignaled\u001b[0m\u001b[0;34m:\u001b[0m\u001b[0;34m\u001b[0m\u001b[0;34m\u001b[0m\u001b[0m\n\u001b[0;32m--> 607\u001b[0;31m                 \u001b[0msignaled\u001b[0m \u001b[0;34m=\u001b[0m \u001b[0mself\u001b[0m\u001b[0;34m.\u001b[0m\u001b[0m_cond\u001b[0m\u001b[0;34m.\u001b[0m\u001b[0mwait\u001b[0m\u001b[0;34m(\u001b[0m\u001b[0mtimeout\u001b[0m\u001b[0;34m)\u001b[0m\u001b[0;34m\u001b[0m\u001b[0;34m\u001b[0m\u001b[0m\n\u001b[0m\u001b[1;32m    608\u001b[0m             \u001b[0;32mreturn\u001b[0m \u001b[0msignaled\u001b[0m\u001b[0;34m\u001b[0m\u001b[0;34m\u001b[0m\u001b[0m\n",
            "\u001b[0;32m/usr/lib/python3.10/threading.py\u001b[0m in \u001b[0;36mwait\u001b[0;34m(self, timeout)\u001b[0m\n\u001b[1;32m    319\u001b[0m             \u001b[0;32mif\u001b[0m \u001b[0mtimeout\u001b[0m \u001b[0;32mis\u001b[0m \u001b[0;32mNone\u001b[0m\u001b[0;34m:\u001b[0m\u001b[0;34m\u001b[0m\u001b[0;34m\u001b[0m\u001b[0m\n\u001b[0;32m--> 320\u001b[0;31m                 \u001b[0mwaiter\u001b[0m\u001b[0;34m.\u001b[0m\u001b[0macquire\u001b[0m\u001b[0;34m(\u001b[0m\u001b[0;34m)\u001b[0m\u001b[0;34m\u001b[0m\u001b[0;34m\u001b[0m\u001b[0m\n\u001b[0m\u001b[1;32m    321\u001b[0m                 \u001b[0mgotit\u001b[0m \u001b[0;34m=\u001b[0m \u001b[0;32mTrue\u001b[0m\u001b[0;34m\u001b[0m\u001b[0;34m\u001b[0m\u001b[0m\n",
            "\u001b[0;31mKeyboardInterrupt\u001b[0m: ",
            "\nDuring handling of the above exception, another exception occurred:\n",
            "\u001b[0;31mKeyboardInterrupt\u001b[0m                         Traceback (most recent call last)",
            "\u001b[0;32m<ipython-input-33-bd9df78cfeb6>\u001b[0m in \u001b[0;36m<cell line: 22>\u001b[0;34m()\u001b[0m\n\u001b[1;32m     20\u001b[0m \u001b[0;34m\u001b[0m\u001b[0m\n\u001b[1;32m     21\u001b[0m \u001b[0mstudy\u001b[0m \u001b[0;34m=\u001b[0m \u001b[0moptuna\u001b[0m\u001b[0;34m.\u001b[0m\u001b[0mcreate_study\u001b[0m\u001b[0;34m(\u001b[0m\u001b[0mdirection\u001b[0m\u001b[0;34m=\u001b[0m\u001b[0;34m'minimize'\u001b[0m\u001b[0;34m,\u001b[0m \u001b[0msampler\u001b[0m\u001b[0;34m=\u001b[0m\u001b[0moptuna\u001b[0m\u001b[0;34m.\u001b[0m\u001b[0msamplers\u001b[0m\u001b[0;34m.\u001b[0m\u001b[0mRandomSampler\u001b[0m\u001b[0;34m(\u001b[0m\u001b[0mseed\u001b[0m\u001b[0;34m=\u001b[0m\u001b[0;36m42\u001b[0m\u001b[0;34m)\u001b[0m\u001b[0;34m)\u001b[0m\u001b[0;34m\u001b[0m\u001b[0;34m\u001b[0m\u001b[0m\n\u001b[0;32m---> 22\u001b[0;31m \u001b[0mstudy\u001b[0m\u001b[0;34m.\u001b[0m\u001b[0moptimize\u001b[0m\u001b[0;34m(\u001b[0m\u001b[0mobjective\u001b[0m\u001b[0;34m,\u001b[0m \u001b[0mn_trials\u001b[0m\u001b[0;34m=\u001b[0m\u001b[0;36m200\u001b[0m\u001b[0;34m,\u001b[0m\u001b[0mn_jobs\u001b[0m\u001b[0;34m=\u001b[0m\u001b[0;34m-\u001b[0m\u001b[0;36m1\u001b[0m\u001b[0;34m)\u001b[0m\u001b[0;34m\u001b[0m\u001b[0;34m\u001b[0m\u001b[0m\n\u001b[0m\u001b[1;32m     23\u001b[0m \u001b[0;34m\u001b[0m\u001b[0m\n\u001b[1;32m     24\u001b[0m \u001b[0;31m# Print the best parameters found\u001b[0m\u001b[0;34m\u001b[0m\u001b[0;34m\u001b[0m\u001b[0m\n",
            "\u001b[0;32m/usr/local/lib/python3.10/dist-packages/optuna/study/study.py\u001b[0m in \u001b[0;36moptimize\u001b[0;34m(self, func, n_trials, timeout, n_jobs, catch, callbacks, gc_after_trial, show_progress_bar)\u001b[0m\n\u001b[1;32m    473\u001b[0m                 \u001b[0mIf\u001b[0m \u001b[0mnested\u001b[0m \u001b[0minvocation\u001b[0m \u001b[0mof\u001b[0m \u001b[0mthis\u001b[0m \u001b[0mmethod\u001b[0m \u001b[0moccurs\u001b[0m\u001b[0;34m.\u001b[0m\u001b[0;34m\u001b[0m\u001b[0;34m\u001b[0m\u001b[0m\n\u001b[1;32m    474\u001b[0m         \"\"\"\n\u001b[0;32m--> 475\u001b[0;31m         _optimize(\n\u001b[0m\u001b[1;32m    476\u001b[0m             \u001b[0mstudy\u001b[0m\u001b[0;34m=\u001b[0m\u001b[0mself\u001b[0m\u001b[0;34m,\u001b[0m\u001b[0;34m\u001b[0m\u001b[0;34m\u001b[0m\u001b[0m\n\u001b[1;32m    477\u001b[0m             \u001b[0mfunc\u001b[0m\u001b[0;34m=\u001b[0m\u001b[0mfunc\u001b[0m\u001b[0;34m,\u001b[0m\u001b[0;34m\u001b[0m\u001b[0;34m\u001b[0m\u001b[0m\n",
            "\u001b[0;32m/usr/local/lib/python3.10/dist-packages/optuna/study/_optimize.py\u001b[0m in \u001b[0;36m_optimize\u001b[0;34m(study, func, n_trials, timeout, n_jobs, catch, callbacks, gc_after_trial, show_progress_bar)\u001b[0m\n\u001b[1;32m     80\u001b[0m             \u001b[0mfutures\u001b[0m\u001b[0;34m:\u001b[0m \u001b[0mset\u001b[0m\u001b[0;34m[\u001b[0m\u001b[0mFuture\u001b[0m\u001b[0;34m]\u001b[0m \u001b[0;34m=\u001b[0m \u001b[0mset\u001b[0m\u001b[0;34m(\u001b[0m\u001b[0;34m)\u001b[0m\u001b[0;34m\u001b[0m\u001b[0;34m\u001b[0m\u001b[0m\n\u001b[1;32m     81\u001b[0m \u001b[0;34m\u001b[0m\u001b[0m\n\u001b[0;32m---> 82\u001b[0;31m             \u001b[0;32mwith\u001b[0m \u001b[0mThreadPoolExecutor\u001b[0m\u001b[0;34m(\u001b[0m\u001b[0mmax_workers\u001b[0m\u001b[0;34m=\u001b[0m\u001b[0mn_jobs\u001b[0m\u001b[0;34m)\u001b[0m \u001b[0;32mas\u001b[0m \u001b[0mexecutor\u001b[0m\u001b[0;34m:\u001b[0m\u001b[0;34m\u001b[0m\u001b[0;34m\u001b[0m\u001b[0m\n\u001b[0m\u001b[1;32m     83\u001b[0m                 \u001b[0;32mfor\u001b[0m \u001b[0mn_submitted_trials\u001b[0m \u001b[0;32min\u001b[0m \u001b[0mitertools\u001b[0m\u001b[0;34m.\u001b[0m\u001b[0mcount\u001b[0m\u001b[0;34m(\u001b[0m\u001b[0;34m)\u001b[0m\u001b[0;34m:\u001b[0m\u001b[0;34m\u001b[0m\u001b[0;34m\u001b[0m\u001b[0m\n\u001b[1;32m     84\u001b[0m                     \u001b[0;32mif\u001b[0m \u001b[0mstudy\u001b[0m\u001b[0;34m.\u001b[0m\u001b[0m_stop_flag\u001b[0m\u001b[0;34m:\u001b[0m\u001b[0;34m\u001b[0m\u001b[0;34m\u001b[0m\u001b[0m\n",
            "\u001b[0;32m/usr/lib/python3.10/concurrent/futures/_base.py\u001b[0m in \u001b[0;36m__exit__\u001b[0;34m(self, exc_type, exc_val, exc_tb)\u001b[0m\n\u001b[1;32m    647\u001b[0m \u001b[0;34m\u001b[0m\u001b[0m\n\u001b[1;32m    648\u001b[0m     \u001b[0;32mdef\u001b[0m \u001b[0m__exit__\u001b[0m\u001b[0;34m(\u001b[0m\u001b[0mself\u001b[0m\u001b[0;34m,\u001b[0m \u001b[0mexc_type\u001b[0m\u001b[0;34m,\u001b[0m \u001b[0mexc_val\u001b[0m\u001b[0;34m,\u001b[0m \u001b[0mexc_tb\u001b[0m\u001b[0;34m)\u001b[0m\u001b[0;34m:\u001b[0m\u001b[0;34m\u001b[0m\u001b[0;34m\u001b[0m\u001b[0m\n\u001b[0;32m--> 649\u001b[0;31m         \u001b[0mself\u001b[0m\u001b[0;34m.\u001b[0m\u001b[0mshutdown\u001b[0m\u001b[0;34m(\u001b[0m\u001b[0mwait\u001b[0m\u001b[0;34m=\u001b[0m\u001b[0;32mTrue\u001b[0m\u001b[0;34m)\u001b[0m\u001b[0;34m\u001b[0m\u001b[0;34m\u001b[0m\u001b[0m\n\u001b[0m\u001b[1;32m    650\u001b[0m         \u001b[0;32mreturn\u001b[0m \u001b[0;32mFalse\u001b[0m\u001b[0;34m\u001b[0m\u001b[0;34m\u001b[0m\u001b[0m\n\u001b[1;32m    651\u001b[0m \u001b[0;34m\u001b[0m\u001b[0m\n",
            "\u001b[0;32m/usr/lib/python3.10/concurrent/futures/thread.py\u001b[0m in \u001b[0;36mshutdown\u001b[0;34m(self, wait, cancel_futures)\u001b[0m\n\u001b[1;32m    233\u001b[0m         \u001b[0;32mif\u001b[0m \u001b[0mwait\u001b[0m\u001b[0;34m:\u001b[0m\u001b[0;34m\u001b[0m\u001b[0;34m\u001b[0m\u001b[0m\n\u001b[1;32m    234\u001b[0m             \u001b[0;32mfor\u001b[0m \u001b[0mt\u001b[0m \u001b[0;32min\u001b[0m \u001b[0mself\u001b[0m\u001b[0;34m.\u001b[0m\u001b[0m_threads\u001b[0m\u001b[0;34m:\u001b[0m\u001b[0;34m\u001b[0m\u001b[0;34m\u001b[0m\u001b[0m\n\u001b[0;32m--> 235\u001b[0;31m                 \u001b[0mt\u001b[0m\u001b[0;34m.\u001b[0m\u001b[0mjoin\u001b[0m\u001b[0;34m(\u001b[0m\u001b[0;34m)\u001b[0m\u001b[0;34m\u001b[0m\u001b[0;34m\u001b[0m\u001b[0m\n\u001b[0m\u001b[1;32m    236\u001b[0m     \u001b[0mshutdown\u001b[0m\u001b[0;34m.\u001b[0m\u001b[0m__doc__\u001b[0m \u001b[0;34m=\u001b[0m \u001b[0m_base\u001b[0m\u001b[0;34m.\u001b[0m\u001b[0mExecutor\u001b[0m\u001b[0;34m.\u001b[0m\u001b[0mshutdown\u001b[0m\u001b[0;34m.\u001b[0m\u001b[0m__doc__\u001b[0m\u001b[0;34m\u001b[0m\u001b[0;34m\u001b[0m\u001b[0m\n",
            "\u001b[0;32m/usr/lib/python3.10/threading.py\u001b[0m in \u001b[0;36mjoin\u001b[0;34m(self, timeout)\u001b[0m\n\u001b[1;32m   1094\u001b[0m \u001b[0;34m\u001b[0m\u001b[0m\n\u001b[1;32m   1095\u001b[0m         \u001b[0;32mif\u001b[0m \u001b[0mtimeout\u001b[0m \u001b[0;32mis\u001b[0m \u001b[0;32mNone\u001b[0m\u001b[0;34m:\u001b[0m\u001b[0;34m\u001b[0m\u001b[0;34m\u001b[0m\u001b[0m\n\u001b[0;32m-> 1096\u001b[0;31m             \u001b[0mself\u001b[0m\u001b[0;34m.\u001b[0m\u001b[0m_wait_for_tstate_lock\u001b[0m\u001b[0;34m(\u001b[0m\u001b[0;34m)\u001b[0m\u001b[0;34m\u001b[0m\u001b[0;34m\u001b[0m\u001b[0m\n\u001b[0m\u001b[1;32m   1097\u001b[0m         \u001b[0;32melse\u001b[0m\u001b[0;34m:\u001b[0m\u001b[0;34m\u001b[0m\u001b[0;34m\u001b[0m\u001b[0m\n\u001b[1;32m   1098\u001b[0m             \u001b[0;31m# the behavior of a negative timeout isn't documented, but\u001b[0m\u001b[0;34m\u001b[0m\u001b[0;34m\u001b[0m\u001b[0m\n",
            "\u001b[0;32m/usr/lib/python3.10/threading.py\u001b[0m in \u001b[0;36m_wait_for_tstate_lock\u001b[0;34m(self, block, timeout)\u001b[0m\n\u001b[1;32m   1114\u001b[0m \u001b[0;34m\u001b[0m\u001b[0m\n\u001b[1;32m   1115\u001b[0m         \u001b[0;32mtry\u001b[0m\u001b[0;34m:\u001b[0m\u001b[0;34m\u001b[0m\u001b[0;34m\u001b[0m\u001b[0m\n\u001b[0;32m-> 1116\u001b[0;31m             \u001b[0;32mif\u001b[0m \u001b[0mlock\u001b[0m\u001b[0;34m.\u001b[0m\u001b[0macquire\u001b[0m\u001b[0;34m(\u001b[0m\u001b[0mblock\u001b[0m\u001b[0;34m,\u001b[0m \u001b[0mtimeout\u001b[0m\u001b[0;34m)\u001b[0m\u001b[0;34m:\u001b[0m\u001b[0;34m\u001b[0m\u001b[0;34m\u001b[0m\u001b[0m\n\u001b[0m\u001b[1;32m   1117\u001b[0m                 \u001b[0mlock\u001b[0m\u001b[0;34m.\u001b[0m\u001b[0mrelease\u001b[0m\u001b[0;34m(\u001b[0m\u001b[0;34m)\u001b[0m\u001b[0;34m\u001b[0m\u001b[0;34m\u001b[0m\u001b[0m\n\u001b[1;32m   1118\u001b[0m                 \u001b[0mself\u001b[0m\u001b[0;34m.\u001b[0m\u001b[0m_stop\u001b[0m\u001b[0;34m(\u001b[0m\u001b[0;34m)\u001b[0m\u001b[0;34m\u001b[0m\u001b[0;34m\u001b[0m\u001b[0m\n",
            "\u001b[0;31mKeyboardInterrupt\u001b[0m: "
          ]
        }
      ],
      "source": [
        "import optuna\n",
        "from sklearn.model_selection import cross_val_score\n",
        "def objective(trial):\n",
        "  n_estimators = trial.suggest_int('n_estimators', 100, 500)\n",
        "  max_depth = trial.suggest_int('max_depth', 5, 10)\n",
        "  min_samples_split = trial.suggest_int('min_samples_split', 2, 5)\n",
        "  min_samples_leaf = trial.suggest_int('min_samples_leaf', 5, 50)\n",
        "  max_features = trial.suggest_categorical('max_features', ['sqrt', 'log2'])\n",
        "  criterion = trial.suggest_categorical('criterion', [\"squared_error\", \"absolute_error\"])\n",
        "  model = RandomForestRegressor(n_estimators=n_estimators, max_depth= None,\n",
        "                                min_samples_split=min_samples_split, min_samples_leaf=min_samples_leaf,\n",
        "                                max_features=max_features, criterion=criterion,bootstrap = True,random_state = 21)\n",
        "  model.fit(X_train, y_train)\n",
        "  y_pred = model.predict(X_test)\n",
        "\n",
        "    # metric  to optimize\n",
        "  score = r2_score(y_test, y_pred)\n",
        "\n",
        "  return score\n",
        "\n",
        "study = optuna.create_study(direction='minimize', sampler=optuna.samplers.RandomSampler(seed=42))\n",
        "study.optimize(objective, n_trials=200,n_jobs=-1)\n",
        "\n",
        "# Print the best parameters found\n",
        "print(\"Best trial:\")\n",
        "trial = study.best_trial\n",
        "\n",
        "print(\"Value: {:.4f}\".format(trial.value))\n",
        "\n",
        "print(\"Params: \")\n",
        "for key, value in trial.params.items():\n",
        "    print(\"    {}: {}\".format(key, value))\n"
      ]
    },
    {
      "cell_type": "code",
      "source": [
        "import optuna\n",
        "from sklearn.ensemble import RandomForestRegressor\n",
        "from sklearn.metrics import r2_score\n",
        "from sklearn.model_selection import cross_val_score\n",
        "\n",
        "def objective(trial):\n",
        "    n_estimators = trial.suggest_int('n_estimators', 50,300)\n",
        "    max_depth = trial.suggest_int('max_depth', 3, 10)\n",
        "    min_samples_split = trial.suggest_int('min_samples_split', 2, 5)\n",
        "    min_samples_leaf = trial.suggest_int('min_samples_leaf', 5, 50)\n",
        "    max_features = trial.suggest_categorical('max_features', ['sqrt', 'log2'])\n",
        "    criterion = trial.suggest_categorical('criterion', [\"squared_error\", \"absolute_error\"])\n",
        "\n",
        "    model = RandomForestRegressor(\n",
        "        n_estimators=n_estimators, max_depth=max_depth,\n",
        "        min_samples_split=min_samples_split, min_samples_leaf=min_samples_leaf,\n",
        "        max_features=max_features, criterion=criterion, bootstrap=True,\n",
        "        random_state=21\n",
        "    )\n",
        "\n",
        "    # Cross-validation for stability and to reduce overfitting\n",
        "    score = cross_val_score(model, X_train, y_train, cv=5, scoring=\"r2\").mean()\n",
        "    print(f\"Trial {trial.number} - R2 score: {score:.4f}\")  # Print score for each trial\n",
        "\n",
        "    return -score  # Minimize negative R² to maximize R²\n",
        "\n",
        "study = optuna.create_study(direction='minimize', sampler=optuna.samplers.RandomSampler(seed=42))\n",
        "study.optimize(objective, n_trials=200, n_jobs=-1)\n",
        "\n",
        "print(\"Best trial:\")\n",
        "trial = study.best_trial\n",
        "print(\"Value: {:.4f}\".format(-trial.value))  # Invert sign to show positive R²\n",
        "print(\"Params: \")\n",
        "for key, value in trial.params.items():\n",
        "    print(\"    {}: {}\".format(key, value))\n"
      ],
      "metadata": {
        "colab": {
          "base_uri": "https://localhost:8080/"
        },
        "id": "Ff-lZpIayjiA",
        "outputId": "c3c36035-22b7-47f0-9530-a1904b9e139e",
        "collapsed": true
      },
      "execution_count": null,
      "outputs": [
        {
          "metadata": {
            "tags": null
          },
          "name": "stderr",
          "output_type": "stream",
          "text": [
            "[I 2024-10-25 17:49:57,766] A new study created in memory with name: no-name-93b42dd9-d2bb-4939-93a5-883873ca129f\n",
            "[I 2024-10-25 17:50:44,074] Trial 11 finished with value: -0.511803132817515 and parameters: {'n_estimators': 57, 'max_depth': 10, 'min_samples_split': 5, 'min_samples_leaf': 9, 'max_features': 'log2', 'criterion': 'squared_error'}. Best is trial 11 with value: -0.511803132817515.\n"
          ]
        },
        {
          "metadata": {
            "tags": null
          },
          "name": "stdout",
          "output_type": "stream",
          "text": [
            "Trial 11 - R2 score: 0.5118\n"
          ]
        },
        {
          "metadata": {
            "tags": null
          },
          "name": "stderr",
          "output_type": "stream",
          "text": [
            "[I 2024-10-25 17:50:46,293] Trial 45 finished with value: -0.3768865437346462 and parameters: {'n_estimators': 62, 'max_depth': 3, 'min_samples_split': 5, 'min_samples_leaf': 42, 'max_features': 'sqrt', 'criterion': 'squared_error'}. Best is trial 11 with value: -0.511803132817515.\n"
          ]
        },
        {
          "metadata": {
            "tags": null
          },
          "name": "stdout",
          "output_type": "stream",
          "text": [
            "Trial 45 - R2 score: 0.3769\n"
          ]
        },
        {
          "metadata": {
            "tags": null
          },
          "name": "stderr",
          "output_type": "stream",
          "text": [
            "[I 2024-10-25 17:50:48,492] Trial 71 finished with value: -0.49055350743855036 and parameters: {'n_estimators': 55, 'max_depth': 9, 'min_samples_split': 4, 'min_samples_leaf': 27, 'max_features': 'log2', 'criterion': 'squared_error'}. Best is trial 11 with value: -0.511803132817515.\n",
            "[I 2024-10-25 17:50:48,566] Trial 67 finished with value: -0.4451744916341597 and parameters: {'n_estimators': 57, 'max_depth': 5, 'min_samples_split': 3, 'min_samples_leaf': 43, 'max_features': 'log2', 'criterion': 'squared_error'}. Best is trial 11 with value: -0.511803132817515.\n"
          ]
        },
        {
          "metadata": {
            "tags": null
          },
          "name": "stdout",
          "output_type": "stream",
          "text": [
            "Trial 71 - R2 score: 0.4906\n",
            "Trial 67 - R2 score: 0.4452\n"
          ]
        },
        {
          "metadata": {
            "tags": null
          },
          "name": "stderr",
          "output_type": "stream",
          "text": [
            "[I 2024-10-25 17:50:49,824] Trial 77 finished with value: -0.3976749994114619 and parameters: {'n_estimators': 63, 'max_depth': 3, 'min_samples_split': 3, 'min_samples_leaf': 49, 'max_features': 'log2', 'criterion': 'squared_error'}. Best is trial 11 with value: -0.511803132817515.\n",
            "[I 2024-10-25 17:50:49,835] Trial 43 finished with value: -0.4754883057260697 and parameters: {'n_estimators': 59, 'max_depth': 7, 'min_samples_split': 2, 'min_samples_leaf': 23, 'max_features': 'log2', 'criterion': 'squared_error'}. Best is trial 11 with value: -0.511803132817515.\n"
          ]
        },
        {
          "metadata": {
            "tags": null
          },
          "name": "stdout",
          "output_type": "stream",
          "text": [
            "Trial 77 - R2 score: 0.3977\n",
            "Trial 43 - R2 score: 0.4755\n"
          ]
        },
        {
          "metadata": {
            "tags": null
          },
          "name": "stderr",
          "output_type": "stream",
          "text": [
            "[I 2024-10-25 17:50:53,342] Trial 91 finished with value: -0.42610858348579017 and parameters: {'n_estimators': 64, 'max_depth': 4, 'min_samples_split': 4, 'min_samples_leaf': 8, 'max_features': 'log2', 'criterion': 'squared_error'}. Best is trial 11 with value: -0.511803132817515.\n"
          ]
        },
        {
          "metadata": {
            "tags": null
          },
          "name": "stdout",
          "output_type": "stream",
          "text": [
            "Trial 91 - R2 score: 0.4261\n"
          ]
        },
        {
          "metadata": {
            "tags": null
          },
          "name": "stderr",
          "output_type": "stream",
          "text": [
            "[I 2024-10-25 17:50:58,305] Trial 76 finished with value: -0.4481881806366482 and parameters: {'n_estimators': 74, 'max_depth': 6, 'min_samples_split': 5, 'min_samples_leaf': 22, 'max_features': 'sqrt', 'criterion': 'squared_error'}. Best is trial 11 with value: -0.511803132817515.\n"
          ]
        },
        {
          "metadata": {
            "tags": null
          },
          "name": "stdout",
          "output_type": "stream",
          "text": [
            "Trial 76 - R2 score: 0.4482\n"
          ]
        },
        {
          "metadata": {
            "tags": null
          },
          "name": "stderr",
          "output_type": "stream",
          "text": [
            "[I 2024-10-25 17:51:04,135] Trial 3 finished with value: -0.3985478783314252 and parameters: {'n_estimators': 102, 'max_depth': 3, 'min_samples_split': 5, 'min_samples_leaf': 43, 'max_features': 'log2', 'criterion': 'squared_error'}. Best is trial 11 with value: -0.511803132817515.\n"
          ]
        },
        {
          "metadata": {
            "tags": null
          },
          "name": "stdout",
          "output_type": "stream",
          "text": [
            "Trial 3 - R2 score: 0.3985\n"
          ]
        },
        {
          "metadata": {
            "tags": null
          },
          "name": "stderr",
          "output_type": "stream",
          "text": [
            "[I 2024-10-25 17:51:09,712] Trial 69 finished with value: -0.47002263322165827 and parameters: {'n_estimators': 88, 'max_depth': 8, 'min_samples_split': 3, 'min_samples_leaf': 28, 'max_features': 'sqrt', 'criterion': 'squared_error'}. Best is trial 11 with value: -0.511803132817515.\n"
          ]
        },
        {
          "metadata": {
            "tags": null
          },
          "name": "stdout",
          "output_type": "stream",
          "text": [
            "Trial 69 - R2 score: 0.4700\n"
          ]
        },
        {
          "metadata": {
            "tags": null
          },
          "name": "stderr",
          "output_type": "stream",
          "text": [
            "[I 2024-10-25 17:51:10,059] Trial 58 finished with value: -0.48551994367281887 and parameters: {'n_estimators': 86, 'max_depth': 8, 'min_samples_split': 5, 'min_samples_leaf': 23, 'max_features': 'log2', 'criterion': 'squared_error'}. Best is trial 11 with value: -0.511803132817515.\n"
          ]
        },
        {
          "metadata": {
            "tags": null
          },
          "name": "stdout",
          "output_type": "stream",
          "text": [
            "Trial 58 - R2 score: 0.4855\n"
          ]
        },
        {
          "metadata": {
            "tags": null
          },
          "name": "stderr",
          "output_type": "stream",
          "text": [
            "[I 2024-10-25 17:51:20,455] Trial 92 finished with value: -0.4801430385606521 and parameters: {'n_estimators': 103, 'max_depth': 10, 'min_samples_split': 4, 'min_samples_leaf': 34, 'max_features': 'sqrt', 'criterion': 'squared_error'}. Best is trial 11 with value: -0.511803132817515.\n"
          ]
        },
        {
          "metadata": {
            "tags": null
          },
          "name": "stdout",
          "output_type": "stream",
          "text": [
            "Trial 92 - R2 score: 0.4801\n"
          ]
        },
        {
          "metadata": {
            "tags": null
          },
          "name": "stderr",
          "output_type": "stream",
          "text": [
            "[I 2024-10-25 17:51:20,769] Trial 81 finished with value: -0.37800311075936943 and parameters: {'n_estimators': 113, 'max_depth': 3, 'min_samples_split': 5, 'min_samples_leaf': 25, 'max_features': 'sqrt', 'criterion': 'squared_error'}. Best is trial 11 with value: -0.511803132817515.\n"
          ]
        },
        {
          "metadata": {
            "tags": null
          },
          "name": "stdout",
          "output_type": "stream",
          "text": [
            "Trial 81 - R2 score: 0.3780\n"
          ]
        },
        {
          "metadata": {
            "tags": null
          },
          "name": "stderr",
          "output_type": "stream",
          "text": [
            "[I 2024-10-25 17:51:21,312] Trial 2 finished with value: -0.3793335134762591 and parameters: {'n_estimators': 132, 'max_depth': 3, 'min_samples_split': 4, 'min_samples_leaf': 35, 'max_features': 'sqrt', 'criterion': 'squared_error'}. Best is trial 11 with value: -0.511803132817515.\n",
            "[I 2024-10-25 17:51:21,499] Trial 19 finished with value: -0.46799142173187674 and parameters: {'n_estimators': 115, 'max_depth': 8, 'min_samples_split': 4, 'min_samples_leaf': 34, 'max_features': 'sqrt', 'criterion': 'squared_error'}. Best is trial 11 with value: -0.511803132817515.\n"
          ]
        },
        {
          "metadata": {
            "tags": null
          },
          "name": "stdout",
          "output_type": "stream",
          "text": [
            "Trial 2 - R2 score: 0.3793\n",
            "Trial 19 - R2 score: 0.4680\n"
          ]
        },
        {
          "metadata": {
            "tags": null
          },
          "name": "stderr",
          "output_type": "stream",
          "text": [
            "[I 2024-10-25 17:51:22,394] Trial 15 finished with value: -0.4037843671011531 and parameters: {'n_estimators': 127, 'max_depth': 4, 'min_samples_split': 4, 'min_samples_leaf': 31, 'max_features': 'sqrt', 'criterion': 'squared_error'}. Best is trial 11 with value: -0.511803132817515.\n"
          ]
        },
        {
          "metadata": {
            "tags": null
          },
          "name": "stdout",
          "output_type": "stream",
          "text": [
            "Trial 15 - R2 score: 0.4038\n"
          ]
        },
        {
          "metadata": {
            "tags": null
          },
          "name": "stderr",
          "output_type": "stream",
          "text": [
            "[I 2024-10-25 17:51:23,961] Trial 57 finished with value: -0.4260548306479359 and parameters: {'n_estimators': 114, 'max_depth': 4, 'min_samples_split': 3, 'min_samples_leaf': 16, 'max_features': 'log2', 'criterion': 'squared_error'}. Best is trial 11 with value: -0.511803132817515.\n"
          ]
        },
        {
          "metadata": {
            "tags": null
          },
          "name": "stdout",
          "output_type": "stream",
          "text": [
            "Trial 57 - R2 score: 0.4261\n"
          ]
        },
        {
          "metadata": {
            "tags": null
          },
          "name": "stderr",
          "output_type": "stream",
          "text": [
            "[I 2024-10-25 17:51:33,478] Trial 55 finished with value: -0.40390325299656793 and parameters: {'n_estimators': 132, 'max_depth': 4, 'min_samples_split': 3, 'min_samples_leaf': 41, 'max_features': 'sqrt', 'criterion': 'squared_error'}. Best is trial 11 with value: -0.511803132817515.\n"
          ]
        },
        {
          "metadata": {
            "tags": null
          },
          "name": "stdout",
          "output_type": "stream",
          "text": [
            "Trial 55 - R2 score: 0.4039\n"
          ]
        },
        {
          "metadata": {
            "tags": null
          },
          "name": "stderr",
          "output_type": "stream",
          "text": [
            "[I 2024-10-25 17:51:35,125] Trial 102 finished with value: -0.47220010707416044 and parameters: {'n_estimators': 60, 'max_depth': 10, 'min_samples_split': 4, 'min_samples_leaf': 46, 'max_features': 'sqrt', 'criterion': 'squared_error'}. Best is trial 11 with value: -0.511803132817515.\n"
          ]
        },
        {
          "metadata": {
            "tags": null
          },
          "name": "stdout",
          "output_type": "stream",
          "text": [
            "Trial 102 - R2 score: 0.4722\n"
          ]
        },
        {
          "metadata": {
            "tags": null
          },
          "name": "stderr",
          "output_type": "stream",
          "text": [
            "[I 2024-10-25 17:51:38,645] Trial 82 finished with value: -0.4469217225158671 and parameters: {'n_estimators': 140, 'max_depth': 6, 'min_samples_split': 5, 'min_samples_leaf': 35, 'max_features': 'sqrt', 'criterion': 'squared_error'}. Best is trial 11 with value: -0.511803132817515.\n"
          ]
        },
        {
          "metadata": {
            "tags": null
          },
          "name": "stdout",
          "output_type": "stream",
          "text": [
            "Trial 82 - R2 score: 0.4469\n"
          ]
        },
        {
          "metadata": {
            "tags": null
          },
          "name": "stderr",
          "output_type": "stream",
          "text": [
            "[I 2024-10-25 17:51:40,842] Trial 6 finished with value: -0.48439058481719305 and parameters: {'n_estimators': 142, 'max_depth': 8, 'min_samples_split': 4, 'min_samples_leaf': 28, 'max_features': 'log2', 'criterion': 'squared_error'}. Best is trial 11 with value: -0.511803132817515.\n"
          ]
        },
        {
          "metadata": {
            "tags": null
          },
          "name": "stdout",
          "output_type": "stream",
          "text": [
            "Trial 6 - R2 score: 0.4844\n"
          ]
        },
        {
          "metadata": {
            "tags": null
          },
          "name": "stderr",
          "output_type": "stream",
          "text": [
            "[I 2024-10-25 17:51:41,787] Trial 60 finished with value: -0.45535519088585463 and parameters: {'n_estimators': 145, 'max_depth': 7, 'min_samples_split': 3, 'min_samples_leaf': 45, 'max_features': 'sqrt', 'criterion': 'squared_error'}. Best is trial 11 with value: -0.511803132817515.\n"
          ]
        },
        {
          "metadata": {
            "tags": null
          },
          "name": "stdout",
          "output_type": "stream",
          "text": [
            "Trial 60 - R2 score: 0.4554\n"
          ]
        },
        {
          "metadata": {
            "tags": null
          },
          "name": "stderr",
          "output_type": "stream",
          "text": [
            "[I 2024-10-25 17:51:45,772] Trial 85 finished with value: -0.49520108739039487 and parameters: {'n_estimators': 135, 'max_depth': 9, 'min_samples_split': 5, 'min_samples_leaf': 22, 'max_features': 'log2', 'criterion': 'squared_error'}. Best is trial 11 with value: -0.511803132817515.\n"
          ]
        },
        {
          "metadata": {
            "tags": null
          },
          "name": "stdout",
          "output_type": "stream",
          "text": [
            "Trial 85 - R2 score: 0.4952\n"
          ]
        },
        {
          "metadata": {
            "tags": null
          },
          "name": "stderr",
          "output_type": "stream",
          "text": [
            "[I 2024-10-25 17:51:47,974] Trial 97 finished with value: -0.4466016762316226 and parameters: {'n_estimators': 98, 'max_depth': 6, 'min_samples_split': 2, 'min_samples_leaf': 24, 'max_features': 'sqrt', 'criterion': 'squared_error'}. Best is trial 11 with value: -0.511803132817515.\n"
          ]
        },
        {
          "metadata": {
            "tags": null
          },
          "name": "stdout",
          "output_type": "stream",
          "text": [
            "Trial 97 - R2 score: 0.4466\n"
          ]
        },
        {
          "metadata": {
            "tags": null
          },
          "name": "stderr",
          "output_type": "stream",
          "text": [
            "[I 2024-10-25 17:51:49,122] Trial 59 finished with value: -0.4052080297929569 and parameters: {'n_estimators': 162, 'max_depth': 4, 'min_samples_split': 5, 'min_samples_leaf': 38, 'max_features': 'sqrt', 'criterion': 'squared_error'}. Best is trial 11 with value: -0.511803132817515.\n"
          ]
        },
        {
          "metadata": {
            "tags": null
          },
          "name": "stdout",
          "output_type": "stream",
          "text": [
            "Trial 59 - R2 score: 0.4052\n"
          ]
        },
        {
          "metadata": {
            "tags": null
          },
          "name": "stderr",
          "output_type": "stream",
          "text": [
            "[I 2024-10-25 17:51:49,448] Trial 63 finished with value: -0.44799004331563647 and parameters: {'n_estimators': 161, 'max_depth': 6, 'min_samples_split': 2, 'min_samples_leaf': 26, 'max_features': 'sqrt', 'criterion': 'squared_error'}. Best is trial 11 with value: -0.511803132817515.\n"
          ]
        },
        {
          "metadata": {
            "tags": null
          },
          "name": "stdout",
          "output_type": "stream",
          "text": [
            "Trial 63 - R2 score: 0.4480\n"
          ]
        },
        {
          "metadata": {
            "tags": null
          },
          "name": "stderr",
          "output_type": "stream",
          "text": [
            "[I 2024-10-25 17:51:52,451] Trial 39 finished with value: -0.4315640870327737 and parameters: {'n_estimators': 168, 'max_depth': 5, 'min_samples_split': 4, 'min_samples_leaf': 20, 'max_features': 'sqrt', 'criterion': 'squared_error'}. Best is trial 11 with value: -0.511803132817515.\n"
          ]
        },
        {
          "metadata": {
            "tags": null
          },
          "name": "stdout",
          "output_type": "stream",
          "text": [
            "Trial 39 - R2 score: 0.4316\n"
          ]
        },
        {
          "metadata": {
            "tags": null
          },
          "name": "stderr",
          "output_type": "stream",
          "text": [
            "[I 2024-10-25 17:51:52,741] Trial 1 finished with value: -0.4804611841178847 and parameters: {'n_estimators': 169, 'max_depth': 7, 'min_samples_split': 5, 'min_samples_leaf': 12, 'max_features': 'log2', 'criterion': 'squared_error'}. Best is trial 11 with value: -0.511803132817515.\n"
          ]
        },
        {
          "metadata": {
            "tags": null
          },
          "name": "stdout",
          "output_type": "stream",
          "text": [
            "Trial 1 - R2 score: 0.4805\n"
          ]
        },
        {
          "metadata": {
            "tags": null
          },
          "name": "stderr",
          "output_type": "stream",
          "text": [
            "[I 2024-10-25 17:51:57,713] Trial 32 finished with value: -0.4499204805788681 and parameters: {'n_estimators': 175, 'max_depth': 5, 'min_samples_split': 2, 'min_samples_leaf': 10, 'max_features': 'log2', 'criterion': 'squared_error'}. Best is trial 11 with value: -0.511803132817515.\n"
          ]
        },
        {
          "metadata": {
            "tags": null
          },
          "name": "stdout",
          "output_type": "stream",
          "text": [
            "Trial 32 - R2 score: 0.4499\n"
          ]
        },
        {
          "metadata": {
            "tags": null
          },
          "name": "stderr",
          "output_type": "stream",
          "text": [
            "[I 2024-10-25 17:51:59,290] Trial 46 finished with value: -0.46976638733756787 and parameters: {'n_estimators': 175, 'max_depth': 8, 'min_samples_split': 4, 'min_samples_leaf': 30, 'max_features': 'sqrt', 'criterion': 'squared_error'}. Best is trial 11 with value: -0.511803132817515.\n"
          ]
        },
        {
          "metadata": {
            "tags": null
          },
          "name": "stdout",
          "output_type": "stream",
          "text": [
            "Trial 46 - R2 score: 0.4698\n"
          ]
        },
        {
          "metadata": {
            "tags": null
          },
          "name": "stderr",
          "output_type": "stream",
          "text": [
            "[I 2024-10-25 17:52:02,042] Trial 12 finished with value: -0.43086757037233986 and parameters: {'n_estimators': 204, 'max_depth': 5, 'min_samples_split': 2, 'min_samples_leaf': 21, 'max_features': 'sqrt', 'criterion': 'squared_error'}. Best is trial 11 with value: -0.511803132817515.\n"
          ]
        },
        {
          "metadata": {
            "tags": null
          },
          "name": "stdout",
          "output_type": "stream",
          "text": [
            "Trial 12 - R2 score: 0.4309\n"
          ]
        },
        {
          "metadata": {
            "tags": null
          },
          "name": "stderr",
          "output_type": "stream",
          "text": [
            "[I 2024-10-25 17:52:06,504] Trial 47 finished with value: -0.39983814162446574 and parameters: {'n_estimators': 196, 'max_depth': 3, 'min_samples_split': 3, 'min_samples_leaf': 14, 'max_features': 'log2', 'criterion': 'squared_error'}. Best is trial 11 with value: -0.511803132817515.\n"
          ]
        },
        {
          "metadata": {
            "tags": null
          },
          "name": "stdout",
          "output_type": "stream",
          "text": [
            "Trial 47 - R2 score: 0.3998\n"
          ]
        },
        {
          "metadata": {
            "tags": null
          },
          "name": "stderr",
          "output_type": "stream",
          "text": [
            "[I 2024-10-25 17:52:12,070] Trial 107 finished with value: -0.455462753038665 and parameters: {'n_estimators': 88, 'max_depth': 7, 'min_samples_split': 3, 'min_samples_leaf': 42, 'max_features': 'sqrt', 'criterion': 'squared_error'}. Best is trial 11 with value: -0.511803132817515.\n"
          ]
        },
        {
          "metadata": {
            "tags": null
          },
          "name": "stdout",
          "output_type": "stream",
          "text": [
            "Trial 107 - R2 score: 0.4555\n"
          ]
        },
        {
          "metadata": {
            "tags": null
          },
          "name": "stderr",
          "output_type": "stream",
          "text": [
            "[I 2024-10-25 17:52:13,354] Trial 95 finished with value: -0.3999842453600019 and parameters: {'n_estimators': 212, 'max_depth': 3, 'min_samples_split': 3, 'min_samples_leaf': 23, 'max_features': 'log2', 'criterion': 'squared_error'}. Best is trial 11 with value: -0.511803132817515.\n"
          ]
        },
        {
          "metadata": {
            "tags": null
          },
          "name": "stdout",
          "output_type": "stream",
          "text": [
            "Trial 95 - R2 score: 0.4000\n"
          ]
        },
        {
          "metadata": {
            "tags": null
          },
          "name": "stderr",
          "output_type": "stream",
          "text": [
            "[I 2024-10-25 17:52:17,219] Trial 48 finished with value: -0.40500598368759083 and parameters: {'n_estimators': 221, 'max_depth': 4, 'min_samples_split': 4, 'min_samples_leaf': 19, 'max_features': 'sqrt', 'criterion': 'squared_error'}. Best is trial 11 with value: -0.511803132817515.\n"
          ]
        },
        {
          "metadata": {
            "tags": null
          },
          "name": "stdout",
          "output_type": "stream",
          "text": [
            "Trial 48 - R2 score: 0.4050\n"
          ]
        },
        {
          "metadata": {
            "tags": null
          },
          "name": "stderr",
          "output_type": "stream",
          "text": [
            "[I 2024-10-25 17:52:19,602] Trial 26 finished with value: -0.37934741736455513 and parameters: {'n_estimators': 238, 'max_depth': 3, 'min_samples_split': 2, 'min_samples_leaf': 18, 'max_features': 'sqrt', 'criterion': 'squared_error'}. Best is trial 11 with value: -0.511803132817515.\n"
          ]
        },
        {
          "metadata": {
            "tags": null
          },
          "name": "stdout",
          "output_type": "stream",
          "text": [
            "Trial 26 - R2 score: 0.3793\n"
          ]
        },
        {
          "metadata": {
            "tags": null
          },
          "name": "stderr",
          "output_type": "stream",
          "text": [
            "[I 2024-10-25 17:52:22,086] Trial 13 finished with value: -0.46225970906304853 and parameters: {'n_estimators': 221, 'max_depth': 6, 'min_samples_split': 4, 'min_samples_leaf': 35, 'max_features': 'log2', 'criterion': 'squared_error'}. Best is trial 11 with value: -0.511803132817515.\n"
          ]
        },
        {
          "metadata": {
            "tags": null
          },
          "name": "stdout",
          "output_type": "stream",
          "text": [
            "Trial 13 - R2 score: 0.4623\n"
          ]
        },
        {
          "metadata": {
            "tags": null
          },
          "name": "stderr",
          "output_type": "stream",
          "text": [
            "[I 2024-10-25 17:52:25,480] Trial 7 finished with value: -0.37902012623751047 and parameters: {'n_estimators': 259, 'max_depth': 3, 'min_samples_split': 5, 'min_samples_leaf': 21, 'max_features': 'sqrt', 'criterion': 'squared_error'}. Best is trial 11 with value: -0.511803132817515.\n"
          ]
        },
        {
          "metadata": {
            "tags": null
          },
          "name": "stdout",
          "output_type": "stream",
          "text": [
            "Trial 7 - R2 score: 0.3790\n"
          ]
        },
        {
          "metadata": {
            "tags": null
          },
          "name": "stderr",
          "output_type": "stream",
          "text": [
            "[I 2024-10-25 17:52:25,879] Trial 20 finished with value: -0.4732511624879662 and parameters: {'n_estimators': 227, 'max_depth': 8, 'min_samples_split': 3, 'min_samples_leaf': 22, 'max_features': 'sqrt', 'criterion': 'squared_error'}. Best is trial 11 with value: -0.511803132817515.\n"
          ]
        },
        {
          "metadata": {
            "tags": null
          },
          "name": "stdout",
          "output_type": "stream",
          "text": [
            "Trial 20 - R2 score: 0.4733\n"
          ]
        },
        {
          "metadata": {
            "tags": null
          },
          "name": "stderr",
          "output_type": "stream",
          "text": [
            "[I 2024-10-25 17:52:26,617] Trial 79 finished with value: -0.4312694218690952 and parameters: {'n_estimators': 233, 'max_depth': 5, 'min_samples_split': 2, 'min_samples_leaf': 16, 'max_features': 'sqrt', 'criterion': 'squared_error'}. Best is trial 11 with value: -0.511803132817515.\n"
          ]
        },
        {
          "metadata": {
            "tags": null
          },
          "name": "stdout",
          "output_type": "stream",
          "text": [
            "Trial 79 - R2 score: 0.4313\n"
          ]
        },
        {
          "metadata": {
            "tags": null
          },
          "name": "stderr",
          "output_type": "stream",
          "text": [
            "[I 2024-10-25 17:52:28,584] Trial 119 finished with value: -0.4621738336998509 and parameters: {'n_estimators': 72, 'max_depth': 7, 'min_samples_split': 3, 'min_samples_leaf': 20, 'max_features': 'sqrt', 'criterion': 'squared_error'}. Best is trial 11 with value: -0.511803132817515.\n",
            "[I 2024-10-25 17:52:28,745] Trial 93 finished with value: -0.42683200386319564 and parameters: {'n_estimators': 233, 'max_depth': 4, 'min_samples_split': 5, 'min_samples_leaf': 33, 'max_features': 'log2', 'criterion': 'squared_error'}. Best is trial 11 with value: -0.511803132817515.\n"
          ]
        },
        {
          "metadata": {
            "tags": null
          },
          "name": "stdout",
          "output_type": "stream",
          "text": [
            "Trial 119 - R2 score: 0.4622\n",
            "Trial 93 - R2 score: 0.4268\n"
          ]
        },
        {
          "metadata": {
            "tags": null
          },
          "name": "stderr",
          "output_type": "stream",
          "text": [
            "[I 2024-10-25 17:52:31,294] Trial 74 finished with value: -0.4785812424674195 and parameters: {'n_estimators': 230, 'max_depth': 10, 'min_samples_split': 2, 'min_samples_leaf': 35, 'max_features': 'sqrt', 'criterion': 'squared_error'}. Best is trial 11 with value: -0.511803132817515.\n"
          ]
        },
        {
          "metadata": {
            "tags": null
          },
          "name": "stdout",
          "output_type": "stream",
          "text": [
            "Trial 74 - R2 score: 0.4786\n"
          ]
        },
        {
          "metadata": {
            "tags": null
          },
          "name": "stderr",
          "output_type": "stream",
          "text": [
            "[I 2024-10-25 17:52:34,854] Trial 80 finished with value: -0.4271057872783275 and parameters: {'n_estimators': 254, 'max_depth': 4, 'min_samples_split': 2, 'min_samples_leaf': 34, 'max_features': 'log2', 'criterion': 'squared_error'}. Best is trial 11 with value: -0.511803132817515.\n"
          ]
        },
        {
          "metadata": {
            "tags": null
          },
          "name": "stdout",
          "output_type": "stream",
          "text": [
            "Trial 80 - R2 score: 0.4271\n"
          ]
        },
        {
          "metadata": {
            "tags": null
          },
          "name": "stderr",
          "output_type": "stream",
          "text": [
            "[I 2024-10-25 17:52:35,319] Trial 27 finished with value: -0.44670038709433146 and parameters: {'n_estimators': 260, 'max_depth': 6, 'min_samples_split': 5, 'min_samples_leaf': 33, 'max_features': 'sqrt', 'criterion': 'squared_error'}. Best is trial 11 with value: -0.511803132817515.\n",
            "[I 2024-10-25 17:52:35,357] Trial 62 finished with value: -0.48402618718184093 and parameters: {'n_estimators': 243, 'max_depth': 10, 'min_samples_split': 2, 'min_samples_leaf': 26, 'max_features': 'sqrt', 'criterion': 'squared_error'}. Best is trial 11 with value: -0.511803132817515.\n"
          ]
        },
        {
          "metadata": {
            "tags": null
          },
          "name": "stdout",
          "output_type": "stream",
          "text": [
            "Trial 27 - R2 score: 0.4467\n",
            "Trial 62 - R2 score: 0.4840\n"
          ]
        },
        {
          "metadata": {
            "tags": null
          },
          "name": "stderr",
          "output_type": "stream",
          "text": [
            "[I 2024-10-25 17:52:36,949] Trial 118 finished with value: -0.4451577625513387 and parameters: {'n_estimators': 98, 'max_depth': 6, 'min_samples_split': 5, 'min_samples_leaf': 38, 'max_features': 'sqrt', 'criterion': 'squared_error'}. Best is trial 11 with value: -0.511803132817515.\n"
          ]
        },
        {
          "metadata": {
            "tags": null
          },
          "name": "stdout",
          "output_type": "stream",
          "text": [
            "Trial 118 - R2 score: 0.4452\n"
          ]
        },
        {
          "metadata": {
            "tags": null
          },
          "name": "stderr",
          "output_type": "stream",
          "text": [
            "[I 2024-10-25 17:52:37,719] Trial 42 finished with value: -0.43162528014446294 and parameters: {'n_estimators': 256, 'max_depth': 5, 'min_samples_split': 4, 'min_samples_leaf': 12, 'max_features': 'sqrt', 'criterion': 'squared_error'}. Best is trial 11 with value: -0.511803132817515.\n"
          ]
        },
        {
          "metadata": {
            "tags": null
          },
          "name": "stdout",
          "output_type": "stream",
          "text": [
            "Trial 42 - R2 score: 0.4316\n"
          ]
        },
        {
          "metadata": {
            "tags": null
          },
          "name": "stderr",
          "output_type": "stream",
          "text": [
            "[I 2024-10-25 17:52:40,086] Trial 10 finished with value: -0.4471176408042024 and parameters: {'n_estimators': 281, 'max_depth': 6, 'min_samples_split': 3, 'min_samples_leaf': 30, 'max_features': 'sqrt', 'criterion': 'squared_error'}. Best is trial 11 with value: -0.511803132817515.\n"
          ]
        },
        {
          "metadata": {
            "tags": null
          },
          "name": "stdout",
          "output_type": "stream",
          "text": [
            "Trial 10 - R2 score: 0.4471\n"
          ]
        },
        {
          "metadata": {
            "tags": null
          },
          "name": "stderr",
          "output_type": "stream",
          "text": [
            "[I 2024-10-25 17:52:41,342] Trial 117 finished with value: -0.3987566489497428 and parameters: {'n_estimators': 122, 'max_depth': 3, 'min_samples_split': 3, 'min_samples_leaf': 37, 'max_features': 'log2', 'criterion': 'squared_error'}. Best is trial 11 with value: -0.511803132817515.\n"
          ]
        },
        {
          "metadata": {
            "tags": null
          },
          "name": "stdout",
          "output_type": "stream",
          "text": [
            "Trial 117 - R2 score: 0.3988\n"
          ]
        },
        {
          "metadata": {
            "tags": null
          },
          "name": "stderr",
          "output_type": "stream",
          "text": [
            "[I 2024-10-25 17:52:42,273] Trial 88 finished with value: -0.4823556118670023 and parameters: {'n_estimators': 255, 'max_depth': 9, 'min_samples_split': 4, 'min_samples_leaf': 20, 'max_features': 'sqrt', 'criterion': 'squared_error'}. Best is trial 11 with value: -0.511803132817515.\n"
          ]
        },
        {
          "metadata": {
            "tags": null
          },
          "name": "stdout",
          "output_type": "stream",
          "text": [
            "Trial 88 - R2 score: 0.4824\n"
          ]
        },
        {
          "metadata": {
            "tags": null
          },
          "name": "stderr",
          "output_type": "stream",
          "text": [
            "[I 2024-10-25 17:52:45,189] Trial 90 finished with value: -0.4696463187596721 and parameters: {'n_estimators': 266, 'max_depth': 8, 'min_samples_split': 5, 'min_samples_leaf': 30, 'max_features': 'sqrt', 'criterion': 'squared_error'}. Best is trial 11 with value: -0.511803132817515.\n",
            "[I 2024-10-25 17:52:45,265] Trial 133 finished with value: -0.3823039879650888 and parameters: {'n_estimators': 50, 'max_depth': 3, 'min_samples_split': 5, 'min_samples_leaf': 8, 'max_features': 'sqrt', 'criterion': 'squared_error'}. Best is trial 11 with value: -0.511803132817515.\n"
          ]
        },
        {
          "metadata": {
            "tags": null
          },
          "name": "stdout",
          "output_type": "stream",
          "text": [
            "Trial 90 - R2 score: 0.4696\n",
            "Trial 133 - R2 score: 0.3823\n"
          ]
        },
        {
          "metadata": {
            "tags": null
          },
          "name": "stderr",
          "output_type": "stream",
          "text": [
            "[I 2024-10-25 17:52:46,326] Trial 87 finished with value: -0.4892654571020286 and parameters: {'n_estimators': 247, 'max_depth': 9, 'min_samples_split': 5, 'min_samples_leaf': 33, 'max_features': 'log2', 'criterion': 'squared_error'}. Best is trial 11 with value: -0.511803132817515.\n"
          ]
        },
        {
          "metadata": {
            "tags": null
          },
          "name": "stdout",
          "output_type": "stream",
          "text": [
            "Trial 87 - R2 score: 0.4893\n"
          ]
        },
        {
          "metadata": {
            "tags": null
          },
          "name": "stderr",
          "output_type": "stream",
          "text": [
            "[I 2024-10-25 17:52:47,333] Trial 37 finished with value: -0.5063912111569385 and parameters: {'n_estimators': 247, 'max_depth': 9, 'min_samples_split': 4, 'min_samples_leaf': 7, 'max_features': 'log2', 'criterion': 'squared_error'}. Best is trial 11 with value: -0.511803132817515.\n"
          ]
        },
        {
          "metadata": {
            "tags": null
          },
          "name": "stdout",
          "output_type": "stream",
          "text": [
            "Trial 37 - R2 score: 0.5064\n"
          ]
        },
        {
          "metadata": {
            "tags": null
          },
          "name": "stderr",
          "output_type": "stream",
          "text": [
            "[I 2024-10-25 17:52:50,796] Trial 61 finished with value: -0.4281647553084233 and parameters: {'n_estimators': 295, 'max_depth': 4, 'min_samples_split': 3, 'min_samples_leaf': 10, 'max_features': 'log2', 'criterion': 'squared_error'}. Best is trial 11 with value: -0.511803132817515.\n"
          ]
        },
        {
          "metadata": {
            "tags": null
          },
          "name": "stdout",
          "output_type": "stream",
          "text": [
            "Trial 61 - R2 score: 0.4282\n"
          ]
        },
        {
          "metadata": {
            "tags": null
          },
          "name": "stderr",
          "output_type": "stream",
          "text": [
            "[I 2024-10-25 17:52:51,381] Trial 138 finished with value: -0.43066731451229323 and parameters: {'n_estimators': 52, 'max_depth': 5, 'min_samples_split': 5, 'min_samples_leaf': 26, 'max_features': 'sqrt', 'criterion': 'squared_error'}. Best is trial 11 with value: -0.511803132817515.\n",
            "[I 2024-10-25 17:52:51,471] Trial 104 finished with value: -0.4893632668651242 and parameters: {'n_estimators': 181, 'max_depth': 10, 'min_samples_split': 2, 'min_samples_leaf': 40, 'max_features': 'log2', 'criterion': 'squared_error'}. Best is trial 11 with value: -0.511803132817515.\n"
          ]
        },
        {
          "metadata": {
            "tags": null
          },
          "name": "stdout",
          "output_type": "stream",
          "text": [
            "Trial 138 - R2 score: 0.4307\n",
            "Trial 104 - R2 score: 0.4894\n"
          ]
        },
        {
          "metadata": {
            "tags": null
          },
          "name": "stderr",
          "output_type": "stream",
          "text": [
            "[I 2024-10-25 17:52:51,692] Trial 110 finished with value: -0.4642754595082705 and parameters: {'n_estimators': 172, 'max_depth': 6, 'min_samples_split': 3, 'min_samples_leaf': 24, 'max_features': 'log2', 'criterion': 'squared_error'}. Best is trial 11 with value: -0.511803132817515.\n"
          ]
        },
        {
          "metadata": {
            "tags": null
          },
          "name": "stdout",
          "output_type": "stream",
          "text": [
            "Trial 110 - R2 score: 0.4643\n"
          ]
        },
        {
          "metadata": {
            "tags": null
          },
          "name": "stderr",
          "output_type": "stream",
          "text": [
            "[I 2024-10-25 17:52:54,241] Trial 123 finished with value: -0.38055027187721807 and parameters: {'n_estimators': 147, 'max_depth': 3, 'min_samples_split': 3, 'min_samples_leaf': 39, 'max_features': 'sqrt', 'criterion': 'squared_error'}. Best is trial 11 with value: -0.511803132817515.\n"
          ]
        },
        {
          "metadata": {
            "tags": null
          },
          "name": "stdout",
          "output_type": "stream",
          "text": [
            "Trial 123 - R2 score: 0.3806\n"
          ]
        },
        {
          "metadata": {
            "tags": null
          },
          "name": "stderr",
          "output_type": "stream",
          "text": [
            "[I 2024-10-25 17:53:01,124] Trial 121 finished with value: -0.43192697994012086 and parameters: {'n_estimators': 172, 'max_depth': 5, 'min_samples_split': 5, 'min_samples_leaf': 6, 'max_features': 'sqrt', 'criterion': 'squared_error'}. Best is trial 11 with value: -0.511803132817515.\n"
          ]
        },
        {
          "metadata": {
            "tags": null
          },
          "name": "stdout",
          "output_type": "stream",
          "text": [
            "Trial 121 - R2 score: 0.4319\n"
          ]
        },
        {
          "metadata": {
            "tags": null
          },
          "name": "stderr",
          "output_type": "stream",
          "text": [
            "[I 2024-10-25 17:53:03,276] Trial 128 finished with value: -0.4044990040696696 and parameters: {'n_estimators': 137, 'max_depth': 4, 'min_samples_split': 2, 'min_samples_leaf': 27, 'max_features': 'sqrt', 'criterion': 'squared_error'}. Best is trial 11 with value: -0.511803132817515.\n"
          ]
        },
        {
          "metadata": {
            "tags": null
          },
          "name": "stdout",
          "output_type": "stream",
          "text": [
            "Trial 128 - R2 score: 0.4045\n"
          ]
        },
        {
          "metadata": {
            "tags": null
          },
          "name": "stderr",
          "output_type": "stream",
          "text": [
            "[I 2024-10-25 17:53:05,669] Trial 148 finished with value: -0.4886514111555879 and parameters: {'n_estimators': 53, 'max_depth': 9, 'min_samples_split': 2, 'min_samples_leaf': 8, 'max_features': 'sqrt', 'criterion': 'squared_error'}. Best is trial 11 with value: -0.511803132817515.\n"
          ]
        },
        {
          "metadata": {
            "tags": null
          },
          "name": "stdout",
          "output_type": "stream",
          "text": [
            "Trial 148 - R2 score: 0.4887\n"
          ]
        },
        {
          "metadata": {
            "tags": null
          },
          "name": "stderr",
          "output_type": "stream",
          "text": [
            "[I 2024-10-25 17:53:07,899] Trial 120 finished with value: -0.40417243773425093 and parameters: {'n_estimators': 200, 'max_depth': 4, 'min_samples_split': 3, 'min_samples_leaf': 32, 'max_features': 'sqrt', 'criterion': 'squared_error'}. Best is trial 11 with value: -0.511803132817515.\n"
          ]
        },
        {
          "metadata": {
            "tags": null
          },
          "name": "stdout",
          "output_type": "stream",
          "text": [
            "Trial 120 - R2 score: 0.4042\n"
          ]
        },
        {
          "metadata": {
            "tags": null
          },
          "name": "stderr",
          "output_type": "stream",
          "text": [
            "[I 2024-10-25 17:53:15,068] Trial 136 finished with value: -0.4301501277700462 and parameters: {'n_estimators': 141, 'max_depth': 5, 'min_samples_split': 4, 'min_samples_leaf': 34, 'max_features': 'sqrt', 'criterion': 'squared_error'}. Best is trial 11 with value: -0.511803132817515.\n"
          ]
        },
        {
          "metadata": {
            "tags": null
          },
          "name": "stdout",
          "output_type": "stream",
          "text": [
            "Trial 136 - R2 score: 0.4302\n"
          ]
        },
        {
          "metadata": {
            "tags": null
          },
          "name": "stderr",
          "output_type": "stream",
          "text": [
            "[I 2024-10-25 17:53:15,626] Trial 151 finished with value: -0.37905470714505274 and parameters: {'n_estimators': 91, 'max_depth': 3, 'min_samples_split': 5, 'min_samples_leaf': 28, 'max_features': 'sqrt', 'criterion': 'squared_error'}. Best is trial 11 with value: -0.511803132817515.\n"
          ]
        },
        {
          "metadata": {
            "tags": null
          },
          "name": "stdout",
          "output_type": "stream",
          "text": [
            "Trial 151 - R2 score: 0.3791\n"
          ]
        },
        {
          "metadata": {
            "tags": null
          },
          "name": "stderr",
          "output_type": "stream",
          "text": [
            "[I 2024-10-25 17:53:19,502] Trial 111 finished with value: -0.45465050446643274 and parameters: {'n_estimators': 268, 'max_depth': 7, 'min_samples_split': 4, 'min_samples_leaf': 48, 'max_features': 'sqrt', 'criterion': 'squared_error'}. Best is trial 11 with value: -0.511803132817515.\n"
          ]
        },
        {
          "metadata": {
            "tags": null
          },
          "name": "stdout",
          "output_type": "stream",
          "text": [
            "Trial 111 - R2 score: 0.4547\n"
          ]
        },
        {
          "metadata": {
            "tags": null
          },
          "name": "stderr",
          "output_type": "stream",
          "text": [
            "[I 2024-10-25 17:53:22,394] Trial 132 finished with value: -0.46421103858155127 and parameters: {'n_estimators': 170, 'max_depth': 7, 'min_samples_split': 3, 'min_samples_leaf': 18, 'max_features': 'sqrt', 'criterion': 'squared_error'}. Best is trial 11 with value: -0.511803132817515.\n"
          ]
        },
        {
          "metadata": {
            "tags": null
          },
          "name": "stdout",
          "output_type": "stream",
          "text": [
            "Trial 132 - R2 score: 0.4642\n"
          ]
        },
        {
          "metadata": {
            "tags": null
          },
          "name": "stderr",
          "output_type": "stream",
          "text": [
            "[I 2024-10-25 17:53:30,554] Trial 126 finished with value: -0.48633104859887377 and parameters: {'n_estimators': 220, 'max_depth': 10, 'min_samples_split': 2, 'min_samples_leaf': 23, 'max_features': 'sqrt', 'criterion': 'squared_error'}. Best is trial 11 with value: -0.511803132817515.\n"
          ]
        },
        {
          "metadata": {
            "tags": null
          },
          "name": "stdout",
          "output_type": "stream",
          "text": [
            "Trial 126 - R2 score: 0.4863\n"
          ]
        },
        {
          "metadata": {
            "tags": null
          },
          "name": "stderr",
          "output_type": "stream",
          "text": [
            "[I 2024-10-25 17:53:31,799] Trial 122 finished with value: -0.48581889066306905 and parameters: {'n_estimators': 225, 'max_depth': 8, 'min_samples_split': 5, 'min_samples_leaf': 26, 'max_features': 'log2', 'criterion': 'squared_error'}. Best is trial 11 with value: -0.511803132817515.\n"
          ]
        },
        {
          "metadata": {
            "tags": null
          },
          "name": "stdout",
          "output_type": "stream",
          "text": [
            "Trial 122 - R2 score: 0.4858\n"
          ]
        },
        {
          "metadata": {
            "tags": null
          },
          "name": "stderr",
          "output_type": "stream",
          "text": [
            "[I 2024-10-25 17:53:44,282] Trial 159 finished with value: -0.43188850400068296 and parameters: {'n_estimators': 158, 'max_depth': 5, 'min_samples_split': 2, 'min_samples_leaf': 18, 'max_features': 'sqrt', 'criterion': 'squared_error'}. Best is trial 11 with value: -0.511803132817515.\n"
          ]
        },
        {
          "metadata": {
            "tags": null
          },
          "name": "stdout",
          "output_type": "stream",
          "text": [
            "Trial 159 - R2 score: 0.4319\n"
          ]
        },
        {
          "metadata": {
            "tags": null
          },
          "name": "stderr",
          "output_type": "stream",
          "text": [
            "[I 2024-10-25 17:53:46,997] Trial 146 finished with value: -0.46634120681845104 and parameters: {'n_estimators': 206, 'max_depth': 6, 'min_samples_split': 3, 'min_samples_leaf': 12, 'max_features': 'log2', 'criterion': 'squared_error'}. Best is trial 11 with value: -0.511803132817515.\n"
          ]
        },
        {
          "metadata": {
            "tags": null
          },
          "name": "stdout",
          "output_type": "stream",
          "text": [
            "Trial 146 - R2 score: 0.4663\n"
          ]
        },
        {
          "metadata": {
            "tags": null
          },
          "name": "stderr",
          "output_type": "stream",
          "text": [
            "[I 2024-10-25 17:53:53,564] Trial 147 finished with value: -0.4725967809806135 and parameters: {'n_estimators': 214, 'max_depth': 7, 'min_samples_split': 3, 'min_samples_leaf': 38, 'max_features': 'log2', 'criterion': 'squared_error'}. Best is trial 11 with value: -0.511803132817515.\n"
          ]
        },
        {
          "metadata": {
            "tags": null
          },
          "name": "stdout",
          "output_type": "stream",
          "text": [
            "Trial 147 - R2 score: 0.4726\n"
          ]
        },
        {
          "metadata": {
            "tags": null
          },
          "name": "stderr",
          "output_type": "stream",
          "text": [
            "[I 2024-10-25 17:53:55,192] Trial 155 finished with value: -0.40134505544681326 and parameters: {'n_estimators': 277, 'max_depth': 3, 'min_samples_split': 4, 'min_samples_leaf': 6, 'max_features': 'log2', 'criterion': 'squared_error'}. Best is trial 11 with value: -0.511803132817515.\n"
          ]
        },
        {
          "metadata": {
            "tags": null
          },
          "name": "stdout",
          "output_type": "stream",
          "text": [
            "Trial 155 - R2 score: 0.4013\n"
          ]
        },
        {
          "metadata": {
            "tags": null
          },
          "name": "stderr",
          "output_type": "stream",
          "text": [
            "[I 2024-10-25 17:53:59,342] Trial 131 finished with value: -0.4824574266140308 and parameters: {'n_estimators': 292, 'max_depth': 7, 'min_samples_split': 2, 'min_samples_leaf': 8, 'max_features': 'log2', 'criterion': 'squared_error'}. Best is trial 11 with value: -0.511803132817515.\n"
          ]
        },
        {
          "metadata": {
            "tags": null
          },
          "name": "stdout",
          "output_type": "stream",
          "text": [
            "Trial 131 - R2 score: 0.4825\n"
          ]
        },
        {
          "metadata": {
            "tags": null
          },
          "name": "stderr",
          "output_type": "stream",
          "text": [
            "[I 2024-10-25 17:54:00,709] Trial 166 finished with value: -0.48018058644279443 and parameters: {'n_estimators': 66, 'max_depth': 7, 'min_samples_split': 3, 'min_samples_leaf': 9, 'max_features': 'log2', 'criterion': 'squared_error'}. Best is trial 11 with value: -0.511803132817515.\n"
          ]
        },
        {
          "metadata": {
            "tags": null
          },
          "name": "stdout",
          "output_type": "stream",
          "text": [
            "Trial 166 - R2 score: 0.4802\n"
          ]
        },
        {
          "metadata": {
            "tags": null
          },
          "name": "stderr",
          "output_type": "stream",
          "text": [
            "[I 2024-10-25 17:54:01,971] Trial 142 finished with value: -0.47896630062007334 and parameters: {'n_estimators': 262, 'max_depth': 8, 'min_samples_split': 3, 'min_samples_leaf': 43, 'max_features': 'log2', 'criterion': 'squared_error'}. Best is trial 11 with value: -0.511803132817515.\n"
          ]
        },
        {
          "metadata": {
            "tags": null
          },
          "name": "stdout",
          "output_type": "stream",
          "text": [
            "Trial 142 - R2 score: 0.4790\n"
          ]
        },
        {
          "metadata": {
            "tags": null
          },
          "name": "stderr",
          "output_type": "stream",
          "text": [
            "[I 2024-10-25 17:54:02,780] Trial 164 finished with value: -0.48749134731978055 and parameters: {'n_estimators': 115, 'max_depth': 8, 'min_samples_split': 4, 'min_samples_leaf': 20, 'max_features': 'log2', 'criterion': 'squared_error'}. Best is trial 11 with value: -0.511803132817515.\n"
          ]
        },
        {
          "metadata": {
            "tags": null
          },
          "name": "stdout",
          "output_type": "stream",
          "text": [
            "Trial 164 - R2 score: 0.4875\n"
          ]
        },
        {
          "metadata": {
            "tags": null
          },
          "name": "stderr",
          "output_type": "stream",
          "text": [
            "[I 2024-10-25 17:54:04,564] Trial 135 finished with value: -0.48752634357023117 and parameters: {'n_estimators': 290, 'max_depth': 8, 'min_samples_split': 4, 'min_samples_leaf': 23, 'max_features': 'log2', 'criterion': 'squared_error'}. Best is trial 11 with value: -0.511803132817515.\n"
          ]
        },
        {
          "metadata": {
            "tags": null
          },
          "name": "stdout",
          "output_type": "stream",
          "text": [
            "Trial 135 - R2 score: 0.4875\n"
          ]
        },
        {
          "metadata": {
            "tags": null
          },
          "name": "stderr",
          "output_type": "stream",
          "text": [
            "[I 2024-10-25 17:54:04,826] Trial 163 finished with value: -0.40586818518886203 and parameters: {'n_estimators': 246, 'max_depth': 4, 'min_samples_split': 4, 'min_samples_leaf': 11, 'max_features': 'sqrt', 'criterion': 'squared_error'}. Best is trial 11 with value: -0.511803132817515.\n"
          ]
        },
        {
          "metadata": {
            "tags": null
          },
          "name": "stdout",
          "output_type": "stream",
          "text": [
            "Trial 163 - R2 score: 0.4059\n"
          ]
        },
        {
          "metadata": {
            "tags": null
          },
          "name": "stderr",
          "output_type": "stream",
          "text": [
            "[I 2024-10-25 17:54:09,409] Trial 150 finished with value: -0.4841450498487819 and parameters: {'n_estimators': 281, 'max_depth': 8, 'min_samples_split': 5, 'min_samples_leaf': 31, 'max_features': 'log2', 'criterion': 'squared_error'}. Best is trial 11 with value: -0.511803132817515.\n"
          ]
        },
        {
          "metadata": {
            "tags": null
          },
          "name": "stdout",
          "output_type": "stream",
          "text": [
            "Trial 150 - R2 score: 0.4841\n"
          ]
        },
        {
          "metadata": {
            "tags": null
          },
          "name": "stderr",
          "output_type": "stream",
          "text": [
            "[I 2024-10-25 17:54:09,805] Trial 161 finished with value: -0.47085281558261904 and parameters: {'n_estimators': 237, 'max_depth': 10, 'min_samples_split': 2, 'min_samples_leaf': 50, 'max_features': 'sqrt', 'criterion': 'squared_error'}. Best is trial 11 with value: -0.511803132817515.\n"
          ]
        },
        {
          "metadata": {
            "tags": null
          },
          "name": "stdout",
          "output_type": "stream",
          "text": [
            "Trial 161 - R2 score: 0.4709\n"
          ]
        },
        {
          "metadata": {
            "tags": null
          },
          "name": "stderr",
          "output_type": "stream",
          "text": [
            "[I 2024-10-25 17:54:15,972] Trial 169 finished with value: -0.42688856484747195 and parameters: {'n_estimators': 153, 'max_depth': 4, 'min_samples_split': 4, 'min_samples_leaf': 23, 'max_features': 'log2', 'criterion': 'squared_error'}. Best is trial 11 with value: -0.511803132817515.\n"
          ]
        },
        {
          "metadata": {
            "tags": null
          },
          "name": "stdout",
          "output_type": "stream",
          "text": [
            "Trial 169 - R2 score: 0.4269\n"
          ]
        },
        {
          "metadata": {
            "tags": null
          },
          "name": "stderr",
          "output_type": "stream",
          "text": [
            "[I 2024-10-25 17:54:16,668] Trial 176 finished with value: -0.45865498594221066 and parameters: {'n_estimators': 54, 'max_depth': 7, 'min_samples_split': 5, 'min_samples_leaf': 31, 'max_features': 'sqrt', 'criterion': 'squared_error'}. Best is trial 11 with value: -0.511803132817515.\n"
          ]
        },
        {
          "metadata": {
            "tags": null
          },
          "name": "stdout",
          "output_type": "stream",
          "text": [
            "Trial 176 - R2 score: 0.4587\n"
          ]
        },
        {
          "metadata": {
            "tags": null
          },
          "name": "stderr",
          "output_type": "stream",
          "text": [
            "[I 2024-10-25 17:54:27,185] Trial 170 finished with value: -0.4492032642202696 and parameters: {'n_estimators': 230, 'max_depth': 6, 'min_samples_split': 5, 'min_samples_leaf': 20, 'max_features': 'sqrt', 'criterion': 'squared_error'}. Best is trial 11 with value: -0.511803132817515.\n"
          ]
        },
        {
          "metadata": {
            "tags": null
          },
          "name": "stdout",
          "output_type": "stream",
          "text": [
            "Trial 170 - R2 score: 0.4492\n"
          ]
        }
      ]
    },
    {
      "cell_type": "markdown",
      "source": [
        "# XGBoost"
      ],
      "metadata": {
        "id": "VAbrwdxJ70Rp"
      }
    },
    {
      "cell_type": "code",
      "source": [
        "!pip install xgboost"
      ],
      "metadata": {
        "colab": {
          "base_uri": "https://localhost:8080/"
        },
        "id": "mhLuNdox7wyY",
        "outputId": "00088c22-ef3a-49de-9140-bc25948426a9"
      },
      "execution_count": 19,
      "outputs": [
        {
          "output_type": "stream",
          "name": "stdout",
          "text": [
            "Requirement already satisfied: xgboost in /usr/local/lib/python3.11/dist-packages (2.1.3)\n",
            "Requirement already satisfied: numpy in /usr/local/lib/python3.11/dist-packages (from xgboost) (1.26.4)\n",
            "Requirement already satisfied: nvidia-nccl-cu12 in /usr/local/lib/python3.11/dist-packages (from xgboost) (2.21.5)\n",
            "Requirement already satisfied: scipy in /usr/local/lib/python3.11/dist-packages (from xgboost) (1.13.1)\n"
          ]
        }
      ]
    },
    {
      "cell_type": "code",
      "source": [
        "import pandas as pd\n",
        "from sklearn.model_selection import train_test_split\n",
        "from xgboost import XGBRegressor\n",
        "from sklearn.metrics import mean_squared_error, r2_score\n",
        "\n",
        "\n",
        "# Initialize and train the XGBoost model\n",
        "model_xgb = XGBRegressor(random_state=21, objective='reg:squarederror', n_estimators=100, learning_rate=0.1, max_depth=6)\n",
        "model_xgb.fit(X_train, y_train)\n",
        "\n",
        "# Make predictions\n",
        "y_pred = model_xgb.predict(X_test)\n",
        "\n",
        "# Evaluate the model\n",
        "mse = mean_squared_error(y_test, y_pred)\n",
        "r2 = r2_score(y_test, y_pred)\n",
        "\n",
        "print(\"Mean Squared Error:\", mse)\n",
        "print(\"R² Score:\", r2)\n"
      ],
      "metadata": {
        "colab": {
          "base_uri": "https://localhost:8080/"
        },
        "id": "6hXxbUut8CPX",
        "outputId": "e8e225e7-5e85-4b41-f9b0-09f4430205fe"
      },
      "execution_count": 20,
      "outputs": [
        {
          "output_type": "stream",
          "name": "stdout",
          "text": [
            "Mean Squared Error: 197.83923557948336\n",
            "R² Score: 0.5362523083265618\n"
          ]
        }
      ]
    },
    {
      "cell_type": "code",
      "source": [
        "import pandas as pd\n",
        "from sklearn.model_selection import train_test_split\n",
        "from sklearn.linear_model import LinearRegression\n",
        "from sklearn.neural_network import MLPRegressor\n",
        "from sklearn.metrics import mean_squared_error, r2_score\n",
        "from xgboost import XGBRegressor\n",
        "import numpy as np\n",
        "\n",
        "# Define a function to calculate and display RMSE and R²\n",
        "def evaluate_model(y_test, y_pred, model_name):\n",
        "    mse = mean_squared_error(y_test, y_pred)\n",
        "    rmse = np.sqrt(mse)\n",
        "    r2 = r2_score(y_test, y_pred)\n",
        "    print(f\"\\n{model_name} Performance:\")\n",
        "    print(\"Mean Squared Error:\", mse)\n",
        "    print(\"Root Mean Squared Error:\", rmse)\n",
        "    print(\"R² Score:\", r2)\n",
        "\n",
        "# 1. Multivariate Linear Regression\n",
        "model_lr = LinearRegression()\n",
        "model_lr.fit(X_train, y_train)\n",
        "y_pred_lr = model_lr.predict(X_test)\n",
        "evaluate_model(y_test, y_pred_lr, \"Multivariate Linear Regression\")\n",
        "\n",
        "\n",
        "\n",
        "# 3. Extreme Gradient Boosting (XGBoost)\n",
        "model_xgb = XGBRegressor(random_state=21, objective='reg:squarederror', n_estimators=100, learning_rate=0.1, max_depth=6)\n",
        "model_xgb.fit(X_train, y_train)\n",
        "y_pred_xgb = model_xgb.predict(X_test)\n",
        "evaluate_model(y_test, y_pred_xgb, \"Extreme Gradient Boosting\")\n",
        "\n",
        "# (Optional) Additional tuning parameters and architectures can be added for ANN and XGBoost as needed\n"
      ],
      "metadata": {
        "colab": {
          "base_uri": "https://localhost:8080/"
        },
        "id": "gfa0iDdwLy6D",
        "outputId": "3f1a2e4e-8790-4adc-e98c-d0b7095f1868"
      },
      "execution_count": 22,
      "outputs": [
        {
          "output_type": "stream",
          "name": "stdout",
          "text": [
            "\n",
            "Multivariate Linear Regression Performance:\n",
            "Mean Squared Error: 301.6957794508196\n",
            "Root Mean Squared Error: 17.369392028819536\n",
            "R² Score: 0.2928059952408877\n",
            "\n",
            "Extreme Gradient Boosting Performance:\n",
            "Mean Squared Error: 197.83923557948336\n",
            "Root Mean Squared Error: 14.065533604505852\n",
            "R² Score: 0.5362523083265618\n"
          ]
        }
      ]
    }
  ],
  "metadata": {
    "colab": {
      "provenance": [],
      "toc_visible": true,
      "include_colab_link": true
    },
    "kernelspec": {
      "display_name": "Python 3",
      "name": "python3"
    },
    "language_info": {
      "name": "python"
    }
  },
  "nbformat": 4,
  "nbformat_minor": 0
}