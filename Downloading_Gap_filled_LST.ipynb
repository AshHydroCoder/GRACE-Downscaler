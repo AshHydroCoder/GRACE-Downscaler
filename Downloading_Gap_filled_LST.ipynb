{
  "nbformat": 4,
  "nbformat_minor": 0,
  "metadata": {
    "colab": {
      "provenance": [],
      "include_colab_link": true
    },
    "kernelspec": {
      "name": "python3",
      "display_name": "Python 3"
    }
  },
  "cells": [
    {
      "cell_type": "markdown",
      "metadata": {
        "id": "view-in-github",
        "colab_type": "text"
      },
      "source": [
        "<a href=\"https://colab.research.google.com/github/AshHydroCoder/GRACE-Downscaler/blob/Branch1/Downloading_Gap_filled_LST.ipynb\" target=\"_parent\"><img src=\"https://colab.research.google.com/assets/colab-badge.svg\" alt=\"Open In Colab\"/></a>"
      ]
    },
    {
      "cell_type": "markdown",
      "metadata": {
        "id": "vSUFepPPFKeJ"
      },
      "source": [
        "## Connecting GEE with Google Services"
      ]
    },
    {
      "cell_type": "markdown",
      "metadata": {
        "id": "pBbqfaJ2FM0I"
      },
      "source": [
        "- **Authenticate to Earth Engine**"
      ]
    },
    {
      "cell_type": "code",
      "metadata": {
        "id": "v6M68WksFMZ1",
        "colab": {
          "base_uri": "https://localhost:8080/"
        },
        "outputId": "83b71072-8a46-4674-cbda-feb3eb0e5be4"
      },
      "source": [
        "!pip install earthengine-api #earth-engine Python API"
      ],
      "execution_count": null,
      "outputs": [
        {
          "output_type": "stream",
          "name": "stdout",
          "text": [
            "Requirement already satisfied: earthengine-api in /usr/local/lib/python3.10/dist-packages (1.4.3)\n",
            "Requirement already satisfied: google-cloud-storage in /usr/local/lib/python3.10/dist-packages (from earthengine-api) (2.19.0)\n",
            "Requirement already satisfied: google-api-python-client>=1.12.1 in /usr/local/lib/python3.10/dist-packages (from earthengine-api) (2.155.0)\n",
            "Requirement already satisfied: google-auth>=1.4.1 in /usr/local/lib/python3.10/dist-packages (from earthengine-api) (2.27.0)\n",
            "Requirement already satisfied: google-auth-httplib2>=0.0.3 in /usr/local/lib/python3.10/dist-packages (from earthengine-api) (0.2.0)\n",
            "Requirement already satisfied: httplib2<1dev,>=0.9.2 in /usr/local/lib/python3.10/dist-packages (from earthengine-api) (0.22.0)\n",
            "Requirement already satisfied: requests in /usr/local/lib/python3.10/dist-packages (from earthengine-api) (2.32.3)\n",
            "Requirement already satisfied: google-api-core!=2.0.*,!=2.1.*,!=2.2.*,!=2.3.0,<3.0.0.dev0,>=1.31.5 in /usr/local/lib/python3.10/dist-packages (from google-api-python-client>=1.12.1->earthengine-api) (2.19.2)\n",
            "Requirement already satisfied: uritemplate<5,>=3.0.1 in /usr/local/lib/python3.10/dist-packages (from google-api-python-client>=1.12.1->earthengine-api) (4.1.1)\n",
            "Requirement already satisfied: cachetools<6.0,>=2.0.0 in /usr/local/lib/python3.10/dist-packages (from google-auth>=1.4.1->earthengine-api) (5.5.0)\n",
            "Requirement already satisfied: pyasn1-modules>=0.2.1 in /usr/local/lib/python3.10/dist-packages (from google-auth>=1.4.1->earthengine-api) (0.4.1)\n",
            "Requirement already satisfied: rsa<5,>=3.1.4 in /usr/local/lib/python3.10/dist-packages (from google-auth>=1.4.1->earthengine-api) (4.9)\n",
            "Requirement already satisfied: pyparsing!=3.0.0,!=3.0.1,!=3.0.2,!=3.0.3,<4,>=2.4.2 in /usr/local/lib/python3.10/dist-packages (from httplib2<1dev,>=0.9.2->earthengine-api) (3.2.0)\n",
            "Requirement already satisfied: google-cloud-core<3.0dev,>=2.3.0 in /usr/local/lib/python3.10/dist-packages (from google-cloud-storage->earthengine-api) (2.4.1)\n",
            "Requirement already satisfied: google-resumable-media>=2.7.2 in /usr/local/lib/python3.10/dist-packages (from google-cloud-storage->earthengine-api) (2.7.2)\n",
            "Requirement already satisfied: google-crc32c<2.0dev,>=1.0 in /usr/local/lib/python3.10/dist-packages (from google-cloud-storage->earthengine-api) (1.6.0)\n",
            "Requirement already satisfied: charset-normalizer<4,>=2 in /usr/local/lib/python3.10/dist-packages (from requests->earthengine-api) (3.4.0)\n",
            "Requirement already satisfied: idna<4,>=2.5 in /usr/local/lib/python3.10/dist-packages (from requests->earthengine-api) (3.10)\n",
            "Requirement already satisfied: urllib3<3,>=1.21.1 in /usr/local/lib/python3.10/dist-packages (from requests->earthengine-api) (2.2.3)\n",
            "Requirement already satisfied: certifi>=2017.4.17 in /usr/local/lib/python3.10/dist-packages (from requests->earthengine-api) (2024.12.14)\n",
            "Requirement already satisfied: googleapis-common-protos<2.0.dev0,>=1.56.2 in /usr/local/lib/python3.10/dist-packages (from google-api-core!=2.0.*,!=2.1.*,!=2.2.*,!=2.3.0,<3.0.0.dev0,>=1.31.5->google-api-python-client>=1.12.1->earthengine-api) (1.66.0)\n",
            "Requirement already satisfied: protobuf!=3.20.0,!=3.20.1,!=4.21.0,!=4.21.1,!=4.21.2,!=4.21.3,!=4.21.4,!=4.21.5,<6.0.0.dev0,>=3.19.5 in /usr/local/lib/python3.10/dist-packages (from google-api-core!=2.0.*,!=2.1.*,!=2.2.*,!=2.3.0,<3.0.0.dev0,>=1.31.5->google-api-python-client>=1.12.1->earthengine-api) (4.25.5)\n",
            "Requirement already satisfied: proto-plus<2.0.0dev,>=1.22.3 in /usr/local/lib/python3.10/dist-packages (from google-api-core!=2.0.*,!=2.1.*,!=2.2.*,!=2.3.0,<3.0.0.dev0,>=1.31.5->google-api-python-client>=1.12.1->earthengine-api) (1.25.0)\n",
            "Requirement already satisfied: pyasn1<0.7.0,>=0.4.6 in /usr/local/lib/python3.10/dist-packages (from pyasn1-modules>=0.2.1->google-auth>=1.4.1->earthengine-api) (0.6.1)\n"
          ]
        }
      ]
    },
    {
      "cell_type": "code",
      "metadata": {
        "id": "JLv8sJcGFPIi",
        "colab": {
          "base_uri": "https://localhost:8080/"
        },
        "outputId": "ab1554c5-f3aa-4abe-8dec-914465ca5674"
      },
      "source": [
        "!earthengine authenticate"
      ],
      "execution_count": null,
      "outputs": [
        {
          "output_type": "stream",
          "name": "stdout",
          "text": [
            "Authenticate: Limited support in Colab. Use ee.Authenticate() or --auth_mode=notebook instead.\n",
            "Authenticate: Credentials already exist.  Use --force to refresh.\n"
          ]
        }
      ]
    },
    {
      "cell_type": "markdown",
      "metadata": {
        "id": "rzr4BVsoFQO0"
      },
      "source": [
        "- **Authenticate to Google Drive**\n"
      ]
    },
    {
      "cell_type": "code",
      "metadata": {
        "id": "ZvANQSVUFRTz",
        "colab": {
          "base_uri": "https://localhost:8080/"
        },
        "outputId": "20ae1095-c93c-4761-c52f-1cdeb1998061"
      },
      "source": [
        "from google.colab import drive\n",
        "drive.mount('/content/drive')"
      ],
      "execution_count": null,
      "outputs": [
        {
          "output_type": "stream",
          "name": "stdout",
          "text": [
            "Mounted at /content/drive\n"
          ]
        }
      ]
    },
    {
      "cell_type": "markdown",
      "metadata": {
        "id": "PDGdjh6qFST2"
      },
      "source": [
        "- **Authenticate to Google Cloud**"
      ]
    },
    {
      "cell_type": "code",
      "metadata": {
        "id": "xltZxJX4FTYH"
      },
      "source": [
        "from google.colab import auth\n",
        "auth.authenticate_user()"
      ],
      "execution_count": null,
      "outputs": []
    },
    {
      "cell_type": "markdown",
      "metadata": {
        "id": "DZw4_4Y8FU1G"
      },
      "source": [
        "## Testing the software setup"
      ]
    },
    {
      "cell_type": "code",
      "metadata": {
        "id": "v7Obx9rnFZEL"
      },
      "source": [
        "# Earth Engine Python API\n",
        "import ee\n",
        "ee.Initialize()"
      ],
      "execution_count": null,
      "outputs": []
    },
    {
      "cell_type": "code",
      "metadata": {
        "id": "JolFu0OaFanc",
        "colab": {
          "base_uri": "https://localhost:8080/"
        },
        "outputId": "b4a22f32-83e0-481c-cc7f-f3f326838bd3"
      },
      "source": [
        "import folium\n",
        "\n",
        "# Define the URL format used for Earth Engine generated map tiles.\n",
        "EE_TILES = 'https://earthengine.googleapis.com/map/{mapid}/{{z}}/{{x}}/{{y}}?token={token}'\n",
        "\n",
        "print('Folium version: ' + folium.__version__)"
      ],
      "execution_count": null,
      "outputs": [
        {
          "output_type": "stream",
          "name": "stdout",
          "text": [
            "Folium version: 0.19.2\n"
          ]
        }
      ]
    },
    {
      "cell_type": "code",
      "metadata": {
        "id": "FYpzL3C6GW_1"
      },
      "source": [
        "#@title Mapdisplay: Display GEE objects using folium.\n",
        "def Mapdisplay(center, dicc, Tiles=\"OpensTreetMap\",zoom_start=10):\n",
        "    '''\n",
        "    :param center: Center of the map (Latitude and Longitude).\n",
        "    :param dicc: Earth Engine Geometries or Tiles dictionary\n",
        "    :param Tiles: Mapbox Bright,Mapbox Control Room,Stamen Terrain,Stamen Toner,stamenwatercolor,cartodbpositron.\n",
        "    :zoom_start: Initial zoom level for the map.\n",
        "    :return: A folium.Map object.\n",
        "    '''\n",
        "    mapViz = folium.Map(location=center,tiles=Tiles, zoom_start=zoom_start)\n",
        "    for k,v in dicc.items():\n",
        "      if ee.image.Image in [type(x) for x in v.values()]:\n",
        "        folium.TileLayer(\n",
        "            tiles = EE_TILES.format(**v),\n",
        "            attr  = 'Google Earth Engine',\n",
        "            overlay =True,\n",
        "            name  = k\n",
        "          ).add_to(mapViz)\n",
        "      else:\n",
        "        folium.GeoJson(\n",
        "        data = v,\n",
        "        name = k\n",
        "          ).add_to(mapViz)\n",
        "    mapViz.add_child(folium.LayerControl())\n",
        "    return mapViz"
      ],
      "execution_count": null,
      "outputs": []
    },
    {
      "cell_type": "markdown",
      "metadata": {
        "id": "ivM6tudaGaDi"
      },
      "source": [
        "# 1. Exporting images\n",
        "\n",
        "You can export images from Earth Engine in [GeoTIFF](https://trac.osgeo.org/geotiff/) or [TFRecord](https://www.tensorflow.org/api_docs/python/tf/io#TFRecords_Format_Details) format. See [Configuration Parameters](https://developers.google.com/earth-engine/exporting#configuration-parameters) for more output options.\n"
      ]
    },
    {
      "cell_type": "code",
      "metadata": {
        "id": "wOBXHvKwJBbL",
        "colab": {
          "base_uri": "https://localhost:8080/",
          "height": 176
        },
        "outputId": "490f1fca-b0db-4123-eefd-dd7e3c0b3533"
      },
      "source": [
        "# Load a landsat image and select three bands.\n",
        "landsat = ee.ImageCollection(\"projects/sat-io/open-datasets/gap-filled-lst/gf_day_1km\"),\n",
        "\n",
        "# Create a geometry representing an export region.\n",
        "geometry = ee.Geometry.Rectangle([116.2621, 39.8412, 116.4849, 40.01236])\n",
        "center = geometry.centroid().getInfo()['coordinates']\n",
        "center.reverse()\n",
        "\n",
        "Mapdisplay(center,{'landsat':landsat.getMapId()},zoom_start=7)"
      ],
      "execution_count": null,
      "outputs": [
        {
          "output_type": "error",
          "ename": "AttributeError",
          "evalue": "'tuple' object has no attribute 'getMapId'",
          "traceback": [
            "\u001b[0;31m---------------------------------------------------------------------------\u001b[0m",
            "\u001b[0;31mAttributeError\u001b[0m                            Traceback (most recent call last)",
            "\u001b[0;32m<ipython-input-8-c942fc5fb18b>\u001b[0m in \u001b[0;36m<cell line: 9>\u001b[0;34m()\u001b[0m\n\u001b[1;32m      7\u001b[0m \u001b[0mcenter\u001b[0m\u001b[0;34m.\u001b[0m\u001b[0mreverse\u001b[0m\u001b[0;34m(\u001b[0m\u001b[0;34m)\u001b[0m\u001b[0;34m\u001b[0m\u001b[0;34m\u001b[0m\u001b[0m\n\u001b[1;32m      8\u001b[0m \u001b[0;34m\u001b[0m\u001b[0m\n\u001b[0;32m----> 9\u001b[0;31m \u001b[0mMapdisplay\u001b[0m\u001b[0;34m(\u001b[0m\u001b[0mcenter\u001b[0m\u001b[0;34m,\u001b[0m\u001b[0;34m{\u001b[0m\u001b[0;34m'landsat'\u001b[0m\u001b[0;34m:\u001b[0m\u001b[0mlandsat\u001b[0m\u001b[0;34m.\u001b[0m\u001b[0mgetMapId\u001b[0m\u001b[0;34m(\u001b[0m\u001b[0;34m)\u001b[0m\u001b[0;34m}\u001b[0m\u001b[0;34m,\u001b[0m\u001b[0mzoom_start\u001b[0m\u001b[0;34m=\u001b[0m\u001b[0;36m7\u001b[0m\u001b[0;34m)\u001b[0m\u001b[0;34m\u001b[0m\u001b[0;34m\u001b[0m\u001b[0m\n\u001b[0m",
            "\u001b[0;31mAttributeError\u001b[0m: 'tuple' object has no attribute 'getMapId'"
          ]
        }
      ]
    },
    {
      "cell_type": "code",
      "source": [
        "# Load a landsat image and select three bands.\n",
        "gf_day_1km = ee.ImageCollection(\"projects/sat-io/open-datasets/gap-filled-lst/gf_day_1km\")\n",
        "shape = ee.FeatureCollection(\"users/079mswre006ashish/Ganges\")\n",
        "# Specify the desired date or date range for filtering\n",
        "start_date = '2019-01-01'\n",
        "end_date = '2020-01-31'\n",
        "\n",
        "# Filter the dataset by date and geometry\n",
        "filtered_collection = gf_day_1km.filterDate(start_date, end_date).filterBounds(shape)\n",
        "\n",
        "# Get the first image in the filtered collection\n",
        "gf_day_image = filtered_collection.first()\n",
        "clipped_image = gf_day_image.clip(shape)\n",
        "vis_params = {\n",
        "    'min': 290,   # Adjust these values based on the dataset's range\n",
        "    'max': 310,\n",
        "    'palette': ['blue', 'green', 'red']\n",
        "}\n",
        "map_id_dict = clipped_image.visualize(**vis_params).getMapId()\n",
        "#map_id_dict = gf_day_image.visualize(**vis_params).getMapId()\n",
        "center.reverse()\n",
        "m = folium.Map(location=center, zoom_start=7)\n",
        "# Add the image layer to the map\n",
        "folium.TileLayer(\n",
        "    tiles=map_id_dict['tile_fetcher'].url_format,\n",
        "    attr=\"Map Data © Google Earth Engine\",\n",
        "    name=\"Gap-Filled LST Day\",\n",
        "    overlay=True\n",
        ").add_to(m)\n",
        "folium.LayerControl().add_to(m)\n",
        "display(m)"
      ],
      "metadata": {
        "colab": {
          "base_uri": "https://localhost:8080/",
          "height": 497
        },
        "id": "SQYv77vV19Kq",
        "outputId": "bd4ee254-b377-4133-e348-66501a0e034d"
      },
      "execution_count": null,
      "outputs": [
        {
          "output_type": "display_data",
          "data": {
            "text/plain": [
              "<folium.folium.Map at 0x7aa98610f2b0>"
            ],
            "text/html": [
              "<div style=\"width:100%;\"><div style=\"position:relative;width:100%;height:0;padding-bottom:60%;\"><span style=\"color:#565656\">Make this Notebook Trusted to load map: File -> Trust Notebook</span><iframe srcdoc=\"&lt;!DOCTYPE html&gt;\n",
              "&lt;html&gt;\n",
              "&lt;head&gt;\n",
              "    \n",
              "    &lt;meta http-equiv=&quot;content-type&quot; content=&quot;text/html; charset=UTF-8&quot; /&gt;\n",
              "    \n",
              "        &lt;script&gt;\n",
              "            L_NO_TOUCH = false;\n",
              "            L_DISABLE_3D = false;\n",
              "        &lt;/script&gt;\n",
              "    \n",
              "    &lt;style&gt;html, body {width: 100%;height: 100%;margin: 0;padding: 0;}&lt;/style&gt;\n",
              "    &lt;style&gt;#map {position:absolute;top:0;bottom:0;right:0;left:0;}&lt;/style&gt;\n",
              "    &lt;script src=&quot;https://cdn.jsdelivr.net/npm/leaflet@1.9.3/dist/leaflet.js&quot;&gt;&lt;/script&gt;\n",
              "    &lt;script src=&quot;https://code.jquery.com/jquery-3.7.1.min.js&quot;&gt;&lt;/script&gt;\n",
              "    &lt;script src=&quot;https://cdn.jsdelivr.net/npm/bootstrap@5.2.2/dist/js/bootstrap.bundle.min.js&quot;&gt;&lt;/script&gt;\n",
              "    &lt;script src=&quot;https://cdnjs.cloudflare.com/ajax/libs/Leaflet.awesome-markers/2.0.2/leaflet.awesome-markers.js&quot;&gt;&lt;/script&gt;\n",
              "    &lt;link rel=&quot;stylesheet&quot; href=&quot;https://cdn.jsdelivr.net/npm/leaflet@1.9.3/dist/leaflet.css&quot;/&gt;\n",
              "    &lt;link rel=&quot;stylesheet&quot; href=&quot;https://cdn.jsdelivr.net/npm/bootstrap@5.2.2/dist/css/bootstrap.min.css&quot;/&gt;\n",
              "    &lt;link rel=&quot;stylesheet&quot; href=&quot;https://netdna.bootstrapcdn.com/bootstrap/3.0.0/css/bootstrap-glyphicons.css&quot;/&gt;\n",
              "    &lt;link rel=&quot;stylesheet&quot; href=&quot;https://cdn.jsdelivr.net/npm/@fortawesome/fontawesome-free@6.2.0/css/all.min.css&quot;/&gt;\n",
              "    &lt;link rel=&quot;stylesheet&quot; href=&quot;https://cdnjs.cloudflare.com/ajax/libs/Leaflet.awesome-markers/2.0.2/leaflet.awesome-markers.css&quot;/&gt;\n",
              "    &lt;link rel=&quot;stylesheet&quot; href=&quot;https://cdn.jsdelivr.net/gh/python-visualization/folium/folium/templates/leaflet.awesome.rotate.min.css&quot;/&gt;\n",
              "    \n",
              "            &lt;meta name=&quot;viewport&quot; content=&quot;width=device-width,\n",
              "                initial-scale=1.0, maximum-scale=1.0, user-scalable=no&quot; /&gt;\n",
              "            &lt;style&gt;\n",
              "                #map_7f3bae38f7fc23717306a0e3014ed472 {\n",
              "                    position: relative;\n",
              "                    width: 100.0%;\n",
              "                    height: 100.0%;\n",
              "                    left: 0.0%;\n",
              "                    top: 0.0%;\n",
              "                }\n",
              "                .leaflet-container { font-size: 1rem; }\n",
              "            &lt;/style&gt;\n",
              "        \n",
              "&lt;/head&gt;\n",
              "&lt;body&gt;\n",
              "    \n",
              "    \n",
              "            &lt;div class=&quot;folium-map&quot; id=&quot;map_7f3bae38f7fc23717306a0e3014ed472&quot; &gt;&lt;/div&gt;\n",
              "        \n",
              "&lt;/body&gt;\n",
              "&lt;script&gt;\n",
              "    \n",
              "    \n",
              "            var map_7f3bae38f7fc23717306a0e3014ed472 = L.map(\n",
              "                &quot;map_7f3bae38f7fc23717306a0e3014ed472&quot;,\n",
              "                {\n",
              "                    center: [116.37349999999988, 39.926797641179],\n",
              "                    crs: L.CRS.EPSG3857,\n",
              "                    ...{\n",
              "  &quot;zoom&quot;: 7,\n",
              "  &quot;zoomControl&quot;: true,\n",
              "  &quot;preferCanvas&quot;: false,\n",
              "}\n",
              "\n",
              "                }\n",
              "            );\n",
              "\n",
              "            \n",
              "\n",
              "        \n",
              "    \n",
              "            var tile_layer_6e6b336b5a9076399b772931382f4981 = L.tileLayer(\n",
              "                &quot;https://tile.openstreetmap.org/{z}/{x}/{y}.png&quot;,\n",
              "                {\n",
              "  &quot;minZoom&quot;: 0,\n",
              "  &quot;maxZoom&quot;: 19,\n",
              "  &quot;maxNativeZoom&quot;: 19,\n",
              "  &quot;noWrap&quot;: false,\n",
              "  &quot;attribution&quot;: &quot;\\u0026copy; \\u003ca href=\\&quot;https://www.openstreetmap.org/copyright\\&quot;\\u003eOpenStreetMap\\u003c/a\\u003e contributors&quot;,\n",
              "  &quot;subdomains&quot;: &quot;abc&quot;,\n",
              "  &quot;detectRetina&quot;: false,\n",
              "  &quot;tms&quot;: false,\n",
              "  &quot;opacity&quot;: 1,\n",
              "}\n",
              "\n",
              "            );\n",
              "        \n",
              "    \n",
              "            tile_layer_6e6b336b5a9076399b772931382f4981.addTo(map_7f3bae38f7fc23717306a0e3014ed472);\n",
              "        \n",
              "    \n",
              "            var tile_layer_b2a61616ef179d9af060b9007f44f70b = L.tileLayer(\n",
              "                &quot;https://earthengine.googleapis.com/v1/projects/866607420238/maps/1fab30fb0ce2a8420c54c81c70ead480-bcd44dd1df7a08f7e9e2bea159be590f/tiles/{z}/{x}/{y}&quot;,\n",
              "                {\n",
              "  &quot;minZoom&quot;: 0,\n",
              "  &quot;maxZoom&quot;: 18,\n",
              "  &quot;maxNativeZoom&quot;: 18,\n",
              "  &quot;noWrap&quot;: false,\n",
              "  &quot;attribution&quot;: &quot;Map Data \\u00a9 Google Earth Engine&quot;,\n",
              "  &quot;subdomains&quot;: &quot;abc&quot;,\n",
              "  &quot;detectRetina&quot;: false,\n",
              "  &quot;tms&quot;: false,\n",
              "  &quot;opacity&quot;: 1,\n",
              "}\n",
              "\n",
              "            );\n",
              "        \n",
              "    \n",
              "            tile_layer_b2a61616ef179d9af060b9007f44f70b.addTo(map_7f3bae38f7fc23717306a0e3014ed472);\n",
              "        \n",
              "    \n",
              "            var layer_control_d208243d1607c2ddbc491997d20652c1_layers = {\n",
              "                base_layers : {\n",
              "                    &quot;openstreetmap&quot; : tile_layer_6e6b336b5a9076399b772931382f4981,\n",
              "                },\n",
              "                overlays :  {\n",
              "                    &quot;Gap-Filled LST Day&quot; : tile_layer_b2a61616ef179d9af060b9007f44f70b,\n",
              "                },\n",
              "            };\n",
              "            let layer_control_d208243d1607c2ddbc491997d20652c1 = L.control.layers(\n",
              "                layer_control_d208243d1607c2ddbc491997d20652c1_layers.base_layers,\n",
              "                layer_control_d208243d1607c2ddbc491997d20652c1_layers.overlays,\n",
              "                {\n",
              "  &quot;position&quot;: &quot;topright&quot;,\n",
              "  &quot;collapsed&quot;: true,\n",
              "  &quot;autoZIndex&quot;: true,\n",
              "}\n",
              "            ).addTo(map_7f3bae38f7fc23717306a0e3014ed472);\n",
              "\n",
              "        \n",
              "&lt;/script&gt;\n",
              "&lt;/html&gt;\" style=\"position:absolute;width:100%;height:100%;left:0;top:0;border:none !important;\" allowfullscreen webkitallowfullscreen mozallowfullscreen></iframe></div></div>"
            ]
          },
          "metadata": {}
        }
      ]
    },
    {
      "cell_type": "code",
      "source": [
        "import ee\n",
        "ee.Initialize()\n",
        "\n",
        "# Define the ImageCollection\n",
        "gf_day_1km = ee.ImageCollection(\"projects/sat-io/open-datasets/gap-filled-lst/gf_day_1km\")\n",
        "\n",
        "# Define the region of interest (ROI) and date range\n",
        "shape = ee.FeatureCollection(\"users/079mswre006ashish/Ganges\")\n",
        "start_date = '2019-01-01'\n",
        "end_date = '2019-03-01'\n",
        "\n",
        "# Filter the collection by date and bounds\n",
        "filtered_collection = gf_day_1km.filterDate(start_date, end_date).filterBounds(shape)\n",
        "# Convert the ImageCollection to a list\n",
        "image_list = filtered_collection.toList(filtered_collection.size())\n",
        "\n",
        "# Define a function to export each image\n",
        "def export_image(image, index):\n",
        "    image = ee.Image(image)  # Convert to an Image object\n",
        "    file_name = f\"GapFilledLST_{start_date}_to_{end_date}_image_{index}\"\n",
        "    region = shape.geometry().bounds().coordinates().get(0).getInfo()\n",
        "    task = ee.batch.Export.image.toDrive(\n",
        "        image=image.clip(shape),\n",
        "        description=file_name,\n",
        "        folder=\"GEE_Exports\",  # Specify your Google Drive folder\n",
        "        fileNamePrefix=file_name,\n",
        "        scale=1000,  # Adjust scale as needed\n",
        "        region = region,\n",
        "        maxPixels=1e13  # Adjust max pixels if necessary\n",
        "    )\n",
        "    task.start()\n",
        "    print(f\"Exporting {file_name}...\")\n",
        "\n",
        "# Loop through the images and export them\n",
        "for i in range(filtered_collection.size().getInfo()):  # Ensure iteration over the correct size\n",
        "    export_image(image_list.get(i), i)\n"
      ],
      "metadata": {
        "colab": {
          "base_uri": "https://localhost:8080/"
        },
        "id": "Bpyhv8OnLgXT",
        "outputId": "0ff4100e-2f7b-4814-edf4-8b999b1bfd98"
      },
      "execution_count": null,
      "outputs": [
        {
          "output_type": "stream",
          "name": "stdout",
          "text": [
            "Exporting GapFilledLST_2019-01-01_to_2019-03-01_image_0...\n",
            "Exporting GapFilledLST_2019-01-01_to_2019-03-01_image_1...\n",
            "Exporting GapFilledLST_2019-01-01_to_2019-03-01_image_2...\n",
            "Exporting GapFilledLST_2019-01-01_to_2019-03-01_image_3...\n",
            "Exporting GapFilledLST_2019-01-01_to_2019-03-01_image_4...\n",
            "Exporting GapFilledLST_2019-01-01_to_2019-03-01_image_5...\n",
            "Exporting GapFilledLST_2019-01-01_to_2019-03-01_image_6...\n",
            "Exporting GapFilledLST_2019-01-01_to_2019-03-01_image_7...\n",
            "Exporting GapFilledLST_2019-01-01_to_2019-03-01_image_8...\n",
            "Exporting GapFilledLST_2019-01-01_to_2019-03-01_image_9...\n",
            "Exporting GapFilledLST_2019-01-01_to_2019-03-01_image_10...\n",
            "Exporting GapFilledLST_2019-01-01_to_2019-03-01_image_11...\n",
            "Exporting GapFilledLST_2019-01-01_to_2019-03-01_image_12...\n",
            "Exporting GapFilledLST_2019-01-01_to_2019-03-01_image_13...\n",
            "Exporting GapFilledLST_2019-01-01_to_2019-03-01_image_14...\n",
            "Exporting GapFilledLST_2019-01-01_to_2019-03-01_image_15...\n",
            "Exporting GapFilledLST_2019-01-01_to_2019-03-01_image_16...\n",
            "Exporting GapFilledLST_2019-01-01_to_2019-03-01_image_17...\n",
            "Exporting GapFilledLST_2019-01-01_to_2019-03-01_image_18...\n",
            "Exporting GapFilledLST_2019-01-01_to_2019-03-01_image_19...\n",
            "Exporting GapFilledLST_2019-01-01_to_2019-03-01_image_20...\n",
            "Exporting GapFilledLST_2019-01-01_to_2019-03-01_image_21...\n",
            "Exporting GapFilledLST_2019-01-01_to_2019-03-01_image_22...\n",
            "Exporting GapFilledLST_2019-01-01_to_2019-03-01_image_23...\n",
            "Exporting GapFilledLST_2019-01-01_to_2019-03-01_image_24...\n",
            "Exporting GapFilledLST_2019-01-01_to_2019-03-01_image_25...\n",
            "Exporting GapFilledLST_2019-01-01_to_2019-03-01_image_26...\n",
            "Exporting GapFilledLST_2019-01-01_to_2019-03-01_image_27...\n",
            "Exporting GapFilledLST_2019-01-01_to_2019-03-01_image_28...\n",
            "Exporting GapFilledLST_2019-01-01_to_2019-03-01_image_29...\n",
            "Exporting GapFilledLST_2019-01-01_to_2019-03-01_image_30...\n",
            "Exporting GapFilledLST_2019-01-01_to_2019-03-01_image_31...\n",
            "Exporting GapFilledLST_2019-01-01_to_2019-03-01_image_32...\n",
            "Exporting GapFilledLST_2019-01-01_to_2019-03-01_image_33...\n",
            "Exporting GapFilledLST_2019-01-01_to_2019-03-01_image_34...\n",
            "Exporting GapFilledLST_2019-01-01_to_2019-03-01_image_35...\n",
            "Exporting GapFilledLST_2019-01-01_to_2019-03-01_image_36...\n",
            "Exporting GapFilledLST_2019-01-01_to_2019-03-01_image_37...\n",
            "Exporting GapFilledLST_2019-01-01_to_2019-03-01_image_38...\n",
            "Exporting GapFilledLST_2019-01-01_to_2019-03-01_image_39...\n",
            "Exporting GapFilledLST_2019-01-01_to_2019-03-01_image_40...\n",
            "Exporting GapFilledLST_2019-01-01_to_2019-03-01_image_41...\n",
            "Exporting GapFilledLST_2019-01-01_to_2019-03-01_image_42...\n",
            "Exporting GapFilledLST_2019-01-01_to_2019-03-01_image_43...\n",
            "Exporting GapFilledLST_2019-01-01_to_2019-03-01_image_44...\n",
            "Exporting GapFilledLST_2019-01-01_to_2019-03-01_image_45...\n",
            "Exporting GapFilledLST_2019-01-01_to_2019-03-01_image_46...\n",
            "Exporting GapFilledLST_2019-01-01_to_2019-03-01_image_47...\n",
            "Exporting GapFilledLST_2019-01-01_to_2019-03-01_image_48...\n",
            "Exporting GapFilledLST_2019-01-01_to_2019-03-01_image_49...\n",
            "Exporting GapFilledLST_2019-01-01_to_2019-03-01_image_50...\n",
            "Exporting GapFilledLST_2019-01-01_to_2019-03-01_image_51...\n",
            "Exporting GapFilledLST_2019-01-01_to_2019-03-01_image_52...\n",
            "Exporting GapFilledLST_2019-01-01_to_2019-03-01_image_53...\n",
            "Exporting GapFilledLST_2019-01-01_to_2019-03-01_image_54...\n",
            "Exporting GapFilledLST_2019-01-01_to_2019-03-01_image_55...\n",
            "Exporting GapFilledLST_2019-01-01_to_2019-03-01_image_56...\n",
            "Exporting GapFilledLST_2019-01-01_to_2019-03-01_image_57...\n",
            "Exporting GapFilledLST_2019-01-01_to_2019-03-01_image_58...\n"
          ]
        }
      ]
    },
    {
      "cell_type": "code",
      "source": [],
      "metadata": {
        "colab": {
          "base_uri": "https://localhost:8080/",
          "height": 220
        },
        "id": "rm5AznRGNhL4",
        "outputId": "525c01a7-456d-4f12-a1bc-c7a969771e04"
      },
      "execution_count": null,
      "outputs": [
        {
          "output_type": "error",
          "ename": "TypeError",
          "evalue": "Collection.reduceColumns() got an unexpected keyword argument 'key'",
          "traceback": [
            "\u001b[0;31m---------------------------------------------------------------------------\u001b[0m",
            "\u001b[0;31mTypeError\u001b[0m                                 Traceback (most recent call last)",
            "\u001b[0;32m<ipython-input-60-9890f975d918>\u001b[0m in \u001b[0;36m<cell line: 20>\u001b[0;34m()\u001b[0m\n\u001b[1;32m     18\u001b[0m \u001b[0;34m\u001b[0m\u001b[0m\n\u001b[1;32m     19\u001b[0m \u001b[0;31m# **Instead of using reduce with groupField, use reduceColumns with key**\u001b[0m\u001b[0;34m\u001b[0m\u001b[0;34m\u001b[0m\u001b[0m\n\u001b[0;32m---> 20\u001b[0;31m monthly_averages = filtered_collection.reduceColumns(\n\u001b[0m\u001b[1;32m     21\u001b[0m     \u001b[0mreducer\u001b[0m\u001b[0;34m=\u001b[0m\u001b[0mee\u001b[0m\u001b[0;34m.\u001b[0m\u001b[0mReducer\u001b[0m\u001b[0;34m.\u001b[0m\u001b[0mmean\u001b[0m\u001b[0;34m(\u001b[0m\u001b[0;34m)\u001b[0m\u001b[0;34m,\u001b[0m\u001b[0;34m\u001b[0m\u001b[0;34m\u001b[0m\u001b[0m\n\u001b[1;32m     22\u001b[0m     \u001b[0mselectors\u001b[0m\u001b[0;34m=\u001b[0m\u001b[0;34m[\u001b[0m\u001b[0;34m'LST_Day_1km'\u001b[0m\u001b[0;34m]\u001b[0m\u001b[0;34m,\u001b[0m \u001b[0;31m# Replace 'LST_Day_1km' with the actual band name\u001b[0m\u001b[0;34m\u001b[0m\u001b[0;34m\u001b[0m\u001b[0m\n",
            "\u001b[0;31mTypeError\u001b[0m: Collection.reduceColumns() got an unexpected keyword argument 'key'"
          ]
        }
      ]
    },
    {
      "cell_type": "code",
      "source": [
        "import ee\n",
        "ee.Initialize()\n",
        "\n",
        "# Define the ImageCollection\n",
        "gf_day_1km = ee.ImageCollection(\"projects/sat-io/open-datasets/gap-filled-lst/gf_day_1km\")\n",
        "\n",
        "# Define the region of interest (ROI) and date range\n",
        "shape = ee.FeatureCollection(\"users/079mswre006ashish/Ganges\")\n",
        "start_date = '2019-01-01'\n",
        "end_date = '2019-03-01'\n",
        "\n",
        "# Filter the collection by date and bounds\n",
        "filtered_collection = gf_day_1km.filterDate(start_date, end_date).filterBounds(shape)\n",
        "# Convert the ImageCollection to a list\n",
        "image_list = filtered_collection.toList(filtered_collection.size())\n",
        "\n",
        "# Define a function to export each image\n",
        "def export_image(image, index):\n",
        "    image = ee.Image(image)# Convert to an Image object\n",
        "    # Get image date\n",
        "    image_date = image.date().format('yyyyMMdd')\n",
        "\n",
        "    file_name = f\"LST_{image_date}\"\n",
        "    region = shape.geometry().bounds().coordinates().get(0).getInfo()\n",
        "    task = ee.batch.Export.image.toDrive(\n",
        "        image=image.clip(shape),\n",
        "        description=file_name,\n",
        "        folder=\"GEE_Exports\", # Specify your Google Drive folder\n",
        "        fileNamePrefix=file_name,\n",
        "        scale=1000, # Adjust scale as needed\n",
        "        region = region,\n",
        "        maxPixels=1e13 # Adjust max pixels if necessary\n",
        "    )\n",
        "    task.start()\n",
        "    print(f\"Exporting {file_name}...\")\n",
        "\n",
        "# Loop through the images and export them\n",
        "for i in range(filtered_collection.size().getInfo()): # Ensure iteration over the correct size\n",
        "    export_image(image_list.get(i), i)"
      ],
      "metadata": {
        "id": "RoMuekomN6mU"
      },
      "execution_count": null,
      "outputs": []
    },
    {
      "cell_type": "code",
      "source": [
        "import ee\n",
        "ee.Initialize()\n",
        "\n",
        "# Define the ImageCollection\n",
        "gf_day_1km = ee.ImageCollection(\"projects/sat-io/open-datasets/gap-filled-lst/gf_day_1km\")\n",
        "\n",
        "# Define the region of interest (ROI) and date range\n",
        "shape = ee.FeatureCollection(\"users/079mswre006ashish/Ganges\")\n",
        "start_date = '2019-01-01'\n",
        "end_date = '2019-03-01'\n",
        "\n",
        "# Filter the collection by date and bounds\n",
        "filtered_collection = gf_day_1km.filterDate(start_date, end_date).filterBounds(shape)\n",
        "# Convert the ImageCollection to a list\n",
        "image_list = filtered_collection.toList(filtered_collection.size())\n",
        "\n",
        "# Define a function to export each image\n",
        "def export_image(image, index):\n",
        "    image = ee.Image(image)  # Convert to an Image object\n",
        "    # Get image date and format it to be valid for description and fileNamePrefix\n",
        "    image_date = image.date().format('yyyyMMdd').getInfo()\n",
        "\n",
        "    # Create a valid description and fileNamePrefix - removing hyphens\n",
        "    file_name = f\"LST_{image_date}\"\n",
        "    description = f\"LST_{image_date}\"\n",
        "\n",
        "    region = shape.geometry().bounds().coordinates().get(0).getInfo()\n",
        "    task = ee.batch.Export.image.toDrive(\n",
        "        image=image.clip(shape),\n",
        "        description=description,  # Using the modified description\n",
        "        folder=\"GEE_Exports\",  # Specify your Google Drive folder\n",
        "        fileNamePrefix=file_name,  # Using the modified file name prefix\n",
        "        scale=1000,  # Adjust scale as needed\n",
        "        region=region,\n",
        "        maxPixels=1e13  # Adjust max pixels if necessary\n",
        "    )\n",
        "    task.start()\n",
        "    print(f\"Exporting {file_name}...\")\n",
        "\n",
        "# Loop through the images and export them\n",
        "for i in range(filtered_collection.size().getInfo()):  # Ensure iteration over the correct size\n",
        "    export_image(image_list.get(i), i)"
      ],
      "metadata": {
        "colab": {
          "base_uri": "https://localhost:8080/"
        },
        "id": "cEa5HlI3b1X2",
        "outputId": "ec17c25f-64a2-4a40-baaf-523228745c0a"
      },
      "execution_count": null,
      "outputs": [
        {
          "output_type": "stream",
          "name": "stdout",
          "text": [
            "Exporting LST_20190101...\n",
            "Exporting LST_20190102...\n",
            "Exporting LST_20190103...\n",
            "Exporting LST_20190104...\n",
            "Exporting LST_20190105...\n",
            "Exporting LST_20190106...\n",
            "Exporting LST_20190107...\n",
            "Exporting LST_20190108...\n",
            "Exporting LST_20190109...\n",
            "Exporting LST_20190110...\n",
            "Exporting LST_20190111...\n",
            "Exporting LST_20190112...\n",
            "Exporting LST_20190113...\n",
            "Exporting LST_20190114...\n",
            "Exporting LST_20190115...\n",
            "Exporting LST_20190116...\n",
            "Exporting LST_20190117...\n",
            "Exporting LST_20190118...\n",
            "Exporting LST_20190119...\n",
            "Exporting LST_20190120...\n",
            "Exporting LST_20190121...\n",
            "Exporting LST_20190122...\n",
            "Exporting LST_20190123...\n",
            "Exporting LST_20190124...\n",
            "Exporting LST_20190125...\n",
            "Exporting LST_20190126...\n",
            "Exporting LST_20190127...\n",
            "Exporting LST_20190128...\n",
            "Exporting LST_20190129...\n",
            "Exporting LST_20190130...\n",
            "Exporting LST_20190131...\n",
            "Exporting LST_20190201...\n",
            "Exporting LST_20190202...\n",
            "Exporting LST_20190203...\n",
            "Exporting LST_20190204...\n",
            "Exporting LST_20190205...\n",
            "Exporting LST_20190206...\n",
            "Exporting LST_20190207...\n",
            "Exporting LST_20190208...\n",
            "Exporting LST_20190209...\n",
            "Exporting LST_20190210...\n",
            "Exporting LST_20190211...\n",
            "Exporting LST_20190212...\n",
            "Exporting LST_20190213...\n",
            "Exporting LST_20190214...\n",
            "Exporting LST_20190215...\n",
            "Exporting LST_20190216...\n",
            "Exporting LST_20190217...\n",
            "Exporting LST_20190218...\n",
            "Exporting LST_20190219...\n",
            "Exporting LST_20190220...\n",
            "Exporting LST_20190221...\n",
            "Exporting LST_20190222...\n",
            "Exporting LST_20190223...\n",
            "Exporting LST_20190224...\n",
            "Exporting LST_20190225...\n",
            "Exporting LST_20190226...\n",
            "Exporting LST_20190227...\n",
            "Exporting LST_20190228...\n"
          ]
        }
      ]
    },
    {
      "cell_type": "code",
      "source": [
        "import os\n",
        "import rasterio\n",
        "import numpy as np\n",
        "from rasterio.merge import merge\n",
        "\n",
        "# Define input folder containing daily LST `.tif` files\n",
        "input_folder = \"/content/drive/MyDrive/GEE_Exports\"\n",
        "output_folder = \"/content/drive/MyDrive/Thesis\"\n",
        "\n",
        "# Create output folder if it doesn't exist\n",
        "os.makedirs(output_folder, exist_ok=True)\n",
        "\n",
        "# Function to parse the month from the filename\n",
        "def extract_month(filename):\n",
        "    date_part = filename.split(\"_\")[1].split(\".\")[0]  # Assumes format LST_YYYYMMDD.tif\n",
        "    return date_part[:6]  # Extract YYYYMM\n",
        "\n",
        "# Group files by month\n",
        "files_by_month = {}\n",
        "for file in os.listdir(input_folder):\n",
        "    if file.endswith(\".tif\"):\n",
        "        month = extract_month(file)\n",
        "        files_by_month.setdefault(month, []).append(os.path.join(input_folder, file))\n",
        "\n",
        "# Process each month\n",
        "for month, files in files_by_month.items():\n",
        "    print(f\"Processing month: {month} with {len(files)} files\")\n",
        "\n",
        "    # Read all rasters for the month\n",
        "    rasters = []\n",
        "    metadata = None\n",
        "    for file in files:\n",
        "        with rasterio.open(file) as src:\n",
        "            rasters.append(src.read(1))  # Read the first (and only) band\n",
        "            if metadata is None:\n",
        "                metadata = src.meta\n",
        "\n",
        "    # Convert list to 3D numpy array (time, rows, columns)\n",
        "    raster_stack = np.stack(rasters, axis=0)\n",
        "\n",
        "    # Calculate the monthly average\n",
        "    monthly_average = np.mean(raster_stack, axis=0)\n",
        "\n",
        "    # Update metadata for writing the average raster\n",
        "    metadata.update({\n",
        "        \"count\": 1,  # Single band output\n",
        "        \"dtype\": \"float32\"  # Ensure output type is float32 for averages\n",
        "    })\n",
        "\n",
        "    # Write the monthly average raster to output folder\n",
        "    output_file = os.path.join(output_folder, f\"LST_{month}_avg.tif\")\n",
        "    with rasterio.open(output_file, \"w\", **metadata) as dest:\n",
        "        dest.write(monthly_average.astype(\"float32\"), 1)  # Write as the first band\n",
        "\n",
        "    print(f\"Saved monthly average raster: {output_file}\")\n",
        "\n"
      ],
      "metadata": {
        "colab": {
          "base_uri": "https://localhost:8080/"
        },
        "id": "SB5M4kVTfJ94",
        "outputId": "80a2c686-6a4e-4ffa-9f69-f1638fca6dbc"
      },
      "execution_count": null,
      "outputs": [
        {
          "output_type": "stream",
          "name": "stdout",
          "text": [
            "Processing month: 201901 with 30 files\n",
            "Saved monthly average raster: /content/drive/MyDrive/Thesis/LST_201901_avg.tif\n",
            "Processing month: 201902 with 28 files\n",
            "Saved monthly average raster: /content/drive/MyDrive/Thesis/LST_201902_avg.tif\n"
          ]
        }
      ]
    }
  ]
}